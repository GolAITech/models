{
 "cells": [
  {
   "cell_type": "code",
   "execution_count": null,
   "id": "8aeeec78-ee86-42e0-9425-0d260de68698",
   "metadata": {
    "tags": []
   },
   "outputs": [],
   "source": [
    "# !pip install psycopg2-binary sqlalchemy"
   ]
  },
  {
   "cell_type": "code",
   "execution_count": null,
   "id": "490e9225-b4df-4727-a2cc-f68c35adc2be",
   "metadata": {
    "tags": []
   },
   "outputs": [],
   "source": [
    "import psycopg2\n",
    "import pandas as pd\n",
    "from sqlalchemy import create_engine"
   ]
  },
  {
   "cell_type": "code",
   "execution_count": null,
   "id": "c939466c-9b00-49cf-9e1f-8bf42ba72ce1",
   "metadata": {},
   "outputs": [],
   "source": [
    "username = \"postgres\"\n",
    "password = ...\n",
    "host = \"db.c74zbehsaqqa.eu-central-1.rds.amazonaws.com\"\n",
    "db = \"golai\""
   ]
  },
  {
   "cell_type": "code",
   "execution_count": null,
   "id": "26be4f32-71c9-45aa-859a-660f64f6c9da",
   "metadata": {
    "tags": []
   },
   "outputs": [],
   "source": [
    "conn_string = f'postgresql://{username}:{password}@{host}/{db}'\n",
    "  \n",
    "db = create_engine(conn_string)\n",
    "conn = db.connect()"
   ]
  },
  {
   "cell_type": "code",
   "execution_count": null,
   "id": "50b93bc5-90a4-41d3-a1db-d329e82ec37b",
   "metadata": {
    "tags": []
   },
   "outputs": [],
   "source": [
    "data = pd.read_csv(\"training_pruned_file_20162021.csv\")"
   ]
  },
  {
   "cell_type": "code",
   "execution_count": null,
   "id": "753170a1-7653-4355-8001-2833bacbcfa9",
   "metadata": {
    "tags": []
   },
   "outputs": [],
   "source": [
    "data.to_sql(\"training_pruned_20162021\", con=conn, if_exists=\"replace\", index=False)"
   ]
  },
  {
   "cell_type": "code",
   "execution_count": null,
   "id": "bc6d4cf6-cfea-473d-8a45-92d4ce43b4f0",
   "metadata": {
    "tags": []
   },
   "outputs": [],
   "source": [
    "conn.close()"
   ]
  }
 ],
 "metadata": {
  "kernelspec": {
   "display_name": "Python 3 (ipykernel)",
   "language": "python",
   "name": "python3"
  },
  "language_info": {
   "codemirror_mode": {
    "name": "ipython",
    "version": 3
   },
   "file_extension": ".py",
   "mimetype": "text/x-python",
   "name": "python",
   "nbconvert_exporter": "python",
   "pygments_lexer": "ipython3",
   "version": "3.10.10"
  }
 },
 "nbformat": 4,
 "nbformat_minor": 5
}
