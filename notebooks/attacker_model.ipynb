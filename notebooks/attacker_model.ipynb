{
 "cells": [
  {
   "cell_type": "code",
   "execution_count": 1,
   "id": "88106cac-8a26-4fb2-9603-15f28888e993",
   "metadata": {
    "tags": []
   },
   "outputs": [],
   "source": [
    "from smart_open import open\n",
    "import pandas as pd\n",
    "import datetime\n",
    "import numpy as np\n",
    "import matplotlib.pyplot as plt\n",
    "from sklearn.preprocessing import normalize"
   ]
  },
  {
   "cell_type": "markdown",
   "id": "d59cb7dd-2dc9-42dd-af09-4acee22c298e",
   "metadata": {},
   "source": [
    "# Load data for attackers"
   ]
  },
  {
   "cell_type": "code",
   "execution_count": 2,
   "id": "9484912f-03d1-42f4-9a07-6181b467f309",
   "metadata": {
    "tags": []
   },
   "outputs": [],
   "source": [
    "data = pd.read_csv(\"../data/training_pruned_file_20162021.csv\")"
   ]
  },
  {
   "cell_type": "code",
   "execution_count": 3,
   "id": "fe414412-a833-4bf2-b90e-1f56ac6a423e",
   "metadata": {
    "tags": []
   },
   "outputs": [],
   "source": [
    "players = data.loc[lambda x: x[\"position\"] == \"Attack\"]"
   ]
  },
  {
   "cell_type": "code",
   "execution_count": 4,
   "id": "73748650-3f64-4cb8-898d-f4cd70901fbb",
   "metadata": {
    "tags": []
   },
   "outputs": [
    {
     "data": {
      "text/plain": [
       "['accurate_crosses.total',\n",
       " 'accurate_passes.total',\n",
       " 'aerials_won.total',\n",
       " 'agent_name',\n",
       " 'bench.total',\n",
       " 'big_chances_created.total',\n",
       " 'big_chances_missed.total',\n",
       " 'birth.country',\n",
       " 'blocked_shots.total',\n",
       " 'captain.total',\n",
       " 'cards.red',\n",
       " 'cards.yellow',\n",
       " 'cards.yellowred',\n",
       " 'clearances.total',\n",
       " 'common_name',\n",
       " 'continent',\n",
       " 'country_name',\n",
       " 'date',\n",
       " 'date_of_birth',\n",
       " 'dispossessed.total',\n",
       " 'dribbled_past.total',\n",
       " 'dribbles.attempts',\n",
       " 'dribbles.past',\n",
       " 'dribbles.success',\n",
       " 'duels.total',\n",
       " 'duels.won',\n",
       " 'duels_won.total',\n",
       " 'error_lead_to_goal.total',\n",
       " 'firstname_x',\n",
       " 'foot',\n",
       " 'fouls.committed',\n",
       " 'fouls.drawn',\n",
       " 'fouls.total',\n",
       " 'fouls_drawn.total',\n",
       " 'games.appearences',\n",
       " 'games.captain',\n",
       " 'games.lineups',\n",
       " 'games.minutes',\n",
       " 'games.number',\n",
       " 'games.position',\n",
       " 'games.rating',\n",
       " 'gender',\n",
       " 'global_performance',\n",
       " 'goals.assists',\n",
       " 'goals.conceded',\n",
       " 'goals.goals',\n",
       " 'goals.penalties',\n",
       " 'goals.saves',\n",
       " 'goals.total_y',\n",
       " 'height_x',\n",
       " 'highest_market_value_in_eur',\n",
       " 'hit_woodwork.total',\n",
       " 'interceptions.total',\n",
       " 'lastname_x',\n",
       " 'league.country',\n",
       " 'league.season',\n",
       " 'league_name',\n",
       " 'lineups.total',\n",
       " 'long_balls.total',\n",
       " 'long_balls_won.total',\n",
       " 'market_value_in_eur_x',\n",
       " 'minutes_played.total',\n",
       " 'name',\n",
       " 'nationality',\n",
       " 'offsides.total',\n",
       " 'own_goals.total',\n",
       " 'passes.accuracy',\n",
       " 'passes.key',\n",
       " 'passes.total_y',\n",
       " 'penalty.commited',\n",
       " 'penalty.missed',\n",
       " 'penalty.saved',\n",
       " 'penalty.scored',\n",
       " 'penalty.won',\n",
       " 'player_id_api',\n",
       " 'player_id_transfermt',\n",
       " 'position',\n",
       " 'position_id_y',\n",
       " 'position_name_x',\n",
       " 'position_name_y',\n",
       " 'rating.average',\n",
       " 'rating.highest',\n",
       " 'rating.lowest',\n",
       " 'redcards.away',\n",
       " 'redcards.home',\n",
       " 'redcards.total',\n",
       " 'saves_inside_box.total',\n",
       " 'season_name',\n",
       " 'shots.on',\n",
       " 'shots.total',\n",
       " 'shots_off_target.total',\n",
       " 'sub_position',\n",
       " 'substitutes.bench',\n",
       " 'substitutes.in',\n",
       " 'substitutes.out',\n",
       " 'substitutions.in',\n",
       " 'substitutions.out',\n",
       " 'tackles.blocks',\n",
       " 'tackles.interceptions',\n",
       " 'tackles.total_x',\n",
       " 'tackles.total_y',\n",
       " 'team_name',\n",
       " 'through_balls.total',\n",
       " 'through_balls_won.total',\n",
       " 'total_crosses.total',\n",
       " 'total_duels.total',\n",
       " 'weight_x',\n",
       " 'yellowcards.away',\n",
       " 'yellowcards.home',\n",
       " 'yellowcards.total',\n",
       " 'yellowred_cards.away',\n",
       " 'yellowred_cards.home',\n",
       " 'yellowred_cards.total']"
      ]
     },
     "execution_count": 4,
     "metadata": {},
     "output_type": "execute_result"
    }
   ],
   "source": [
    "sorted(players.columns.values)"
   ]
  },
  {
   "cell_type": "markdown",
   "id": "64d43734-36c6-4320-aaf8-b4f42520e966",
   "metadata": {},
   "source": [
    "## Select variables"
   ]
  },
  {
   "cell_type": "code",
   "execution_count": 5,
   "id": "f3fa8469-053a-4151-be6e-91bfad7223f4",
   "metadata": {
    "tags": []
   },
   "outputs": [
    {
     "data": {
      "text/html": [
       "<div>\n",
       "<style scoped>\n",
       "    .dataframe tbody tr th:only-of-type {\n",
       "        vertical-align: middle;\n",
       "    }\n",
       "\n",
       "    .dataframe tbody tr th {\n",
       "        vertical-align: top;\n",
       "    }\n",
       "\n",
       "    .dataframe thead th {\n",
       "        text-align: right;\n",
       "    }\n",
       "</style>\n",
       "<table border=\"1\" class=\"dataframe\">\n",
       "  <thead>\n",
       "    <tr style=\"text-align: right;\">\n",
       "      <th></th>\n",
       "      <th>name</th>\n",
       "      <th>player_id_api</th>\n",
       "      <th>age</th>\n",
       "      <th>age2</th>\n",
       "      <th>nationality</th>\n",
       "      <th>league</th>\n",
       "      <th>team</th>\n",
       "      <th>season</th>\n",
       "      <th>matches_played</th>\n",
       "      <th>matches_started</th>\n",
       "      <th>...</th>\n",
       "      <th>through_balls.total</th>\n",
       "      <th>total_crosses.total</th>\n",
       "      <th>shots.total</th>\n",
       "      <th>shots.on</th>\n",
       "      <th>goals.total_y</th>\n",
       "      <th>goals.assists</th>\n",
       "      <th>passes.key</th>\n",
       "      <th>dribbles.attempts</th>\n",
       "      <th>dribbles.success</th>\n",
       "      <th>dribbles.past</th>\n",
       "    </tr>\n",
       "  </thead>\n",
       "  <tbody>\n",
       "    <tr>\n",
       "      <th>0</th>\n",
       "      <td>George Thomas</td>\n",
       "      <td>20479</td>\n",
       "      <td>6</td>\n",
       "      <td>36</td>\n",
       "      <td>Wales</td>\n",
       "      <td>Premier League</td>\n",
       "      <td>Leicester City</td>\n",
       "      <td>2017</td>\n",
       "      <td>0.0</td>\n",
       "      <td>0.0</td>\n",
       "      <td>...</td>\n",
       "      <td>NaN</td>\n",
       "      <td>NaN</td>\n",
       "      <td>NaN</td>\n",
       "      <td>NaN</td>\n",
       "      <td>0.0</td>\n",
       "      <td>NaN</td>\n",
       "      <td>NaN</td>\n",
       "      <td>NaN</td>\n",
       "      <td>NaN</td>\n",
       "      <td>NaN</td>\n",
       "    </tr>\n",
       "    <tr>\n",
       "      <th>4</th>\n",
       "      <td>Kelechi Promise Iheanacho</td>\n",
       "      <td>2778</td>\n",
       "      <td>5</td>\n",
       "      <td>25</td>\n",
       "      <td>Nigeria</td>\n",
       "      <td>Premier League</td>\n",
       "      <td>Leicester City</td>\n",
       "      <td>2017</td>\n",
       "      <td>21.0</td>\n",
       "      <td>7.0</td>\n",
       "      <td>...</td>\n",
       "      <td>NaN</td>\n",
       "      <td>5.0</td>\n",
       "      <td>29.0</td>\n",
       "      <td>11.0</td>\n",
       "      <td>3.0</td>\n",
       "      <td>3.0</td>\n",
       "      <td>11.0</td>\n",
       "      <td>18.0</td>\n",
       "      <td>13.0</td>\n",
       "      <td>NaN</td>\n",
       "    </tr>\n",
       "    <tr>\n",
       "      <th>6</th>\n",
       "      <td>Demarai Gray</td>\n",
       "      <td>18781</td>\n",
       "      <td>5</td>\n",
       "      <td>25</td>\n",
       "      <td>England</td>\n",
       "      <td>Premier League</td>\n",
       "      <td>Leicester City</td>\n",
       "      <td>2017</td>\n",
       "      <td>35.0</td>\n",
       "      <td>17.0</td>\n",
       "      <td>...</td>\n",
       "      <td>NaN</td>\n",
       "      <td>86.0</td>\n",
       "      <td>36.0</td>\n",
       "      <td>9.0</td>\n",
       "      <td>3.0</td>\n",
       "      <td>1.0</td>\n",
       "      <td>29.0</td>\n",
       "      <td>63.0</td>\n",
       "      <td>38.0</td>\n",
       "      <td>NaN</td>\n",
       "    </tr>\n",
       "    <tr>\n",
       "      <th>7</th>\n",
       "      <td>Riyad Mahrez</td>\n",
       "      <td>635</td>\n",
       "      <td>0</td>\n",
       "      <td>0</td>\n",
       "      <td>Algeria</td>\n",
       "      <td>Premier League</td>\n",
       "      <td>Leicester City</td>\n",
       "      <td>2017</td>\n",
       "      <td>36.0</td>\n",
       "      <td>34.0</td>\n",
       "      <td>...</td>\n",
       "      <td>NaN</td>\n",
       "      <td>157.0</td>\n",
       "      <td>73.0</td>\n",
       "      <td>36.0</td>\n",
       "      <td>12.0</td>\n",
       "      <td>10.0</td>\n",
       "      <td>59.0</td>\n",
       "      <td>157.0</td>\n",
       "      <td>80.0</td>\n",
       "      <td>NaN</td>\n",
       "    </tr>\n",
       "    <tr>\n",
       "      <th>9</th>\n",
       "      <td>Shinji Okazaki</td>\n",
       "      <td>18787</td>\n",
       "      <td>-5</td>\n",
       "      <td>25</td>\n",
       "      <td>Japan</td>\n",
       "      <td>Premier League</td>\n",
       "      <td>Leicester City</td>\n",
       "      <td>2017</td>\n",
       "      <td>27.0</td>\n",
       "      <td>17.0</td>\n",
       "      <td>...</td>\n",
       "      <td>NaN</td>\n",
       "      <td>6.0</td>\n",
       "      <td>28.0</td>\n",
       "      <td>16.0</td>\n",
       "      <td>6.0</td>\n",
       "      <td>2.0</td>\n",
       "      <td>15.0</td>\n",
       "      <td>38.0</td>\n",
       "      <td>16.0</td>\n",
       "      <td>NaN</td>\n",
       "    </tr>\n",
       "    <tr>\n",
       "      <th>...</th>\n",
       "      <td>...</td>\n",
       "      <td>...</td>\n",
       "      <td>...</td>\n",
       "      <td>...</td>\n",
       "      <td>...</td>\n",
       "      <td>...</td>\n",
       "      <td>...</td>\n",
       "      <td>...</td>\n",
       "      <td>...</td>\n",
       "      <td>...</td>\n",
       "      <td>...</td>\n",
       "      <td>...</td>\n",
       "      <td>...</td>\n",
       "      <td>...</td>\n",
       "      <td>...</td>\n",
       "      <td>...</td>\n",
       "      <td>...</td>\n",
       "      <td>...</td>\n",
       "      <td>...</td>\n",
       "      <td>...</td>\n",
       "      <td>...</td>\n",
       "    </tr>\n",
       "    <tr>\n",
       "      <th>14762</th>\n",
       "      <td>Johann Berg Guðmunds­son</td>\n",
       "      <td>2790</td>\n",
       "      <td>-5</td>\n",
       "      <td>25</td>\n",
       "      <td>Iceland</td>\n",
       "      <td>Premier League</td>\n",
       "      <td>Burnley</td>\n",
       "      <td>2021</td>\n",
       "      <td>18.0</td>\n",
       "      <td>13.0</td>\n",
       "      <td>...</td>\n",
       "      <td>NaN</td>\n",
       "      <td>44.0</td>\n",
       "      <td>12.0</td>\n",
       "      <td>5.0</td>\n",
       "      <td>0.0</td>\n",
       "      <td>1.0</td>\n",
       "      <td>7.0</td>\n",
       "      <td>22.0</td>\n",
       "      <td>14.0</td>\n",
       "      <td>NaN</td>\n",
       "    </tr>\n",
       "    <tr>\n",
       "      <th>14765</th>\n",
       "      <td>Dwight McNeil</td>\n",
       "      <td>18929</td>\n",
       "      <td>4</td>\n",
       "      <td>16</td>\n",
       "      <td>England</td>\n",
       "      <td>Premier League</td>\n",
       "      <td>Burnley</td>\n",
       "      <td>2021</td>\n",
       "      <td>38.0</td>\n",
       "      <td>35.0</td>\n",
       "      <td>...</td>\n",
       "      <td>NaN</td>\n",
       "      <td>199.0</td>\n",
       "      <td>32.0</td>\n",
       "      <td>15.0</td>\n",
       "      <td>0.0</td>\n",
       "      <td>1.0</td>\n",
       "      <td>49.0</td>\n",
       "      <td>150.0</td>\n",
       "      <td>90.0</td>\n",
       "      <td>NaN</td>\n",
       "    </tr>\n",
       "    <tr>\n",
       "      <th>14768</th>\n",
       "      <td>Matěj Vydra</td>\n",
       "      <td>18930</td>\n",
       "      <td>-3</td>\n",
       "      <td>9</td>\n",
       "      <td>Czech Republic</td>\n",
       "      <td>Premier League</td>\n",
       "      <td>Burnley</td>\n",
       "      <td>2021</td>\n",
       "      <td>22.0</td>\n",
       "      <td>5.0</td>\n",
       "      <td>...</td>\n",
       "      <td>NaN</td>\n",
       "      <td>2.0</td>\n",
       "      <td>15.0</td>\n",
       "      <td>7.0</td>\n",
       "      <td>2.0</td>\n",
       "      <td>3.0</td>\n",
       "      <td>6.0</td>\n",
       "      <td>14.0</td>\n",
       "      <td>6.0</td>\n",
       "      <td>NaN</td>\n",
       "    </tr>\n",
       "    <tr>\n",
       "      <th>14770</th>\n",
       "      <td>Ashley Barnes</td>\n",
       "      <td>18927</td>\n",
       "      <td>-6</td>\n",
       "      <td>36</td>\n",
       "      <td>England</td>\n",
       "      <td>Premier League</td>\n",
       "      <td>Burnley</td>\n",
       "      <td>2021</td>\n",
       "      <td>23.0</td>\n",
       "      <td>8.0</td>\n",
       "      <td>...</td>\n",
       "      <td>NaN</td>\n",
       "      <td>2.0</td>\n",
       "      <td>14.0</td>\n",
       "      <td>6.0</td>\n",
       "      <td>1.0</td>\n",
       "      <td>NaN</td>\n",
       "      <td>8.0</td>\n",
       "      <td>8.0</td>\n",
       "      <td>5.0</td>\n",
       "      <td>NaN</td>\n",
       "    </tr>\n",
       "    <tr>\n",
       "      <th>14771</th>\n",
       "      <td>Wout Weghorst</td>\n",
       "      <td>25416</td>\n",
       "      <td>-3</td>\n",
       "      <td>9</td>\n",
       "      <td>Netherlands</td>\n",
       "      <td>Premier League</td>\n",
       "      <td>Burnley</td>\n",
       "      <td>2021</td>\n",
       "      <td>18.0</td>\n",
       "      <td>17.0</td>\n",
       "      <td>...</td>\n",
       "      <td>NaN</td>\n",
       "      <td>4.0</td>\n",
       "      <td>31.0</td>\n",
       "      <td>21.0</td>\n",
       "      <td>6.0</td>\n",
       "      <td>1.0</td>\n",
       "      <td>17.0</td>\n",
       "      <td>8.0</td>\n",
       "      <td>7.0</td>\n",
       "      <td>NaN</td>\n",
       "    </tr>\n",
       "  </tbody>\n",
       "</table>\n",
       "<p>4777 rows × 30 columns</p>\n",
       "</div>"
      ],
      "text/plain": [
       "                            name  player_id_api  age  age2     nationality   \n",
       "0                  George Thomas          20479    6    36           Wales  \\\n",
       "4      Kelechi Promise Iheanacho           2778    5    25         Nigeria   \n",
       "6                   Demarai Gray          18781    5    25         England   \n",
       "7                   Riyad Mahrez            635    0     0         Algeria   \n",
       "9                 Shinji Okazaki          18787   -5    25           Japan   \n",
       "...                          ...            ...  ...   ...             ...   \n",
       "14762   Johann Berg Guðmunds­son           2790   -5    25         Iceland   \n",
       "14765              Dwight McNeil          18929    4    16         England   \n",
       "14768                Matěj Vydra          18930   -3     9  Czech Republic   \n",
       "14770              Ashley Barnes          18927   -6    36         England   \n",
       "14771              Wout Weghorst          25416   -3     9     Netherlands   \n",
       "\n",
       "               league            team  season  matches_played   \n",
       "0      Premier League  Leicester City    2017             0.0  \\\n",
       "4      Premier League  Leicester City    2017            21.0   \n",
       "6      Premier League  Leicester City    2017            35.0   \n",
       "7      Premier League  Leicester City    2017            36.0   \n",
       "9      Premier League  Leicester City    2017            27.0   \n",
       "...               ...             ...     ...             ...   \n",
       "14762  Premier League         Burnley    2021            18.0   \n",
       "14765  Premier League         Burnley    2021            38.0   \n",
       "14768  Premier League         Burnley    2021            22.0   \n",
       "14770  Premier League         Burnley    2021            23.0   \n",
       "14771  Premier League         Burnley    2021            18.0   \n",
       "\n",
       "       matches_started  ...  through_balls.total  total_crosses.total   \n",
       "0                  0.0  ...                  NaN                  NaN  \\\n",
       "4                  7.0  ...                  NaN                  5.0   \n",
       "6                 17.0  ...                  NaN                 86.0   \n",
       "7                 34.0  ...                  NaN                157.0   \n",
       "9                 17.0  ...                  NaN                  6.0   \n",
       "...                ...  ...                  ...                  ...   \n",
       "14762             13.0  ...                  NaN                 44.0   \n",
       "14765             35.0  ...                  NaN                199.0   \n",
       "14768              5.0  ...                  NaN                  2.0   \n",
       "14770              8.0  ...                  NaN                  2.0   \n",
       "14771             17.0  ...                  NaN                  4.0   \n",
       "\n",
       "       shots.total  shots.on  goals.total_y  goals.assists  passes.key   \n",
       "0              NaN       NaN            0.0            NaN         NaN  \\\n",
       "4             29.0      11.0            3.0            3.0        11.0   \n",
       "6             36.0       9.0            3.0            1.0        29.0   \n",
       "7             73.0      36.0           12.0           10.0        59.0   \n",
       "9             28.0      16.0            6.0            2.0        15.0   \n",
       "...            ...       ...            ...            ...         ...   \n",
       "14762         12.0       5.0            0.0            1.0         7.0   \n",
       "14765         32.0      15.0            0.0            1.0        49.0   \n",
       "14768         15.0       7.0            2.0            3.0         6.0   \n",
       "14770         14.0       6.0            1.0            NaN         8.0   \n",
       "14771         31.0      21.0            6.0            1.0        17.0   \n",
       "\n",
       "       dribbles.attempts  dribbles.success  dribbles.past  \n",
       "0                    NaN               NaN            NaN  \n",
       "4                   18.0              13.0            NaN  \n",
       "6                   63.0              38.0            NaN  \n",
       "7                  157.0              80.0            NaN  \n",
       "9                   38.0              16.0            NaN  \n",
       "...                  ...               ...            ...  \n",
       "14762               22.0              14.0            NaN  \n",
       "14765              150.0              90.0            NaN  \n",
       "14768               14.0               6.0            NaN  \n",
       "14770                8.0               5.0            NaN  \n",
       "14771                8.0               7.0            NaN  \n",
       "\n",
       "[4777 rows x 30 columns]"
      ]
     },
     "execution_count": 5,
     "metadata": {},
     "output_type": "execute_result"
    }
   ],
   "source": [
    "players_selected_vars = players[[\n",
    "    \"name\",\n",
    "    \"player_id_api\",\n",
    "    \"date_of_birth\",\n",
    "    \"nationality\",\n",
    "    \"team_name\",\n",
    "    'league_name',\n",
    "     'league.season',\n",
    "    # \"error_lead_to_goal.total\",\n",
    "    # \"saves_inside_box.total\",\n",
    "    \"games.appearences\",\n",
    "    \"games.lineups\",\n",
    "    \"games.minutes\",\n",
    "    # \"goals.conceded\",\n",
    "    # \"goals.saves\",\n",
    "    # \"penalty.saved\",\n",
    "    # \"highest_market_value_in_eur\",\n",
    "    \"market_value_in_eur_x\",\n",
    "    # \"own_goals.total\",\n",
    "    \"accurate_crosses.total\",\n",
    "    \"big_chances_created.total\",\n",
    "    \"big_chances_missed.total\",\n",
    "    \"blocked_shots.total\",\n",
    "    \"dribbled_past.total\",\n",
    "    \"goals.goals\",\n",
    "    \"offsides.total\",\n",
    "    \"shots_off_target.total\",\n",
    "    \"through_balls.total\",\n",
    "    \"total_crosses.total\",\n",
    "    \"shots.total\",\n",
    "    \"shots.on\",\n",
    "    \"goals.total_y\",\n",
    "    \"goals.assists\",\n",
    "    \"passes.key\",\n",
    "    \"dribbles.attempts\",\n",
    "    \"dribbles.success\",\n",
    "    \"dribbles.past\",\n",
    "]].copy().rename({\n",
    "    \"team_name\": \"team\",\n",
    "    \"league_name\": \"league\",\n",
    "    \"league.season\": \"season\",\n",
    "    \"games.appearences\": \"matches_played\",\n",
    "    \"games.lineups\": \"matches_started\",\n",
    "    \"games.minutes\": \"minutes\",\n",
    "    # \"goals.conceded\": \"goals_against\",\n",
    "    # \"goals.saves\": \"saves\",\n",
    "    # \"saves_inside_box.total\": \"saves_inside_box\",\n",
    "    # \"penalty.saved\": \"penalty_kicks_saves\",\n",
    "    # \"own_goals.total\": \"own_goals_against\",\n",
    "    # \"error_lead_to_goal.total\": \"errors_to_goal\",\n",
    "    \"market_value_in_eur_x\": \"market_value\",\n",
    "}, axis=1)\n",
    "players_selected_vars[\"90s_played\"] = players_selected_vars[\"minutes\"] / 90\n",
    "# players_selected_vars[\"goals_against_90s\"] = players_selected_vars[\"goals_against\"] / players_selected_vars[\"90s_played\"]\n",
    "# players_selected_vars[\"shots_on_target_against\"] = players_selected_vars[\"goals_against\"] + players_selected_vars[\"saves\"]\n",
    "# players_selected_vars[\"save%\"] = players_selected_vars[\"saves\"] / players_selected_vars[\"shots_on_target_against\"]\n",
    "# players_selected_vars[\"age\"] = pd.to_datetime(players_selected_vars[\"date_of_birth\"]).map(lambda x: int((pd.Timestamp.today() - x).days / 365))\n",
    "players_selected_vars[\"age\"] = (26 - (players[\"league.season\"] - players[\"date_of_birth\"].str.slice(0, 4).astype(int)))\n",
    "players_selected_vars[\"age2\"] = players_selected_vars[\"age\"] ** 2\n",
    "# players_selected_vars[\"own_goals_against\"] = players_selected_vars[\"own_goals_against\"].fillna(0)\n",
    "for per_90 in [\n",
    "    # \"shots_on_target_against\",\n",
    "    # \"saves_inside_box\",\n",
    "    # \"saves\",\n",
    "    # \"penalty_kicks_saves\",\n",
    "    # \"own_goals_against\",\n",
    "    # \"goals_against\",\n",
    "    # \"accurate_crosses.total\",\n",
    "    # \"big_chances_created.total\",\n",
    "    # \"big_chances_missed.total\",\n",
    "    # \"blocked_shots.total\",\n",
    "    # \"dribbled_past.total\",\n",
    "    # \"goals.goals\",\n",
    "    # \"offsides.total\",\n",
    "    # \"shots_off_target.total\",\n",
    "    # \"through_balls.total\",\n",
    "    # \"total_crosses.total\",\n",
    "    # \"shots.total\",\n",
    "    # \"shots.on\",\n",
    "    # \"goals.total_y\",\n",
    "    # \"goals.assists\",\n",
    "    # \"passes.key\",\n",
    "    # \"dribbles.attempts\",\n",
    "    # \"dribbles.success\",\n",
    "    # \"dribbles.past\",\n",
    "]:\n",
    "    players_selected_vars[per_90] = players_selected_vars[per_90] / players_selected_vars[\"90s_played\"]\n",
    "\n",
    "\n",
    "players_selected_vars.replace([np.inf, -np.inf], np.nan, inplace=True)\n",
    "    \n",
    "players_selected_vars = players_selected_vars.drop([\n",
    "    \"date_of_birth\",\n",
    "    \"minutes\",\n",
    "], axis=1)\n",
    "\n",
    "order = [\n",
    "    \"name\",\n",
    "    \"player_id_api\",\n",
    "    \"age\",\n",
    "    \"age2\",\n",
    "    \"nationality\",\n",
    "    \"league\",\n",
    "    \"team\",\n",
    "    \"season\",\n",
    "    \"matches_played\",\n",
    "    \"matches_started\",\n",
    "    # \"minutes\",\n",
    "    \"90s_played\",\n",
    "    # \"goals_against\",\n",
    "    # \"own_goals_against\",\n",
    "    # \"shots_on_target_against\",\n",
    "    # \"saves\",\n",
    "    # \"save%\",\n",
    "    # \"saves_inside_box\",\n",
    "    # \"penalty_kicks_saves\",\n",
    "    \"market_value\",\n",
    "    \"accurate_crosses.total\",\n",
    "    \"big_chances_created.total\",\n",
    "    \"big_chances_missed.total\",\n",
    "    \"blocked_shots.total\",\n",
    "    \"dribbled_past.total\",\n",
    "    \"goals.goals\",\n",
    "    \"offsides.total\",\n",
    "    \"shots_off_target.total\",\n",
    "    \"through_balls.total\",\n",
    "    \"total_crosses.total\",\n",
    "    \"shots.total\",\n",
    "    \"shots.on\",\n",
    "    \"goals.total_y\",\n",
    "    \"goals.assists\",\n",
    "    \"passes.key\",\n",
    "    \"dribbles.attempts\",\n",
    "    \"dribbles.success\",\n",
    "    \"dribbles.past\",\n",
    "]\n",
    "players_selected_vars = players_selected_vars[order + list(set(players_selected_vars.columns).difference(order))]\n",
    "players_selected_vars"
   ]
  },
  {
   "cell_type": "code",
   "execution_count": 6,
   "id": "43aac39f-e0a2-4a18-818b-e5e5ce57abd1",
   "metadata": {},
   "outputs": [
    {
     "data": {
      "text/plain": [
       "<Axes: xlabel='age'>"
      ]
     },
     "execution_count": 6,
     "metadata": {},
     "output_type": "execute_result"
    },
    {
     "data": {
      "image/png": "[encoded data removed]",
      "text/plain": [
       "<Figure size 640x480 with 1 Axes>"
      ]
     },
     "metadata": {},
     "output_type": "display_data"
    }
   ],
   "source": [
    "players_selected_vars.groupby(\"age\")[\"market_value\"].mean().plot()"
   ]
  },
  {
   "cell_type": "code",
   "execution_count": 7,
   "id": "2456ce2e-3035-4f33-b706-b99133240e33",
   "metadata": {},
   "outputs": [],
   "source": [
    "from helpers import TEAM_TIERS"
   ]
  },
  {
   "cell_type": "code",
   "execution_count": 8,
   "id": "bf21cef0-2d33-4b52-b842-59fa6d779095",
   "metadata": {
    "tags": []
   },
   "outputs": [],
   "source": [
    "players_selected_vars = pd.merge(players_selected_vars, TEAM_TIERS, left_on=\"team\", right_index=True)"
   ]
  },
  {
   "cell_type": "code",
   "execution_count": 9,
   "id": "0a4bbdda-f5bd-4855-9624-5a2f6b624da7",
   "metadata": {
    "tags": []
   },
   "outputs": [],
   "source": [
    "mvs = players_selected_vars[\"market_value\"].values\n",
    "mvs = np.expand_dims(mvs, axis=1)\n",
    "mvs = normalize(mvs, norm=\"max\", axis=0)\n",
    "mvs = np.squeeze(mvs)\n",
    "players_selected_vars[\"normalised_market_value\"] = mvs"
   ]
  },
  {
   "cell_type": "code",
   "execution_count": 10,
   "id": "ea44e269-5397-42ad-b423-5255f897530e",
   "metadata": {
    "tags": []
   },
   "outputs": [],
   "source": [
    "from sklearn.compose import ColumnTransformer\n",
    "from sklearn.dummy import DummyClassifier, DummyRegressor\n",
    "from sklearn.impute import SimpleImputer\n",
    "from sklearn.inspection import permutation_importance\n",
    "from sklearn.linear_model import LogisticRegression, LinearRegression\n",
    "from sklearn.metrics import confusion_matrix, accuracy_score, balanced_accuracy_score\n",
    "from sklearn.model_selection import train_test_split\n",
    "from sklearn.pipeline import Pipeline\n",
    "from sklearn.preprocessing import OneHotEncoder\n",
    "from sklearn.preprocessing import StandardScaler\n",
    "from sklearn.svm import SVC"
   ]
  },
  {
   "cell_type": "code",
   "execution_count": 11,
   "id": "1efa692d-a0b7-44a3-8656-b8ebeb9131e5",
   "metadata": {
    "tags": []
   },
   "outputs": [
    {
     "name": "stderr",
     "output_type": "stream",
     "text": [
      "/var/folders/h8/j63w626x3ds50k3yc8j6xtwh0000gn/T/ipykernel_88374/2427455660.py:2: SettingWithCopyWarning: \n",
      "A value is trying to be set on a copy of a slice from a DataFrame.\n",
      "Try using .loc[row_indexer,col_indexer] = value instead\n",
      "\n",
      "See the caveats in the documentation: https://pandas.pydata.org/pandas-docs/stable/user_guide/indexing.html#returning-a-view-versus-a-copy\n",
      "  market_values[\"season\"] = market_values[\"season\"] +1\n"
     ]
    },
    {
     "data": {
      "text/html": [
       "<div>\n",
       "<style scoped>\n",
       "    .dataframe tbody tr th:only-of-type {\n",
       "        vertical-align: middle;\n",
       "    }\n",
       "\n",
       "    .dataframe tbody tr th {\n",
       "        vertical-align: top;\n",
       "    }\n",
       "\n",
       "    .dataframe thead th {\n",
       "        text-align: right;\n",
       "    }\n",
       "</style>\n",
       "<table border=\"1\" class=\"dataframe\">\n",
       "  <thead>\n",
       "    <tr style=\"text-align: right;\">\n",
       "      <th></th>\n",
       "      <th>player_id_api</th>\n",
       "      <th>season</th>\n",
       "      <th>market_value</th>\n",
       "    </tr>\n",
       "  </thead>\n",
       "  <tbody>\n",
       "    <tr>\n",
       "      <th>0</th>\n",
       "      <td>20479</td>\n",
       "      <td>2018</td>\n",
       "      <td>500000</td>\n",
       "    </tr>\n",
       "    <tr>\n",
       "      <th>4</th>\n",
       "      <td>2778</td>\n",
       "      <td>2018</td>\n",
       "      <td>15000000</td>\n",
       "    </tr>\n",
       "    <tr>\n",
       "      <th>6</th>\n",
       "      <td>18781</td>\n",
       "      <td>2018</td>\n",
       "      <td>20000000</td>\n",
       "    </tr>\n",
       "    <tr>\n",
       "      <th>7</th>\n",
       "      <td>635</td>\n",
       "      <td>2018</td>\n",
       "      <td>50000000</td>\n",
       "    </tr>\n",
       "    <tr>\n",
       "      <th>9</th>\n",
       "      <td>18787</td>\n",
       "      <td>2018</td>\n",
       "      <td>6000000</td>\n",
       "    </tr>\n",
       "    <tr>\n",
       "      <th>...</th>\n",
       "      <td>...</td>\n",
       "      <td>...</td>\n",
       "      <td>...</td>\n",
       "    </tr>\n",
       "    <tr>\n",
       "      <th>14667</th>\n",
       "      <td>128533</td>\n",
       "      <td>2022</td>\n",
       "      <td>4500000</td>\n",
       "    </tr>\n",
       "    <tr>\n",
       "      <th>14668</th>\n",
       "      <td>194682</td>\n",
       "      <td>2022</td>\n",
       "      <td>800000</td>\n",
       "    </tr>\n",
       "    <tr>\n",
       "      <th>14669</th>\n",
       "      <td>48563</td>\n",
       "      <td>2022</td>\n",
       "      <td>1000000</td>\n",
       "    </tr>\n",
       "    <tr>\n",
       "      <th>14681</th>\n",
       "      <td>1827</td>\n",
       "      <td>2022</td>\n",
       "      <td>2000000</td>\n",
       "    </tr>\n",
       "    <tr>\n",
       "      <th>14687</th>\n",
       "      <td>48497</td>\n",
       "      <td>2022</td>\n",
       "      <td>2000000</td>\n",
       "    </tr>\n",
       "  </tbody>\n",
       "</table>\n",
       "<p>4777 rows × 3 columns</p>\n",
       "</div>"
      ],
      "text/plain": [
       "       player_id_api  season  market_value\n",
       "0              20479    2018        500000\n",
       "4               2778    2018      15000000\n",
       "6              18781    2018      20000000\n",
       "7                635    2018      50000000\n",
       "9              18787    2018       6000000\n",
       "...              ...     ...           ...\n",
       "14667         128533    2022       4500000\n",
       "14668         194682    2022        800000\n",
       "14669          48563    2022       1000000\n",
       "14681           1827    2022       2000000\n",
       "14687          48497    2022       2000000\n",
       "\n",
       "[4777 rows x 3 columns]"
      ]
     },
     "execution_count": 11,
     "metadata": {},
     "output_type": "execute_result"
    }
   ],
   "source": [
    "market_values = players_selected_vars[[\"player_id_api\", \"season\", \"market_value\"]]\n",
    "market_values[\"season\"] = market_values[\"season\"] +1\n",
    "market_values"
   ]
  },
  {
   "cell_type": "code",
   "execution_count": 12,
   "id": "4d19d708-905c-46c5-b9b7-78a7efbf7d08",
   "metadata": {
    "tags": []
   },
   "outputs": [],
   "source": [
    "players_selected_vars = pd.merge(players_selected_vars, market_values, on=[\"player_id_api\", \"season\"], suffixes = [\"\", \"_prev\"])"
   ]
  },
  {
   "cell_type": "markdown",
   "id": "71d6e5d8-d5ad-440e-8887-9ddb4410f2a6",
   "metadata": {},
   "source": [
    "## Transformation pipeline"
   ]
  },
  {
   "cell_type": "code",
   "execution_count": 13,
   "id": "4e74aa3f-d75c-42a2-8e24-22e1222bd90f",
   "metadata": {
    "tags": []
   },
   "outputs": [],
   "source": [
    "numeric_features = [\n",
    "    \"market_value_prev\",\n",
    "    \"age\",\n",
    "    \"age2\",\n",
    "    \"matches_played\",\n",
    "    \"matches_started\",\n",
    "    \"90s_played\",\n",
    "    # \"goals_against\",\n",
    "    # \"own_goals_against\",\n",
    "    # \"shots_on_target_against\",\n",
    "    # \"saves\",\n",
    "    # \"save%\",\n",
    "    # \"saves_inside_box\",\n",
    "    # \"penalty_kicks_saves\",\n",
    "    \"accurate_crosses.total\",\n",
    "    \"big_chances_created.total\",\n",
    "    \"big_chances_missed.total\",\n",
    "    \"blocked_shots.total\",\n",
    "    \"dribbled_past.total\",\n",
    "    \"goals.goals\",\n",
    "    \"offsides.total\",\n",
    "    \"shots_off_target.total\",\n",
    "    \"through_balls.total\",\n",
    "    \"total_crosses.total\",\n",
    "    \"shots.total\",\n",
    "    \"shots.on\",\n",
    "    \"goals.total_y\",\n",
    "    \"goals.assists\",\n",
    "    \"passes.key\",\n",
    "    \"dribbles.attempts\",\n",
    "    \"dribbles.success\",\n",
    "    \"dribbles.past\",\n",
    "]\n",
    "numeric_transformer = Pipeline(\n",
    "    steps=[\n",
    "        (\"imputer\", SimpleImputer(strategy=\"median\")),\n",
    "        (\"scaler\", StandardScaler())\n",
    "    ]\n",
    ")\n",
    "\n",
    "categorical_features = [\n",
    "    \"nationality\",\n",
    "    \"league\",\n",
    "    \"team\",\n",
    "    \"tier\",\n",
    "]\n",
    "categorical_transformer = Pipeline(\n",
    "    steps=[\n",
    "        (\"encoder\", OneHotEncoder(handle_unknown=\"ignore\"))\n",
    "    ]\n",
    ")\n",
    "\n",
    "preprocessor = ColumnTransformer(\n",
    "    transformers=[\n",
    "        (\"num\", numeric_transformer, numeric_features),\n",
    "        (\"cat\", categorical_transformer, categorical_features),\n",
    "    ]\n",
    ")"
   ]
  },
  {
   "cell_type": "markdown",
   "id": "5c83d92f-900c-41be-8acc-8ce0b74e25ac",
   "metadata": {},
   "source": [
    "# Predict price bucket"
   ]
  },
  {
   "cell_type": "code",
   "execution_count": 14,
   "id": "cc8455cf-8bd7-4f18-a6e2-9da2c4199266",
   "metadata": {
    "tags": []
   },
   "outputs": [],
   "source": [
    "bins = [\n",
    "    0.0025,\n",
    "    0.005,\n",
    "    0.01,\n",
    "    0.025,\n",
    "    0.05,\n",
    "    0.1,\n",
    "    0.25,\n",
    "    0.5,\n",
    "    1.0\n",
    "]\n",
    "y = np.digitize(players_selected_vars[\"normalised_market_value\"], bins)\n",
    "X = players_selected_vars"
   ]
  },
  {
   "cell_type": "code",
   "execution_count": null,
   "id": "8e682d79-3ea7-435b-8dd7-e2ede86c69dc",
   "metadata": {
    "tags": []
   },
   "outputs": [],
   "source": [
    "X_train, X_test, y_train, y_test = train_test_split(X, y, test_size=0.2, random_state=42)"
   ]
  },
  {
   "cell_type": "code",
   "execution_count": null,
   "id": "5bceedc6-c832-4fe3-b2c8-678f950328dd",
   "metadata": {
    "tags": []
   },
   "outputs": [],
   "source": [
    "np.unique(y_train, return_counts=True)"
   ]
  },
  {
   "cell_type": "code",
   "execution_count": null,
   "id": "3aa3576c-ef06-4355-a787-79947a16d658",
   "metadata": {
    "tags": []
   },
   "outputs": [],
   "source": [
    "random = Pipeline(\n",
    "    steps=[\n",
    "        (\"preprocessor\", preprocessor),\n",
    "        (\"classifier\", DummyClassifier(strategy=\"stratified\")),\n",
    "    ]\n",
    ")\n",
    "random.fit(X_train, y_train)\n",
    "\n",
    "y_random = random.predict(X_test)\n",
    "\n",
    "balanced_accuracy_score(y_test, y_random)"
   ]
  },
  {
   "cell_type": "code",
   "execution_count": null,
   "id": "a308de9e-77b6-41b7-a9d6-f7e373b631c9",
   "metadata": {
    "tags": []
   },
   "outputs": [],
   "source": [
    "np.unique(y_random, return_counts=True)"
   ]
  },
  {
   "cell_type": "code",
   "execution_count": null,
   "id": "d439a90b-f316-49cc-9fde-d524fc5e5f67",
   "metadata": {
    "tags": []
   },
   "outputs": [],
   "source": [
    "clf = Pipeline(\n",
    "    steps=[\n",
    "        (\"preprocessor\", preprocessor), \n",
    "        (\"classifier\", LogisticRegression()),\n",
    "    ]\n",
    ")\n",
    "clf.fit(X_train, y_train)\n",
    "\n",
    "y_lr = clf.predict(X_test)\n",
    "\n",
    "balanced_accuracy_score(y_test, y_lr)"
   ]
  },
  {
   "cell_type": "code",
   "execution_count": null,
   "id": "c564ade8-f5c3-4518-a027-a45b6798fb26",
   "metadata": {
    "tags": []
   },
   "outputs": [],
   "source": [
    "np.unique(y_test - y_lr, return_counts=True)"
   ]
  },
  {
   "cell_type": "code",
   "execution_count": null,
   "id": "10f0b699-4dec-44ee-a020-52ec99a35d77",
   "metadata": {
    "tags": []
   },
   "outputs": [],
   "source": [
    "np.unique(y_lr, return_counts=True)"
   ]
  },
  {
   "cell_type": "code",
   "execution_count": null,
   "id": "54162e03-b50b-4a1f-8abd-10b70b38ffb1",
   "metadata": {
    "tags": []
   },
   "outputs": [],
   "source": [
    "from sklearn.neural_network import MLPClassifier\n",
    "\n",
    "mlp = Pipeline(\n",
    "    steps=[\n",
    "        (\"preprocessor\", preprocessor), \n",
    "        (\"classifier\", MLPClassifier(solver='lbfgs', alpha=1e-5, hidden_layer_sizes=(16, 8, 4))),\n",
    "    ]\n",
    ")\n",
    "mlp.fit(X_train, y_train)\n",
    "\n",
    "y_mlp = mlp.predict(X_test)\n",
    "\n",
    "balanced_accuracy_score(y_test, y_mlp)"
   ]
  },
  {
   "cell_type": "markdown",
   "id": "4bc00fc7-4c50-4c9f-920e-f1b4f0918b6d",
   "metadata": {},
   "source": [
    "## Features importance"
   ]
  },
  {
   "cell_type": "code",
   "execution_count": null,
   "id": "bbdaddf4-ba58-4ae1-80ab-9d7d3690f291",
   "metadata": {
    "tags": []
   },
   "outputs": [],
   "source": [
    "result = permutation_importance(\n",
    "    clf, X_test, y_test, n_repeats=10, random_state=42, n_jobs=2\n",
    ")\n",
    "\n",
    "forest_importances = pd.Series(result.importances_mean, index=X_test.columns)\n",
    "\n",
    "fig, ax = plt.subplots()\n",
    "forest_importances.plot.bar(yerr=result.importances_std, ax=ax)\n",
    "ax.set_title(\"Feature importances using permutation on full model\")\n",
    "ax.set_ylabel(\"Mean accuracy decrease\")\n",
    "fig.tight_layout()\n",
    "plt.show()"
   ]
  },
  {
   "cell_type": "markdown",
   "id": "f53f18bd-de12-4d28-aef7-d8b4393eb939",
   "metadata": {},
   "source": [
    "# Predict market value"
   ]
  },
  {
   "cell_type": "code",
   "execution_count": 15,
   "id": "c63681f9-8670-4afe-9c16-da1f790de1ae",
   "metadata": {
    "tags": []
   },
   "outputs": [],
   "source": [
    "def r2_adj(model, x,y):\n",
    "    r2 = model.score(x,y)\n",
    "    n = x.shape[0]\n",
    "    p = x.shape[1]\n",
    "    return 1-(1-r2)*(n-1)/(n-p-1)"
   ]
  },
  {
   "cell_type": "code",
   "execution_count": 16,
   "id": "6b439dce-ae4f-4cd7-b873-9dbb76cac41a",
   "metadata": {
    "tags": []
   },
   "outputs": [
    {
     "data": {
      "text/html": [
       "<div>\n",
       "<style scoped>\n",
       "    .dataframe tbody tr th:only-of-type {\n",
       "        vertical-align: middle;\n",
       "    }\n",
       "\n",
       "    .dataframe tbody tr th {\n",
       "        vertical-align: top;\n",
       "    }\n",
       "\n",
       "    .dataframe thead th {\n",
       "        text-align: right;\n",
       "    }\n",
       "</style>\n",
       "<table border=\"1\" class=\"dataframe\">\n",
       "  <thead>\n",
       "    <tr style=\"text-align: right;\">\n",
       "      <th></th>\n",
       "      <th>name</th>\n",
       "      <th>player_id_api</th>\n",
       "      <th>age</th>\n",
       "      <th>age2</th>\n",
       "      <th>nationality</th>\n",
       "      <th>league</th>\n",
       "      <th>team</th>\n",
       "      <th>season</th>\n",
       "      <th>matches_played</th>\n",
       "      <th>matches_started</th>\n",
       "      <th>...</th>\n",
       "      <th>shots.on</th>\n",
       "      <th>goals.total_y</th>\n",
       "      <th>goals.assists</th>\n",
       "      <th>passes.key</th>\n",
       "      <th>dribbles.attempts</th>\n",
       "      <th>dribbles.success</th>\n",
       "      <th>dribbles.past</th>\n",
       "      <th>tier</th>\n",
       "      <th>normalised_market_value</th>\n",
       "      <th>market_value_prev</th>\n",
       "    </tr>\n",
       "  </thead>\n",
       "  <tbody>\n",
       "    <tr>\n",
       "      <th>4</th>\n",
       "      <td>Jamie Vardy</td>\n",
       "      <td>18788</td>\n",
       "      <td>-5</td>\n",
       "      <td>25</td>\n",
       "      <td>England</td>\n",
       "      <td>Premier League</td>\n",
       "      <td>Leicester City</td>\n",
       "      <td>2018</td>\n",
       "      <td>34.0</td>\n",
       "      <td>30.0</td>\n",
       "      <td>...</td>\n",
       "      <td>40.0</td>\n",
       "      <td>18.0</td>\n",
       "      <td>4.0</td>\n",
       "      <td>32.0</td>\n",
       "      <td>33.0</td>\n",
       "      <td>12.0</td>\n",
       "      <td>NaN</td>\n",
       "      <td>3</td>\n",
       "      <td>0.100</td>\n",
       "      <td>20000000</td>\n",
       "    </tr>\n",
       "    <tr>\n",
       "      <th>7</th>\n",
       "      <td>Jamie Vardy</td>\n",
       "      <td>18788</td>\n",
       "      <td>-6</td>\n",
       "      <td>36</td>\n",
       "      <td>England</td>\n",
       "      <td>Premier League</td>\n",
       "      <td>Leicester City</td>\n",
       "      <td>2019</td>\n",
       "      <td>35.0</td>\n",
       "      <td>34.0</td>\n",
       "      <td>...</td>\n",
       "      <td>43.0</td>\n",
       "      <td>23.0</td>\n",
       "      <td>5.0</td>\n",
       "      <td>32.0</td>\n",
       "      <td>47.0</td>\n",
       "      <td>23.0</td>\n",
       "      <td>NaN</td>\n",
       "      <td>3</td>\n",
       "      <td>0.080</td>\n",
       "      <td>20000000</td>\n",
       "    </tr>\n",
       "    <tr>\n",
       "      <th>13</th>\n",
       "      <td>Jamie Vardy</td>\n",
       "      <td>18788</td>\n",
       "      <td>-7</td>\n",
       "      <td>49</td>\n",
       "      <td>England</td>\n",
       "      <td>Premier League</td>\n",
       "      <td>Leicester City</td>\n",
       "      <td>2020</td>\n",
       "      <td>34.0</td>\n",
       "      <td>31.0</td>\n",
       "      <td>...</td>\n",
       "      <td>38.0</td>\n",
       "      <td>15.0</td>\n",
       "      <td>9.0</td>\n",
       "      <td>28.0</td>\n",
       "      <td>41.0</td>\n",
       "      <td>26.0</td>\n",
       "      <td>NaN</td>\n",
       "      <td>3</td>\n",
       "      <td>0.035</td>\n",
       "      <td>16000000</td>\n",
       "    </tr>\n",
       "    <tr>\n",
       "      <th>24</th>\n",
       "      <td>Jamie Vardy</td>\n",
       "      <td>18788</td>\n",
       "      <td>-8</td>\n",
       "      <td>64</td>\n",
       "      <td>England</td>\n",
       "      <td>Premier League</td>\n",
       "      <td>Leicester City</td>\n",
       "      <td>2021</td>\n",
       "      <td>25.0</td>\n",
       "      <td>20.0</td>\n",
       "      <td>...</td>\n",
       "      <td>26.0</td>\n",
       "      <td>15.0</td>\n",
       "      <td>2.0</td>\n",
       "      <td>18.0</td>\n",
       "      <td>22.0</td>\n",
       "      <td>9.0</td>\n",
       "      <td>NaN</td>\n",
       "      <td>3</td>\n",
       "      <td>0.025</td>\n",
       "      <td>7000000</td>\n",
       "    </tr>\n",
       "  </tbody>\n",
       "</table>\n",
       "<p>4 rows × 33 columns</p>\n",
       "</div>"
      ],
      "text/plain": [
       "           name  player_id_api  age  age2 nationality          league   \n",
       "4   Jamie Vardy          18788   -5    25     England  Premier League  \\\n",
       "7   Jamie Vardy          18788   -6    36     England  Premier League   \n",
       "13  Jamie Vardy          18788   -7    49     England  Premier League   \n",
       "24  Jamie Vardy          18788   -8    64     England  Premier League   \n",
       "\n",
       "              team  season  matches_played  matches_started  ...  shots.on   \n",
       "4   Leicester City    2018            34.0             30.0  ...      40.0  \\\n",
       "7   Leicester City    2019            35.0             34.0  ...      43.0   \n",
       "13  Leicester City    2020            34.0             31.0  ...      38.0   \n",
       "24  Leicester City    2021            25.0             20.0  ...      26.0   \n",
       "\n",
       "    goals.total_y  goals.assists  passes.key  dribbles.attempts   \n",
       "4            18.0            4.0        32.0               33.0  \\\n",
       "7            23.0            5.0        32.0               47.0   \n",
       "13           15.0            9.0        28.0               41.0   \n",
       "24           15.0            2.0        18.0               22.0   \n",
       "\n",
       "    dribbles.success  dribbles.past  tier  normalised_market_value   \n",
       "4               12.0            NaN     3                    0.100  \\\n",
       "7               23.0            NaN     3                    0.080   \n",
       "13              26.0            NaN     3                    0.035   \n",
       "24               9.0            NaN     3                    0.025   \n",
       "\n",
       "    market_value_prev  \n",
       "4            20000000  \n",
       "7            20000000  \n",
       "13           16000000  \n",
       "24            7000000  \n",
       "\n",
       "[4 rows x 33 columns]"
      ]
     },
     "execution_count": 16,
     "metadata": {},
     "output_type": "execute_result"
    }
   ],
   "source": [
    "players_selected_vars.query(\"player_id_api == 18788\")"
   ]
  },
  {
   "cell_type": "code",
   "execution_count": 17,
   "id": "fde5a414-7c36-4b1c-bae9-ddbcbe9cd7c9",
   "metadata": {
    "tags": []
   },
   "outputs": [],
   "source": [
    "appearances = 15\n",
    "X = players_selected_vars.loc[lambda x: np.logical_and(x[\"matches_played\"] >= appearances, x[\"market_value\"] != x[\"market_value_prev\"])]\n",
    "# y = players_selected_vars[\"normalised_market_value\"]\n",
    "y = np.log(players_selected_vars.loc[lambda x: np.logical_and(x[\"matches_played\"] >= appearances, x[\"market_value\"] != x[\"market_value_prev\"])][\"market_value\"])\n",
    "# y = players_selected_vars[\"market_value\"]"
   ]
  },
  {
   "cell_type": "code",
   "execution_count": 18,
   "id": "c569b62a-8c10-45d6-a7b8-f1b47d8d2ce0",
   "metadata": {
    "tags": []
   },
   "outputs": [
    {
     "data": {
      "text/plain": [
       "((1327, 33), (441, 33), (1327,), (441,))"
      ]
     },
     "execution_count": 18,
     "metadata": {},
     "output_type": "execute_result"
    }
   ],
   "source": [
    "X_train = X.loc[X[\"season\"] <= 2020]\n",
    "X_test = X.loc[X[\"season\"] == 2021]\n",
    "y_train = y.loc[X[\"season\"] <= 2020]\n",
    "y_test = y.loc[X[\"season\"] == 2021]\n",
    "X_train.shape, X_test.shape, y_train.shape, y_test.shape"
   ]
  },
  {
   "cell_type": "code",
   "execution_count": 19,
   "id": "3577f9d7-00ae-4ef7-8b4a-06d1cc164391",
   "metadata": {
    "tags": []
   },
   "outputs": [],
   "source": [
    "# X_train, X_test, y_train, y_test = train_test_split(X, y, test_size=0.2, random_state=42)"
   ]
  },
  {
   "cell_type": "code",
   "execution_count": 20,
   "id": "00e5be29-bc8a-4e1f-9bfd-30a091e17aeb",
   "metadata": {
    "tags": []
   },
   "outputs": [
    {
     "data": {
      "text/plain": [
       "(-0.008264759541563249, -0.09001595626114955)"
      ]
     },
     "execution_count": 20,
     "metadata": {},
     "output_type": "execute_result"
    }
   ],
   "source": [
    "random_regression = Pipeline(\n",
    "    steps=[\n",
    "        (\"preprocessor\", preprocessor),\n",
    "        (\"regression\", DummyRegressor()),\n",
    "    ]\n",
    ")\n",
    "random_regression.fit(X_train, y_train)\n",
    "\n",
    "random_regression.score(X_test, y_test), r2_adj(random_regression, X_test, y_test)"
   ]
  },
  {
   "cell_type": "code",
   "execution_count": 21,
   "id": "6c6ac1d0-ccb6-4448-bb08-99cd8c33e434",
   "metadata": {
    "tags": []
   },
   "outputs": [
    {
     "data": {
      "text/plain": [
       "(0.8847971464303185, 0.881856934390257, 0.8296910748854155, 0.8158822431193681)"
      ]
     },
     "execution_count": 21,
     "metadata": {},
     "output_type": "execute_result"
    }
   ],
   "source": [
    "regression = Pipeline(\n",
    "    steps=[\n",
    "        (\"preprocessor\", preprocessor),\n",
    "        (\"regression\", LinearRegression()),\n",
    "    ]\n",
    ")\n",
    "regression.fit(X_train, y_train)\n",
    "\n",
    "regression.score(X_train, y_train), r2_adj(regression, X_train, y_train), regression.score(X_test, y_test), r2_adj(regression, X_test, y_test)"
   ]
  },
  {
   "cell_type": "code",
   "execution_count": 22,
   "id": "2067900c-5972-4714-954d-b279270b91ae",
   "metadata": {
    "tags": []
   },
   "outputs": [
    {
     "name": "stderr",
     "output_type": "stream",
     "text": [
      "/Users/jwasilewski/Library/Caches/pypoetry/virtualenvs/models-wTMcHaj6-py3.10/lib/python3.10/site-packages/sklearn/neural_network/_multilayer_perceptron.py:541: ConvergenceWarning: lbfgs failed to converge (status=1):\n",
      "STOP: TOTAL NO. of ITERATIONS REACHED LIMIT.\n",
      "\n",
      "Increase the number of iterations (max_iter) or scale the data as shown in:\n",
      "    https://scikit-learn.org/stable/modules/preprocessing.html\n",
      "  self.n_iter_ = _check_optimize_result(\"lbfgs\", opt_res, self.max_iter)\n"
     ]
    },
    {
     "data": {
      "text/plain": [
       "(0.9532843853766484, 0.952092107509231, 0.6930905455961442, 0.6682059952390749)"
      ]
     },
     "execution_count": 22,
     "metadata": {},
     "output_type": "execute_result"
    }
   ],
   "source": [
    "from sklearn.neural_network import MLPRegressor\n",
    "\n",
    "mlp_reg = Pipeline(\n",
    "    steps=[\n",
    "        (\"preprocessor\", preprocessor), \n",
    "        (\"regression\", MLPRegressor(solver='lbfgs', alpha=1e-5, hidden_layer_sizes=(8, 2))),\n",
    "    ]\n",
    ")\n",
    "mlp_reg.fit(X_train, y_train)\n",
    "\n",
    "mlp_reg.score(X_train, y_train), r2_adj(mlp_reg, X_train, y_train), mlp_reg.score(X_test, y_test), r2_adj(mlp_reg, X_test, y_test)"
   ]
  },
  {
   "cell_type": "code",
   "execution_count": 23,
   "id": "8cc82e48-145b-4dfe-8b46-be622c43f5bb",
   "metadata": {
    "tags": []
   },
   "outputs": [
    {
     "data": {
      "text/plain": [
       "(0.987395658249111, 0.9870739697125455, 0.9145755123705782, 0.9076492025627872)"
      ]
     },
     "execution_count": 23,
     "metadata": {},
     "output_type": "execute_result"
    }
   ],
   "source": [
    "from xgboost import XGBRegressor\n",
    "\n",
    "xgboost_reg = Pipeline(\n",
    "    steps=[\n",
    "        (\"preprocessor\", preprocessor), \n",
    "        (\"regression\", XGBRegressor(n_estimators=500, max_depth=3, reg_lambda=50)),\n",
    "    ]\n",
    ")\n",
    "xgboost_reg.fit(X_train, y_train)\n",
    "\n",
    "xgboost_reg.score(X_train, y_train), r2_adj(xgboost_reg, X_train, y_train), xgboost_reg.score(X_test, y_test), r2_adj(xgboost_reg, X_test, y_test)"
   ]
  },
  {
   "cell_type": "code",
   "execution_count": 24,
   "id": "abf1fdd0-98bb-4aed-8b95-83bc0e4db52a",
   "metadata": {
    "tags": []
   },
   "outputs": [
    {
     "name": "stdout",
     "output_type": "stream",
     "text": [
      "0.987395658249111 0.9870739697125455 0.9145755123705782 0.9076492025627872\n"
     ]
    }
   ],
   "source": [
    "###### from xgboost import XGBRegressor\n",
    "\n",
    "xgboost_reg = Pipeline(\n",
    "    steps=[\n",
    "        (\"preprocessor\", preprocessor), \n",
    "        (\"regression\", XGBRegressor(n_estimators=500, max_depth=3, reg_lambda=50)),\n",
    "    ]\n",
    ")\n",
    "xgboost_reg.fit(X_train, y_train)\n",
    "\n",
    "print(xgboost_reg.score(X_train, y_train), r2_adj(xgboost_reg, X_train, y_train), xgboost_reg.score(X_test, y_test), r2_adj(xgboost_reg, X_test, y_test))"
   ]
  },
  {
   "cell_type": "code",
   "execution_count": 25,
   "id": "67220066-6d09-46ef-8d87-4acea33ad0a4",
   "metadata": {
    "tags": []
   },
   "outputs": [
    {
     "data": {
      "text/html": [
       "<div>\n",
       "<style scoped>\n",
       "    .dataframe tbody tr th:only-of-type {\n",
       "        vertical-align: middle;\n",
       "    }\n",
       "\n",
       "    .dataframe tbody tr th {\n",
       "        vertical-align: top;\n",
       "    }\n",
       "\n",
       "    .dataframe thead th {\n",
       "        text-align: right;\n",
       "    }\n",
       "</style>\n",
       "<table border=\"1\" class=\"dataframe\">\n",
       "  <thead>\n",
       "    <tr style=\"text-align: right;\">\n",
       "      <th></th>\n",
       "      <th>y</th>\n",
       "      <th>y_pred</th>\n",
       "      <th>diff</th>\n",
       "      <th>rel_error</th>\n",
       "      <th>abs_rel_error</th>\n",
       "    </tr>\n",
       "  </thead>\n",
       "  <tbody>\n",
       "    <tr>\n",
       "      <th>2234</th>\n",
       "      <td>40000000.0</td>\n",
       "      <td>3.995588e+07</td>\n",
       "      <td>-4.412000e+04</td>\n",
       "      <td>-0.110300</td>\n",
       "      <td>0.110300</td>\n",
       "    </tr>\n",
       "    <tr>\n",
       "      <th>2080</th>\n",
       "      <td>16000000.0</td>\n",
       "      <td>1.596207e+07</td>\n",
       "      <td>-3.793100e+04</td>\n",
       "      <td>-0.237069</td>\n",
       "      <td>0.237069</td>\n",
       "    </tr>\n",
       "    <tr>\n",
       "      <th>389</th>\n",
       "      <td>18000000.0</td>\n",
       "      <td>1.794222e+07</td>\n",
       "      <td>-5.777800e+04</td>\n",
       "      <td>-0.320989</td>\n",
       "      <td>0.320989</td>\n",
       "    </tr>\n",
       "    <tr>\n",
       "      <th>2510</th>\n",
       "      <td>12000000.0</td>\n",
       "      <td>1.195572e+07</td>\n",
       "      <td>-4.427900e+04</td>\n",
       "      <td>-0.368992</td>\n",
       "      <td>0.368992</td>\n",
       "    </tr>\n",
       "    <tr>\n",
       "      <th>108</th>\n",
       "      <td>12000000.0</td>\n",
       "      <td>1.195326e+07</td>\n",
       "      <td>-4.674100e+04</td>\n",
       "      <td>-0.389508</td>\n",
       "      <td>0.389508</td>\n",
       "    </tr>\n",
       "    <tr>\n",
       "      <th>...</th>\n",
       "      <td>...</td>\n",
       "      <td>...</td>\n",
       "      <td>...</td>\n",
       "      <td>...</td>\n",
       "      <td>...</td>\n",
       "    </tr>\n",
       "    <tr>\n",
       "      <th>2815</th>\n",
       "      <td>400000.0</td>\n",
       "      <td>9.534909e+05</td>\n",
       "      <td>5.534909e+05</td>\n",
       "      <td>138.372734</td>\n",
       "      <td>138.372734</td>\n",
       "    </tr>\n",
       "    <tr>\n",
       "      <th>2314</th>\n",
       "      <td>12000000.0</td>\n",
       "      <td>2.927793e+07</td>\n",
       "      <td>1.727793e+07</td>\n",
       "      <td>143.982783</td>\n",
       "      <td>143.982783</td>\n",
       "    </tr>\n",
       "    <tr>\n",
       "      <th>1259</th>\n",
       "      <td>2500000.0</td>\n",
       "      <td>6.505032e+06</td>\n",
       "      <td>4.005031e+06</td>\n",
       "      <td>160.201260</td>\n",
       "      <td>160.201260</td>\n",
       "    </tr>\n",
       "    <tr>\n",
       "      <th>1258</th>\n",
       "      <td>2500000.0</td>\n",
       "      <td>6.505032e+06</td>\n",
       "      <td>4.005031e+06</td>\n",
       "      <td>160.201260</td>\n",
       "      <td>160.201260</td>\n",
       "    </tr>\n",
       "    <tr>\n",
       "      <th>2551</th>\n",
       "      <td>1000000.0</td>\n",
       "      <td>2.817370e+06</td>\n",
       "      <td>1.817371e+06</td>\n",
       "      <td>181.737050</td>\n",
       "      <td>181.737050</td>\n",
       "    </tr>\n",
       "  </tbody>\n",
       "</table>\n",
       "<p>441 rows × 5 columns</p>\n",
       "</div>"
      ],
      "text/plain": [
       "               y        y_pred          diff   rel_error  abs_rel_error\n",
       "2234  40000000.0  3.995588e+07 -4.412000e+04   -0.110300       0.110300\n",
       "2080  16000000.0  1.596207e+07 -3.793100e+04   -0.237069       0.237069\n",
       "389   18000000.0  1.794222e+07 -5.777800e+04   -0.320989       0.320989\n",
       "2510  12000000.0  1.195572e+07 -4.427900e+04   -0.368992       0.368992\n",
       "108   12000000.0  1.195326e+07 -4.674100e+04   -0.389508       0.389508\n",
       "...          ...           ...           ...         ...            ...\n",
       "2815    400000.0  9.534909e+05  5.534909e+05  138.372734     138.372734\n",
       "2314  12000000.0  2.927793e+07  1.727793e+07  143.982783     143.982783\n",
       "1259   2500000.0  6.505032e+06  4.005031e+06  160.201260     160.201260\n",
       "1258   2500000.0  6.505032e+06  4.005031e+06  160.201260     160.201260\n",
       "2551   1000000.0  2.817370e+06  1.817371e+06  181.737050     181.737050\n",
       "\n",
       "[441 rows x 5 columns]"
      ]
     },
     "execution_count": 25,
     "metadata": {},
     "output_type": "execute_result"
    }
   ],
   "source": [
    "reg_results = pd.DataFrame({\n",
    "    \"y\": np.exp(y_test),\n",
    "    \"y_pred\": np.exp(xgboost_reg.predict(X_test))\n",
    "    # \"y_pred\": np.exp(regression.predict(X_test))\n",
    "    # \"y\": y_test,\n",
    "    # \"y_pred\": xgboost_reg.predict(X_test)\n",
    "})\n",
    "reg_results[\"diff\"] = reg_results[\"y_pred\"] - reg_results[\"y\"]\n",
    "reg_results[\"rel_error\"] = reg_results[\"diff\"] / reg_results[\"y\"] * 100\n",
    "reg_results[\"abs_rel_error\"] = np.abs(reg_results[\"rel_error\"])\n",
    "reg_results = reg_results.sort_values(\"abs_rel_error\")\n",
    "reg_results"
   ]
  },
  {
   "cell_type": "code",
   "execution_count": 26,
   "id": "c5bf8f3f-2873-4e4c-a787-9e973c253c11",
   "metadata": {
    "tags": []
   },
   "outputs": [
    {
     "data": {
      "image/png": "[encoded data removed]",
      "text/plain": [
       "<Figure size 640x480 with 1 Axes>"
      ]
     },
     "metadata": {},
     "output_type": "display_data"
    }
   ],
   "source": [
    "plt.plot(\n",
    "    reg_results[\"abs_rel_error\"].rank() / len(reg_results[\"abs_rel_error\"]) * 100,\n",
    "    reg_results[\"abs_rel_error\"].cumsum() / reg_results[\"abs_rel_error\"].rank()\n",
    ")\n",
    "plt.xticks(np.linspace(0, 1, 11)*100)\n",
    "plt.xlabel(f\"% of players (attackers with at least {appearances} appearance(s))\")\n",
    "plt.ylabel(\"Error [%]\")\n",
    "plt.grid()\n",
    "plt.show()"
   ]
  },
  {
   "cell_type": "code",
   "execution_count": 27,
   "id": "57e603a4-4a6a-4258-8a8e-14e329d1a378",
   "metadata": {
    "tags": []
   },
   "outputs": [
    {
     "data": {
      "text/plain": [
       "2234      0.0\n",
       "2080      0.0\n",
       "389       0.0\n",
       "2510      0.0\n",
       "108       0.0\n",
       "        ...  \n",
       "2815    138.0\n",
       "2314    143.0\n",
       "1259    160.0\n",
       "1258    160.0\n",
       "2551    181.0\n",
       "Name: abs_rel_error, Length: 441, dtype: float64"
      ]
     },
     "execution_count": 27,
     "metadata": {},
     "output_type": "execute_result"
    }
   ],
   "source": [
    "np.floor(reg_results[\"abs_rel_error\"])"
   ]
  },
  {
   "cell_type": "code",
   "execution_count": 28,
   "id": "d10f4545-3c7a-4c13-9703-6234493ac313",
   "metadata": {
    "tags": []
   },
   "outputs": [],
   "source": [
    "_x, _y = np.unique(np.floor(reg_results[\"abs_rel_error\"]), return_counts=True)"
   ]
  },
  {
   "cell_type": "code",
   "execution_count": 29,
   "id": "876063b4-75a3-41c3-be69-380673dd2da2",
   "metadata": {
    "tags": []
   },
   "outputs": [
    {
     "data": {
      "image/png": "[encoded data removed]",
      "text/plain": [
       "<Figure size 640x480 with 1 Axes>"
      ]
     },
     "metadata": {},
     "output_type": "display_data"
    }
   ],
   "source": [
    "plt.plot(\n",
    "    _x,\n",
    "    _y.cumsum() / len(reg_results) * 100\n",
    ")\n",
    "plt.grid()\n",
    "plt.xlabel(\"Error [%]\")\n",
    "plt.ylabel(f\"% of players\")\n",
    "plt.title(f\"Attackers with at least {appearances} appearance(s)\")\n",
    "plt.yticks(np.arange(0, 101, 10))\n",
    "plt.xticks(np.arange(0, 201, 20))\n",
    "plt.show()\n"
   ]
  },
  {
   "cell_type": "code",
   "execution_count": 30,
   "id": "1741d3a2-9954-413d-8518-d28fd1e60b64",
   "metadata": {
    "tags": []
   },
   "outputs": [
    {
     "data": {
      "image/png": "[encoded data removed]",
      "text/plain": [
       "<Figure size 640x480 with 1 Axes>"
      ]
     },
     "metadata": {},
     "output_type": "display_data"
    }
   ],
   "source": [
    "_ = plt.hist(reg_results[\"abs_rel_error\"], bins=list(np.linspace(0, 101, 100)))"
   ]
  },
  {
   "cell_type": "code",
   "execution_count": 31,
   "id": "ead96424-1e64-413a-8f21-c51c9b7c110f",
   "metadata": {
    "tags": []
   },
   "outputs": [],
   "source": [
    "# pd.merge(X_test.join(reg_results), X_train[[\"player_id_api\", \"age\", \"market_value\", \"season\"]], on=\"player_id_api\")"
   ]
  },
  {
   "cell_type": "code",
   "execution_count": 32,
   "id": "0731f15a-7d22-4daf-abb0-50b4d7934c34",
   "metadata": {
    "tags": []
   },
   "outputs": [],
   "source": [
    "# _ = plt.hist(reg_results[\"abs_rel_error\"], bins=100)"
   ]
  },
  {
   "cell_type": "code",
   "execution_count": 33,
   "id": "ea5f74de-f9dc-4090-b083-4b9fdc5b87f7",
   "metadata": {
    "tags": []
   },
   "outputs": [
    {
     "data": {
      "text/plain": [
       "(27.48573983206832, 20.88705600000012)"
      ]
     },
     "execution_count": 33,
     "metadata": {},
     "output_type": "execute_result"
    }
   ],
   "source": [
    "np.mean(reg_results[\"abs_rel_error\"]), np.median(reg_results[\"abs_rel_error\"])"
   ]
  },
  {
   "cell_type": "code",
   "execution_count": 34,
   "id": "82c010a7-637b-47c9-9648-1585fd81d230",
   "metadata": {
    "tags": []
   },
   "outputs": [
    {
     "data": {
      "image/png": "[encoded data removed]",
      "text/plain": [
       "<Figure size 640x480 with 1 Axes>"
      ]
     },
     "metadata": {},
     "output_type": "display_data"
    }
   ],
   "source": [
    "plt.scatter(y_train, regression.predict(X_train))\n",
    "plt.scatter(y_train, random_regression.predict(X_train))\n",
    "plt.scatter(y_train, xgboost_reg.predict(X_train))\n",
    "# plt.scatter(y_train, mlp_reg.predict(X_train))\n",
    "plt.axline((0, 0), (1, 1), c=\"k\")\n",
    "plt.xlim(np.floor(y_train.min())-0.1, np.ceil(y_train.max())+0.1)\n",
    "plt.ylim(np.floor(y_train.min())-0.1, np.ceil(y_train.max())+0.1)\n",
    "plt.xlabel(\"Observed\")\n",
    "plt.ylabel(\"Predicted\")\n",
    "_ = plt.show()"
   ]
  },
  {
   "cell_type": "code",
   "execution_count": 35,
   "id": "0f3045ed-0bd2-4bdb-865e-471207b70191",
   "metadata": {
    "tags": []
   },
   "outputs": [
    {
     "data": {
      "image/png": "[encoded data removed]",
      "text/plain": [
       "<Figure size 640x480 with 1 Axes>"
      ]
     },
     "metadata": {},
     "output_type": "display_data"
    }
   ],
   "source": [
    "plt.scatter(y_test, regression.predict(X_test))\n",
    "plt.scatter(y_test, random_regression.predict(X_test))\n",
    "plt.scatter(y_test, xgboost_reg.predict(X_test))\n",
    "plt.axline((0, 0), (1, 1), c=\"k\")\n",
    "plt.xlim(np.floor(y_test.min())-0.1, np.ceil(y_test.max())+0.1)\n",
    "plt.ylim(np.floor(y_test.min())-0.1, np.ceil(y_test.max())+0.1)\n",
    "plt.xlabel(\"Observed\")\n",
    "plt.ylabel(\"Predicted\")\n",
    "_ = plt.show()"
   ]
  },
  {
   "cell_type": "markdown",
   "id": "c31e52c9-113c-4ec9-9a38-54a6089a7509",
   "metadata": {},
   "source": [
    "## Features importance"
   ]
  },
  {
   "cell_type": "code",
   "execution_count": null,
   "id": "e7ca1ddd-b98f-4f22-aebb-db66047c5074",
   "metadata": {
    "tags": []
   },
   "outputs": [],
   "source": [
    "result = permutation_importance(\n",
    "    xgboost_reg, X_test, y_test, n_repeats=10, random_state=42, n_jobs=2\n",
    ")\n",
    "\n",
    "forest_importances = pd.Series(result.importances_mean, index=X_test.columns)\n",
    "\n",
    "fig, ax = plt.subplots()\n",
    "forest_importances.plot.bar(yerr=result.importances_std, ax=ax)\n",
    "ax.set_title(\"Feature importances using permutation on full model\")\n",
    "ax.set_ylabel(\"Mean accuracy decrease\")\n",
    "fig.tight_layout()\n",
    "plt.show()"
   ]
  },
  {
   "cell_type": "markdown",
   "id": "c010811b-1e24-416e-9363-dfd95d2bb239",
   "metadata": {},
   "source": [
    "# Predict change in market value between seasons"
   ]
  },
  {
   "cell_type": "code",
   "execution_count": null,
   "id": "48d85bc4-aea4-4320-b5bd-3bd102b8f5e9",
   "metadata": {
    "tags": []
   },
   "outputs": [],
   "source": [
    "before_after_seasons = pd.merge(\n",
    "    players_selected_vars, \n",
    "    players_selected_vars, \n",
    "    on=\"player_id_api\", \n",
    "    suffixes=[\"_before\", \"_after\"]\n",
    ").query(\"season_after - season_before == 1\")"
   ]
  },
  {
   "cell_type": "code",
   "execution_count": null,
   "id": "83ba9590-cbc1-495b-bc77-7dfbfa72ed6c",
   "metadata": {
    "tags": []
   },
   "outputs": [],
   "source": [
    "numeric_features_ba = [\n",
    "    f\"{c}_{suffix}\" for c in [\n",
    "        \"age\",\n",
    "        \"matches_played\",\n",
    "        \"matches_started\",\n",
    "        \"90s_played\",\n",
    "        # \"goals_against\",\n",
    "        # \"own_goals_against\",\n",
    "        # \"shots_on_target_against\",\n",
    "        # \"saves\",\n",
    "        # \"save%\",\n",
    "        # \"saves_inside_box\",\n",
    "        # \"penalty_kicks_saves\",\n",
    "        \"accurate_crosses.total\",\n",
    "        \"big_chances_created.total\",\n",
    "        \"big_chances_missed.total\",\n",
    "        \"blocked_shots.total\",\n",
    "        \"dribbled_past.total\",\n",
    "        \"goals.goals\",\n",
    "        \"offsides.total\",\n",
    "        \"shots_off_target.total\",\n",
    "        \"through_balls.total\",\n",
    "        \"total_crosses.total\",\n",
    "        \"shots.total\",\n",
    "        \"shots.on\",\n",
    "        \"goals.total_y\",\n",
    "        \"goals.assists\",\n",
    "        \"passes.key\",\n",
    "        \"dribbles.attempts\",\n",
    "        \"dribbles.success\",\n",
    "        \"dribbles.past\",\n",
    "    ]\n",
    "    for suffix in [\"before\",\"after\"]\n",
    "]\n",
    "numeric_transformer_ba = Pipeline(\n",
    "    steps=[\n",
    "        (\"imputer\", SimpleImputer(strategy=\"median\")),\n",
    "        (\"scaler\", StandardScaler())\n",
    "    ]\n",
    ")\n",
    "\n",
    "categorical_features_ba = [\n",
    "    f\"{c}_{suffix}\" for c in [\n",
    "        \"nationality\",\n",
    "        \"league\",\n",
    "        \"team\",\n",
    "        \"tier\",\n",
    "    ]\n",
    "    for suffix in [\"before\",\"after\"]\n",
    "]\n",
    "categorical_transformer_ba = Pipeline(\n",
    "    steps=[\n",
    "        (\"encoder\", OneHotEncoder(handle_unknown=\"ignore\"))\n",
    "    ]\n",
    ")\n",
    "\n",
    "preprocessor_ba = ColumnTransformer(\n",
    "    transformers=[\n",
    "        (\"num\", numeric_transformer_ba, numeric_features_ba),\n",
    "        (\"cat\", categorical_transformer_ba, categorical_features_ba),\n",
    "    ]\n",
    ")"
   ]
  },
  {
   "cell_type": "code",
   "execution_count": null,
   "id": "064d9525-b67d-4916-aac1-5f7ccd3e0ab2",
   "metadata": {
    "tags": []
   },
   "outputs": [],
   "source": [
    "X = before_after_seasons\n",
    "y_before = np.digitize(before_after_seasons[\"normalised_market_value_before\"], bins)\n",
    "y_after = np.digitize(before_after_seasons[\"normalised_market_value_after\"], bins)\n",
    "y = np.minimum(np.maximum(y_after - y_before, -1), 1)"
   ]
  },
  {
   "cell_type": "code",
   "execution_count": null,
   "id": "62f92fbd-d782-4ee6-bae7-45847de4d54a",
   "metadata": {
    "tags": []
   },
   "outputs": [],
   "source": [
    "X_train, X_test, y_train, y_test = train_test_split(X, y, test_size=0.2, random_state=42)"
   ]
  },
  {
   "cell_type": "code",
   "execution_count": null,
   "id": "b02bbc21-bcde-4b0b-ab8d-a6be6d60abe0",
   "metadata": {
    "tags": []
   },
   "outputs": [],
   "source": [
    "random = Pipeline(\n",
    "    steps=[\n",
    "        (\"preprocessor\", preprocessor_ba),\n",
    "        (\"classifier\", DummyClassifier(strategy=\"stratified\")),\n",
    "    ]\n",
    ")\n",
    "random.fit(X_train, y_train)\n",
    "\n",
    "balanced_accuracy_score(y_test, random.predict(X_test))"
   ]
  },
  {
   "cell_type": "code",
   "execution_count": null,
   "id": "449a06aa-5194-460e-8383-4059bb116a51",
   "metadata": {
    "tags": []
   },
   "outputs": [],
   "source": [
    "clf = Pipeline(\n",
    "    steps=[\n",
    "        (\"preprocessor\", preprocessor_ba), \n",
    "        (\"classifier\", LogisticRegression()),\n",
    "    ]\n",
    ")\n",
    "clf.fit(X_train, y_train)\n",
    "\n",
    "print(confusion_matrix(y_test, clf.predict(X_test), labels=[1, 0, -1]))\n",
    "\n",
    "balanced_accuracy_score(y_test, clf.predict(X_test))"
   ]
  },
  {
   "cell_type": "code",
   "execution_count": null,
   "id": "1ad37f82-99a4-44d0-b2fc-68d0f4f4c7b3",
   "metadata": {
    "tags": []
   },
   "outputs": [],
   "source": [
    "from sklearn.neural_network import MLPClassifier\n",
    "\n",
    "mlp = Pipeline(\n",
    "    steps=[\n",
    "        (\"preprocessor\", preprocessor_ba), \n",
    "        (\"classifier\", MLPClassifier(solver='lbfgs', alpha=1e-5, hidden_layer_sizes=(32, 16))),\n",
    "    ]\n",
    ")\n",
    "mlp.fit(X_train, y_train)\n",
    "\n",
    "print(confusion_matrix(y_test, mlp.predict(X_test), labels=[1, 0, -1]))\n",
    "\n",
    "balanced_accuracy_score(y_test, mlp.predict(X_test))"
   ]
  },
  {
   "cell_type": "code",
   "execution_count": null,
   "id": "af05bb27-2b65-4495-b41a-a94c41cd9626",
   "metadata": {
    "tags": []
   },
   "outputs": [],
   "source": [
    "from xgboost import XGBClassifier\n",
    "\n",
    "xgboost = Pipeline(\n",
    "    steps=[\n",
    "        (\"preprocessor\", preprocessor_ba), \n",
    "        (\"classifier\", XGBClassifier()),\n",
    "    ]\n",
    ")\n",
    "xgboost.fit(X_train, y_train+1)\n",
    "\n",
    "y_xgboost = xgboost.predict(X_test)\n",
    "\n",
    "balanced_accuracy_score(y_test+1, y_xgboost)"
   ]
  },
  {
   "cell_type": "markdown",
   "id": "c5ddab1a-7727-44d7-9b8e-97faf2ab45f7",
   "metadata": {},
   "source": [
    "## Features importance"
   ]
  },
  {
   "cell_type": "code",
   "execution_count": null,
   "id": "aa948dde-45d3-4f9f-97c3-fb0ed9e876d7",
   "metadata": {
    "tags": []
   },
   "outputs": [],
   "source": [
    "result = permutation_importance(\n",
    "    clf, X_test, y_test, n_repeats=10, random_state=42, n_jobs=2\n",
    ")\n",
    "\n",
    "forest_importances = pd.Series(result.importances_mean, index=X_test.columns)\n",
    "\n",
    "fig, ax = plt.subplots()\n",
    "forest_importances.plot.bar(yerr=result.importances_std, ax=ax)\n",
    "ax.set_title(\"Feature importances using permutation on full model\")\n",
    "ax.set_ylabel(\"Mean accuracy decrease\")\n",
    "fig.tight_layout()\n",
    "plt.show()"
   ]
  }
 ],
 "metadata": {
  "kernelspec": {
   "display_name": "Python 3 (ipykernel)",
   "language": "python",
   "name": "python3"
  },
  "language_info": {
   "codemirror_mode": {
    "name": "ipython",
    "version": 3
   },
   "file_extension": ".py",
   "mimetype": "text/x-python",
   "name": "python",
   "nbconvert_exporter": "python",
   "pygments_lexer": "ipython3",
   "version": "3.10.10"
  }
 },
 "nbformat": 4,
 "nbformat_minor": 5
}
