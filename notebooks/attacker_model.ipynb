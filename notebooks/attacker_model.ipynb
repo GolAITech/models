{
 "cells": [
  {
   "cell_type": "code",
   "execution_count": null,
   "id": "88106cac-8a26-4fb2-9603-15f28888e993",
   "metadata": {
    "tags": []
   },
   "outputs": [],
   "source": [
    "from smart_open import open\n",
    "import pandas as pd\n",
    "import datetime\n",
    "import numpy as np\n",
    "import matplotlib.pyplot as plt\n",
    "from sklearn.preprocessing import normalize"
   ]
  },
  {
   "cell_type": "markdown",
   "id": "d59cb7dd-2dc9-42dd-af09-4acee22c298e",
   "metadata": {},
   "source": [
    "# Load data for attackers"
   ]
  },
  {
   "cell_type": "code",
   "execution_count": null,
   "id": "9484912f-03d1-42f4-9a07-6181b467f309",
   "metadata": {
    "tags": []
   },
   "outputs": [],
   "source": [
    "data = pd.read_csv(\"../data/training_pruned_file_20162021.csv\")"
   ]
  },
  {
   "cell_type": "code",
   "execution_count": null,
   "id": "fe414412-a833-4bf2-b90e-1f56ac6a423e",
   "metadata": {
    "tags": []
   },
   "outputs": [],
   "source": [
    "players = data.loc[lambda x: x[\"position\"] == \"Attack\"]"
   ]
  },
  {
   "cell_type": "code",
   "execution_count": null,
   "id": "73748650-3f64-4cb8-898d-f4cd70901fbb",
   "metadata": {
    "tags": []
   },
   "outputs": [],
   "source": [
    "sorted(players.columns.values)"
   ]
  },
  {
   "cell_type": "markdown",
   "id": "64d43734-36c6-4320-aaf8-b4f42520e966",
   "metadata": {},
   "source": [
    "## Select variables"
   ]
  },
  {
   "cell_type": "code",
   "execution_count": null,
   "id": "f3fa8469-053a-4151-be6e-91bfad7223f4",
   "metadata": {
    "tags": []
   },
   "outputs": [],
   "source": [
    "players_selected_vars = players[[\n",
    "    \"name\",\n",
    "    \"player_id_api\",\n",
    "    \"date_of_birth\",\n",
    "    \"nationality\",\n",
    "    \"team_name\",\n",
    "    'league_name',\n",
    "     'league.season',\n",
    "    # \"error_lead_to_goal.total\",\n",
    "    # \"saves_inside_box.total\",\n",
    "    \"games.appearences\",\n",
    "    \"games.lineups\",\n",
    "    \"games.minutes\",\n",
    "    # \"goals.conceded\",\n",
    "    # \"goals.saves\",\n",
    "    # \"penalty.saved\",\n",
    "    # \"highest_market_value_in_eur\",\n",
    "    \"market_value_in_eur_x\",\n",
    "    # \"own_goals.total\",\n",
    "    \"accurate_crosses.total\",\n",
    "    \"big_chances_created.total\",\n",
    "    \"big_chances_missed.total\",\n",
    "    \"blocked_shots.total\",\n",
    "    \"dribbled_past.total\",\n",
    "    \"goals.goals\",\n",
    "    \"offsides.total\",\n",
    "    \"shots_off_target.total\",\n",
    "    \"through_balls.total\",\n",
    "    \"total_crosses.total\",\n",
    "    \"shots.total\",\n",
    "    \"shots.on\",\n",
    "    \"goals.total_y\",\n",
    "    \"goals.assists\",\n",
    "    \"passes.key\",\n",
    "    \"dribbles.attempts\",\n",
    "    \"dribbles.success\",\n",
    "    \"dribbles.past\",\n",
    "]].copy().rename({\n",
    "    \"team_name\": \"team\",\n",
    "    \"league_name\": \"league\",\n",
    "    \"league.season\": \"season\",\n",
    "    \"games.appearences\": \"matches_played\",\n",
    "    \"games.lineups\": \"matches_started\",\n",
    "    \"games.minutes\": \"minutes\",\n",
    "    # \"goals.conceded\": \"goals_against\",\n",
    "    # \"goals.saves\": \"saves\",\n",
    "    # \"saves_inside_box.total\": \"saves_inside_box\",\n",
    "    # \"penalty.saved\": \"penalty_kicks_saves\",\n",
    "    # \"own_goals.total\": \"own_goals_against\",\n",
    "    # \"error_lead_to_goal.total\": \"errors_to_goal\",\n",
    "    \"market_value_in_eur_x\": \"market_value\",\n",
    "}, axis=1)\n",
    "players_selected_vars[\"90s_played\"] = players_selected_vars[\"minutes\"] / 90\n",
    "# players_selected_vars[\"goals_against_90s\"] = players_selected_vars[\"goals_against\"] / players_selected_vars[\"90s_played\"]\n",
    "# players_selected_vars[\"shots_on_target_against\"] = players_selected_vars[\"goals_against\"] + players_selected_vars[\"saves\"]\n",
    "# players_selected_vars[\"save%\"] = players_selected_vars[\"saves\"] / players_selected_vars[\"shots_on_target_against\"]\n",
    "# players_selected_vars[\"age\"] = pd.to_datetime(players_selected_vars[\"date_of_birth\"]).map(lambda x: int((pd.Timestamp.today() - x).days / 365))\n",
    "players_selected_vars[\"age\"] = (26 - (players[\"league.season\"] - players[\"date_of_birth\"].str.slice(0, 4).astype(int)))\n",
    "players_selected_vars[\"age2\"] = players_selected_vars[\"age\"] ** 2\n",
    "# players_selected_vars[\"own_goals_against\"] = players_selected_vars[\"own_goals_against\"].fillna(0)\n",
    "for per_90 in [\n",
    "    # \"shots_on_target_against\",\n",
    "    # \"saves_inside_box\",\n",
    "    # \"saves\",\n",
    "    # \"penalty_kicks_saves\",\n",
    "    # \"own_goals_against\",\n",
    "    # \"goals_against\",\n",
    "    # \"accurate_crosses.total\",\n",
    "    # \"big_chances_created.total\",\n",
    "    # \"big_chances_missed.total\",\n",
    "    # \"blocked_shots.total\",\n",
    "    # \"dribbled_past.total\",\n",
    "    # \"goals.goals\",\n",
    "    # \"offsides.total\",\n",
    "    # \"shots_off_target.total\",\n",
    "    # \"through_balls.total\",\n",
    "    # \"total_crosses.total\",\n",
    "    # \"shots.total\",\n",
    "    # \"shots.on\",\n",
    "    # \"goals.total_y\",\n",
    "    # \"goals.assists\",\n",
    "    # \"passes.key\",\n",
    "    # \"dribbles.attempts\",\n",
    "    # \"dribbles.success\",\n",
    "    # \"dribbles.past\",\n",
    "]:\n",
    "    players_selected_vars[per_90] = players_selected_vars[per_90] / players_selected_vars[\"90s_played\"]\n",
    "\n",
    "\n",
    "players_selected_vars.replace([np.inf, -np.inf], np.nan, inplace=True)\n",
    "    \n",
    "players_selected_vars = players_selected_vars.drop([\n",
    "    \"date_of_birth\",\n",
    "    \"minutes\",\n",
    "], axis=1)\n",
    "\n",
    "order = [\n",
    "    \"name\",\n",
    "    \"player_id_api\",\n",
    "    \"age\",\n",
    "    \"age2\",\n",
    "    \"nationality\",\n",
    "    \"league\",\n",
    "    \"team\",\n",
    "    \"season\",\n",
    "    \"matches_played\",\n",
    "    \"matches_started\",\n",
    "    # \"minutes\",\n",
    "    \"90s_played\",\n",
    "    # \"goals_against\",\n",
    "    # \"own_goals_against\",\n",
    "    # \"shots_on_target_against\",\n",
    "    # \"saves\",\n",
    "    # \"save%\",\n",
    "    # \"saves_inside_box\",\n",
    "    # \"penalty_kicks_saves\",\n",
    "    \"market_value\",\n",
    "    \"accurate_crosses.total\",\n",
    "    \"big_chances_created.total\",\n",
    "    \"big_chances_missed.total\",\n",
    "    \"blocked_shots.total\",\n",
    "    \"dribbled_past.total\",\n",
    "    \"goals.goals\",\n",
    "    \"offsides.total\",\n",
    "    \"shots_off_target.total\",\n",
    "    \"through_balls.total\",\n",
    "    \"total_crosses.total\",\n",
    "    \"shots.total\",\n",
    "    \"shots.on\",\n",
    "    \"goals.total_y\",\n",
    "    \"goals.assists\",\n",
    "    \"passes.key\",\n",
    "    \"dribbles.attempts\",\n",
    "    \"dribbles.success\",\n",
    "    \"dribbles.past\",\n",
    "]\n",
    "players_selected_vars = players_selected_vars[order + list(set(players_selected_vars.columns).difference(order))]\n",
    "players_selected_vars"
   ]
  },
  {
   "cell_type": "code",
   "execution_count": null,
   "id": "43aac39f-e0a2-4a18-818b-e5e5ce57abd1",
   "metadata": {},
   "outputs": [],
   "source": [
    "players_selected_vars.groupby(\"age\")[\"market_value\"].mean().plot()"
   ]
  },
  {
   "cell_type": "code",
   "execution_count": null,
   "id": "2456ce2e-3035-4f33-b706-b99133240e33",
   "metadata": {},
   "outputs": [],
   "source": [
    "from helpers import TEAM_TIERS"
   ]
  },
  {
   "cell_type": "code",
   "execution_count": null,
   "id": "bf21cef0-2d33-4b52-b842-59fa6d779095",
   "metadata": {
    "tags": []
   },
   "outputs": [],
   "source": [
    "players_selected_vars = pd.merge(players_selected_vars, TEAM_TIERS, left_on=\"team\", right_index=True)"
   ]
  },
  {
   "cell_type": "code",
   "execution_count": null,
   "id": "0a4bbdda-f5bd-4855-9624-5a2f6b624da7",
   "metadata": {
    "tags": []
   },
   "outputs": [],
   "source": [
    "mvs = players_selected_vars[\"market_value\"].values\n",
    "mvs = np.expand_dims(mvs, axis=1)\n",
    "mvs = normalize(mvs, norm=\"max\", axis=0)\n",
    "mvs = np.squeeze(mvs)\n",
    "players_selected_vars[\"normalised_market_value\"] = mvs"
   ]
  },
  {
   "cell_type": "code",
   "execution_count": null,
   "id": "ea44e269-5397-42ad-b423-5255f897530e",
   "metadata": {
    "tags": []
   },
   "outputs": [],
   "source": [
    "from sklearn.compose import ColumnTransformer\n",
    "from sklearn.dummy import DummyClassifier, DummyRegressor\n",
    "from sklearn.impute import SimpleImputer\n",
    "from sklearn.inspection import permutation_importance\n",
    "from sklearn.linear_model import LogisticRegression, LinearRegression\n",
    "from sklearn.metrics import confusion_matrix, accuracy_score, balanced_accuracy_score\n",
    "from sklearn.model_selection import train_test_split\n",
    "from sklearn.pipeline import Pipeline\n",
    "from sklearn.preprocessing import OneHotEncoder\n",
    "from sklearn.preprocessing import StandardScaler\n",
    "from sklearn.svm import SVC"
   ]
  },
  {
   "cell_type": "code",
   "execution_count": null,
   "id": "1efa692d-a0b7-44a3-8656-b8ebeb9131e5",
   "metadata": {
    "tags": []
   },
   "outputs": [],
   "source": [
    "market_values = players_selected_vars[[\"player_id_api\", \"season\", \"market_value\"]]\n",
    "market_values[\"season\"] = market_values[\"season\"] +1\n",
    "market_values"
   ]
  },
  {
   "cell_type": "code",
   "execution_count": null,
   "id": "4d19d708-905c-46c5-b9b7-78a7efbf7d08",
   "metadata": {
    "tags": []
   },
   "outputs": [],
   "source": [
    "players_selected_vars = pd.merge(players_selected_vars, market_values, on=[\"player_id_api\", \"season\"], suffixes = [\"\", \"_prev\"])"
   ]
  },
  {
   "cell_type": "markdown",
   "id": "71d6e5d8-d5ad-440e-8887-9ddb4410f2a6",
   "metadata": {},
   "source": [
    "## Transformation pipeline"
   ]
  },
  {
   "cell_type": "code",
   "execution_count": null,
   "id": "4e74aa3f-d75c-42a2-8e24-22e1222bd90f",
   "metadata": {
    "tags": []
   },
   "outputs": [],
   "source": [
    "numeric_features = [\n",
    "    \"market_value_prev\",\n",
    "    \"age\",\n",
    "    \"age2\",\n",
    "    \"matches_played\",\n",
    "    \"matches_started\",\n",
    "    \"90s_played\",\n",
    "    # \"goals_against\",\n",
    "    # \"own_goals_against\",\n",
    "    # \"shots_on_target_against\",\n",
    "    # \"saves\",\n",
    "    # \"save%\",\n",
    "    # \"saves_inside_box\",\n",
    "    # \"penalty_kicks_saves\",\n",
    "    \"accurate_crosses.total\",\n",
    "    \"big_chances_created.total\",\n",
    "    \"big_chances_missed.total\",\n",
    "    \"blocked_shots.total\",\n",
    "    \"dribbled_past.total\",\n",
    "    \"goals.goals\",\n",
    "    \"offsides.total\",\n",
    "    \"shots_off_target.total\",\n",
    "    \"through_balls.total\",\n",
    "    \"total_crosses.total\",\n",
    "    \"shots.total\",\n",
    "    \"shots.on\",\n",
    "    \"goals.total_y\",\n",
    "    \"goals.assists\",\n",
    "    \"passes.key\",\n",
    "    \"dribbles.attempts\",\n",
    "    \"dribbles.success\",\n",
    "    \"dribbles.past\",\n",
    "]\n",
    "numeric_transformer = Pipeline(\n",
    "    steps=[\n",
    "        (\"imputer\", SimpleImputer(strategy=\"median\")),\n",
    "        (\"scaler\", StandardScaler())\n",
    "    ]\n",
    ")\n",
    "\n",
    "categorical_features = [\n",
    "    \"nationality\",\n",
    "    \"league\",\n",
    "    \"team\",\n",
    "    \"tier\",\n",
    "]\n",
    "categorical_transformer = Pipeline(\n",
    "    steps=[\n",
    "        (\"encoder\", OneHotEncoder(handle_unknown=\"ignore\"))\n",
    "    ]\n",
    ")\n",
    "\n",
    "preprocessor = ColumnTransformer(\n",
    "    transformers=[\n",
    "        (\"num\", numeric_transformer, numeric_features),\n",
    "        (\"cat\", categorical_transformer, categorical_features),\n",
    "    ]\n",
    ")"
   ]
  },
  {
   "cell_type": "markdown",
   "id": "5c83d92f-900c-41be-8acc-8ce0b74e25ac",
   "metadata": {},
   "source": [
    "# Predict price bucket"
   ]
  },
  {
   "cell_type": "code",
   "execution_count": null,
   "id": "cc8455cf-8bd7-4f18-a6e2-9da2c4199266",
   "metadata": {
    "tags": []
   },
   "outputs": [],
   "source": [
    "bins = [\n",
    "    0.0025,\n",
    "    0.005,\n",
    "    0.01,\n",
    "    0.025,\n",
    "    0.05,\n",
    "    0.1,\n",
    "    0.25,\n",
    "    0.5,\n",
    "    1.0\n",
    "]\n",
    "y = np.digitize(players_selected_vars[\"normalised_market_value\"], bins)\n",
    "X = players_selected_vars"
   ]
  },
  {
   "cell_type": "code",
   "execution_count": null,
   "id": "8e682d79-3ea7-435b-8dd7-e2ede86c69dc",
   "metadata": {
    "tags": []
   },
   "outputs": [],
   "source": [
    "X_train, X_test, y_train, y_test = train_test_split(X, y, test_size=0.2, random_state=42)"
   ]
  },
  {
   "cell_type": "code",
   "execution_count": null,
   "id": "5bceedc6-c832-4fe3-b2c8-678f950328dd",
   "metadata": {
    "tags": []
   },
   "outputs": [],
   "source": [
    "np.unique(y_train, return_counts=True)"
   ]
  },
  {
   "cell_type": "code",
   "execution_count": null,
   "id": "3aa3576c-ef06-4355-a787-79947a16d658",
   "metadata": {
    "tags": []
   },
   "outputs": [],
   "source": [
    "random = Pipeline(\n",
    "    steps=[\n",
    "        (\"preprocessor\", preprocessor),\n",
    "        (\"classifier\", DummyClassifier(strategy=\"stratified\")),\n",
    "    ]\n",
    ")\n",
    "random.fit(X_train, y_train)\n",
    "\n",
    "y_random = random.predict(X_test)\n",
    "\n",
    "balanced_accuracy_score(y_test, y_random)"
   ]
  },
  {
   "cell_type": "code",
   "execution_count": null,
   "id": "a308de9e-77b6-41b7-a9d6-f7e373b631c9",
   "metadata": {
    "tags": []
   },
   "outputs": [],
   "source": [
    "np.unique(y_random, return_counts=True)"
   ]
  },
  {
   "cell_type": "code",
   "execution_count": null,
   "id": "d439a90b-f316-49cc-9fde-d524fc5e5f67",
   "metadata": {
    "tags": []
   },
   "outputs": [],
   "source": [
    "clf = Pipeline(\n",
    "    steps=[\n",
    "        (\"preprocessor\", preprocessor), \n",
    "        (\"classifier\", LogisticRegression()),\n",
    "    ]\n",
    ")\n",
    "clf.fit(X_train, y_train)\n",
    "\n",
    "y_lr = clf.predict(X_test)\n",
    "\n",
    "balanced_accuracy_score(y_test, y_lr)"
   ]
  },
  {
   "cell_type": "code",
   "execution_count": null,
   "id": "c564ade8-f5c3-4518-a027-a45b6798fb26",
   "metadata": {
    "tags": []
   },
   "outputs": [],
   "source": [
    "np.unique(y_test - y_lr, return_counts=True)"
   ]
  },
  {
   "cell_type": "code",
   "execution_count": null,
   "id": "10f0b699-4dec-44ee-a020-52ec99a35d77",
   "metadata": {
    "tags": []
   },
   "outputs": [],
   "source": [
    "np.unique(y_lr, return_counts=True)"
   ]
  },
  {
   "cell_type": "code",
   "execution_count": null,
   "id": "54162e03-b50b-4a1f-8abd-10b70b38ffb1",
   "metadata": {
    "tags": []
   },
   "outputs": [],
   "source": [
    "from sklearn.neural_network import MLPClassifier\n",
    "\n",
    "mlp = Pipeline(\n",
    "    steps=[\n",
    "        (\"preprocessor\", preprocessor), \n",
    "        (\"classifier\", MLPClassifier(solver='lbfgs', alpha=1e-5, hidden_layer_sizes=(16, 8, 4))),\n",
    "    ]\n",
    ")\n",
    "mlp.fit(X_train, y_train)\n",
    "\n",
    "y_mlp = mlp.predict(X_test)\n",
    "\n",
    "balanced_accuracy_score(y_test, y_mlp)"
   ]
  },
  {
   "cell_type": "markdown",
   "id": "4bc00fc7-4c50-4c9f-920e-f1b4f0918b6d",
   "metadata": {},
   "source": [
    "## Features importance"
   ]
  },
  {
   "cell_type": "code",
   "execution_count": null,
   "id": "bbdaddf4-ba58-4ae1-80ab-9d7d3690f291",
   "metadata": {
    "tags": []
   },
   "outputs": [],
   "source": [
    "result = permutation_importance(\n",
    "    clf, X_test, y_test, n_repeats=10, random_state=42, n_jobs=2\n",
    ")\n",
    "\n",
    "forest_importances = pd.Series(result.importances_mean, index=X_test.columns)\n",
    "\n",
    "fig, ax = plt.subplots()\n",
    "forest_importances.plot.bar(yerr=result.importances_std, ax=ax)\n",
    "ax.set_title(\"Feature importances using permutation on full model\")\n",
    "ax.set_ylabel(\"Mean accuracy decrease\")\n",
    "fig.tight_layout()\n",
    "plt.show()"
   ]
  },
  {
   "cell_type": "markdown",
   "id": "f53f18bd-de12-4d28-aef7-d8b4393eb939",
   "metadata": {},
   "source": [
    "# Predict market value"
   ]
  },
  {
   "cell_type": "code",
   "execution_count": null,
   "id": "c63681f9-8670-4afe-9c16-da1f790de1ae",
   "metadata": {
    "tags": []
   },
   "outputs": [],
   "source": [
    "def r2_adj(model, x,y):\n",
    "    r2 = model.score(x,y)\n",
    "    n = x.shape[0]\n",
    "    p = x.shape[1]\n",
    "    return 1-(1-r2)*(n-1)/(n-p-1)"
   ]
  },
  {
   "cell_type": "code",
   "execution_count": null,
   "id": "6b439dce-ae4f-4cd7-b873-9dbb76cac41a",
   "metadata": {
    "tags": []
   },
   "outputs": [],
   "source": [
    "players_selected_vars.query(\"player_id_api == 18788\")"
   ]
  },
  {
   "cell_type": "code",
   "execution_count": null,
   "id": "fde5a414-7c36-4b1c-bae9-ddbcbe9cd7c9",
   "metadata": {
    "tags": []
   },
   "outputs": [],
   "source": [
    "appearances = 15\n",
    "X = players_selected_vars.loc[lambda x: np.logical_and(x[\"matches_played\"] >= appearances, x[\"market_value\"] != x[\"market_value_prev\"])]\n",
    "# y = players_selected_vars[\"normalised_market_value\"]\n",
    "y = np.log(players_selected_vars.loc[lambda x: np.logical_and(x[\"matches_played\"] >= appearances, x[\"market_value\"] != x[\"market_value_prev\"])][\"market_value\"])\n",
    "# y = players_selected_vars[\"market_value\"]"
   ]
  },
  {
   "cell_type": "code",
   "execution_count": null,
   "id": "c569b62a-8c10-45d6-a7b8-f1b47d8d2ce0",
   "metadata": {
    "tags": []
   },
   "outputs": [],
   "source": [
    "X_train = X.loc[X[\"season\"] <= 2020]\n",
    "X_test = X.loc[X[\"season\"] == 2021]\n",
    "y_train = y.loc[X[\"season\"] <= 2020]\n",
    "y_test = y.loc[X[\"season\"] == 2021]\n",
    "X_train.shape, X_test.shape, y_train.shape, y_test.shape"
   ]
  },
  {
   "cell_type": "code",
   "execution_count": null,
   "id": "3577f9d7-00ae-4ef7-8b4a-06d1cc164391",
   "metadata": {
    "tags": []
   },
   "outputs": [],
   "source": [
    "# X_train, X_test, y_train, y_test = train_test_split(X, y, test_size=0.2, random_state=42)"
   ]
  },
  {
   "cell_type": "code",
   "execution_count": null,
   "id": "00e5be29-bc8a-4e1f-9bfd-30a091e17aeb",
   "metadata": {
    "tags": []
   },
   "outputs": [],
   "source": [
    "random_regression = Pipeline(\n",
    "    steps=[\n",
    "        (\"preprocessor\", preprocessor),\n",
    "        (\"regression\", DummyRegressor()),\n",
    "    ]\n",
    ")\n",
    "random_regression.fit(X_train, y_train)\n",
    "\n",
    "random_regression.score(X_test, y_test), r2_adj(random_regression, X_test, y_test)"
   ]
  },
  {
   "cell_type": "code",
   "execution_count": null,
   "id": "6c6ac1d0-ccb6-4448-bb08-99cd8c33e434",
   "metadata": {
    "tags": []
   },
   "outputs": [],
   "source": [
    "regression = Pipeline(\n",
    "    steps=[\n",
    "        (\"preprocessor\", preprocessor),\n",
    "        (\"regression\", LinearRegression()),\n",
    "    ]\n",
    ")\n",
    "regression.fit(X_train, y_train)\n",
    "\n",
    "regression.score(X_train, y_train), r2_adj(regression, X_train, y_train), regression.score(X_test, y_test), r2_adj(regression, X_test, y_test)"
   ]
  },
  {
   "cell_type": "code",
   "execution_count": null,
   "id": "2067900c-5972-4714-954d-b279270b91ae",
   "metadata": {
    "tags": []
   },
   "outputs": [],
   "source": [
    "from sklearn.neural_network import MLPRegressor\n",
    "\n",
    "mlp_reg = Pipeline(\n",
    "    steps=[\n",
    "        (\"preprocessor\", preprocessor), \n",
    "        (\"regression\", MLPRegressor(solver='lbfgs', alpha=1e-5, hidden_layer_sizes=(8, 2))),\n",
    "    ]\n",
    ")\n",
    "mlp_reg.fit(X_train, y_train)\n",
    "\n",
    "mlp_reg.score(X_train, y_train), r2_adj(mlp_reg, X_train, y_train), mlp_reg.score(X_test, y_test), r2_adj(mlp_reg, X_test, y_test)"
   ]
  },
  {
   "cell_type": "code",
   "execution_count": null,
   "id": "8cc82e48-145b-4dfe-8b46-be622c43f5bb",
   "metadata": {
    "tags": []
   },
   "outputs": [],
   "source": [
    "from xgboost import XGBRegressor\n",
    "\n",
    "xgboost_reg = Pipeline(\n",
    "    steps=[\n",
    "        (\"preprocessor\", preprocessor), \n",
    "        (\"regression\", XGBRegressor(n_estimators=500, max_depth=3, reg_lambda=50)),\n",
    "    ]\n",
    ")\n",
    "xgboost_reg.fit(X_train, y_train)\n",
    "\n",
    "xgboost_reg.score(X_train, y_train), r2_adj(xgboost_reg, X_train, y_train), xgboost_reg.score(X_test, y_test), r2_adj(xgboost_reg, X_test, y_test)"
   ]
  },
  {
   "cell_type": "code",
   "execution_count": null,
   "id": "abf1fdd0-98bb-4aed-8b95-83bc0e4db52a",
   "metadata": {
    "tags": []
   },
   "outputs": [],
   "source": [
    "###### from xgboost import XGBRegressor\n",
    "\n",
    "xgboost_reg = Pipeline(\n",
    "    steps=[\n",
    "        (\"preprocessor\", preprocessor), \n",
    "        (\"regression\", XGBRegressor(n_estimators=500, max_depth=3, reg_lambda=50)),\n",
    "    ]\n",
    ")\n",
    "xgboost_reg.fit(X_train, y_train)\n",
    "\n",
    "print(xgboost_reg.score(X_train, y_train), r2_adj(xgboost_reg, X_train, y_train), xgboost_reg.score(X_test, y_test), r2_adj(xgboost_reg, X_test, y_test))"
   ]
  },
  {
   "cell_type": "code",
   "execution_count": null,
   "id": "67220066-6d09-46ef-8d87-4acea33ad0a4",
   "metadata": {
    "tags": []
   },
   "outputs": [],
   "source": [
    "reg_results = pd.DataFrame({\n",
    "    \"y\": np.exp(y_test),\n",
    "    \"y_pred\": np.exp(xgboost_reg.predict(X_test))\n",
    "    # \"y_pred\": np.exp(regression.predict(X_test))\n",
    "    # \"y\": y_test,\n",
    "    # \"y_pred\": xgboost_reg.predict(X_test)\n",
    "})\n",
    "reg_results[\"diff\"] = reg_results[\"y_pred\"] - reg_results[\"y\"]\n",
    "reg_results[\"rel_error\"] = reg_results[\"diff\"] / reg_results[\"y\"] * 100\n",
    "reg_results[\"abs_rel_error\"] = np.abs(reg_results[\"rel_error\"])\n",
    "reg_results = reg_results.sort_values(\"abs_rel_error\")\n",
    "reg_results"
   ]
  },
  {
   "cell_type": "code",
   "execution_count": null,
   "id": "c5bf8f3f-2873-4e4c-a787-9e973c253c11",
   "metadata": {
    "tags": []
   },
   "outputs": [],
   "source": [
    "plt.plot(\n",
    "    reg_results[\"abs_rel_error\"].rank() / len(reg_results[\"abs_rel_error\"]) * 100,\n",
    "    reg_results[\"abs_rel_error\"].cumsum() / reg_results[\"abs_rel_error\"].rank()\n",
    ")\n",
    "plt.xticks(np.linspace(0, 1, 11)*100)\n",
    "plt.xlabel(f\"% of players (attackers with at least {appearances} appearance(s))\")\n",
    "plt.ylabel(\"Error [%]\")\n",
    "plt.grid()\n",
    "plt.show()"
   ]
  },
  {
   "cell_type": "code",
   "execution_count": null,
   "id": "57e603a4-4a6a-4258-8a8e-14e329d1a378",
   "metadata": {
    "tags": []
   },
   "outputs": [],
   "source": [
    "np.floor(reg_results[\"abs_rel_error\"])"
   ]
  },
  {
   "cell_type": "code",
   "execution_count": null,
   "id": "d10f4545-3c7a-4c13-9703-6234493ac313",
   "metadata": {
    "tags": []
   },
   "outputs": [],
   "source": [
    "_x, _y = np.unique(np.floor(reg_results[\"abs_rel_error\"]), return_counts=True)"
   ]
  },
  {
   "cell_type": "code",
   "execution_count": null,
   "id": "876063b4-75a3-41c3-be69-380673dd2da2",
   "metadata": {
    "tags": []
   },
   "outputs": [],
   "source": [
    "plt.plot(\n",
    "    _x,\n",
    "    _y.cumsum() / len(reg_results) * 100\n",
    ")\n",
    "plt.grid()\n",
    "plt.xlabel(\"Error [%]\")\n",
    "plt.ylabel(f\"% of players\")\n",
    "plt.title(f\"Attackers with at least {appearances} appearance(s)\")\n",
    "plt.yticks(np.arange(0, 101, 10))\n",
    "plt.xticks(np.arange(0, 201, 20))\n",
    "plt.show()\n"
   ]
  },
  {
   "cell_type": "code",
   "execution_count": null,
   "id": "1741d3a2-9954-413d-8518-d28fd1e60b64",
   "metadata": {
    "tags": []
   },
   "outputs": [],
   "source": [
    "_ = plt.hist(reg_results[\"abs_rel_error\"], bins=list(np.linspace(0, 101, 100)))"
   ]
  },
  {
   "cell_type": "code",
   "execution_count": null,
   "id": "ead96424-1e64-413a-8f21-c51c9b7c110f",
   "metadata": {
    "tags": []
   },
   "outputs": [],
   "source": [
    "# pd.merge(X_test.join(reg_results), X_train[[\"player_id_api\", \"age\", \"market_value\", \"season\"]], on=\"player_id_api\")"
   ]
  },
  {
   "cell_type": "code",
   "execution_count": null,
   "id": "0731f15a-7d22-4daf-abb0-50b4d7934c34",
   "metadata": {
    "tags": []
   },
   "outputs": [],
   "source": [
    "# _ = plt.hist(reg_results[\"abs_rel_error\"], bins=100)"
   ]
  },
  {
   "cell_type": "code",
   "execution_count": null,
   "id": "ea5f74de-f9dc-4090-b083-4b9fdc5b87f7",
   "metadata": {
    "tags": []
   },
   "outputs": [],
   "source": [
    "np.mean(reg_results[\"abs_rel_error\"]), np.median(reg_results[\"abs_rel_error\"])"
   ]
  },
  {
   "cell_type": "code",
   "execution_count": null,
   "id": "82c010a7-637b-47c9-9648-1585fd81d230",
   "metadata": {
    "tags": []
   },
   "outputs": [],
   "source": [
    "plt.scatter(y_train, regression.predict(X_train))\n",
    "plt.scatter(y_train, random_regression.predict(X_train))\n",
    "plt.scatter(y_train, xgboost_reg.predict(X_train))\n",
    "# plt.scatter(y_train, mlp_reg.predict(X_train))\n",
    "plt.axline((0, 0), (1, 1), c=\"k\")\n",
    "plt.xlim(np.floor(y_train.min())-0.1, np.ceil(y_train.max())+0.1)\n",
    "plt.ylim(np.floor(y_train.min())-0.1, np.ceil(y_train.max())+0.1)\n",
    "plt.xlabel(\"Observed\")\n",
    "plt.ylabel(\"Predicted\")\n",
    "_ = plt.show()"
   ]
  },
  {
   "cell_type": "code",
   "execution_count": null,
   "id": "0f3045ed-0bd2-4bdb-865e-471207b70191",
   "metadata": {
    "tags": []
   },
   "outputs": [],
   "source": [
    "plt.scatter(y_test, regression.predict(X_test))\n",
    "plt.scatter(y_test, random_regression.predict(X_test))\n",
    "plt.scatter(y_test, xgboost_reg.predict(X_test))\n",
    "plt.axline((0, 0), (1, 1), c=\"k\")\n",
    "plt.xlim(np.floor(y_test.min())-0.1, np.ceil(y_test.max())+0.1)\n",
    "plt.ylim(np.floor(y_test.min())-0.1, np.ceil(y_test.max())+0.1)\n",
    "plt.xlabel(\"Observed\")\n",
    "plt.ylabel(\"Predicted\")\n",
    "_ = plt.show()"
   ]
  },
  {
   "cell_type": "markdown",
   "id": "c31e52c9-113c-4ec9-9a38-54a6089a7509",
   "metadata": {},
   "source": [
    "## Features importance"
   ]
  },
  {
   "cell_type": "code",
   "execution_count": null,
   "id": "e7ca1ddd-b98f-4f22-aebb-db66047c5074",
   "metadata": {
    "tags": []
   },
   "outputs": [],
   "source": [
    "result = permutation_importance(\n",
    "    xgboost_reg, X_test, y_test, n_repeats=10, random_state=42, n_jobs=2\n",
    ")\n",
    "\n",
    "forest_importances = pd.Series(result.importances_mean, index=X_test.columns)\n",
    "\n",
    "fig, ax = plt.subplots()\n",
    "forest_importances.plot.bar(yerr=result.importances_std, ax=ax)\n",
    "ax.set_title(\"Feature importances using permutation on full model\")\n",
    "ax.set_ylabel(\"Mean accuracy decrease\")\n",
    "fig.tight_layout()\n",
    "plt.show()"
   ]
  },
  {
   "cell_type": "markdown",
   "id": "c010811b-1e24-416e-9363-dfd95d2bb239",
   "metadata": {},
   "source": [
    "# Predict change in market value between seasons"
   ]
  },
  {
   "cell_type": "code",
   "execution_count": null,
   "id": "48d85bc4-aea4-4320-b5bd-3bd102b8f5e9",
   "metadata": {
    "tags": []
   },
   "outputs": [],
   "source": [
    "before_after_seasons = pd.merge(\n",
    "    players_selected_vars, \n",
    "    players_selected_vars, \n",
    "    on=\"player_id_api\", \n",
    "    suffixes=[\"_before\", \"_after\"]\n",
    ").query(\"season_after - season_before == 1\")"
   ]
  },
  {
   "cell_type": "code",
   "execution_count": null,
   "id": "83ba9590-cbc1-495b-bc77-7dfbfa72ed6c",
   "metadata": {
    "tags": []
   },
   "outputs": [],
   "source": [
    "numeric_features_ba = [\n",
    "    f\"{c}_{suffix}\" for c in [\n",
    "        \"age\",\n",
    "        \"matches_played\",\n",
    "        \"matches_started\",\n",
    "        \"90s_played\",\n",
    "        # \"goals_against\",\n",
    "        # \"own_goals_against\",\n",
    "        # \"shots_on_target_against\",\n",
    "        # \"saves\",\n",
    "        # \"save%\",\n",
    "        # \"saves_inside_box\",\n",
    "        # \"penalty_kicks_saves\",\n",
    "        \"accurate_crosses.total\",\n",
    "        \"big_chances_created.total\",\n",
    "        \"big_chances_missed.total\",\n",
    "        \"blocked_shots.total\",\n",
    "        \"dribbled_past.total\",\n",
    "        \"goals.goals\",\n",
    "        \"offsides.total\",\n",
    "        \"shots_off_target.total\",\n",
    "        \"through_balls.total\",\n",
    "        \"total_crosses.total\",\n",
    "        \"shots.total\",\n",
    "        \"shots.on\",\n",
    "        \"goals.total_y\",\n",
    "        \"goals.assists\",\n",
    "        \"passes.key\",\n",
    "        \"dribbles.attempts\",\n",
    "        \"dribbles.success\",\n",
    "        \"dribbles.past\",\n",
    "    ]\n",
    "    for suffix in [\"before\",\"after\"]\n",
    "]\n",
    "numeric_transformer_ba = Pipeline(\n",
    "    steps=[\n",
    "        (\"imputer\", SimpleImputer(strategy=\"median\")),\n",
    "        (\"scaler\", StandardScaler())\n",
    "    ]\n",
    ")\n",
    "\n",
    "categorical_features_ba = [\n",
    "    f\"{c}_{suffix}\" for c in [\n",
    "        \"nationality\",\n",
    "        \"league\",\n",
    "        \"team\",\n",
    "        \"tier\",\n",
    "    ]\n",
    "    for suffix in [\"before\",\"after\"]\n",
    "]\n",
    "categorical_transformer_ba = Pipeline(\n",
    "    steps=[\n",
    "        (\"encoder\", OneHotEncoder(handle_unknown=\"ignore\"))\n",
    "    ]\n",
    ")\n",
    "\n",
    "preprocessor_ba = ColumnTransformer(\n",
    "    transformers=[\n",
    "        (\"num\", numeric_transformer_ba, numeric_features_ba),\n",
    "        (\"cat\", categorical_transformer_ba, categorical_features_ba),\n",
    "    ]\n",
    ")"
   ]
  },
  {
   "cell_type": "code",
   "execution_count": null,
   "id": "064d9525-b67d-4916-aac1-5f7ccd3e0ab2",
   "metadata": {
    "tags": []
   },
   "outputs": [],
   "source": [
    "X = before_after_seasons\n",
    "y_before = np.digitize(before_after_seasons[\"normalised_market_value_before\"], bins)\n",
    "y_after = np.digitize(before_after_seasons[\"normalised_market_value_after\"], bins)\n",
    "y = np.minimum(np.maximum(y_after - y_before, -1), 1)"
   ]
  },
  {
   "cell_type": "code",
   "execution_count": null,
   "id": "62f92fbd-d782-4ee6-bae7-45847de4d54a",
   "metadata": {
    "tags": []
   },
   "outputs": [],
   "source": [
    "X_train, X_test, y_train, y_test = train_test_split(X, y, test_size=0.2, random_state=42)"
   ]
  },
  {
   "cell_type": "code",
   "execution_count": null,
   "id": "b02bbc21-bcde-4b0b-ab8d-a6be6d60abe0",
   "metadata": {
    "tags": []
   },
   "outputs": [],
   "source": [
    "random = Pipeline(\n",
    "    steps=[\n",
    "        (\"preprocessor\", preprocessor_ba),\n",
    "        (\"classifier\", DummyClassifier(strategy=\"stratified\")),\n",
    "    ]\n",
    ")\n",
    "random.fit(X_train, y_train)\n",
    "\n",
    "balanced_accuracy_score(y_test, random.predict(X_test))"
   ]
  },
  {
   "cell_type": "code",
   "execution_count": null,
   "id": "449a06aa-5194-460e-8383-4059bb116a51",
   "metadata": {
    "tags": []
   },
   "outputs": [],
   "source": [
    "clf = Pipeline(\n",
    "    steps=[\n",
    "        (\"preprocessor\", preprocessor_ba), \n",
    "        (\"classifier\", LogisticRegression()),\n",
    "    ]\n",
    ")\n",
    "clf.fit(X_train, y_train)\n",
    "\n",
    "print(confusion_matrix(y_test, clf.predict(X_test), labels=[1, 0, -1]))\n",
    "\n",
    "balanced_accuracy_score(y_test, clf.predict(X_test))"
   ]
  },
  {
   "cell_type": "code",
   "execution_count": null,
   "id": "1ad37f82-99a4-44d0-b2fc-68d0f4f4c7b3",
   "metadata": {
    "tags": []
   },
   "outputs": [],
   "source": [
    "from sklearn.neural_network import MLPClassifier\n",
    "\n",
    "mlp = Pipeline(\n",
    "    steps=[\n",
    "        (\"preprocessor\", preprocessor_ba), \n",
    "        (\"classifier\", MLPClassifier(solver='lbfgs', alpha=1e-5, hidden_layer_sizes=(32, 16))),\n",
    "    ]\n",
    ")\n",
    "mlp.fit(X_train, y_train)\n",
    "\n",
    "print(confusion_matrix(y_test, mlp.predict(X_test), labels=[1, 0, -1]))\n",
    "\n",
    "balanced_accuracy_score(y_test, mlp.predict(X_test))"
   ]
  },
  {
   "cell_type": "code",
   "execution_count": null,
   "id": "af05bb27-2b65-4495-b41a-a94c41cd9626",
   "metadata": {
    "tags": []
   },
   "outputs": [],
   "source": [
    "from xgboost import XGBClassifier\n",
    "\n",
    "xgboost = Pipeline(\n",
    "    steps=[\n",
    "        (\"preprocessor\", preprocessor_ba), \n",
    "        (\"classifier\", XGBClassifier()),\n",
    "    ]\n",
    ")\n",
    "xgboost.fit(X_train, y_train+1)\n",
    "\n",
    "y_xgboost = xgboost.predict(X_test)\n",
    "\n",
    "balanced_accuracy_score(y_test+1, y_xgboost)"
   ]
  },
  {
   "cell_type": "markdown",
   "id": "c5ddab1a-7727-44d7-9b8e-97faf2ab45f7",
   "metadata": {},
   "source": [
    "## Features importance"
   ]
  },
  {
   "cell_type": "code",
   "execution_count": null,
   "id": "aa948dde-45d3-4f9f-97c3-fb0ed9e876d7",
   "metadata": {
    "tags": []
   },
   "outputs": [],
   "source": [
    "result = permutation_importance(\n",
    "    clf, X_test, y_test, n_repeats=10, random_state=42, n_jobs=2\n",
    ")\n",
    "\n",
    "forest_importances = pd.Series(result.importances_mean, index=X_test.columns)\n",
    "\n",
    "fig, ax = plt.subplots()\n",
    "forest_importances.plot.bar(yerr=result.importances_std, ax=ax)\n",
    "ax.set_title(\"Feature importances using permutation on full model\")\n",
    "ax.set_ylabel(\"Mean accuracy decrease\")\n",
    "fig.tight_layout()\n",
    "plt.show()"
   ]
  }
 ],
 "metadata": {
  "kernelspec": {
   "display_name": "Python 3 (ipykernel)",
   "language": "python",
   "name": "python3"
  },
  "language_info": {
   "codemirror_mode": {
    "name": "ipython",
    "version": 3
   },
   "file_extension": ".py",
   "mimetype": "text/x-python",
   "name": "python",
   "nbconvert_exporter": "python",
   "pygments_lexer": "ipython3",
   "version": "3.10.10"
  }
 },
 "nbformat": 4,
 "nbformat_minor": 5
}
