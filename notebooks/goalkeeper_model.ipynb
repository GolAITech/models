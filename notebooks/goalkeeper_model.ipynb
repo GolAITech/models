{
 "cells": [
  {
   "cell_type": "code",
   "execution_count": 1,
   "id": "88106cac-8a26-4fb2-9603-15f28888e993",
   "metadata": {
    "tags": []
   },
   "outputs": [],
   "source": [
    "from smart_open import open\n",
    "import pandas as pd\n",
    "import datetime\n",
    "import numpy as np\n",
    "import matplotlib.pyplot as plt\n",
    "from sklearn.preprocessing import normalize"
   ]
  },
  {
   "cell_type": "markdown",
   "id": "d59cb7dd-2dc9-42dd-af09-4acee22c298e",
   "metadata": {},
   "source": [
    "# Load data for goalkeepers"
   ]
  },
  {
   "cell_type": "code",
   "execution_count": 2,
   "id": "9484912f-03d1-42f4-9a07-6181b467f309",
   "metadata": {
    "tags": []
   },
   "outputs": [],
   "source": [
    "data = pd.read_csv(\"../data/training_pruned_file_20162021.csv\")"
   ]
  },
  {
   "cell_type": "code",
   "execution_count": 3,
   "id": "fe414412-a833-4bf2-b90e-1f56ac6a423e",
   "metadata": {
    "tags": []
   },
   "outputs": [],
   "source": [
    "goalkeepers = data.loc[lambda x: x[\"position\"] == \"Goalkeeper\"]"
   ]
  },
  {
   "cell_type": "code",
   "execution_count": 4,
   "id": "73748650-3f64-4cb8-898d-f4cd70901fbb",
   "metadata": {
    "tags": []
   },
   "outputs": [
    {
     "data": {
      "text/plain": [
       "['accurate_crosses.total',\n",
       " 'accurate_passes.total',\n",
       " 'aerials_won.total',\n",
       " 'agent_name',\n",
       " 'bench.total',\n",
       " 'big_chances_created.total',\n",
       " 'big_chances_missed.total',\n",
       " 'birth.country',\n",
       " 'blocked_shots.total',\n",
       " 'captain.total',\n",
       " 'cards.red',\n",
       " 'cards.yellow',\n",
       " 'cards.yellowred',\n",
       " 'clearances.total',\n",
       " 'common_name',\n",
       " 'continent',\n",
       " 'country_name',\n",
       " 'date',\n",
       " 'date_of_birth',\n",
       " 'dispossessed.total',\n",
       " 'dribbled_past.total',\n",
       " 'dribbles.attempts',\n",
       " 'dribbles.past',\n",
       " 'dribbles.success',\n",
       " 'duels.total',\n",
       " 'duels.won',\n",
       " 'duels_won.total',\n",
       " 'error_lead_to_goal.total',\n",
       " 'firstname_x',\n",
       " 'foot',\n",
       " 'fouls.committed',\n",
       " 'fouls.drawn',\n",
       " 'fouls.total',\n",
       " 'fouls_drawn.total',\n",
       " 'games.appearences',\n",
       " 'games.captain',\n",
       " 'games.lineups',\n",
       " 'games.minutes',\n",
       " 'games.number',\n",
       " 'games.position',\n",
       " 'games.rating',\n",
       " 'gender',\n",
       " 'global_performance',\n",
       " 'goals.assists',\n",
       " 'goals.conceded',\n",
       " 'goals.goals',\n",
       " 'goals.penalties',\n",
       " 'goals.saves',\n",
       " 'goals.total_y',\n",
       " 'height_x',\n",
       " 'highest_market_value_in_eur',\n",
       " 'hit_woodwork.total',\n",
       " 'interceptions.total',\n",
       " 'lastname_x',\n",
       " 'league.country',\n",
       " 'league.season',\n",
       " 'league_name',\n",
       " 'lineups.total',\n",
       " 'long_balls.total',\n",
       " 'long_balls_won.total',\n",
       " 'market_value_in_eur_x',\n",
       " 'minutes_played.total',\n",
       " 'name',\n",
       " 'nationality',\n",
       " 'offsides.total',\n",
       " 'own_goals.total',\n",
       " 'passes.accuracy',\n",
       " 'passes.key',\n",
       " 'passes.total_y',\n",
       " 'penalty.commited',\n",
       " 'penalty.missed',\n",
       " 'penalty.saved',\n",
       " 'penalty.scored',\n",
       " 'penalty.won',\n",
       " 'player_id_api',\n",
       " 'player_id_transfermt',\n",
       " 'position',\n",
       " 'position_id_y',\n",
       " 'position_name_x',\n",
       " 'position_name_y',\n",
       " 'rating.average',\n",
       " 'rating.highest',\n",
       " 'rating.lowest',\n",
       " 'redcards.away',\n",
       " 'redcards.home',\n",
       " 'redcards.total',\n",
       " 'saves_inside_box.total',\n",
       " 'season_name',\n",
       " 'shots.on',\n",
       " 'shots.total',\n",
       " 'shots_off_target.total',\n",
       " 'sub_position',\n",
       " 'substitutes.bench',\n",
       " 'substitutes.in',\n",
       " 'substitutes.out',\n",
       " 'substitutions.in',\n",
       " 'substitutions.out',\n",
       " 'tackles.blocks',\n",
       " 'tackles.interceptions',\n",
       " 'tackles.total_x',\n",
       " 'tackles.total_y',\n",
       " 'team_name',\n",
       " 'through_balls.total',\n",
       " 'through_balls_won.total',\n",
       " 'total_crosses.total',\n",
       " 'total_duels.total',\n",
       " 'weight_x',\n",
       " 'yellowcards.away',\n",
       " 'yellowcards.home',\n",
       " 'yellowcards.total',\n",
       " 'yellowred_cards.away',\n",
       " 'yellowred_cards.home',\n",
       " 'yellowred_cards.total']"
      ]
     },
     "execution_count": 4,
     "metadata": {},
     "output_type": "execute_result"
    }
   ],
   "source": [
    "sorted(goalkeepers.columns.values)"
   ]
  },
  {
   "cell_type": "markdown",
   "id": "64d43734-36c6-4320-aaf8-b4f42520e966",
   "metadata": {},
   "source": [
    "## Select variables for goalkeepers"
   ]
  },
  {
   "cell_type": "code",
   "execution_count": 5,
   "id": "f3fa8469-053a-4151-be6e-91bfad7223f4",
   "metadata": {
    "tags": []
   },
   "outputs": [],
   "source": [
    "goalkeepers_selected_vars = goalkeepers[[\n",
    "    \"name\",\n",
    "    \"player_id_api\",\n",
    "    \"date_of_birth\",\n",
    "    \"nationality\",\n",
    "    \"team_name\",\n",
    "    'league_name',\n",
    "     'league.season',\n",
    "    # \"error_lead_to_goal.total\",\n",
    "    \"saves_inside_box.total\",\n",
    "    \"games.appearences\",\n",
    "    \"games.lineups\",\n",
    "    \"games.minutes\",\n",
    "    \"goals.conceded\",\n",
    "    \"goals.saves\",\n",
    "    \"penalty.saved\",\n",
    "    # \"highest_market_value_in_eur\",\n",
    "    \"market_value_in_eur_x\",\n",
    "    \"own_goals.total\",\n",
    "]].copy().rename({\n",
    "    \"team_name\": \"team\",\n",
    "    \"league_name\": \"league\",\n",
    "    \"league.season\": \"season\",\n",
    "    \"games.appearences\": \"matches_played\",\n",
    "    \"games.lineups\": \"matches_started\",\n",
    "    \"games.minutes\": \"minutes\",\n",
    "    \"goals.conceded\": \"goals_against\",\n",
    "    \"goals.saves\": \"saves\",\n",
    "    \"saves_inside_box.total\": \"saves_inside_box\",\n",
    "    \"penalty.saved\": \"penalty_kicks_saves\",\n",
    "    \"own_goals.total\": \"own_goals_against\",\n",
    "    # \"error_lead_to_goal.total\": \"errors_to_goal\",\n",
    "    \"market_value_in_eur_x\": \"market_value\",\n",
    "}, axis=1)\n",
    "goalkeepers_selected_vars[\"90s_played\"] = goalkeepers_selected_vars[\"minutes\"] / 90\n",
    "# goalkeepers_selected_vars[\"goals_against_90s\"] = goalkeepers_selected_vars[\"goals_against\"] / goalkeepers_selected_vars[\"90s_played\"]\n",
    "goalkeepers_selected_vars[\"shots_on_target_against\"] = goalkeepers_selected_vars[\"goals_against\"] + goalkeepers_selected_vars[\"saves\"]\n",
    "goalkeepers_selected_vars[\"save%\"] = goalkeepers_selected_vars[\"saves\"] / goalkeepers_selected_vars[\"shots_on_target_against\"]\n",
    "goalkeepers_selected_vars[\"age\"] = pd.to_datetime(goalkeepers_selected_vars[\"date_of_birth\"]).map(lambda x: int((pd.Timestamp.today() - x).days / 365))\n",
    "goalkeepers_selected_vars[\"own_goals_against\"] = goalkeepers_selected_vars[\"own_goals_against\"].fillna(0)\n",
    "for per_90 in [\n",
    "    \"shots_on_target_against\",\n",
    "    \"saves_inside_box\",\n",
    "    \"saves\",\n",
    "    \"penalty_kicks_saves\",\n",
    "    \"own_goals_against\",\n",
    "    \"goals_against\",\n",
    "]:\n",
    "    goalkeepers_selected_vars[per_90] = goalkeepers_selected_vars[per_90] / goalkeepers_selected_vars[\"90s_played\"]\n",
    "\n",
    "\n",
    "goalkeepers_selected_vars.replace([np.inf, -np.inf], np.nan, inplace=True)\n",
    "    \n",
    "goalkeepers_selected_vars = goalkeepers_selected_vars.drop([\n",
    "    \"date_of_birth\",\n",
    "    \"minutes\",\n",
    "], axis=1)\n",
    "\n",
    "order = [\n",
    "    \"name\",\n",
    "    \"player_id_api\",\n",
    "    \"age\",\n",
    "    \"nationality\",\n",
    "    \"league\",\n",
    "    \"team\",\n",
    "    \"season\",\n",
    "    \"matches_played\",\n",
    "    \"matches_started\",\n",
    "    # \"minutes\",\n",
    "    \"90s_played\",\n",
    "    \"goals_against\",\n",
    "    \"own_goals_against\",\n",
    "    \"shots_on_target_against\",\n",
    "    \"saves\",\n",
    "    \"save%\",\n",
    "    \"saves_inside_box\",\n",
    "    \"penalty_kicks_saves\",\n",
    "    \"market_value\",\n",
    "]\n",
    "goalkeepers_selected_vars = goalkeepers_selected_vars[order + list(set(goalkeepers_selected_vars.columns).difference(order))]"
   ]
  },
  {
   "cell_type": "code",
   "execution_count": 6,
   "id": "0a4bbdda-f5bd-4855-9624-5a2f6b624da7",
   "metadata": {
    "tags": []
   },
   "outputs": [],
   "source": [
    "mvs = goalkeepers_selected_vars[\"market_value\"].values\n",
    "mvs = np.expand_dims(mvs, axis=1)\n",
    "mvs = normalize(mvs, norm=\"max\", axis=0)\n",
    "mvs = np.squeeze(mvs)\n",
    "goalkeepers_selected_vars[\"normalised_market_value\"] = mvs"
   ]
  },
  {
   "cell_type": "code",
   "execution_count": 7,
   "id": "ea44e269-5397-42ad-b423-5255f897530e",
   "metadata": {
    "tags": []
   },
   "outputs": [],
   "source": [
    "from sklearn.compose import ColumnTransformer\n",
    "from sklearn.dummy import DummyClassifier\n",
    "from sklearn.impute import SimpleImputer\n",
    "from sklearn.linear_model import LogisticRegression, LinearRegression\n",
    "from sklearn.metrics import confusion_matrix, accuracy_score, balanced_accuracy_score\n",
    "from sklearn.model_selection import train_test_split\n",
    "from sklearn.pipeline import Pipeline\n",
    "from sklearn.preprocessing import OneHotEncoder\n",
    "from sklearn.preprocessing import StandardScaler\n",
    "from sklearn.svm import SVC"
   ]
  },
  {
   "cell_type": "markdown",
   "id": "71d6e5d8-d5ad-440e-8887-9ddb4410f2a6",
   "metadata": {},
   "source": [
    "## Transformation pipeline"
   ]
  },
  {
   "cell_type": "code",
   "execution_count": 12,
   "id": "4e74aa3f-d75c-42a2-8e24-22e1222bd90f",
   "metadata": {
    "tags": []
   },
   "outputs": [],
   "source": [
    "numeric_features = [\n",
    "    \"age\",\n",
    "    \"matches_played\",\n",
    "    \"matches_started\",\n",
    "    \"90s_played\",\n",
    "    \"goals_against\",\n",
    "    \"own_goals_against\",\n",
    "    \"shots_on_target_against\",\n",
    "    \"saves\",\n",
    "    \"save%\",\n",
    "    \"saves_inside_box\",\n",
    "    \"penalty_kicks_saves\",\n",
    "]\n",
    "numeric_transformer = Pipeline(\n",
    "    steps=[\n",
    "        (\"imputer\", SimpleImputer(strategy=\"median\")),\n",
    "        (\"scaler\", StandardScaler())\n",
    "    ]\n",
    ")\n",
    "\n",
    "categorical_features = [\n",
    "    \"nationality\",\n",
    "    \"league\",\n",
    "    \"team\",\n",
    "]\n",
    "categorical_transformer = Pipeline(\n",
    "    steps=[\n",
    "        (\"encoder\", OneHotEncoder(handle_unknown=\"ignore\"))\n",
    "    ]\n",
    ")\n",
    "\n",
    "preprocessor = ColumnTransformer(\n",
    "    transformers=[\n",
    "        (\"num\", numeric_transformer, numeric_features),\n",
    "        (\"cat\", categorical_transformer, categorical_features),\n",
    "    ]\n",
    ")"
   ]
  },
  {
   "cell_type": "markdown",
   "id": "5c83d92f-900c-41be-8acc-8ce0b74e25ac",
   "metadata": {},
   "source": [
    "# Predict price bucket"
   ]
  },
  {
   "cell_type": "code",
   "execution_count": 13,
   "id": "cc8455cf-8bd7-4f18-a6e2-9da2c4199266",
   "metadata": {
    "tags": []
   },
   "outputs": [],
   "source": [
    "bins = [\n",
    "    0.0025,\n",
    "    0.005,\n",
    "    0.01,\n",
    "    0.025,\n",
    "    0.05,\n",
    "    0.1,\n",
    "    0.25,\n",
    "    0.5,\n",
    "    1.0\n",
    "]\n",
    "y = np.digitize(goalkeepers_selected_vars[\"normalised_market_value\"], bins)\n",
    "X = goalkeepers_selected_vars"
   ]
  },
  {
   "cell_type": "code",
   "execution_count": 14,
   "id": "8e682d79-3ea7-435b-8dd7-e2ede86c69dc",
   "metadata": {
    "tags": []
   },
   "outputs": [],
   "source": [
    "X_train, X_test, y_train, y_test = train_test_split(X, y, test_size=0.2, random_state=42)"
   ]
  },
  {
   "cell_type": "code",
   "execution_count": 15,
   "id": "3aa3576c-ef06-4355-a787-79947a16d658",
   "metadata": {
    "tags": []
   },
   "outputs": [
    {
     "data": {
      "text/plain": [
       "0.15428852571232995"
      ]
     },
     "execution_count": 15,
     "metadata": {},
     "output_type": "execute_result"
    }
   ],
   "source": [
    "random = Pipeline(\n",
    "    steps=[\n",
    "        (\"preprocessor\", preprocessor),\n",
    "        (\"classifier\", DummyClassifier(strategy=\"stratified\")),\n",
    "    ]\n",
    ")\n",
    "random.fit(X_train, y_train)\n",
    "\n",
    "balanced_accuracy_score(y_test, random.predict(X_test))"
   ]
  },
  {
   "cell_type": "code",
   "execution_count": 16,
   "id": "d439a90b-f316-49cc-9fde-d524fc5e5f67",
   "metadata": {
    "tags": []
   },
   "outputs": [
    {
     "name": "stderr",
     "output_type": "stream",
     "text": [
      "/Users/jwasilewski/Library/Caches/pypoetry/virtualenvs/models-wTMcHaj6-py3.10/lib/python3.10/site-packages/sklearn/linear_model/_logistic.py:458: ConvergenceWarning: lbfgs failed to converge (status=1):\n",
      "STOP: TOTAL NO. of ITERATIONS REACHED LIMIT.\n",
      "\n",
      "Increase the number of iterations (max_iter) or scale the data as shown in:\n",
      "    https://scikit-learn.org/stable/modules/preprocessing.html\n",
      "Please also refer to the documentation for alternative solver options:\n",
      "    https://scikit-learn.org/stable/modules/linear_model.html#logistic-regression\n",
      "  n_iter_i = _check_optimize_result(\n"
     ]
    },
    {
     "data": {
      "text/plain": [
       "0.3149055138821546"
      ]
     },
     "execution_count": 16,
     "metadata": {},
     "output_type": "execute_result"
    }
   ],
   "source": [
    "clf = Pipeline(\n",
    "    steps=[\n",
    "        (\"preprocessor\", preprocessor), \n",
    "        (\"classifier\", LogisticRegression()),\n",
    "    ]\n",
    ")\n",
    "clf.fit(X_train, y_train)\n",
    "\n",
    "balanced_accuracy_score(y_test, clf.predict(X_test))"
   ]
  },
  {
   "cell_type": "markdown",
   "id": "f53f18bd-de12-4d28-aef7-d8b4393eb939",
   "metadata": {},
   "source": [
    "# Predict market value"
   ]
  },
  {
   "cell_type": "code",
   "execution_count": 17,
   "id": "fde5a414-7c36-4b1c-bae9-ddbcbe9cd7c9",
   "metadata": {
    "tags": []
   },
   "outputs": [],
   "source": [
    "X = goalkeepers_selected_vars\n",
    "y = goalkeepers_selected_vars[\"normalised_market_value\"]"
   ]
  },
  {
   "cell_type": "code",
   "execution_count": 18,
   "id": "3577f9d7-00ae-4ef7-8b4a-06d1cc164391",
   "metadata": {
    "tags": []
   },
   "outputs": [],
   "source": [
    "X_train, X_test, y_train, y_test = train_test_split(X, y, test_size=0.2, random_state=42)"
   ]
  },
  {
   "cell_type": "code",
   "execution_count": 19,
   "id": "6c6ac1d0-ccb6-4448-bb08-99cd8c33e434",
   "metadata": {
    "tags": []
   },
   "outputs": [
    {
     "data": {
      "text/plain": [
       "0.2981773320435903"
      ]
     },
     "execution_count": 19,
     "metadata": {},
     "output_type": "execute_result"
    }
   ],
   "source": [
    "regression = Pipeline(\n",
    "    steps=[\n",
    "        (\"preprocessor\", preprocessor),\n",
    "        (\"regression\", LinearRegression()),\n",
    "    ]\n",
    ")\n",
    "regression.fit(X_train, y_train)\n",
    "\n",
    "regression.score(X_test, y_test)"
   ]
  },
  {
   "cell_type": "markdown",
   "id": "c010811b-1e24-416e-9363-dfd95d2bb239",
   "metadata": {},
   "source": [
    "# Predict change in market value between seasons"
   ]
  },
  {
   "cell_type": "code",
   "execution_count": 20,
   "id": "48d85bc4-aea4-4320-b5bd-3bd102b8f5e9",
   "metadata": {
    "tags": []
   },
   "outputs": [],
   "source": [
    "before_after_seasons = pd.merge(\n",
    "    goalkeepers_selected_vars, \n",
    "    goalkeepers_selected_vars, \n",
    "    on=\"player_id_api\", \n",
    "    suffixes=[\"_before\", \"_after\"]\n",
    ").query(\"season_after - season_before == 1\")"
   ]
  },
  {
   "cell_type": "code",
   "execution_count": 21,
   "id": "83ba9590-cbc1-495b-bc77-7dfbfa72ed6c",
   "metadata": {
    "tags": []
   },
   "outputs": [],
   "source": [
    "numeric_features_ba = [\n",
    "    f\"{c}_{suffix}\" for c in [\n",
    "        \"age\",\n",
    "        \"matches_played\",\n",
    "        \"matches_started\",\n",
    "        \"90s_played\",\n",
    "        \"goals_against\",\n",
    "        \"own_goals_against\",\n",
    "        \"shots_on_target_against\",\n",
    "        \"saves\",\n",
    "        \"save%\",\n",
    "        \"saves_inside_box\",\n",
    "        \"penalty_kicks_saves\",\n",
    "    ]\n",
    "    for suffix in [\"before\",\"after\"]\n",
    "]\n",
    "numeric_transformer_ba = Pipeline(\n",
    "    steps=[\n",
    "        (\"imputer\", SimpleImputer(strategy=\"median\")),\n",
    "        (\"scaler\", StandardScaler())\n",
    "    ]\n",
    ")\n",
    "\n",
    "categorical_features_ba = [\n",
    "    f\"{c}_{suffix}\" for c in [\n",
    "        \"nationality\",\n",
    "        \"league\",\n",
    "        \"team\",\n",
    "    ]\n",
    "    for suffix in [\"before\",\"after\"]\n",
    "]\n",
    "categorical_transformer_ba = Pipeline(\n",
    "    steps=[\n",
    "        (\"encoder\", OneHotEncoder(handle_unknown=\"ignore\"))\n",
    "    ]\n",
    ")\n",
    "\n",
    "preprocessor_ba = ColumnTransformer(\n",
    "    transformers=[\n",
    "        (\"num\", numeric_transformer_ba, numeric_features_ba),\n",
    "        (\"cat\", categorical_transformer_ba, categorical_features_ba),\n",
    "    ]\n",
    ")"
   ]
  },
  {
   "cell_type": "code",
   "execution_count": 22,
   "id": "064d9525-b67d-4916-aac1-5f7ccd3e0ab2",
   "metadata": {
    "tags": []
   },
   "outputs": [],
   "source": [
    "X = before_after_seasons\n",
    "y_before = np.digitize(before_after_seasons[\"normalised_market_value_before\"], bins)\n",
    "y_after = np.digitize(before_after_seasons[\"normalised_market_value_after\"], bins)\n",
    "y = np.minimum(np.maximum(y_after - y_before, -1), 1)"
   ]
  },
  {
   "cell_type": "code",
   "execution_count": 23,
   "id": "62f92fbd-d782-4ee6-bae7-45847de4d54a",
   "metadata": {
    "tags": []
   },
   "outputs": [],
   "source": [
    "X_train, X_test, y_train, y_test = train_test_split(X, y, test_size=0.2, random_state=42)"
   ]
  },
  {
   "cell_type": "code",
   "execution_count": 24,
   "id": "b02bbc21-bcde-4b0b-ab8d-a6be6d60abe0",
   "metadata": {
    "tags": []
   },
   "outputs": [
    {
     "data": {
      "text/plain": [
       "0.33523266856600187"
      ]
     },
     "execution_count": 24,
     "metadata": {},
     "output_type": "execute_result"
    }
   ],
   "source": [
    "random = Pipeline(\n",
    "    steps=[\n",
    "        (\"preprocessor\", preprocessor_ba),\n",
    "        (\"classifier\", DummyClassifier(strategy=\"stratified\")),\n",
    "    ]\n",
    ")\n",
    "random.fit(X_train, y_train)\n",
    "\n",
    "balanced_accuracy_score(y_test, random.predict(X_test))"
   ]
  },
  {
   "cell_type": "code",
   "execution_count": 31,
   "id": "449a06aa-5194-460e-8383-4059bb116a51",
   "metadata": {
    "tags": []
   },
   "outputs": [
    {
     "name": "stdout",
     "output_type": "stream",
     "text": [
      "[[ 3 21  3]\n",
      " [10 87 20]\n",
      " [ 2 24 13]]\n"
     ]
    },
    {
     "name": "stderr",
     "output_type": "stream",
     "text": [
      "/Users/jwasilewski/Library/Caches/pypoetry/virtualenvs/models-wTMcHaj6-py3.10/lib/python3.10/site-packages/sklearn/linear_model/_logistic.py:458: ConvergenceWarning: lbfgs failed to converge (status=1):\n",
      "STOP: TOTAL NO. of ITERATIONS REACHED LIMIT.\n",
      "\n",
      "Increase the number of iterations (max_iter) or scale the data as shown in:\n",
      "    https://scikit-learn.org/stable/modules/preprocessing.html\n",
      "Please also refer to the documentation for alternative solver options:\n",
      "    https://scikit-learn.org/stable/modules/linear_model.html#logistic-regression\n",
      "  n_iter_i = _check_optimize_result(\n"
     ]
    },
    {
     "data": {
      "text/plain": [
       "0.396011396011396"
      ]
     },
     "execution_count": 31,
     "metadata": {},
     "output_type": "execute_result"
    }
   ],
   "source": [
    "clf = Pipeline(\n",
    "    steps=[\n",
    "        (\"preprocessor\", preprocessor_ba), \n",
    "        (\"classifier\", LogisticRegression()),\n",
    "    ]\n",
    ")\n",
    "clf.fit(X_train, y_train)\n",
    "\n",
    "print(confusion_matrix(y_test, clf.predict(X_test), labels=[1, 0, -1]))\n",
    "\n",
    "balanced_accuracy_score(y_test, clf.predict(X_test))"
   ]
  }
 ],
 "metadata": {
  "kernelspec": {
   "display_name": "Python 3 (ipykernel)",
   "language": "python",
   "name": "python3"
  },
  "language_info": {
   "codemirror_mode": {
    "name": "ipython",
    "version": 3
   },
   "file_extension": ".py",
   "mimetype": "text/x-python",
   "name": "python",
   "nbconvert_exporter": "python",
   "pygments_lexer": "ipython3",
   "version": "3.10.10"
  }
 },
 "nbformat": 4,
 "nbformat_minor": 5
}
