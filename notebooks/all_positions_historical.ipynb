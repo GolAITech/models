{
 "cells": [
  {
   "cell_type": "code",
   "execution_count": 71,
   "metadata": {
    "tags": []
   },
   "outputs": [
    {
     "name": "stdout",
     "output_type": "stream",
     "text": [
      "The autoreload extension is already loaded. To reload it, use:\n",
      "  %reload_ext autoreload\n"
     ]
    }
   ],
   "source": [
    "from smart_open import open\n",
    "import pandas as pd\n",
    "import datetime\n",
    "import numpy as np\n",
    "import matplotlib.pyplot as plt\n",
    "from sklearn.preprocessing import normalize\n",
    "from scipy import stats\n",
    "import math\n",
    "\n",
    "%load_ext autoreload\n",
    "%autoreload 2"
   ]
  },
  {
   "cell_type": "markdown",
   "metadata": {},
   "source": [
    "# Load data for all positions"
   ]
  },
  {
   "cell_type": "code",
   "execution_count": 3,
   "metadata": {
    "tags": []
   },
   "outputs": [],
   "source": [
    "data = pd.read_csv(\"../data/training_pruned_file_20162021.csv\")\n",
    "players = data"
   ]
  },
  {
   "cell_type": "code",
   "execution_count": 4,
   "metadata": {
    "tags": []
   },
   "outputs": [
    {
     "data": {
      "text/plain": [
       "array(['Premier League', 'Ligue 1', 'Bundesliga', 'Serie A', 'La Liga'],\n",
       "      dtype=object)"
      ]
     },
     "execution_count": 4,
     "metadata": {},
     "output_type": "execute_result"
    }
   ],
   "source": [
    "data[\"league_name\"].unique()"
   ]
  },
  {
   "cell_type": "markdown",
   "metadata": {},
   "source": [
    "## Select variables"
   ]
  },
  {
   "cell_type": "code",
   "execution_count": 5,
   "metadata": {
    "tags": []
   },
   "outputs": [
    {
     "data": {
      "text/html": [
       "<div>\n",
       "<style scoped>\n",
       "    .dataframe tbody tr th:only-of-type {\n",
       "        vertical-align: middle;\n",
       "    }\n",
       "\n",
       "    .dataframe tbody tr th {\n",
       "        vertical-align: top;\n",
       "    }\n",
       "\n",
       "    .dataframe thead th {\n",
       "        text-align: right;\n",
       "    }\n",
       "</style>\n",
       "<table border=\"1\" class=\"dataframe\">\n",
       "  <thead>\n",
       "    <tr style=\"text-align: right;\">\n",
       "      <th></th>\n",
       "      <th>name</th>\n",
       "      <th>player_id_api</th>\n",
       "      <th>age</th>\n",
       "      <th>nationality</th>\n",
       "      <th>league</th>\n",
       "      <th>team</th>\n",
       "      <th>season</th>\n",
       "      <th>matches_played</th>\n",
       "      <th>matches_started</th>\n",
       "      <th>90s_played</th>\n",
       "      <th>...</th>\n",
       "      <th>duels.won</th>\n",
       "      <th>dribbles.attempts</th>\n",
       "      <th>dribbles.success</th>\n",
       "      <th>dribbles.past</th>\n",
       "      <th>fouls.committed</th>\n",
       "      <th>cards.yellow</th>\n",
       "      <th>cards.yellowred</th>\n",
       "      <th>cards.red</th>\n",
       "      <th>penalty.commited</th>\n",
       "      <th>penalty.saved</th>\n",
       "    </tr>\n",
       "  </thead>\n",
       "  <tbody>\n",
       "    <tr>\n",
       "      <th>0</th>\n",
       "      <td>George Thomas</td>\n",
       "      <td>20479</td>\n",
       "      <td>26</td>\n",
       "      <td>Wales</td>\n",
       "      <td>Premier League</td>\n",
       "      <td>Leicester City</td>\n",
       "      <td>2017</td>\n",
       "      <td>0.0</td>\n",
       "      <td>0.0</td>\n",
       "      <td>0.000000</td>\n",
       "      <td>...</td>\n",
       "      <td>NaN</td>\n",
       "      <td>NaN</td>\n",
       "      <td>NaN</td>\n",
       "      <td>NaN</td>\n",
       "      <td>NaN</td>\n",
       "      <td>0.0</td>\n",
       "      <td>0.0</td>\n",
       "      <td>0.0</td>\n",
       "      <td>NaN</td>\n",
       "      <td>NaN</td>\n",
       "    </tr>\n",
       "    <tr>\n",
       "      <th>1</th>\n",
       "      <td>Harvey Lewis Barnes</td>\n",
       "      <td>18778</td>\n",
       "      <td>25</td>\n",
       "      <td>England</td>\n",
       "      <td>Premier League</td>\n",
       "      <td>Leicester City</td>\n",
       "      <td>2017</td>\n",
       "      <td>3.0</td>\n",
       "      <td>0.0</td>\n",
       "      <td>0.077778</td>\n",
       "      <td>...</td>\n",
       "      <td>1.0</td>\n",
       "      <td>0.0</td>\n",
       "      <td>0.0</td>\n",
       "      <td>NaN</td>\n",
       "      <td>1.0</td>\n",
       "      <td>0.0</td>\n",
       "      <td>0.0</td>\n",
       "      <td>0.0</td>\n",
       "      <td>NaN</td>\n",
       "      <td>NaN</td>\n",
       "    </tr>\n",
       "    <tr>\n",
       "      <th>2</th>\n",
       "      <td>Andy King</td>\n",
       "      <td>19217</td>\n",
       "      <td>34</td>\n",
       "      <td>Wales</td>\n",
       "      <td>Premier League</td>\n",
       "      <td>Leicester City</td>\n",
       "      <td>2017</td>\n",
       "      <td>11.0</td>\n",
       "      <td>9.0</td>\n",
       "      <td>7.977778</td>\n",
       "      <td>...</td>\n",
       "      <td>24.0</td>\n",
       "      <td>4.0</td>\n",
       "      <td>1.0</td>\n",
       "      <td>NaN</td>\n",
       "      <td>5.0</td>\n",
       "      <td>1.0</td>\n",
       "      <td>0.0</td>\n",
       "      <td>0.0</td>\n",
       "      <td>NaN</td>\n",
       "      <td>NaN</td>\n",
       "    </tr>\n",
       "    <tr>\n",
       "      <th>3</th>\n",
       "      <td>Marc Albrighton</td>\n",
       "      <td>18777</td>\n",
       "      <td>33</td>\n",
       "      <td>England</td>\n",
       "      <td>Premier League</td>\n",
       "      <td>Leicester City</td>\n",
       "      <td>2017</td>\n",
       "      <td>34.0</td>\n",
       "      <td>30.0</td>\n",
       "      <td>28.266667</td>\n",
       "      <td>...</td>\n",
       "      <td>140.0</td>\n",
       "      <td>95.0</td>\n",
       "      <td>52.0</td>\n",
       "      <td>NaN</td>\n",
       "      <td>20.0</td>\n",
       "      <td>5.0</td>\n",
       "      <td>0.0</td>\n",
       "      <td>1.0</td>\n",
       "      <td>1.0</td>\n",
       "      <td>NaN</td>\n",
       "    </tr>\n",
       "    <tr>\n",
       "      <th>4</th>\n",
       "      <td>Kelechi Promise Iheanacho</td>\n",
       "      <td>2778</td>\n",
       "      <td>26</td>\n",
       "      <td>Nigeria</td>\n",
       "      <td>Premier League</td>\n",
       "      <td>Leicester City</td>\n",
       "      <td>2017</td>\n",
       "      <td>21.0</td>\n",
       "      <td>7.0</td>\n",
       "      <td>9.144444</td>\n",
       "      <td>...</td>\n",
       "      <td>37.0</td>\n",
       "      <td>18.0</td>\n",
       "      <td>13.0</td>\n",
       "      <td>NaN</td>\n",
       "      <td>17.0</td>\n",
       "      <td>2.0</td>\n",
       "      <td>0.0</td>\n",
       "      <td>0.0</td>\n",
       "      <td>NaN</td>\n",
       "      <td>NaN</td>\n",
       "    </tr>\n",
       "    <tr>\n",
       "      <th>...</th>\n",
       "      <td>...</td>\n",
       "      <td>...</td>\n",
       "      <td>...</td>\n",
       "      <td>...</td>\n",
       "      <td>...</td>\n",
       "      <td>...</td>\n",
       "      <td>...</td>\n",
       "      <td>...</td>\n",
       "      <td>...</td>\n",
       "      <td>...</td>\n",
       "      <td>...</td>\n",
       "      <td>...</td>\n",
       "      <td>...</td>\n",
       "      <td>...</td>\n",
       "      <td>...</td>\n",
       "      <td>...</td>\n",
       "      <td>...</td>\n",
       "      <td>...</td>\n",
       "      <td>...</td>\n",
       "      <td>...</td>\n",
       "      <td>...</td>\n",
       "    </tr>\n",
       "    <tr>\n",
       "      <th>14768</th>\n",
       "      <td>Matěj Vydra</td>\n",
       "      <td>18930</td>\n",
       "      <td>31</td>\n",
       "      <td>Czech Republic</td>\n",
       "      <td>Premier League</td>\n",
       "      <td>Burnley</td>\n",
       "      <td>2021</td>\n",
       "      <td>22.0</td>\n",
       "      <td>5.0</td>\n",
       "      <td>7.400000</td>\n",
       "      <td>...</td>\n",
       "      <td>44.0</td>\n",
       "      <td>14.0</td>\n",
       "      <td>6.0</td>\n",
       "      <td>NaN</td>\n",
       "      <td>9.0</td>\n",
       "      <td>1.0</td>\n",
       "      <td>0.0</td>\n",
       "      <td>0.0</td>\n",
       "      <td>NaN</td>\n",
       "      <td>NaN</td>\n",
       "    </tr>\n",
       "    <tr>\n",
       "      <th>14769</th>\n",
       "      <td>Josh Brownhill</td>\n",
       "      <td>19268</td>\n",
       "      <td>27</td>\n",
       "      <td>England</td>\n",
       "      <td>Premier League</td>\n",
       "      <td>Burnley</td>\n",
       "      <td>2021</td>\n",
       "      <td>35.0</td>\n",
       "      <td>32.0</td>\n",
       "      <td>32.811111</td>\n",
       "      <td>...</td>\n",
       "      <td>155.0</td>\n",
       "      <td>30.0</td>\n",
       "      <td>15.0</td>\n",
       "      <td>NaN</td>\n",
       "      <td>39.0</td>\n",
       "      <td>10.0</td>\n",
       "      <td>0.0</td>\n",
       "      <td>0.0</td>\n",
       "      <td>NaN</td>\n",
       "      <td>NaN</td>\n",
       "    </tr>\n",
       "    <tr>\n",
       "      <th>14770</th>\n",
       "      <td>Ashley Barnes</td>\n",
       "      <td>18927</td>\n",
       "      <td>33</td>\n",
       "      <td>England</td>\n",
       "      <td>Premier League</td>\n",
       "      <td>Burnley</td>\n",
       "      <td>2021</td>\n",
       "      <td>23.0</td>\n",
       "      <td>8.0</td>\n",
       "      <td>8.888889</td>\n",
       "      <td>...</td>\n",
       "      <td>77.0</td>\n",
       "      <td>8.0</td>\n",
       "      <td>5.0</td>\n",
       "      <td>NaN</td>\n",
       "      <td>21.0</td>\n",
       "      <td>4.0</td>\n",
       "      <td>0.0</td>\n",
       "      <td>0.0</td>\n",
       "      <td>NaN</td>\n",
       "      <td>NaN</td>\n",
       "    </tr>\n",
       "    <tr>\n",
       "      <th>14771</th>\n",
       "      <td>Wout Weghorst</td>\n",
       "      <td>25416</td>\n",
       "      <td>30</td>\n",
       "      <td>Netherlands</td>\n",
       "      <td>Premier League</td>\n",
       "      <td>Burnley</td>\n",
       "      <td>2021</td>\n",
       "      <td>18.0</td>\n",
       "      <td>17.0</td>\n",
       "      <td>17.244444</td>\n",
       "      <td>...</td>\n",
       "      <td>96.0</td>\n",
       "      <td>8.0</td>\n",
       "      <td>7.0</td>\n",
       "      <td>NaN</td>\n",
       "      <td>17.0</td>\n",
       "      <td>2.0</td>\n",
       "      <td>0.0</td>\n",
       "      <td>0.0</td>\n",
       "      <td>NaN</td>\n",
       "      <td>NaN</td>\n",
       "    </tr>\n",
       "    <tr>\n",
       "      <th>14772</th>\n",
       "      <td>Bobby Thomas</td>\n",
       "      <td>264437</td>\n",
       "      <td>22</td>\n",
       "      <td>England</td>\n",
       "      <td>Premier League</td>\n",
       "      <td>Burnley</td>\n",
       "      <td>2021</td>\n",
       "      <td>0.0</td>\n",
       "      <td>0.0</td>\n",
       "      <td>0.000000</td>\n",
       "      <td>...</td>\n",
       "      <td>NaN</td>\n",
       "      <td>NaN</td>\n",
       "      <td>NaN</td>\n",
       "      <td>NaN</td>\n",
       "      <td>NaN</td>\n",
       "      <td>0.0</td>\n",
       "      <td>0.0</td>\n",
       "      <td>0.0</td>\n",
       "      <td>NaN</td>\n",
       "      <td>NaN</td>\n",
       "    </tr>\n",
       "  </tbody>\n",
       "</table>\n",
       "<p>14773 rows × 66 columns</p>\n",
       "</div>"
      ],
      "text/plain": [
       "                            name  player_id_api  age     nationality  \\\n",
       "0                  George Thomas          20479   26           Wales   \n",
       "1            Harvey Lewis Barnes          18778   25         England   \n",
       "2                      Andy King          19217   34           Wales   \n",
       "3                Marc Albrighton          18777   33         England   \n",
       "4      Kelechi Promise Iheanacho           2778   26         Nigeria   \n",
       "...                          ...            ...  ...             ...   \n",
       "14768                Matěj Vydra          18930   31  Czech Republic   \n",
       "14769             Josh Brownhill          19268   27         England   \n",
       "14770              Ashley Barnes          18927   33         England   \n",
       "14771              Wout Weghorst          25416   30     Netherlands   \n",
       "14772               Bobby Thomas         264437   22         England   \n",
       "\n",
       "               league            team  season  matches_played  \\\n",
       "0      Premier League  Leicester City    2017             0.0   \n",
       "1      Premier League  Leicester City    2017             3.0   \n",
       "2      Premier League  Leicester City    2017            11.0   \n",
       "3      Premier League  Leicester City    2017            34.0   \n",
       "4      Premier League  Leicester City    2017            21.0   \n",
       "...               ...             ...     ...             ...   \n",
       "14768  Premier League         Burnley    2021            22.0   \n",
       "14769  Premier League         Burnley    2021            35.0   \n",
       "14770  Premier League         Burnley    2021            23.0   \n",
       "14771  Premier League         Burnley    2021            18.0   \n",
       "14772  Premier League         Burnley    2021             0.0   \n",
       "\n",
       "       matches_started  90s_played  ...  duels.won dribbles.attempts  \\\n",
       "0                  0.0    0.000000  ...        NaN               NaN   \n",
       "1                  0.0    0.077778  ...        1.0               0.0   \n",
       "2                  9.0    7.977778  ...       24.0               4.0   \n",
       "3                 30.0   28.266667  ...      140.0              95.0   \n",
       "4                  7.0    9.144444  ...       37.0              18.0   \n",
       "...                ...         ...  ...        ...               ...   \n",
       "14768              5.0    7.400000  ...       44.0              14.0   \n",
       "14769             32.0   32.811111  ...      155.0              30.0   \n",
       "14770              8.0    8.888889  ...       77.0               8.0   \n",
       "14771             17.0   17.244444  ...       96.0               8.0   \n",
       "14772              0.0    0.000000  ...        NaN               NaN   \n",
       "\n",
       "      dribbles.success  dribbles.past  fouls.committed  cards.yellow  \\\n",
       "0                  NaN            NaN              NaN           0.0   \n",
       "1                  0.0            NaN              1.0           0.0   \n",
       "2                  1.0            NaN              5.0           1.0   \n",
       "3                 52.0            NaN             20.0           5.0   \n",
       "4                 13.0            NaN             17.0           2.0   \n",
       "...                ...            ...              ...           ...   \n",
       "14768              6.0            NaN              9.0           1.0   \n",
       "14769             15.0            NaN             39.0          10.0   \n",
       "14770              5.0            NaN             21.0           4.0   \n",
       "14771              7.0            NaN             17.0           2.0   \n",
       "14772              NaN            NaN              NaN           0.0   \n",
       "\n",
       "       cards.yellowred  cards.red  penalty.commited  penalty.saved  \n",
       "0                  0.0        0.0               NaN            NaN  \n",
       "1                  0.0        0.0               NaN            NaN  \n",
       "2                  0.0        0.0               NaN            NaN  \n",
       "3                  0.0        1.0               1.0            NaN  \n",
       "4                  0.0        0.0               NaN            NaN  \n",
       "...                ...        ...               ...            ...  \n",
       "14768              0.0        0.0               NaN            NaN  \n",
       "14769              0.0        0.0               NaN            NaN  \n",
       "14770              0.0        0.0               NaN            NaN  \n",
       "14771              0.0        0.0               NaN            NaN  \n",
       "14772              0.0        0.0               NaN            NaN  \n",
       "\n",
       "[14773 rows x 66 columns]"
      ]
     },
     "execution_count": 5,
     "metadata": {},
     "output_type": "execute_result"
    }
   ],
   "source": [
    "players_selected_vars = players[[\n",
    "    \"name\",\n",
    "    \"player_id_api\",\n",
    "    \"date_of_birth\",\n",
    "    \"nationality\",\n",
    "    \"team_name\",\n",
    "    'league_name',\n",
    "    'league.season',\n",
    "    \"games.appearences\",\n",
    "    \"games.lineups\",\n",
    "    \"games.minutes\",\n",
    "    # \"goals.conceded\",\n",
    "    # \"goals.saves\",\n",
    "    # \"penalty.saved\",\n",
    "    # \"highest_market_value_in_eur\",\n",
    "    \"market_value_in_eur_x\",\n",
    "    # \"own_goals.total\",\n",
    "    \"position\",\n",
    "    \"position_name_y\",\n",
    "    \"height_x\",\n",
    "    \"accurate_crosses.total\",\n",
    "    \"accurate_passes.total\",\n",
    "    \"aerials_won.total\",\n",
    "    \"big_chances_created.total\",\n",
    "    \"big_chances_missed.total\",\n",
    "    \"blocked_shots.total\",\n",
    "    \"clearances.total\",\n",
    "    \"dribbled_past.total\",\n",
    "    \"duels_won.total\",\n",
    "    \"error_lead_to_goal.total\",\n",
    "    \"fouls.total\",\n",
    "    \"goals.goals\",\n",
    "    \"interceptions.total\",\n",
    "    \"offsides.total\",\n",
    "    \"redcards.away\",\n",
    "    \"redcards.home\",\n",
    "    \"redcards.total\",\n",
    "    \"saves_inside_box.total\",\n",
    "    \"shots_off_target.total\",\n",
    "    \"tackles.total_x\",\n",
    "    \"through_balls.total\",\n",
    "    \"total_crosses.total\",\n",
    "    \"total_duels.total\",\n",
    "    \"yellowcards.away\",\n",
    "    \"yellowcards.home\",\n",
    "    \"yellowcards.total\",\n",
    "    \"yellowred_cards.away\",\n",
    "    \"yellowred_cards.home\",\n",
    "    \"yellowred_cards.total\",\n",
    "    \"shots.total\",\n",
    "    \"shots.on\",\n",
    "    \"goals.total_y\",\n",
    "    \"goals.conceded\",\n",
    "    \"goals.assists\",\n",
    "    \"goals.saves\",\n",
    "    \"passes.total_y\",\n",
    "    \"passes.key\",\n",
    "    \"passes.accuracy\",\n",
    "    \"tackles.total_y\",\n",
    "    \"tackles.blocks\",\n",
    "    \"tackles.interceptions\",\n",
    "    \"duels.total\",\n",
    "    \"duels.won\",\n",
    "    \"dribbles.attempts\",\n",
    "    \"dribbles.success\",\n",
    "    \"dribbles.past\",\n",
    "    \"fouls.committed\",\n",
    "    \"cards.yellow\",\n",
    "    \"cards.yellowred\",\n",
    "    \"cards.red\",\n",
    "    \"penalty.commited\",\n",
    "    \"penalty.saved\",\n",
    "]].copy().rename({\n",
    "    \"team_name\": \"team\",\n",
    "    \"league_name\": \"league\",\n",
    "    \"league.season\": \"season\",\n",
    "    \"games.appearences\": \"matches_played\",\n",
    "    \"games.lineups\": \"matches_started\",\n",
    "    \"games.minutes\": \"minutes\",\n",
    "    # \"goals.conceded\": \"goals_against\",\n",
    "    # \"goals.saves\": \"saves\",\n",
    "    # \"saves_inside_box.total\": \"saves_inside_box\",\n",
    "    # \"penalty.saved\": \"penalty_kicks_saves\",\n",
    "    # \"own_goals.total\": \"own_goals_against\",\n",
    "    # \"error_lead_to_goal.total\": \"errors_to_goal\",\n",
    "    \"market_value_in_eur_x\": \"market_value\",\n",
    "}, axis=1)\n",
    "players_selected_vars[\"90s_played\"] = players_selected_vars[\"minutes\"] / 90\n",
    "players_selected_vars[\"age\"] = pd.to_datetime(players_selected_vars[\"date_of_birth\"]).map(lambda x: int((pd.Timestamp.today() - x).days / 365))\n",
    "for per_90 in [\n",
    "    # \"shots_on_target_against\",\n",
    "    # \"saves_inside_box\",\n",
    "    # \"saves\",\n",
    "    # \"penalty_kicks_saves\",\n",
    "    # \"own_goals_against\",\n",
    "    # \"goals_against\",\n",
    "    # \"accurate_crosses.total\",\n",
    "    # \"big_chances_created.total\",\n",
    "    # \"big_chances_missed.total\",\n",
    "    # \"blocked_shots.total\",\n",
    "    # \"dribbled_past.total\",\n",
    "    # \"goals.goals\",\n",
    "    # \"offsides.total\",\n",
    "    # \"shots_off_target.total\",\n",
    "    # \"through_balls.total\",\n",
    "    # \"total_crosses.total\",\n",
    "    # \"shots.total\",\n",
    "    # \"shots.on\",\n",
    "    # \"goals.total_y\",\n",
    "    # \"goals.assists\",\n",
    "    # \"passes.key\",\n",
    "    # \"dribbles.attempts\",\n",
    "    # \"dribbles.success\",\n",
    "    # \"dribbles.past\",\n",
    "]:\n",
    "    players_selected_vars[per_90] = players_selected_vars[per_90] / players_selected_vars[\"90s_played\"]\n",
    "\n",
    "\n",
    "players_selected_vars.replace([np.inf, -np.inf], np.nan, inplace=True)\n",
    "    \n",
    "players_selected_vars = players_selected_vars.drop([\n",
    "    \"date_of_birth\",\n",
    "    \"minutes\",\n",
    "], axis=1)\n",
    "\n",
    "order = [\n",
    "    \"name\",\n",
    "    \"player_id_api\",\n",
    "    \"age\",\n",
    "    \"nationality\",\n",
    "    \"league\",\n",
    "    \"team\",\n",
    "    \"season\",\n",
    "    \"matches_played\",\n",
    "    \"matches_started\",\n",
    "    # \"minutes\",\n",
    "    \"90s_played\",\n",
    "    # \"goals_against\",\n",
    "    # \"own_goals_against\",\n",
    "    # \"shots_on_target_against\",\n",
    "    # \"saves\",\n",
    "    # \"save%\",\n",
    "    # \"saves_inside_box\",\n",
    "    # \"penalty_kicks_saves\",\n",
    "    \"market_value\",\n",
    "    \"position\",\n",
    "    \"position_name_y\",\n",
    "    \"height_x\",\n",
    "    \"accurate_crosses.total\",\n",
    "    \"accurate_passes.total\",\n",
    "    \"aerials_won.total\",\n",
    "    \"big_chances_created.total\",\n",
    "    \"big_chances_missed.total\",\n",
    "    \"blocked_shots.total\",\n",
    "    \"clearances.total\",\n",
    "    \"dribbled_past.total\",\n",
    "    \"duels_won.total\",\n",
    "    \"error_lead_to_goal.total\",\n",
    "    \"fouls.total\",\n",
    "    \"goals.goals\",\n",
    "    \"interceptions.total\",\n",
    "    \"offsides.total\",\n",
    "    \"redcards.away\",\n",
    "    \"redcards.home\",\n",
    "    \"redcards.total\",\n",
    "    \"saves_inside_box.total\",\n",
    "    \"shots_off_target.total\",\n",
    "    \"tackles.total_x\",\n",
    "    \"through_balls.total\",\n",
    "    \"total_crosses.total\",\n",
    "    \"total_duels.total\",\n",
    "    \"yellowcards.away\",\n",
    "    \"yellowcards.home\",\n",
    "    \"yellowcards.total\",\n",
    "    \"yellowred_cards.away\",\n",
    "    \"yellowred_cards.home\",\n",
    "    \"yellowred_cards.total\",\n",
    "    \"shots.total\",\n",
    "    \"shots.on\",\n",
    "    \"goals.total_y\",\n",
    "    \"goals.conceded\",\n",
    "    \"goals.assists\",\n",
    "    \"goals.saves\",\n",
    "    \"passes.total_y\",\n",
    "    \"passes.key\",\n",
    "    \"passes.accuracy\",\n",
    "    \"tackles.total_y\",\n",
    "    \"tackles.blocks\",\n",
    "    \"tackles.interceptions\",\n",
    "    \"duels.total\",\n",
    "    \"duels.won\",\n",
    "    \"dribbles.attempts\",\n",
    "    \"dribbles.success\",\n",
    "    \"dribbles.past\",\n",
    "    \"fouls.committed\",\n",
    "    \"cards.yellow\",\n",
    "    \"cards.yellowred\",\n",
    "    \"cards.red\",\n",
    "    \"penalty.commited\",\n",
    "    \"penalty.saved\",\n",
    "]\n",
    "players_selected_vars = players_selected_vars[order + list(set(players_selected_vars.columns).difference(order))]\n",
    "players_selected_vars"
   ]
  },
  {
   "cell_type": "code",
   "execution_count": 6,
   "metadata": {
    "tags": []
   },
   "outputs": [],
   "source": [
    "\n",
    "from helpers import TEAM_TIERS"
   ]
  },
  {
   "cell_type": "code",
   "execution_count": 7,
   "metadata": {
    "tags": []
   },
   "outputs": [],
   "source": [
    "players_selected_vars = pd.merge(players_selected_vars, TEAM_TIERS, left_on=\"team\", right_index=True)"
   ]
  },
  {
   "cell_type": "code",
   "execution_count": 8,
   "metadata": {
    "tags": []
   },
   "outputs": [],
   "source": [
    "players_selected_vars.loc[players_selected_vars[\"tier\"] == \"-1\", \"tier\"] = None"
   ]
  },
  {
   "cell_type": "code",
   "execution_count": 9,
   "metadata": {
    "tags": []
   },
   "outputs": [],
   "source": [
    "for c in players_selected_vars.columns:\n",
    "    players_selected_vars[f\"has_{c}\"] = (~players_selected_vars[c].isnull()).astype(int)"
   ]
  },
  {
   "cell_type": "code",
   "execution_count": 11,
   "metadata": {
    "tags": []
   },
   "outputs": [],
   "source": [
    "mvs = players_selected_vars[\"market_value\"].values\n",
    "mvs = np.expand_dims(mvs, axis=1)\n",
    "mvs = normalize(mvs, norm=\"max\", axis=0)\n",
    "mvs = np.squeeze(mvs)\n",
    "players_selected_vars[\"normalised_market_value\"] = mvs"
   ]
  },
  {
   "cell_type": "code",
   "execution_count": 12,
   "metadata": {},
   "outputs": [
    {
     "data": {
      "text/plain": [
       "290      0.105\n",
       "2907     0.125\n",
       "8038     0.175\n",
       "10542    0.200\n",
       "13936    0.125\n",
       "Name: normalised_market_value, dtype: float64"
      ]
     },
     "execution_count": 12,
     "metadata": {},
     "output_type": "execute_result"
    }
   ],
   "source": [
    "players_selected_vars[players_selected_vars.player_id_api == 8][\"normalised_market_value\"]"
   ]
  },
  {
   "cell_type": "code",
   "execution_count": 13,
   "metadata": {},
   "outputs": [],
   "source": [
    "numerical_features = [\n",
    "    \"age\",\n",
    "    \"accurate_crosses.total\",\n",
    "    \"accurate_passes.total\",\n",
    "    \"aerials_won.total\",\n",
    "    \"big_chances_created.total\",\n",
    "    \"big_chances_missed.total\",\n",
    "    \"blocked_shots.total\",\n",
    "    \"clearances.total\",\n",
    "    \"dribbled_past.total\",\n",
    "    \"duels_won.total\",\n",
    "    \"error_lead_to_goal.total\",\n",
    "    \"fouls.total\",\n",
    "    \"goals.goals\",\n",
    "    \"interceptions.total\",\n",
    "    \"offsides.total\",\n",
    "    \"redcards.away\",\n",
    "    \"redcards.home\",\n",
    "    \"redcards.total\",\n",
    "    \"saves_inside_box.total\",\n",
    "    \"shots_off_target.total\",\n",
    "    \"tackles.total_x\",\n",
    "    \"through_balls.total\",\n",
    "    \"total_crosses.total\",\n",
    "    \"total_duels.total\",\n",
    "    \"yellowcards.away\",\n",
    "    \"yellowcards.home\",\n",
    "    \"yellowcards.total\",\n",
    "    \"yellowred_cards.away\",\n",
    "    \"yellowred_cards.home\",\n",
    "    \"yellowred_cards.total\",\n",
    "    \"shots.total\",\n",
    "    \"shots.on\",\n",
    "    \"goals.total_y\",\n",
    "    \"goals.conceded\",\n",
    "    \"goals.assists\",\n",
    "    \"goals.saves\",\n",
    "    \"passes.total_y\",\n",
    "    \"passes.key\",\n",
    "    \"passes.accuracy\",\n",
    "    \"tackles.total_y\",\n",
    "    \"tackles.blocks\",\n",
    "    \"tackles.interceptions\",\n",
    "    \"duels.total\",\n",
    "    \"duels.won\",\n",
    "    \"dribbles.attempts\",\n",
    "    \"dribbles.success\",\n",
    "    \"dribbles.past\",\n",
    "    \"fouls.committed\",\n",
    "    \"cards.yellow\",\n",
    "    \"cards.yellowred\",\n",
    "    \"cards.red\",\n",
    "    \"penalty.commited\",\n",
    "    \"penalty.saved\",\n",
    "    \"normalised_market_value\",\n",
    "]\n",
    "\n",
    "categorical_features = [\n",
    "    \"team\",\n",
    "    \"tier\",\n",
    "    \"position\",\n",
    "    \"position_name_y\",\n",
    "    \"league\"\n",
    "]"
   ]
  },
  {
   "cell_type": "code",
   "execution_count": 16,
   "metadata": {},
   "outputs": [],
   "source": [
    "def delta(x):\n",
    "    x = x.tolist()\n",
    "    return (\n",
    "        x[-1] / np.mean(x[:-1]) - 1 \n",
    "        if len(x) > 1 else 0.0\n",
    "    )\n",
    "    \n",
    "def diff(x):\n",
    "    x = x.tolist()\n",
    "    return (\n",
    "        x[-1] != x[-2] \n",
    "        if len(x) > 1 else 0.0\n",
    "    )\n",
    "\n",
    "def current(x):\n",
    "    return x.tolist()[-1]\n",
    "\n",
    "def previous(x):\n",
    "    x = x.tolist()\n",
    "    return (\n",
    "        x[-2] if len(x) > 1 else 0.0\n",
    "    )\n",
    "\n",
    "def std(x):\n",
    "    return np.std(x, ddof=0)# if len(x) > 1 else 0.0\n",
    "\n",
    "delta.__name__ = 'delta'\n",
    "current.__name__ = 'current'\n",
    "diff.__name__ = 'changed'\n",
    "previous.__name__ = 'previous'"
   ]
  },
  {
   "cell_type": "code",
   "execution_count": 124,
   "metadata": {},
   "outputs": [],
   "source": [
    "changed_cat_feature_dict = {}\n",
    "for cat_name in categorical_features:\n",
    "    ddf[f'{cat_name}'] = ddf[cat_name].astype('category').cat.codes\n",
    "    changed_cat_feature_dict[f'{cat_name}'] = [current, diff]\n",
    "\n",
    "changed_num_feature_dict = {\n",
    "    num_name: [delta, current, previous, np.mean, std]\n",
    "    for num_name in numerical_features\n",
    "}   \n",
    "changed_num_feature_dict[\"normalised_market_value\"] = [delta, current, previous, np.mean, std]\n",
    "changed_num_feature_dict[\"season\"] = [current]\n",
    "\n",
    "clean_data = players_selected_vars.sort_values(\"season\").groupby(\"player_id_api\").rolling(2, min_periods=1).agg({\n",
    "    'height_x': current,\n",
    "    **changed_cat_feature_dict,\n",
    "    **changed_num_feature_dict,\n",
    "}).reset_index()\n",
    "\n",
    "clean_data.columns = [\n",
    "    '_'.join([col[0], col[1]] if col[1] != '' else [col[0]]) \n",
    "    for col in clean_data.columns\n",
    "]"
   ]
  },
  {
   "cell_type": "code",
   "execution_count": 125,
   "metadata": {},
   "outputs": [
    {
     "data": {
      "text/html": [
       "<div>\n",
       "<style scoped>\n",
       "    .dataframe tbody tr th:only-of-type {\n",
       "        vertical-align: middle;\n",
       "    }\n",
       "\n",
       "    .dataframe tbody tr th {\n",
       "        vertical-align: top;\n",
       "    }\n",
       "\n",
       "    .dataframe thead th {\n",
       "        text-align: right;\n",
       "    }\n",
       "</style>\n",
       "<table border=\"1\" class=\"dataframe\">\n",
       "  <thead>\n",
       "    <tr style=\"text-align: right;\">\n",
       "      <th></th>\n",
       "      <th>player_id_api</th>\n",
       "      <th>level_1</th>\n",
       "      <th>height_x_current</th>\n",
       "      <th>team_current</th>\n",
       "      <th>team_changed</th>\n",
       "      <th>tier_current</th>\n",
       "      <th>tier_changed</th>\n",
       "      <th>position_current</th>\n",
       "      <th>position_changed</th>\n",
       "      <th>position_name_y_current</th>\n",
       "      <th>...</th>\n",
       "      <th>penalty.saved_current</th>\n",
       "      <th>penalty.saved_previous</th>\n",
       "      <th>penalty.saved_mean</th>\n",
       "      <th>penalty.saved_std</th>\n",
       "      <th>normalised_market_value_delta</th>\n",
       "      <th>normalised_market_value_current</th>\n",
       "      <th>normalised_market_value_previous</th>\n",
       "      <th>normalised_market_value_mean</th>\n",
       "      <th>normalised_market_value_std</th>\n",
       "      <th>season_current</th>\n",
       "    </tr>\n",
       "  </thead>\n",
       "  <tbody>\n",
       "    <tr>\n",
       "      <th>892</th>\n",
       "      <td>275</td>\n",
       "      <td>43</td>\n",
       "      <td>191.0</td>\n",
       "      <td>123.0</td>\n",
       "      <td>0.0</td>\n",
       "      <td>0.0</td>\n",
       "      <td>0.0</td>\n",
       "      <td>0.0</td>\n",
       "      <td>0.0</td>\n",
       "      <td>5.0</td>\n",
       "      <td>...</td>\n",
       "      <td>NaN</td>\n",
       "      <td>NaN</td>\n",
       "      <td>NaN</td>\n",
       "      <td>NaN</td>\n",
       "      <td>0.000000</td>\n",
       "      <td>0.0400</td>\n",
       "      <td>0.0000</td>\n",
       "      <td>0.04000</td>\n",
       "      <td>0.00000</td>\n",
       "      <td>2017.0</td>\n",
       "    </tr>\n",
       "    <tr>\n",
       "      <th>893</th>\n",
       "      <td>275</td>\n",
       "      <td>3554</td>\n",
       "      <td>191.0</td>\n",
       "      <td>97.0</td>\n",
       "      <td>1.0</td>\n",
       "      <td>1.0</td>\n",
       "      <td>1.0</td>\n",
       "      <td>0.0</td>\n",
       "      <td>0.0</td>\n",
       "      <td>5.0</td>\n",
       "      <td>...</td>\n",
       "      <td>NaN</td>\n",
       "      <td>NaN</td>\n",
       "      <td>NaN</td>\n",
       "      <td>NaN</td>\n",
       "      <td>-0.375000</td>\n",
       "      <td>0.0250</td>\n",
       "      <td>0.0400</td>\n",
       "      <td>0.03250</td>\n",
       "      <td>0.00750</td>\n",
       "      <td>2018.0</td>\n",
       "    </tr>\n",
       "    <tr>\n",
       "      <th>894</th>\n",
       "      <td>275</td>\n",
       "      <td>7560</td>\n",
       "      <td>191.0</td>\n",
       "      <td>97.0</td>\n",
       "      <td>0.0</td>\n",
       "      <td>1.0</td>\n",
       "      <td>0.0</td>\n",
       "      <td>0.0</td>\n",
       "      <td>0.0</td>\n",
       "      <td>5.0</td>\n",
       "      <td>...</td>\n",
       "      <td>NaN</td>\n",
       "      <td>NaN</td>\n",
       "      <td>NaN</td>\n",
       "      <td>NaN</td>\n",
       "      <td>-0.200000</td>\n",
       "      <td>0.0200</td>\n",
       "      <td>0.0250</td>\n",
       "      <td>0.02250</td>\n",
       "      <td>0.00250</td>\n",
       "      <td>2019.0</td>\n",
       "    </tr>\n",
       "    <tr>\n",
       "      <th>895</th>\n",
       "      <td>275</td>\n",
       "      <td>8080</td>\n",
       "      <td>191.0</td>\n",
       "      <td>42.0</td>\n",
       "      <td>1.0</td>\n",
       "      <td>1.0</td>\n",
       "      <td>0.0</td>\n",
       "      <td>0.0</td>\n",
       "      <td>0.0</td>\n",
       "      <td>5.0</td>\n",
       "      <td>...</td>\n",
       "      <td>NaN</td>\n",
       "      <td>NaN</td>\n",
       "      <td>NaN</td>\n",
       "      <td>NaN</td>\n",
       "      <td>0.000000</td>\n",
       "      <td>0.0200</td>\n",
       "      <td>0.0200</td>\n",
       "      <td>0.02000</td>\n",
       "      <td>0.00000</td>\n",
       "      <td>2019.0</td>\n",
       "    </tr>\n",
       "    <tr>\n",
       "      <th>896</th>\n",
       "      <td>275</td>\n",
       "      <td>9920</td>\n",
       "      <td>191.0</td>\n",
       "      <td>42.0</td>\n",
       "      <td>0.0</td>\n",
       "      <td>1.0</td>\n",
       "      <td>0.0</td>\n",
       "      <td>0.0</td>\n",
       "      <td>0.0</td>\n",
       "      <td>5.0</td>\n",
       "      <td>...</td>\n",
       "      <td>NaN</td>\n",
       "      <td>NaN</td>\n",
       "      <td>NaN</td>\n",
       "      <td>NaN</td>\n",
       "      <td>-0.125000</td>\n",
       "      <td>0.0175</td>\n",
       "      <td>0.0200</td>\n",
       "      <td>0.01875</td>\n",
       "      <td>0.00125</td>\n",
       "      <td>2020.0</td>\n",
       "    </tr>\n",
       "    <tr>\n",
       "      <th>897</th>\n",
       "      <td>275</td>\n",
       "      <td>11871</td>\n",
       "      <td>191.0</td>\n",
       "      <td>42.0</td>\n",
       "      <td>0.0</td>\n",
       "      <td>1.0</td>\n",
       "      <td>0.0</td>\n",
       "      <td>0.0</td>\n",
       "      <td>0.0</td>\n",
       "      <td>5.0</td>\n",
       "      <td>...</td>\n",
       "      <td>NaN</td>\n",
       "      <td>NaN</td>\n",
       "      <td>NaN</td>\n",
       "      <td>NaN</td>\n",
       "      <td>-0.142857</td>\n",
       "      <td>0.0150</td>\n",
       "      <td>0.0175</td>\n",
       "      <td>0.01625</td>\n",
       "      <td>0.00125</td>\n",
       "      <td>2021.0</td>\n",
       "    </tr>\n",
       "  </tbody>\n",
       "</table>\n",
       "<p>6 rows × 284 columns</p>\n",
       "</div>"
      ],
      "text/plain": [
       "     player_id_api  level_1  height_x_current  team_current  team_changed  \\\n",
       "892            275       43             191.0         123.0           0.0   \n",
       "893            275     3554             191.0          97.0           1.0   \n",
       "894            275     7560             191.0          97.0           0.0   \n",
       "895            275     8080             191.0          42.0           1.0   \n",
       "896            275     9920             191.0          42.0           0.0   \n",
       "897            275    11871             191.0          42.0           0.0   \n",
       "\n",
       "     tier_current  tier_changed  position_current  position_changed  \\\n",
       "892           0.0           0.0               0.0               0.0   \n",
       "893           1.0           1.0               0.0               0.0   \n",
       "894           1.0           0.0               0.0               0.0   \n",
       "895           1.0           0.0               0.0               0.0   \n",
       "896           1.0           0.0               0.0               0.0   \n",
       "897           1.0           0.0               0.0               0.0   \n",
       "\n",
       "     position_name_y_current  ...  penalty.saved_current  \\\n",
       "892                      5.0  ...                    NaN   \n",
       "893                      5.0  ...                    NaN   \n",
       "894                      5.0  ...                    NaN   \n",
       "895                      5.0  ...                    NaN   \n",
       "896                      5.0  ...                    NaN   \n",
       "897                      5.0  ...                    NaN   \n",
       "\n",
       "     penalty.saved_previous  penalty.saved_mean  penalty.saved_std  \\\n",
       "892                     NaN                 NaN                NaN   \n",
       "893                     NaN                 NaN                NaN   \n",
       "894                     NaN                 NaN                NaN   \n",
       "895                     NaN                 NaN                NaN   \n",
       "896                     NaN                 NaN                NaN   \n",
       "897                     NaN                 NaN                NaN   \n",
       "\n",
       "     normalised_market_value_delta  normalised_market_value_current  \\\n",
       "892                       0.000000                           0.0400   \n",
       "893                      -0.375000                           0.0250   \n",
       "894                      -0.200000                           0.0200   \n",
       "895                       0.000000                           0.0200   \n",
       "896                      -0.125000                           0.0175   \n",
       "897                      -0.142857                           0.0150   \n",
       "\n",
       "     normalised_market_value_previous  normalised_market_value_mean  \\\n",
       "892                            0.0000                       0.04000   \n",
       "893                            0.0400                       0.03250   \n",
       "894                            0.0250                       0.02250   \n",
       "895                            0.0200                       0.02000   \n",
       "896                            0.0200                       0.01875   \n",
       "897                            0.0175                       0.01625   \n",
       "\n",
       "     normalised_market_value_std  season_current  \n",
       "892                      0.00000          2017.0  \n",
       "893                      0.00750          2018.0  \n",
       "894                      0.00250          2019.0  \n",
       "895                      0.00000          2019.0  \n",
       "896                      0.00125          2020.0  \n",
       "897                      0.00125          2021.0  \n",
       "\n",
       "[6 rows x 284 columns]"
      ]
     },
     "execution_count": 125,
     "metadata": {},
     "output_type": "execute_result"
    }
   ],
   "source": [
    "clean_data[clean_data.player_id_api == 275]"
   ]
  },
  {
   "cell_type": "code",
   "execution_count": 127,
   "metadata": {},
   "outputs": [
    {
     "data": {
      "text/html": [
       "<div>\n",
       "<style scoped>\n",
       "    .dataframe tbody tr th:only-of-type {\n",
       "        vertical-align: middle;\n",
       "    }\n",
       "\n",
       "    .dataframe tbody tr th {\n",
       "        vertical-align: top;\n",
       "    }\n",
       "\n",
       "    .dataframe thead th {\n",
       "        text-align: right;\n",
       "    }\n",
       "</style>\n",
       "<table border=\"1\" class=\"dataframe\">\n",
       "  <thead>\n",
       "    <tr style=\"text-align: right;\">\n",
       "      <th></th>\n",
       "      <th>player_id_api</th>\n",
       "      <th>level_1</th>\n",
       "      <th>height_x_current</th>\n",
       "      <th>team_current</th>\n",
       "      <th>team_changed</th>\n",
       "      <th>tier_current</th>\n",
       "      <th>tier_changed</th>\n",
       "      <th>position_current</th>\n",
       "      <th>position_changed</th>\n",
       "      <th>position_name_y_current</th>\n",
       "      <th>...</th>\n",
       "      <th>penalty.saved_current</th>\n",
       "      <th>penalty.saved_previous</th>\n",
       "      <th>penalty.saved_mean</th>\n",
       "      <th>penalty.saved_std</th>\n",
       "      <th>normalised_market_value_delta</th>\n",
       "      <th>normalised_market_value_current</th>\n",
       "      <th>normalised_market_value_previous</th>\n",
       "      <th>normalised_market_value_mean</th>\n",
       "      <th>normalised_market_value_std</th>\n",
       "      <th>season_current</th>\n",
       "    </tr>\n",
       "  </thead>\n",
       "  <tbody>\n",
       "    <tr>\n",
       "      <th>5</th>\n",
       "      <td>2</td>\n",
       "      <td>1179</td>\n",
       "      <td>194.0</td>\n",
       "      <td>40.0</td>\n",
       "      <td>0.0</td>\n",
       "      <td>4.0</td>\n",
       "      <td>0.0</td>\n",
       "      <td>2.0</td>\n",
       "      <td>0.0</td>\n",
       "      <td>8.0</td>\n",
       "      <td>...</td>\n",
       "      <td>1.0</td>\n",
       "      <td>0.0</td>\n",
       "      <td>1.0</td>\n",
       "      <td>0.0</td>\n",
       "      <td>0.000000</td>\n",
       "      <td>0.0200</td>\n",
       "      <td>0.0000</td>\n",
       "      <td>0.02000</td>\n",
       "      <td>0.00000</td>\n",
       "      <td>2017.0</td>\n",
       "    </tr>\n",
       "    <tr>\n",
       "      <th>6</th>\n",
       "      <td>2</td>\n",
       "      <td>2901</td>\n",
       "      <td>194.0</td>\n",
       "      <td>12.0</td>\n",
       "      <td>1.0</td>\n",
       "      <td>1.0</td>\n",
       "      <td>1.0</td>\n",
       "      <td>2.0</td>\n",
       "      <td>0.0</td>\n",
       "      <td>8.0</td>\n",
       "      <td>...</td>\n",
       "      <td>0.0</td>\n",
       "      <td>1.0</td>\n",
       "      <td>0.5</td>\n",
       "      <td>0.5</td>\n",
       "      <td>-0.375000</td>\n",
       "      <td>0.0125</td>\n",
       "      <td>0.0200</td>\n",
       "      <td>0.01625</td>\n",
       "      <td>0.00375</td>\n",
       "      <td>2018.0</td>\n",
       "    </tr>\n",
       "    <tr>\n",
       "      <th>7</th>\n",
       "      <td>2</td>\n",
       "      <td>8006</td>\n",
       "      <td>194.0</td>\n",
       "      <td>12.0</td>\n",
       "      <td>0.0</td>\n",
       "      <td>1.0</td>\n",
       "      <td>0.0</td>\n",
       "      <td>2.0</td>\n",
       "      <td>0.0</td>\n",
       "      <td>8.0</td>\n",
       "      <td>...</td>\n",
       "      <td>0.0</td>\n",
       "      <td>0.0</td>\n",
       "      <td>0.0</td>\n",
       "      <td>0.0</td>\n",
       "      <td>-0.200000</td>\n",
       "      <td>0.0100</td>\n",
       "      <td>0.0125</td>\n",
       "      <td>0.01125</td>\n",
       "      <td>0.00125</td>\n",
       "      <td>2019.0</td>\n",
       "    </tr>\n",
       "    <tr>\n",
       "      <th>8</th>\n",
       "      <td>2</td>\n",
       "      <td>10556</td>\n",
       "      <td>194.0</td>\n",
       "      <td>12.0</td>\n",
       "      <td>0.0</td>\n",
       "      <td>1.0</td>\n",
       "      <td>0.0</td>\n",
       "      <td>2.0</td>\n",
       "      <td>0.0</td>\n",
       "      <td>8.0</td>\n",
       "      <td>...</td>\n",
       "      <td>1.0</td>\n",
       "      <td>0.0</td>\n",
       "      <td>0.5</td>\n",
       "      <td>0.5</td>\n",
       "      <td>-0.150000</td>\n",
       "      <td>0.0085</td>\n",
       "      <td>0.0100</td>\n",
       "      <td>0.00925</td>\n",
       "      <td>0.00075</td>\n",
       "      <td>2020.0</td>\n",
       "    </tr>\n",
       "    <tr>\n",
       "      <th>9</th>\n",
       "      <td>2</td>\n",
       "      <td>13933</td>\n",
       "      <td>194.0</td>\n",
       "      <td>12.0</td>\n",
       "      <td>0.0</td>\n",
       "      <td>1.0</td>\n",
       "      <td>0.0</td>\n",
       "      <td>2.0</td>\n",
       "      <td>0.0</td>\n",
       "      <td>8.0</td>\n",
       "      <td>...</td>\n",
       "      <td>0.0</td>\n",
       "      <td>1.0</td>\n",
       "      <td>0.5</td>\n",
       "      <td>0.5</td>\n",
       "      <td>-0.411765</td>\n",
       "      <td>0.0050</td>\n",
       "      <td>0.0085</td>\n",
       "      <td>0.00675</td>\n",
       "      <td>0.00175</td>\n",
       "      <td>2021.0</td>\n",
       "    </tr>\n",
       "  </tbody>\n",
       "</table>\n",
       "<p>5 rows × 284 columns</p>\n",
       "</div>"
      ],
      "text/plain": [
       "   player_id_api  level_1  height_x_current  team_current  team_changed  \\\n",
       "5              2     1179             194.0          40.0           0.0   \n",
       "6              2     2901             194.0          12.0           1.0   \n",
       "7              2     8006             194.0          12.0           0.0   \n",
       "8              2    10556             194.0          12.0           0.0   \n",
       "9              2    13933             194.0          12.0           0.0   \n",
       "\n",
       "   tier_current  tier_changed  position_current  position_changed  \\\n",
       "5           4.0           0.0               2.0               0.0   \n",
       "6           1.0           1.0               2.0               0.0   \n",
       "7           1.0           0.0               2.0               0.0   \n",
       "8           1.0           0.0               2.0               0.0   \n",
       "9           1.0           0.0               2.0               0.0   \n",
       "\n",
       "   position_name_y_current  ...  penalty.saved_current  \\\n",
       "5                      8.0  ...                    1.0   \n",
       "6                      8.0  ...                    0.0   \n",
       "7                      8.0  ...                    0.0   \n",
       "8                      8.0  ...                    1.0   \n",
       "9                      8.0  ...                    0.0   \n",
       "\n",
       "   penalty.saved_previous  penalty.saved_mean  penalty.saved_std  \\\n",
       "5                     0.0                 1.0                0.0   \n",
       "6                     1.0                 0.5                0.5   \n",
       "7                     0.0                 0.0                0.0   \n",
       "8                     0.0                 0.5                0.5   \n",
       "9                     1.0                 0.5                0.5   \n",
       "\n",
       "   normalised_market_value_delta  normalised_market_value_current  \\\n",
       "5                       0.000000                           0.0200   \n",
       "6                      -0.375000                           0.0125   \n",
       "7                      -0.200000                           0.0100   \n",
       "8                      -0.150000                           0.0085   \n",
       "9                      -0.411765                           0.0050   \n",
       "\n",
       "   normalised_market_value_previous  normalised_market_value_mean  \\\n",
       "5                            0.0000                       0.02000   \n",
       "6                            0.0200                       0.01625   \n",
       "7                            0.0125                       0.01125   \n",
       "8                            0.0100                       0.00925   \n",
       "9                            0.0085                       0.00675   \n",
       "\n",
       "   normalised_market_value_std  season_current  \n",
       "5                      0.00000          2017.0  \n",
       "6                      0.00375          2018.0  \n",
       "7                      0.00125          2019.0  \n",
       "8                      0.00075          2020.0  \n",
       "9                      0.00175          2021.0  \n",
       "\n",
       "[5 rows x 284 columns]"
      ]
     },
     "execution_count": 127,
     "metadata": {},
     "output_type": "execute_result"
    }
   ],
   "source": [
    "clean_data[clean_data.player_id_api == 2]"
   ]
  },
  {
   "cell_type": "code",
   "execution_count": 128,
   "metadata": {},
   "outputs": [
    {
     "data": {
      "text/plain": [
       "player_id_api                         0\n",
       "level_1                               0\n",
       "height_x_current                    362\n",
       "team_current                          0\n",
       "team_changed                          0\n",
       "                                   ... \n",
       "normalised_market_value_current       0\n",
       "normalised_market_value_previous      0\n",
       "normalised_market_value_mean          0\n",
       "normalised_market_value_std           0\n",
       "season_current                        0\n",
       "Length: 284, dtype: int64"
      ]
     },
     "execution_count": 128,
     "metadata": {},
     "output_type": "execute_result"
    }
   ],
   "source": [
    "clean_data.isna().sum()"
   ]
  },
  {
   "cell_type": "code",
   "execution_count": 129,
   "metadata": {},
   "outputs": [
    {
     "data": {
      "text/plain": [
       "0        0.000000\n",
       "1        1.000000\n",
       "2       -0.214286\n",
       "3       -0.636364\n",
       "4       -0.625000\n",
       "           ...   \n",
       "14748    0.000000\n",
       "14749    0.000000\n",
       "14750    0.000000\n",
       "14751    0.000000\n",
       "14752    0.000000\n",
       "Name: normalised_market_value_delta, Length: 14753, dtype: float64"
      ]
     },
     "execution_count": 129,
     "metadata": {},
     "output_type": "execute_result"
    }
   ],
   "source": [
    "clean_data.normalised_market_value_delta"
   ]
  },
  {
   "cell_type": "code",
   "execution_count": 130,
   "metadata": {
    "tags": []
   },
   "outputs": [],
   "source": [
    "from sklearn.compose import ColumnTransformer\n",
    "from sklearn.dummy import DummyClassifier, DummyRegressor\n",
    "from sklearn.impute import SimpleImputer\n",
    "from sklearn.inspection import permutation_importance\n",
    "from sklearn.linear_model import LogisticRegression, LinearRegression\n",
    "from sklearn.metrics import confusion_matrix, accuracy_score, balanced_accuracy_score\n",
    "from sklearn.model_selection import train_test_split\n",
    "from sklearn.pipeline import Pipeline\n",
    "from sklearn.preprocessing import OneHotEncoder\n",
    "from sklearn.preprocessing import StandardScaler\n",
    "from sklearn.svm import SVC"
   ]
  },
  {
   "cell_type": "markdown",
   "metadata": {},
   "source": [
    "## Transformation pipeline"
   ]
  },
  {
   "cell_type": "code",
   "execution_count": 131,
   "metadata": {},
   "outputs": [
    {
     "data": {
      "text/html": [
       "<div>\n",
       "<style scoped>\n",
       "    .dataframe tbody tr th:only-of-type {\n",
       "        vertical-align: middle;\n",
       "    }\n",
       "\n",
       "    .dataframe tbody tr th {\n",
       "        vertical-align: top;\n",
       "    }\n",
       "\n",
       "    .dataframe thead th {\n",
       "        text-align: right;\n",
       "    }\n",
       "</style>\n",
       "<table border=\"1\" class=\"dataframe\">\n",
       "  <thead>\n",
       "    <tr style=\"text-align: right;\">\n",
       "      <th></th>\n",
       "      <th>team_changed</th>\n",
       "      <th>tier_changed</th>\n",
       "      <th>position_changed</th>\n",
       "      <th>position_name_y_changed</th>\n",
       "      <th>league_changed</th>\n",
       "      <th>age_current</th>\n",
       "      <th>age_previous</th>\n",
       "      <th>age_mean</th>\n",
       "      <th>age_std</th>\n",
       "      <th>accurate_crosses.total_current</th>\n",
       "      <th>...</th>\n",
       "      <th>penalty.commited_mean</th>\n",
       "      <th>penalty.commited_std</th>\n",
       "      <th>penalty.saved_current</th>\n",
       "      <th>penalty.saved_previous</th>\n",
       "      <th>penalty.saved_mean</th>\n",
       "      <th>penalty.saved_std</th>\n",
       "      <th>normalised_market_value_current</th>\n",
       "      <th>normalised_market_value_previous</th>\n",
       "      <th>normalised_market_value_mean</th>\n",
       "      <th>normalised_market_value_std</th>\n",
       "    </tr>\n",
       "  </thead>\n",
       "  <tbody>\n",
       "    <tr>\n",
       "      <th>0</th>\n",
       "      <td>0.0</td>\n",
       "      <td>0.0</td>\n",
       "      <td>0.0</td>\n",
       "      <td>0.0</td>\n",
       "      <td>0.0</td>\n",
       "      <td>32.0</td>\n",
       "      <td>0.0</td>\n",
       "      <td>32.0</td>\n",
       "      <td>0.0</td>\n",
       "      <td>NaN</td>\n",
       "      <td>...</td>\n",
       "      <td>NaN</td>\n",
       "      <td>NaN</td>\n",
       "      <td>0.0</td>\n",
       "      <td>0.0</td>\n",
       "      <td>0.0</td>\n",
       "      <td>0.0</td>\n",
       "      <td>0.035000</td>\n",
       "      <td>0.000</td>\n",
       "      <td>0.035000</td>\n",
       "      <td>0.00000</td>\n",
       "    </tr>\n",
       "    <tr>\n",
       "      <th>1</th>\n",
       "      <td>0.0</td>\n",
       "      <td>0.0</td>\n",
       "      <td>0.0</td>\n",
       "      <td>0.0</td>\n",
       "      <td>0.0</td>\n",
       "      <td>32.0</td>\n",
       "      <td>32.0</td>\n",
       "      <td>32.0</td>\n",
       "      <td>0.0</td>\n",
       "      <td>NaN</td>\n",
       "      <td>...</td>\n",
       "      <td>NaN</td>\n",
       "      <td>NaN</td>\n",
       "      <td>0.0</td>\n",
       "      <td>0.0</td>\n",
       "      <td>0.0</td>\n",
       "      <td>0.0</td>\n",
       "      <td>0.070000</td>\n",
       "      <td>0.035</td>\n",
       "      <td>0.052500</td>\n",
       "      <td>0.01750</td>\n",
       "    </tr>\n",
       "    <tr>\n",
       "      <th>2</th>\n",
       "      <td>0.0</td>\n",
       "      <td>0.0</td>\n",
       "      <td>0.0</td>\n",
       "      <td>0.0</td>\n",
       "      <td>0.0</td>\n",
       "      <td>32.0</td>\n",
       "      <td>32.0</td>\n",
       "      <td>32.0</td>\n",
       "      <td>0.0</td>\n",
       "      <td>NaN</td>\n",
       "      <td>...</td>\n",
       "      <td>NaN</td>\n",
       "      <td>NaN</td>\n",
       "      <td>0.0</td>\n",
       "      <td>0.0</td>\n",
       "      <td>0.0</td>\n",
       "      <td>0.0</td>\n",
       "      <td>0.055000</td>\n",
       "      <td>0.070</td>\n",
       "      <td>0.062500</td>\n",
       "      <td>0.00750</td>\n",
       "    </tr>\n",
       "    <tr>\n",
       "      <th>3</th>\n",
       "      <td>0.0</td>\n",
       "      <td>0.0</td>\n",
       "      <td>0.0</td>\n",
       "      <td>0.0</td>\n",
       "      <td>0.0</td>\n",
       "      <td>32.0</td>\n",
       "      <td>32.0</td>\n",
       "      <td>32.0</td>\n",
       "      <td>0.0</td>\n",
       "      <td>NaN</td>\n",
       "      <td>...</td>\n",
       "      <td>NaN</td>\n",
       "      <td>NaN</td>\n",
       "      <td>1.0</td>\n",
       "      <td>0.0</td>\n",
       "      <td>0.5</td>\n",
       "      <td>0.5</td>\n",
       "      <td>0.020000</td>\n",
       "      <td>0.055</td>\n",
       "      <td>0.037500</td>\n",
       "      <td>0.01750</td>\n",
       "    </tr>\n",
       "    <tr>\n",
       "      <th>4</th>\n",
       "      <td>0.0</td>\n",
       "      <td>0.0</td>\n",
       "      <td>0.0</td>\n",
       "      <td>0.0</td>\n",
       "      <td>0.0</td>\n",
       "      <td>32.0</td>\n",
       "      <td>32.0</td>\n",
       "      <td>32.0</td>\n",
       "      <td>0.0</td>\n",
       "      <td>NaN</td>\n",
       "      <td>...</td>\n",
       "      <td>NaN</td>\n",
       "      <td>NaN</td>\n",
       "      <td>0.0</td>\n",
       "      <td>1.0</td>\n",
       "      <td>0.5</td>\n",
       "      <td>0.5</td>\n",
       "      <td>0.007500</td>\n",
       "      <td>0.020</td>\n",
       "      <td>0.013750</td>\n",
       "      <td>0.00625</td>\n",
       "    </tr>\n",
       "    <tr>\n",
       "      <th>...</th>\n",
       "      <td>...</td>\n",
       "      <td>...</td>\n",
       "      <td>...</td>\n",
       "      <td>...</td>\n",
       "      <td>...</td>\n",
       "      <td>...</td>\n",
       "      <td>...</td>\n",
       "      <td>...</td>\n",
       "      <td>...</td>\n",
       "      <td>...</td>\n",
       "      <td>...</td>\n",
       "      <td>...</td>\n",
       "      <td>...</td>\n",
       "      <td>...</td>\n",
       "      <td>...</td>\n",
       "      <td>...</td>\n",
       "      <td>...</td>\n",
       "      <td>...</td>\n",
       "      <td>...</td>\n",
       "      <td>...</td>\n",
       "      <td>...</td>\n",
       "    </tr>\n",
       "    <tr>\n",
       "      <th>14748</th>\n",
       "      <td>0.0</td>\n",
       "      <td>0.0</td>\n",
       "      <td>0.0</td>\n",
       "      <td>0.0</td>\n",
       "      <td>0.0</td>\n",
       "      <td>20.0</td>\n",
       "      <td>0.0</td>\n",
       "      <td>20.0</td>\n",
       "      <td>0.0</td>\n",
       "      <td>NaN</td>\n",
       "      <td>...</td>\n",
       "      <td>NaN</td>\n",
       "      <td>NaN</td>\n",
       "      <td>NaN</td>\n",
       "      <td>NaN</td>\n",
       "      <td>NaN</td>\n",
       "      <td>NaN</td>\n",
       "      <td>0.000375</td>\n",
       "      <td>0.000</td>\n",
       "      <td>0.000375</td>\n",
       "      <td>0.00000</td>\n",
       "    </tr>\n",
       "    <tr>\n",
       "      <th>14749</th>\n",
       "      <td>0.0</td>\n",
       "      <td>0.0</td>\n",
       "      <td>0.0</td>\n",
       "      <td>0.0</td>\n",
       "      <td>0.0</td>\n",
       "      <td>19.0</td>\n",
       "      <td>0.0</td>\n",
       "      <td>19.0</td>\n",
       "      <td>0.0</td>\n",
       "      <td>NaN</td>\n",
       "      <td>...</td>\n",
       "      <td>NaN</td>\n",
       "      <td>NaN</td>\n",
       "      <td>NaN</td>\n",
       "      <td>NaN</td>\n",
       "      <td>NaN</td>\n",
       "      <td>NaN</td>\n",
       "      <td>0.000500</td>\n",
       "      <td>0.000</td>\n",
       "      <td>0.000500</td>\n",
       "      <td>0.00000</td>\n",
       "    </tr>\n",
       "    <tr>\n",
       "      <th>14750</th>\n",
       "      <td>0.0</td>\n",
       "      <td>0.0</td>\n",
       "      <td>0.0</td>\n",
       "      <td>0.0</td>\n",
       "      <td>0.0</td>\n",
       "      <td>20.0</td>\n",
       "      <td>0.0</td>\n",
       "      <td>20.0</td>\n",
       "      <td>0.0</td>\n",
       "      <td>NaN</td>\n",
       "      <td>...</td>\n",
       "      <td>NaN</td>\n",
       "      <td>NaN</td>\n",
       "      <td>NaN</td>\n",
       "      <td>NaN</td>\n",
       "      <td>NaN</td>\n",
       "      <td>NaN</td>\n",
       "      <td>0.000375</td>\n",
       "      <td>0.000</td>\n",
       "      <td>0.000375</td>\n",
       "      <td>0.00000</td>\n",
       "    </tr>\n",
       "    <tr>\n",
       "      <th>14751</th>\n",
       "      <td>0.0</td>\n",
       "      <td>0.0</td>\n",
       "      <td>0.0</td>\n",
       "      <td>0.0</td>\n",
       "      <td>0.0</td>\n",
       "      <td>19.0</td>\n",
       "      <td>0.0</td>\n",
       "      <td>19.0</td>\n",
       "      <td>0.0</td>\n",
       "      <td>NaN</td>\n",
       "      <td>...</td>\n",
       "      <td>NaN</td>\n",
       "      <td>NaN</td>\n",
       "      <td>NaN</td>\n",
       "      <td>NaN</td>\n",
       "      <td>NaN</td>\n",
       "      <td>NaN</td>\n",
       "      <td>0.000750</td>\n",
       "      <td>0.000</td>\n",
       "      <td>0.000750</td>\n",
       "      <td>0.00000</td>\n",
       "    </tr>\n",
       "    <tr>\n",
       "      <th>14752</th>\n",
       "      <td>0.0</td>\n",
       "      <td>0.0</td>\n",
       "      <td>0.0</td>\n",
       "      <td>0.0</td>\n",
       "      <td>0.0</td>\n",
       "      <td>19.0</td>\n",
       "      <td>0.0</td>\n",
       "      <td>19.0</td>\n",
       "      <td>0.0</td>\n",
       "      <td>NaN</td>\n",
       "      <td>...</td>\n",
       "      <td>NaN</td>\n",
       "      <td>NaN</td>\n",
       "      <td>NaN</td>\n",
       "      <td>NaN</td>\n",
       "      <td>NaN</td>\n",
       "      <td>NaN</td>\n",
       "      <td>0.005000</td>\n",
       "      <td>0.000</td>\n",
       "      <td>0.005000</td>\n",
       "      <td>0.00000</td>\n",
       "    </tr>\n",
       "  </tbody>\n",
       "</table>\n",
       "<p>14753 rows × 221 columns</p>\n",
       "</div>"
      ],
      "text/plain": [
       "       team_changed  tier_changed  position_changed  position_name_y_changed  \\\n",
       "0               0.0           0.0               0.0                      0.0   \n",
       "1               0.0           0.0               0.0                      0.0   \n",
       "2               0.0           0.0               0.0                      0.0   \n",
       "3               0.0           0.0               0.0                      0.0   \n",
       "4               0.0           0.0               0.0                      0.0   \n",
       "...             ...           ...               ...                      ...   \n",
       "14748           0.0           0.0               0.0                      0.0   \n",
       "14749           0.0           0.0               0.0                      0.0   \n",
       "14750           0.0           0.0               0.0                      0.0   \n",
       "14751           0.0           0.0               0.0                      0.0   \n",
       "14752           0.0           0.0               0.0                      0.0   \n",
       "\n",
       "       league_changed  age_current  age_previous  age_mean  age_std  \\\n",
       "0                 0.0         32.0           0.0      32.0      0.0   \n",
       "1                 0.0         32.0          32.0      32.0      0.0   \n",
       "2                 0.0         32.0          32.0      32.0      0.0   \n",
       "3                 0.0         32.0          32.0      32.0      0.0   \n",
       "4                 0.0         32.0          32.0      32.0      0.0   \n",
       "...               ...          ...           ...       ...      ...   \n",
       "14748             0.0         20.0           0.0      20.0      0.0   \n",
       "14749             0.0         19.0           0.0      19.0      0.0   \n",
       "14750             0.0         20.0           0.0      20.0      0.0   \n",
       "14751             0.0         19.0           0.0      19.0      0.0   \n",
       "14752             0.0         19.0           0.0      19.0      0.0   \n",
       "\n",
       "       accurate_crosses.total_current  ...  penalty.commited_mean  \\\n",
       "0                                 NaN  ...                    NaN   \n",
       "1                                 NaN  ...                    NaN   \n",
       "2                                 NaN  ...                    NaN   \n",
       "3                                 NaN  ...                    NaN   \n",
       "4                                 NaN  ...                    NaN   \n",
       "...                               ...  ...                    ...   \n",
       "14748                             NaN  ...                    NaN   \n",
       "14749                             NaN  ...                    NaN   \n",
       "14750                             NaN  ...                    NaN   \n",
       "14751                             NaN  ...                    NaN   \n",
       "14752                             NaN  ...                    NaN   \n",
       "\n",
       "       penalty.commited_std  penalty.saved_current  penalty.saved_previous  \\\n",
       "0                       NaN                    0.0                     0.0   \n",
       "1                       NaN                    0.0                     0.0   \n",
       "2                       NaN                    0.0                     0.0   \n",
       "3                       NaN                    1.0                     0.0   \n",
       "4                       NaN                    0.0                     1.0   \n",
       "...                     ...                    ...                     ...   \n",
       "14748                   NaN                    NaN                     NaN   \n",
       "14749                   NaN                    NaN                     NaN   \n",
       "14750                   NaN                    NaN                     NaN   \n",
       "14751                   NaN                    NaN                     NaN   \n",
       "14752                   NaN                    NaN                     NaN   \n",
       "\n",
       "       penalty.saved_mean  penalty.saved_std  normalised_market_value_current  \\\n",
       "0                     0.0                0.0                         0.035000   \n",
       "1                     0.0                0.0                         0.070000   \n",
       "2                     0.0                0.0                         0.055000   \n",
       "3                     0.5                0.5                         0.020000   \n",
       "4                     0.5                0.5                         0.007500   \n",
       "...                   ...                ...                              ...   \n",
       "14748                 NaN                NaN                         0.000375   \n",
       "14749                 NaN                NaN                         0.000500   \n",
       "14750                 NaN                NaN                         0.000375   \n",
       "14751                 NaN                NaN                         0.000750   \n",
       "14752                 NaN                NaN                         0.005000   \n",
       "\n",
       "       normalised_market_value_previous  normalised_market_value_mean  \\\n",
       "0                                 0.000                      0.035000   \n",
       "1                                 0.035                      0.052500   \n",
       "2                                 0.070                      0.062500   \n",
       "3                                 0.055                      0.037500   \n",
       "4                                 0.020                      0.013750   \n",
       "...                                 ...                           ...   \n",
       "14748                             0.000                      0.000375   \n",
       "14749                             0.000                      0.000500   \n",
       "14750                             0.000                      0.000375   \n",
       "14751                             0.000                      0.000750   \n",
       "14752                             0.000                      0.005000   \n",
       "\n",
       "       normalised_market_value_std  \n",
       "0                          0.00000  \n",
       "1                          0.01750  \n",
       "2                          0.00750  \n",
       "3                          0.01750  \n",
       "4                          0.00625  \n",
       "...                            ...  \n",
       "14748                      0.00000  \n",
       "14749                      0.00000  \n",
       "14750                      0.00000  \n",
       "14751                      0.00000  \n",
       "14752                      0.00000  \n",
       "\n",
       "[14753 rows x 221 columns]"
      ]
     },
     "execution_count": 131,
     "metadata": {},
     "output_type": "execute_result"
    }
   ],
   "source": [
    "cat_features = [f\"{c}_changed\" for c in categorical_features]\n",
    "num_features = []\n",
    "for n in numerical_features:\n",
    "    num_features.extend([\n",
    "        f\"{n}_current\",\n",
    "        f\"{n}_previous\",\n",
    "        f\"{n}_mean\",\n",
    "        f\"{n}_std\",\n",
    "    ])\n",
    "clean_data[cat_features + num_features]"
   ]
  },
  {
   "cell_type": "code",
   "execution_count": 230,
   "metadata": {},
   "outputs": [
    {
     "data": {
      "text/html": [
       "<div>\n",
       "<style scoped>\n",
       "    .dataframe tbody tr th:only-of-type {\n",
       "        vertical-align: middle;\n",
       "    }\n",
       "\n",
       "    .dataframe tbody tr th {\n",
       "        vertical-align: top;\n",
       "    }\n",
       "\n",
       "    .dataframe thead th {\n",
       "        text-align: right;\n",
       "    }\n",
       "</style>\n",
       "<table border=\"1\" class=\"dataframe\">\n",
       "  <thead>\n",
       "    <tr style=\"text-align: right;\">\n",
       "      <th></th>\n",
       "      <th>player_id_api</th>\n",
       "      <th>level_1</th>\n",
       "      <th>height_x_current</th>\n",
       "      <th>team_current</th>\n",
       "      <th>team_changed</th>\n",
       "      <th>tier_current</th>\n",
       "      <th>tier_changed</th>\n",
       "      <th>position_current</th>\n",
       "      <th>position_changed</th>\n",
       "      <th>position_name_y_current</th>\n",
       "      <th>...</th>\n",
       "      <th>penalty.saved_current</th>\n",
       "      <th>penalty.saved_previous</th>\n",
       "      <th>penalty.saved_mean</th>\n",
       "      <th>penalty.saved_std</th>\n",
       "      <th>normalised_market_value_delta</th>\n",
       "      <th>normalised_market_value_current</th>\n",
       "      <th>normalised_market_value_previous</th>\n",
       "      <th>normalised_market_value_mean</th>\n",
       "      <th>normalised_market_value_std</th>\n",
       "      <th>season_current</th>\n",
       "    </tr>\n",
       "  </thead>\n",
       "  <tbody>\n",
       "  </tbody>\n",
       "</table>\n",
       "<p>0 rows × 284 columns</p>\n",
       "</div>"
      ],
      "text/plain": [
       "Empty DataFrame\n",
       "Columns: [player_id_api, level_1, height_x_current, team_current, team_changed, tier_current, tier_changed, position_current, position_changed, position_name_y_current, position_name_y_changed, league_current, league_changed, age_delta, age_current, age_previous, age_mean, age_std, accurate_crosses.total_delta, accurate_crosses.total_current, accurate_crosses.total_previous, accurate_crosses.total_mean, accurate_crosses.total_std, accurate_passes.total_delta, accurate_passes.total_current, accurate_passes.total_previous, accurate_passes.total_mean, accurate_passes.total_std, aerials_won.total_delta, aerials_won.total_current, aerials_won.total_previous, aerials_won.total_mean, aerials_won.total_std, big_chances_created.total_delta, big_chances_created.total_current, big_chances_created.total_previous, big_chances_created.total_mean, big_chances_created.total_std, big_chances_missed.total_delta, big_chances_missed.total_current, big_chances_missed.total_previous, big_chances_missed.total_mean, big_chances_missed.total_std, blocked_shots.total_delta, blocked_shots.total_current, blocked_shots.total_previous, blocked_shots.total_mean, blocked_shots.total_std, clearances.total_delta, clearances.total_current, clearances.total_previous, clearances.total_mean, clearances.total_std, dribbled_past.total_delta, dribbled_past.total_current, dribbled_past.total_previous, dribbled_past.total_mean, dribbled_past.total_std, duels_won.total_delta, duels_won.total_current, duels_won.total_previous, duels_won.total_mean, duels_won.total_std, error_lead_to_goal.total_delta, error_lead_to_goal.total_current, error_lead_to_goal.total_previous, error_lead_to_goal.total_mean, error_lead_to_goal.total_std, fouls.total_delta, fouls.total_current, fouls.total_previous, fouls.total_mean, fouls.total_std, goals.goals_delta, goals.goals_current, goals.goals_previous, goals.goals_mean, goals.goals_std, interceptions.total_delta, interceptions.total_current, interceptions.total_previous, interceptions.total_mean, interceptions.total_std, offsides.total_delta, offsides.total_current, offsides.total_previous, offsides.total_mean, offsides.total_std, redcards.away_delta, redcards.away_current, redcards.away_previous, redcards.away_mean, redcards.away_std, redcards.home_delta, redcards.home_current, redcards.home_previous, redcards.home_mean, redcards.home_std, redcards.total_delta, redcards.total_current, ...]\n",
       "Index: []\n",
       "\n",
       "[0 rows x 284 columns]"
      ]
     },
     "execution_count": 230,
     "metadata": {},
     "output_type": "execute_result"
    }
   ],
   "source": [
    "norm_data[norm_data.normalised_market_value_delta.isna()]"
   ]
  },
  {
   "cell_type": "code",
   "execution_count": 83,
   "metadata": {
    "tags": []
   },
   "outputs": [],
   "source": [
    "numeric_transformer = Pipeline(\n",
    "    steps=[\n",
    "        (\"imputer\", SimpleImputer(strategy=\"median\")),\n",
    "        (\"scaler\", StandardScaler())\n",
    "    ]\n",
    ")\n",
    "\n",
    "# binary_features = [f\"has_{c}\" for c in numerical_features if f\"has_{c}\" in players_selected_vars.columns]\n",
    "# binary_transformer = Pipeline(\n",
    "#     steps=[\n",
    "#         (\"imputer\", SimpleImputer(strategy=\"constant\", fill_value=0))\n",
    "#     ]\n",
    "# )\n",
    "\n",
    "categorical_transformer = Pipeline(\n",
    "    steps=[\n",
    "        (\"encoder\", OneHotEncoder(handle_unknown=\"ignore\"))\n",
    "    ]\n",
    ")\n",
    "preprocessor = ColumnTransformer(\n",
    "    transformers=[\n",
    "        (\"num\", numeric_transformer, num_features),\n",
    "        (\"cat\", categorical_transformer, cat_features),\n",
    "#         (\"bin\", binary_transformer, binary_features),\n",
    "    ]\n",
    ")"
   ]
  },
  {
   "cell_type": "markdown",
   "metadata": {},
   "source": [
    "# Predict price bucket"
   ]
  },
  {
   "cell_type": "code",
   "execution_count": 183,
   "metadata": {},
   "outputs": [],
   "source": [
    "norm_data = clean_data[(np.abs(stats.zscore(clean_data.normalised_market_value_delta)) < 3)]\n",
    "min_value = norm_data.normalised_market_value_delta.min()\n",
    "max_value = norm_data.normalised_market_value_delta.max()\n",
    "value_range = max_value - min_value\n",
    "bins = [i for i in np.arange(min_value, max_value, 0.05)]"
   ]
  },
  {
   "cell_type": "code",
   "execution_count": 185,
   "metadata": {},
   "outputs": [],
   "source": [
    "y = np.digitize(norm_data[\"normalised_market_value_delta\"], bins)\n",
    "X = norm_data"
   ]
  },
  {
   "cell_type": "code",
   "execution_count": 186,
   "metadata": {
    "tags": []
   },
   "outputs": [],
   "source": [
    "(\n",
    "    X_train, X_test, \n",
    "    y_train, y_test, \n",
    ") = train_test_split(\n",
    "    X, y, \n",
    "    test_size=0.2, random_state=42\n",
    ")"
   ]
  },
  {
   "cell_type": "code",
   "execution_count": 187,
   "metadata": {
    "tags": []
   },
   "outputs": [
    {
     "data": {
      "text/plain": [
       "(array([  1,   2,   3,   4,   5,   6,   7,   8,   9,  10,  11,  12,  13,\n",
       "         14,  15,  16,  17,  18,  19,  20,  21,  22,  23,  24,  25,  26,\n",
       "         27,  28,  29,  30,  31,  32,  33,  34,  35,  36,  37,  38,  39,\n",
       "         40,  41,  42,  43,  44,  45,  46,  47,  48,  49,  50,  51,  52,\n",
       "         53,  54,  55,  56,  57,  58,  59,  60,  62,  63,  64,  65,  67,\n",
       "         68,  69,  70,  71,  72,  74,  75,  76,  79,  80,  84,  86,  87,\n",
       "         88,  90,  91,  92,  93, 100, 103, 106, 107, 108, 109, 110, 111,\n",
       "        112, 113, 114, 115, 120, 123, 124, 125, 130, 131, 134, 140, 144,\n",
       "        149, 150, 156, 160, 167, 176, 178, 180, 188, 200, 220, 223],\n",
       "       dtype=int64),\n",
       " array([   6,    4,    6,   15,   54,   48,   64,  145,  165,  309,  173,\n",
       "         304,  282,  363,  374,  584,  276,  239,  159, 6130,   34,  114,\n",
       "         143,  142,  167,   47,  105,   75,   53,  114,   19,   79,   12,\n",
       "          87,   43,   40,   30,   29,    9,  129,    2,   14,   14,   11,\n",
       "          22,   10,   18,   19,    2,   48,    1,    8,    2,   20,   11,\n",
       "          16,   12,    1,    2,   32,    1,    9,    9,    1,   20,    1,\n",
       "           1,    9,    2,   12,    4,   11,    1,    1,   39,    4,    7,\n",
       "           1,    6,   10,    1,    2,    3,   30,    1,    1,    3,    1,\n",
       "           1,    1,    4,    1,    1,    1,    3,   18,    1,    1,    3,\n",
       "           1,    1,    8,    4,    1,    1,    7,    1,   12,    4,    1,\n",
       "           2,    1,    1,   15,    3,    1], dtype=int64))"
      ]
     },
     "execution_count": 187,
     "metadata": {},
     "output_type": "execute_result"
    }
   ],
   "source": [
    "np.unique(y_train, return_counts=True)"
   ]
  },
  {
   "cell_type": "code",
   "execution_count": 188,
   "metadata": {
    "tags": []
   },
   "outputs": [
    {
     "name": "stderr",
     "output_type": "stream",
     "text": [
      "C:\\Users\\Javi\\miniconda3\\envs\\p38\\lib\\site-packages\\sklearn\\metrics\\_classification.py:2184: UserWarning: y_pred contains classes not in y_true\n",
      "  warnings.warn(\"y_pred contains classes not in y_true\")\n"
     ]
    },
    {
     "data": {
      "text/plain": [
       "0.010551671875995039"
      ]
     },
     "execution_count": 188,
     "metadata": {},
     "output_type": "execute_result"
    }
   ],
   "source": [
    "random = Pipeline(\n",
    "    steps=[\n",
    "        (\"preprocessor\", preprocessor),\n",
    "        (\"classifier\", DummyClassifier(strategy=\"stratified\")),\n",
    "    ]\n",
    ")\n",
    "random.fit(X_train, y_train)\n",
    "\n",
    "y_random = random.predict(X_test)\n",
    "\n",
    "balanced_accuracy_score(y_test, y_random)"
   ]
  },
  {
   "cell_type": "code",
   "execution_count": 189,
   "metadata": {
    "tags": []
   },
   "outputs": [],
   "source": [
    "# for name, selector in {\n",
    "#     \"goalkeepers\": goalkeepers_test, \n",
    "#     \"attackers\": attackers_test, \n",
    "#     \"defenders\": defenders_test,\n",
    "#     \"midfielders\": midfielders_test\n",
    "# }.items():\n",
    "#     print(name, balanced_accuracy_score(y_test[selector], random.predict(X_test[selector])))"
   ]
  },
  {
   "cell_type": "code",
   "execution_count": 190,
   "metadata": {
    "tags": []
   },
   "outputs": [
    {
     "name": "stderr",
     "output_type": "stream",
     "text": [
      "C:\\Users\\Javi\\miniconda3\\envs\\p38\\lib\\site-packages\\sklearn\\linear_model\\_logistic.py:458: ConvergenceWarning: lbfgs failed to converge (status=1):\n",
      "STOP: TOTAL NO. of ITERATIONS REACHED LIMIT.\n",
      "\n",
      "Increase the number of iterations (max_iter) or scale the data as shown in:\n",
      "    https://scikit-learn.org/stable/modules/preprocessing.html\n",
      "Please also refer to the documentation for alternative solver options:\n",
      "    https://scikit-learn.org/stable/modules/linear_model.html#logistic-regression\n",
      "  n_iter_i = _check_optimize_result(\n",
      "C:\\Users\\Javi\\miniconda3\\envs\\p38\\lib\\site-packages\\sklearn\\metrics\\_classification.py:2184: UserWarning: y_pred contains classes not in y_true\n",
      "  warnings.warn(\"y_pred contains classes not in y_true\")\n"
     ]
    },
    {
     "data": {
      "text/plain": [
       "0.05860371119902015"
      ]
     },
     "execution_count": 190,
     "metadata": {},
     "output_type": "execute_result"
    }
   ],
   "source": [
    "clf = Pipeline(\n",
    "    steps=[\n",
    "        (\"preprocessor\", preprocessor), \n",
    "        (\"classifier\", LogisticRegression()),\n",
    "    ]\n",
    ")\n",
    "clf.fit(X_train, y_train)\n",
    "y_lr = clf.predict(X_test)\n",
    "balanced_accuracy_score(y_test, y_lr)"
   ]
  },
  {
   "cell_type": "markdown",
   "metadata": {},
   "source": [
    "Only model specific to goalkeepers performs better on that position than the \"all positions\" model.\n",
    "Performance on other positions is similar or marginally better with the generic model."
   ]
  },
  {
   "cell_type": "code",
   "execution_count": 191,
   "metadata": {
    "tags": []
   },
   "outputs": [
    {
     "name": "stderr",
     "output_type": "stream",
     "text": [
      "C:\\Users\\Javi\\miniconda3\\envs\\p38\\lib\\site-packages\\sklearn\\neural_network\\_multilayer_perceptron.py:541: ConvergenceWarning: lbfgs failed to converge (status=1):\n",
      "STOP: TOTAL NO. of ITERATIONS REACHED LIMIT.\n",
      "\n",
      "Increase the number of iterations (max_iter) or scale the data as shown in:\n",
      "    https://scikit-learn.org/stable/modules/preprocessing.html\n",
      "  self.n_iter_ = _check_optimize_result(\"lbfgs\", opt_res, self.max_iter)\n"
     ]
    },
    {
     "data": {
      "text/plain": [
       "0.11739193377809025"
      ]
     },
     "execution_count": 191,
     "metadata": {},
     "output_type": "execute_result"
    }
   ],
   "source": [
    "from sklearn.neural_network import MLPClassifier\n",
    "\n",
    "mlp = Pipeline(\n",
    "    steps=[\n",
    "        (\"preprocessor\", preprocessor), \n",
    "        (\"classifier\", MLPClassifier(solver='lbfgs', alpha=1e-5, hidden_layer_sizes=(16, 8))),\n",
    "    ]\n",
    ")\n",
    "mlp.fit(X_train, y_train)\n",
    "y_mlp = mlp.predict(X_test)\n",
    "balanced_accuracy_score(y_test, y_mlp)"
   ]
  },
  {
   "cell_type": "markdown",
   "metadata": {},
   "source": [
    "Models specific for goalkeeprs and midfielders are slighlty better than one generic model."
   ]
  },
  {
   "cell_type": "code",
   "execution_count": 192,
   "metadata": {
    "tags": []
   },
   "outputs": [
    {
     "ename": "ValueError",
     "evalue": "Invalid classes inferred from unique values of `y`.  Expected: [  0   1   2   3   4   5   6   7   8   9  10  11  12  13  14  15  16  17\n  18  19  20  21  22  23  24  25  26  27  28  29  30  31  32  33  34  35\n  36  37  38  39  40  41  42  43  44  45  46  47  48  49  50  51  52  53\n  54  55  56  57  58  59  60  61  62  63  64  65  66  67  68  69  70  71\n  72  73  74  75  76  77  78  79  80  81  82  83  84  85  86  87  88  89\n  90  91  92  93  94  95  96  97  98  99 100 101 102 103 104 105 106 107\n 108 109 110 111 112 113 114 115], got [  1   2   3   4   5   6   7   8   9  10  11  12  13  14  15  16  17  18\n  19  20  21  22  23  24  25  26  27  28  29  30  31  32  33  34  35  36\n  37  38  39  40  41  42  43  44  45  46  47  48  49  50  51  52  53  54\n  55  56  57  58  59  60  62  63  64  65  67  68  69  70  71  72  74  75\n  76  79  80  84  86  87  88  90  91  92  93 100 103 106 107 108 109 110\n 111 112 113 114 115 120 123 124 125 130 131 134 140 144 149 150 156 160\n 167 176 178 180 188 200 220 223]",
     "output_type": "error",
     "traceback": [
      "\u001b[1;31m---------------------------------------------------------------------------\u001b[0m",
      "\u001b[1;31mValueError\u001b[0m                                Traceback (most recent call last)",
      "Cell \u001b[1;32mIn[192], line 9\u001b[0m\n\u001b[0;32m      1\u001b[0m \u001b[38;5;28;01mfrom\u001b[39;00m \u001b[38;5;21;01mxgboost\u001b[39;00m \u001b[38;5;28;01mimport\u001b[39;00m XGBClassifier\n\u001b[0;32m      3\u001b[0m xgboost \u001b[38;5;241m=\u001b[39m Pipeline(\n\u001b[0;32m      4\u001b[0m     steps\u001b[38;5;241m=\u001b[39m[\n\u001b[0;32m      5\u001b[0m         (\u001b[38;5;124m\"\u001b[39m\u001b[38;5;124mpreprocessor\u001b[39m\u001b[38;5;124m\"\u001b[39m, preprocessor), \n\u001b[0;32m      6\u001b[0m         (\u001b[38;5;124m\"\u001b[39m\u001b[38;5;124mclassifier\u001b[39m\u001b[38;5;124m\"\u001b[39m, XGBClassifier(learning_rate\u001b[38;5;241m=\u001b[39m\u001b[38;5;241m1\u001b[39m)),\n\u001b[0;32m      7\u001b[0m     ]\n\u001b[0;32m      8\u001b[0m )\n\u001b[1;32m----> 9\u001b[0m \u001b[43mxgboost\u001b[49m\u001b[38;5;241;43m.\u001b[39;49m\u001b[43mfit\u001b[49m\u001b[43m(\u001b[49m\u001b[43mX_train\u001b[49m\u001b[43m,\u001b[49m\u001b[43m \u001b[49m\u001b[43my_train\u001b[49m\u001b[43m)\u001b[49m\n\u001b[0;32m     11\u001b[0m y_xgboost \u001b[38;5;241m=\u001b[39m xgboost\u001b[38;5;241m.\u001b[39mpredict(X_test)\n\u001b[0;32m     13\u001b[0m balanced_accuracy_score(y_test, y_xgboost)\n",
      "File \u001b[1;32m~\\miniconda3\\envs\\p38\\lib\\site-packages\\sklearn\\pipeline.py:405\u001b[0m, in \u001b[0;36mPipeline.fit\u001b[1;34m(self, X, y, **fit_params)\u001b[0m\n\u001b[0;32m    403\u001b[0m     \u001b[38;5;28;01mif\u001b[39;00m \u001b[38;5;28mself\u001b[39m\u001b[38;5;241m.\u001b[39m_final_estimator \u001b[38;5;241m!=\u001b[39m \u001b[38;5;124m\"\u001b[39m\u001b[38;5;124mpassthrough\u001b[39m\u001b[38;5;124m\"\u001b[39m:\n\u001b[0;32m    404\u001b[0m         fit_params_last_step \u001b[38;5;241m=\u001b[39m fit_params_steps[\u001b[38;5;28mself\u001b[39m\u001b[38;5;241m.\u001b[39msteps[\u001b[38;5;241m-\u001b[39m\u001b[38;5;241m1\u001b[39m][\u001b[38;5;241m0\u001b[39m]]\n\u001b[1;32m--> 405\u001b[0m         \u001b[38;5;28;43mself\u001b[39;49m\u001b[38;5;241;43m.\u001b[39;49m\u001b[43m_final_estimator\u001b[49m\u001b[38;5;241;43m.\u001b[39;49m\u001b[43mfit\u001b[49m\u001b[43m(\u001b[49m\u001b[43mXt\u001b[49m\u001b[43m,\u001b[49m\u001b[43m \u001b[49m\u001b[43my\u001b[49m\u001b[43m,\u001b[49m\u001b[43m \u001b[49m\u001b[38;5;241;43m*\u001b[39;49m\u001b[38;5;241;43m*\u001b[39;49m\u001b[43mfit_params_last_step\u001b[49m\u001b[43m)\u001b[49m\n\u001b[0;32m    407\u001b[0m \u001b[38;5;28;01mreturn\u001b[39;00m \u001b[38;5;28mself\u001b[39m\n",
      "File \u001b[1;32m~\\miniconda3\\envs\\p38\\lib\\site-packages\\xgboost\\core.py:620\u001b[0m, in \u001b[0;36mrequire_keyword_args.<locals>.throw_if.<locals>.inner_f\u001b[1;34m(*args, **kwargs)\u001b[0m\n\u001b[0;32m    618\u001b[0m \u001b[38;5;28;01mfor\u001b[39;00m k, arg \u001b[38;5;129;01min\u001b[39;00m \u001b[38;5;28mzip\u001b[39m(sig\u001b[38;5;241m.\u001b[39mparameters, args):\n\u001b[0;32m    619\u001b[0m     kwargs[k] \u001b[38;5;241m=\u001b[39m arg\n\u001b[1;32m--> 620\u001b[0m \u001b[38;5;28;01mreturn\u001b[39;00m \u001b[43mfunc\u001b[49m\u001b[43m(\u001b[49m\u001b[38;5;241;43m*\u001b[39;49m\u001b[38;5;241;43m*\u001b[39;49m\u001b[43mkwargs\u001b[49m\u001b[43m)\u001b[49m\n",
      "File \u001b[1;32m~\\miniconda3\\envs\\p38\\lib\\site-packages\\xgboost\\sklearn.py:1440\u001b[0m, in \u001b[0;36mXGBClassifier.fit\u001b[1;34m(self, X, y, sample_weight, base_margin, eval_set, eval_metric, early_stopping_rounds, verbose, xgb_model, sample_weight_eval_set, base_margin_eval_set, feature_weights, callbacks)\u001b[0m\n\u001b[0;32m   1435\u001b[0m     expected_classes \u001b[38;5;241m=\u001b[39m np\u001b[38;5;241m.\u001b[39marange(\u001b[38;5;28mself\u001b[39m\u001b[38;5;241m.\u001b[39mn_classes_)\n\u001b[0;32m   1436\u001b[0m \u001b[38;5;28;01mif\u001b[39;00m (\n\u001b[0;32m   1437\u001b[0m     \u001b[38;5;28mself\u001b[39m\u001b[38;5;241m.\u001b[39mclasses_\u001b[38;5;241m.\u001b[39mshape \u001b[38;5;241m!=\u001b[39m expected_classes\u001b[38;5;241m.\u001b[39mshape\n\u001b[0;32m   1438\u001b[0m     \u001b[38;5;129;01mor\u001b[39;00m \u001b[38;5;129;01mnot\u001b[39;00m (\u001b[38;5;28mself\u001b[39m\u001b[38;5;241m.\u001b[39mclasses_ \u001b[38;5;241m==\u001b[39m expected_classes)\u001b[38;5;241m.\u001b[39mall()\n\u001b[0;32m   1439\u001b[0m ):\n\u001b[1;32m-> 1440\u001b[0m     \u001b[38;5;28;01mraise\u001b[39;00m \u001b[38;5;167;01mValueError\u001b[39;00m(\n\u001b[0;32m   1441\u001b[0m         \u001b[38;5;124mf\u001b[39m\u001b[38;5;124m\"\u001b[39m\u001b[38;5;124mInvalid classes inferred from unique values of `y`.  \u001b[39m\u001b[38;5;124m\"\u001b[39m\n\u001b[0;32m   1442\u001b[0m         \u001b[38;5;124mf\u001b[39m\u001b[38;5;124m\"\u001b[39m\u001b[38;5;124mExpected: \u001b[39m\u001b[38;5;132;01m{\u001b[39;00mexpected_classes\u001b[38;5;132;01m}\u001b[39;00m\u001b[38;5;124m, got \u001b[39m\u001b[38;5;132;01m{\u001b[39;00m\u001b[38;5;28mself\u001b[39m\u001b[38;5;241m.\u001b[39mclasses_\u001b[38;5;132;01m}\u001b[39;00m\u001b[38;5;124m\"\u001b[39m\n\u001b[0;32m   1443\u001b[0m     )\n\u001b[0;32m   1445\u001b[0m params \u001b[38;5;241m=\u001b[39m \u001b[38;5;28mself\u001b[39m\u001b[38;5;241m.\u001b[39mget_xgb_params()\n\u001b[0;32m   1447\u001b[0m \u001b[38;5;28;01mif\u001b[39;00m callable(\u001b[38;5;28mself\u001b[39m\u001b[38;5;241m.\u001b[39mobjective):\n",
      "\u001b[1;31mValueError\u001b[0m: Invalid classes inferred from unique values of `y`.  Expected: [  0   1   2   3   4   5   6   7   8   9  10  11  12  13  14  15  16  17\n  18  19  20  21  22  23  24  25  26  27  28  29  30  31  32  33  34  35\n  36  37  38  39  40  41  42  43  44  45  46  47  48  49  50  51  52  53\n  54  55  56  57  58  59  60  61  62  63  64  65  66  67  68  69  70  71\n  72  73  74  75  76  77  78  79  80  81  82  83  84  85  86  87  88  89\n  90  91  92  93  94  95  96  97  98  99 100 101 102 103 104 105 106 107\n 108 109 110 111 112 113 114 115], got [  1   2   3   4   5   6   7   8   9  10  11  12  13  14  15  16  17  18\n  19  20  21  22  23  24  25  26  27  28  29  30  31  32  33  34  35  36\n  37  38  39  40  41  42  43  44  45  46  47  48  49  50  51  52  53  54\n  55  56  57  58  59  60  62  63  64  65  67  68  69  70  71  72  74  75\n  76  79  80  84  86  87  88  90  91  92  93 100 103 106 107 108 109 110\n 111 112 113 114 115 120 123 124 125 130 131 134 140 144 149 150 156 160\n 167 176 178 180 188 200 220 223]"
     ]
    }
   ],
   "source": [
    "from xgboost import XGBClassifier\n",
    "\n",
    "xgboost = Pipeline(\n",
    "    steps=[\n",
    "        (\"preprocessor\", preprocessor), \n",
    "        (\"classifier\", XGBClassifier(learning_rate=1)),\n",
    "    ]\n",
    ")\n",
    "xgboost.fit(X_train, y_train)\n",
    "\n",
    "y_xgboost = xgboost.predict(X_test)\n",
    "\n",
    "balanced_accuracy_score(y_test, y_xgboost)"
   ]
  },
  {
   "cell_type": "code",
   "execution_count": null,
   "metadata": {
    "tags": []
   },
   "outputs": [],
   "source": [
    "for name, selector in {\n",
    "    \"goalkeepers\": goalkeepers_test, \n",
    "    \"attackers\": attackers_test, \n",
    "    \"defenders\": defenders_test,\n",
    "    \"midfielders\": midfielders_test\n",
    "}.items():\n",
    "    print(name, balanced_accuracy_score(y_test[selector], xgboost.predict(X_test[selector])))"
   ]
  },
  {
   "cell_type": "code",
   "execution_count": null,
   "metadata": {
    "tags": []
   },
   "outputs": [],
   "source": [
    "from collections import defaultdict\n",
    "arr = np.zeros((10, 10))\n",
    "for a, b in zip(y_test, y_xgboost):\n",
    "    arr[a, b] = arr[a, b] + 1"
   ]
  },
  {
   "cell_type": "code",
   "execution_count": null,
   "metadata": {
    "tags": []
   },
   "outputs": [],
   "source": [
    "arr"
   ]
  },
  {
   "cell_type": "code",
   "execution_count": null,
   "metadata": {
    "tags": []
   },
   "outputs": [],
   "source": [
    "plt.imshow(arr, cmap='hot')\n",
    "plt.xlabel(\"Observed\")\n",
    "plt.ylabel(\"Predicted\")\n",
    "_ = plt.show()"
   ]
  },
  {
   "cell_type": "code",
   "execution_count": null,
   "metadata": {
    "tags": []
   },
   "outputs": [],
   "source": [
    "x = np.unique(y_test - y_xgboost, return_counts=True)\n",
    "a, b =x"
   ]
  },
  {
   "cell_type": "code",
   "execution_count": null,
   "metadata": {
    "tags": []
   },
   "outputs": [],
   "source": [
    "cnt = 0\n",
    "for q,w in zip(a, b):\n",
    "    print(q, w)\n",
    "    cnt += w\n",
    "cnt"
   ]
  },
  {
   "cell_type": "code",
   "execution_count": null,
   "metadata": {
    "tags": []
   },
   "outputs": [],
   "source": [
    "(583 + 1397 + 569) / 2951"
   ]
  },
  {
   "cell_type": "code",
   "execution_count": null,
   "metadata": {
    "tags": []
   },
   "outputs": [],
   "source": [
    "np.unique(y_lr, return_counts=True)"
   ]
  },
  {
   "cell_type": "markdown",
   "metadata": {},
   "source": [
    "## Features importance"
   ]
  },
  {
   "cell_type": "code",
   "execution_count": null,
   "metadata": {
    "tags": []
   },
   "outputs": [],
   "source": [
    "result = permutation_importance(\n",
    "    xgboost, X_test, y_test, n_repeats=10, random_state=42, n_jobs=2\n",
    ")\n",
    "\n",
    "forest_importances = pd.Series(result.importances_mean, index=X_test.columns)\n",
    "\n",
    "fig, ax = plt.subplots()\n",
    "forest_importances.plot.bar(yerr=result.importances_std, ax=ax)\n",
    "ax.set_title(\"Feature importances using permutation on full model\")\n",
    "ax.set_ylabel(\"Mean accuracy decrease\")\n",
    "fig.tight_layout()\n",
    "plt.show()"
   ]
  },
  {
   "cell_type": "markdown",
   "metadata": {},
   "source": [
    "# Predict market value"
   ]
  },
  {
   "cell_type": "markdown",
   "metadata": {},
   "source": [
    "## TODO: zero inflated regression"
   ]
  },
  {
   "cell_type": "code",
   "execution_count": 193,
   "metadata": {
    "tags": []
   },
   "outputs": [],
   "source": [
    "from sklearn.metrics import r2_score"
   ]
  },
  {
   "cell_type": "code",
   "execution_count": 214,
   "metadata": {
    "tags": []
   },
   "outputs": [
    {
     "data": {
      "image/png": "[encoded data removed]",
      "text/plain": [
       "<Figure size 640x480 with 1 Axes>"
      ]
     },
     "metadata": {},
     "output_type": "display_data"
    }
   ],
   "source": [
    "plt.hist(norm_data[\"normalised_market_value_delta\"], bins=100)\n",
    "# plt.xlim((0, 0.5e8))\n",
    "plt.yscale(\"log\")"
   ]
  },
  {
   "cell_type": "code",
   "execution_count": 195,
   "metadata": {
    "tags": []
   },
   "outputs": [],
   "source": [
    "def r2_adj(model, x, y):\n",
    "    r2 = model.score(x,y)\n",
    "    n = x.shape[0]\n",
    "    p = x.shape[1]\n",
    "    return 1-(1-r2)*(n-1)/(n-p-1)\n",
    "\n",
    "def r2_adj2(x, y_test, y_pred):\n",
    "    r2 = r2_score(y_test, y_pred)\n",
    "    n = x.shape[0]\n",
    "    p = x.shape[1]\n",
    "    return 1-(1-r2)*(n-1)/(n-p-1)"
   ]
  },
  {
   "cell_type": "code",
   "execution_count": 219,
   "metadata": {
    "tags": []
   },
   "outputs": [],
   "source": [
    "X = norm_data\n",
    "y = norm_data[\"normalised_market_value_delta\"]"
   ]
  },
  {
   "cell_type": "code",
   "execution_count": 220,
   "metadata": {
    "tags": []
   },
   "outputs": [
    {
     "data": {
      "text/plain": [
       "((11509, 284), (3149, 284), (11509,), (3149,))"
      ]
     },
     "execution_count": 220,
     "metadata": {},
     "output_type": "execute_result"
    }
   ],
   "source": [
    "X_train = X.loc[X[\"season_current\"] < 2021]\n",
    "X_test = X.loc[X[\"season_current\"] == 2021]\n",
    "y_train = y.loc[X[\"season_current\"] < 2021]\n",
    "y_test = y.loc[X[\"season_current\"] == 2021]\n",
    "X_train.shape, X_test.shape, y_train.shape, y_test.shape"
   ]
  },
  {
   "cell_type": "code",
   "execution_count": 221,
   "metadata": {
    "tags": []
   },
   "outputs": [
    {
     "ename": "KeyError",
     "evalue": "'position'",
     "output_type": "error",
     "traceback": [
      "\u001b[1;31m---------------------------------------------------------------------------\u001b[0m",
      "\u001b[1;31mKeyError\u001b[0m                                  Traceback (most recent call last)",
      "File \u001b[1;32m~\\miniconda3\\envs\\p38\\lib\\site-packages\\pandas\\core\\indexes\\base.py:3802\u001b[0m, in \u001b[0;36mIndex.get_loc\u001b[1;34m(self, key, method, tolerance)\u001b[0m\n\u001b[0;32m   3801\u001b[0m \u001b[38;5;28;01mtry\u001b[39;00m:\n\u001b[1;32m-> 3802\u001b[0m     \u001b[38;5;28;01mreturn\u001b[39;00m \u001b[38;5;28;43mself\u001b[39;49m\u001b[38;5;241;43m.\u001b[39;49m\u001b[43m_engine\u001b[49m\u001b[38;5;241;43m.\u001b[39;49m\u001b[43mget_loc\u001b[49m\u001b[43m(\u001b[49m\u001b[43mcasted_key\u001b[49m\u001b[43m)\u001b[49m\n\u001b[0;32m   3803\u001b[0m \u001b[38;5;28;01mexcept\u001b[39;00m \u001b[38;5;167;01mKeyError\u001b[39;00m \u001b[38;5;28;01mas\u001b[39;00m err:\n",
      "File \u001b[1;32m~\\miniconda3\\envs\\p38\\lib\\site-packages\\pandas\\_libs\\index.pyx:138\u001b[0m, in \u001b[0;36mpandas._libs.index.IndexEngine.get_loc\u001b[1;34m()\u001b[0m\n",
      "File \u001b[1;32m~\\miniconda3\\envs\\p38\\lib\\site-packages\\pandas\\_libs\\index.pyx:165\u001b[0m, in \u001b[0;36mpandas._libs.index.IndexEngine.get_loc\u001b[1;34m()\u001b[0m\n",
      "File \u001b[1;32mpandas\\_libs\\hashtable_class_helper.pxi:5745\u001b[0m, in \u001b[0;36mpandas._libs.hashtable.PyObjectHashTable.get_item\u001b[1;34m()\u001b[0m\n",
      "File \u001b[1;32mpandas\\_libs\\hashtable_class_helper.pxi:5753\u001b[0m, in \u001b[0;36mpandas._libs.hashtable.PyObjectHashTable.get_item\u001b[1;34m()\u001b[0m\n",
      "\u001b[1;31mKeyError\u001b[0m: 'position'",
      "\nThe above exception was the direct cause of the following exception:\n",
      "\u001b[1;31mKeyError\u001b[0m                                  Traceback (most recent call last)",
      "Cell \u001b[1;32mIn[221], line 4\u001b[0m\n\u001b[0;32m      2\u001b[0m selectors_test \u001b[38;5;241m=\u001b[39m \u001b[38;5;28mdict\u001b[39m()\n\u001b[0;32m      3\u001b[0m \u001b[38;5;28;01mfor\u001b[39;00m p \u001b[38;5;129;01min\u001b[39;00m [\u001b[38;5;124m\"\u001b[39m\u001b[38;5;124mGoalkeeper\u001b[39m\u001b[38;5;124m\"\u001b[39m, \u001b[38;5;124m\"\u001b[39m\u001b[38;5;124mAttack\u001b[39m\u001b[38;5;124m\"\u001b[39m, \u001b[38;5;124m\"\u001b[39m\u001b[38;5;124mDefender\u001b[39m\u001b[38;5;124m\"\u001b[39m, \u001b[38;5;124m\"\u001b[39m\u001b[38;5;124mMidfield\u001b[39m\u001b[38;5;124m\"\u001b[39m]:\n\u001b[1;32m----> 4\u001b[0m     selectors_train[p] \u001b[38;5;241m=\u001b[39m (\u001b[43mX_train\u001b[49m\u001b[43m[\u001b[49m\u001b[38;5;124;43m\"\u001b[39;49m\u001b[38;5;124;43mposition\u001b[39;49m\u001b[38;5;124;43m\"\u001b[39;49m\u001b[43m]\u001b[49m \u001b[38;5;241m==\u001b[39m p)\u001b[38;5;241m.\u001b[39mvalues\n\u001b[0;32m      5\u001b[0m     selectors_test[p] \u001b[38;5;241m=\u001b[39m (X_test[\u001b[38;5;124m\"\u001b[39m\u001b[38;5;124mposition\u001b[39m\u001b[38;5;124m\"\u001b[39m] \u001b[38;5;241m==\u001b[39m p)\u001b[38;5;241m.\u001b[39mvalues\n",
      "File \u001b[1;32m~\\miniconda3\\envs\\p38\\lib\\site-packages\\pandas\\core\\frame.py:3807\u001b[0m, in \u001b[0;36mDataFrame.__getitem__\u001b[1;34m(self, key)\u001b[0m\n\u001b[0;32m   3805\u001b[0m \u001b[38;5;28;01mif\u001b[39;00m \u001b[38;5;28mself\u001b[39m\u001b[38;5;241m.\u001b[39mcolumns\u001b[38;5;241m.\u001b[39mnlevels \u001b[38;5;241m>\u001b[39m \u001b[38;5;241m1\u001b[39m:\n\u001b[0;32m   3806\u001b[0m     \u001b[38;5;28;01mreturn\u001b[39;00m \u001b[38;5;28mself\u001b[39m\u001b[38;5;241m.\u001b[39m_getitem_multilevel(key)\n\u001b[1;32m-> 3807\u001b[0m indexer \u001b[38;5;241m=\u001b[39m \u001b[38;5;28;43mself\u001b[39;49m\u001b[38;5;241;43m.\u001b[39;49m\u001b[43mcolumns\u001b[49m\u001b[38;5;241;43m.\u001b[39;49m\u001b[43mget_loc\u001b[49m\u001b[43m(\u001b[49m\u001b[43mkey\u001b[49m\u001b[43m)\u001b[49m\n\u001b[0;32m   3808\u001b[0m \u001b[38;5;28;01mif\u001b[39;00m is_integer(indexer):\n\u001b[0;32m   3809\u001b[0m     indexer \u001b[38;5;241m=\u001b[39m [indexer]\n",
      "File \u001b[1;32m~\\miniconda3\\envs\\p38\\lib\\site-packages\\pandas\\core\\indexes\\base.py:3804\u001b[0m, in \u001b[0;36mIndex.get_loc\u001b[1;34m(self, key, method, tolerance)\u001b[0m\n\u001b[0;32m   3802\u001b[0m     \u001b[38;5;28;01mreturn\u001b[39;00m \u001b[38;5;28mself\u001b[39m\u001b[38;5;241m.\u001b[39m_engine\u001b[38;5;241m.\u001b[39mget_loc(casted_key)\n\u001b[0;32m   3803\u001b[0m \u001b[38;5;28;01mexcept\u001b[39;00m \u001b[38;5;167;01mKeyError\u001b[39;00m \u001b[38;5;28;01mas\u001b[39;00m err:\n\u001b[1;32m-> 3804\u001b[0m     \u001b[38;5;28;01mraise\u001b[39;00m \u001b[38;5;167;01mKeyError\u001b[39;00m(key) \u001b[38;5;28;01mfrom\u001b[39;00m \u001b[38;5;21;01merr\u001b[39;00m\n\u001b[0;32m   3805\u001b[0m \u001b[38;5;28;01mexcept\u001b[39;00m \u001b[38;5;167;01mTypeError\u001b[39;00m:\n\u001b[0;32m   3806\u001b[0m     \u001b[38;5;66;03m# If we have a listlike key, _check_indexing_error will raise\u001b[39;00m\n\u001b[0;32m   3807\u001b[0m     \u001b[38;5;66;03m#  InvalidIndexError. Otherwise we fall through and re-raise\u001b[39;00m\n\u001b[0;32m   3808\u001b[0m     \u001b[38;5;66;03m#  the TypeError.\u001b[39;00m\n\u001b[0;32m   3809\u001b[0m     \u001b[38;5;28mself\u001b[39m\u001b[38;5;241m.\u001b[39m_check_indexing_error(key)\n",
      "\u001b[1;31mKeyError\u001b[0m: 'position'"
     ]
    }
   ],
   "source": [
    "selectors_train = dict()\n",
    "selectors_test = dict()\n",
    "for p in [\"Goalkeeper\", \"Attack\", \"Defender\", \"Midfield\"]:\n",
    "    selectors_train[p] = (X_train[\"position\"] == p).values\n",
    "    selectors_test[p] = (X_test[\"position\"] == p).values"
   ]
  },
  {
   "cell_type": "code",
   "execution_count": 200,
   "metadata": {
    "tags": []
   },
   "outputs": [],
   "source": [
    "# goalkeepers = (X[\"position\"] == \"Goalkeeper\").values\n",
    "# attackers = (X[\"position\"] == \"Attack\").values\n",
    "# defenders = (X[\"position\"] == \"Defender\").values\n",
    "# midfielders = (X[\"position\"] == \"Midfield\").values\n",
    "\n",
    "# (\n",
    "#     X_train, X_test, \n",
    "#     y_train, y_test, \n",
    "#     goalkeepers_train, goalkeepers_test,\n",
    "#     attackers_train, attackers_test,\n",
    "#     defenders_train, defenders_test, \n",
    "#     midfielders_train, midfielders_test\n",
    "# ) = train_test_split(\n",
    "#     X, y, \n",
    "#     goalkeepers, attackers, defenders, midfielders,\n",
    "#     test_size=0.2, random_state=42\n",
    "# )"
   ]
  },
  {
   "cell_type": "code",
   "execution_count": 222,
   "metadata": {
    "tags": []
   },
   "outputs": [
    {
     "data": {
      "text/plain": [
       "(-2.2341037716921974e-05, -0.09918656759313293)"
      ]
     },
     "execution_count": 222,
     "metadata": {},
     "output_type": "execute_result"
    }
   ],
   "source": [
    "random_regression = Pipeline(\n",
    "    steps=[\n",
    "        (\"preprocessor\", preprocessor),\n",
    "        (\"regression\", DummyRegressor()),\n",
    "    ]\n",
    ")\n",
    "random_regression.fit(X_train, y_train)\n",
    "\n",
    "random_regression.score(X_test, y_test), r2_adj(random_regression, X_test, y_test)"
   ]
  },
  {
   "cell_type": "code",
   "execution_count": null,
   "metadata": {
    "tags": []
   },
   "outputs": [],
   "source": [
    "for name, selector in selectors_test.items():\n",
    "    print(name, random_regression.score(X_test[selector], y_test[selector]), r2_adj(random_regression, X_test[selector], y_test[selector]))"
   ]
  },
  {
   "cell_type": "code",
   "execution_count": null,
   "metadata": {
    "tags": []
   },
   "outputs": [],
   "source": [
    "y_2020 = X_train.loc[X_train[\"season\"] == 2020].groupby(\"player_id_api\")[\"market_value\"].mean()\n",
    "y_prev = pd.merge(\n",
    "    y_2020,\n",
    "    X_test,\n",
    "    left_index=True,\n",
    "    right_on=\"player_id_api\",\n",
    "    how=\"right\"\n",
    ")[\"market_value_x\"].fillna(y_2020.mean())"
   ]
  },
  {
   "cell_type": "code",
   "execution_count": null,
   "metadata": {
    "tags": []
   },
   "outputs": [],
   "source": [
    "r2_score(np.exp(y_test), y_prev), r2_adj2(X_test, np.exp(y_test), y_prev)"
   ]
  },
  {
   "cell_type": "code",
   "execution_count": null,
   "metadata": {
    "tags": []
   },
   "outputs": [],
   "source": [
    "for name, selector in selectors_test.items():\n",
    "    print(name, r2_score(np.exp(y_test)[selector], y_prev[selector]), r2_adj2(X_test[selector], np.exp(y_test)[selector], y_prev[selector]))"
   ]
  },
  {
   "cell_type": "code",
   "execution_count": 224,
   "metadata": {
    "tags": []
   },
   "outputs": [
    {
     "data": {
      "text/plain": [
       "(-9630627059571604.0, -1.0585619407657616e+16)"
      ]
     },
     "execution_count": 224,
     "metadata": {},
     "output_type": "execute_result"
    }
   ],
   "source": [
    "regression = Pipeline(\n",
    "    steps=[\n",
    "        (\"preprocessor\", preprocessor),\n",
    "        (\"regression\", LinearRegression()),\n",
    "    ]\n",
    ")\n",
    "regression.fit(X_train, y_train)\n",
    "\n",
    "y_reg = regression.predict(X_test)\n",
    "\n",
    "# regression.score(X_test, y_test), r2_adj(regression, X_test, y_test)\n",
    "r2_score(y_test, y_reg), r2_adj2(X_test, y_test, y_reg)"
   ]
  },
  {
   "cell_type": "code",
   "execution_count": 225,
   "metadata": {
    "tags": []
   },
   "outputs": [],
   "source": [
    "for name, selector in selectors_test.items():\n",
    "    y_reg = regression.predict(X_test[selector])\n",
    "    print(name, r2_score(np.exp(y_test[selector]), np.exp(y_reg)), r2_adj2(X_test[selector], np.exp(y_test[selector]), np.exp(y_reg)))\n",
    "    # print(name, regression.score(X_test[selector], y_test[selector]), r2_adj(regression, X_test[selector], y_test[selector]))"
   ]
  },
  {
   "cell_type": "markdown",
   "metadata": {},
   "source": [
    "Only model specific for midfielder is slightly better than the generic one."
   ]
  },
  {
   "cell_type": "code",
   "execution_count": 226,
   "metadata": {
    "tags": []
   },
   "outputs": [
    {
     "name": "stderr",
     "output_type": "stream",
     "text": [
      "C:\\Users\\Javi\\miniconda3\\envs\\p38\\lib\\site-packages\\sklearn\\neural_network\\_multilayer_perceptron.py:541: ConvergenceWarning: lbfgs failed to converge (status=1):\n",
      "STOP: TOTAL NO. of ITERATIONS REACHED LIMIT.\n",
      "\n",
      "Increase the number of iterations (max_iter) or scale the data as shown in:\n",
      "    https://scikit-learn.org/stable/modules/preprocessing.html\n",
      "  self.n_iter_ = _check_optimize_result(\"lbfgs\", opt_res, self.max_iter)\n"
     ]
    },
    {
     "data": {
      "text/plain": [
       "(-450.0422623772588, -494.76852023869094)"
      ]
     },
     "execution_count": 226,
     "metadata": {},
     "output_type": "execute_result"
    }
   ],
   "source": [
    "from sklearn.neural_network import MLPRegressor\n",
    "\n",
    "mlp_reg = Pipeline(\n",
    "    steps=[\n",
    "        (\"preprocessor\", preprocessor), \n",
    "        (\"regression\", MLPRegressor(solver='lbfgs', alpha=1e-5, hidden_layer_sizes=(16, 8))),\n",
    "    ]\n",
    ")\n",
    "mlp_reg.fit(X_train, y_train)\n",
    "\n",
    "y_mlp = mlp_reg.predict(X_test)\n",
    "\n",
    "# mlp_reg.score(X_test, y_test), r2_adj(mlp_reg, X_test, y_test)\n",
    "r2_score(np.exp(y_test), np.exp(y_mlp)), r2_adj2(X_test, np.exp(y_test), np.exp(y_mlp))"
   ]
  },
  {
   "cell_type": "code",
   "execution_count": null,
   "metadata": {
    "tags": []
   },
   "outputs": [],
   "source": [
    "for name, selector in selectors_test.items():\n",
    "    y_mlp = mlp_reg.predict(X_test[selector])\n",
    "    print(name, r2_score(np.exp(y_test[selector]), np.exp(y_mlp)), r2_adj2(X_test[selector], np.exp(y_test[selector]), np.exp(y_mlp)))\n",
    "    # print(name, mlp_reg.score(X_test[selector], y_test[selector]), r2_adj(mlp_reg, X_test[selector], y_test[selector]))"
   ]
  },
  {
   "cell_type": "markdown",
   "metadata": {},
   "source": [
    "\"All positions\" model performs better than position specific models."
   ]
  },
  {
   "cell_type": "code",
   "execution_count": 227,
   "metadata": {
    "tags": []
   },
   "outputs": [
    {
     "data": {
      "text/plain": [
       "(0.9687060017830414, 0.9656028259821978)"
      ]
     },
     "execution_count": 227,
     "metadata": {},
     "output_type": "execute_result"
    }
   ],
   "source": [
    "from xgboost import XGBRegressor\n",
    "\n",
    "xgboost_reg = Pipeline(\n",
    "    steps=[\n",
    "        (\"preprocessor\", preprocessor), \n",
    "        (\"regression\", XGBRegressor()),\n",
    "    ]\n",
    ")\n",
    "xgboost_reg.fit(X_train, y_train)\n",
    "\n",
    "y_xgboost = xgboost_reg.predict(X_test)\n",
    "\n",
    "\n",
    "# xgboost_reg.score(X_test, y_test), r2_adj(xgboost_reg, X_test, y_test)\n",
    "r2_score(y_test, y_xgboost), r2_adj2(X_test, y_test, y_xgboost)"
   ]
  },
  {
   "cell_type": "code",
   "execution_count": null,
   "metadata": {
    "tags": []
   },
   "outputs": [],
   "source": [
    "for name, selector in selectors_test.items():\n",
    "    print(name, xgboost_reg.score(X_test[selector], y_test[selector]), r2_adj(xgboost_reg, X_test[selector], y_test[selector]))"
   ]
  },
  {
   "cell_type": "code",
   "execution_count": 228,
   "metadata": {
    "tags": []
   },
   "outputs": [
    {
     "data": {
      "image/png": "[encoded data removed]",
      "text/plain": [
       "<Figure size 640x480 with 1 Axes>"
      ]
     },
     "metadata": {},
     "output_type": "display_data"
    }
   ],
   "source": [
    "plt.scatter(y_train, regression.predict(X_train), alpha=0.5, label=\"lr\")\n",
    "plt.scatter(y_train, random_regression.predict(X_train), alpha=0.5, label=\"random\")\n",
    "plt.scatter(y_train, mlp_reg.predict(X_train), alpha=0.5, label=\"MLP\")\n",
    "plt.scatter(y_train, xgboost_reg.predict(X_train), alpha=0.5, label=\"XGBoost\")\n",
    "plt.axline((0, 0), (1, 1), c=\"k\")\n",
    "plt.xlim(np.floor(y_train.min())-0.1, np.ceil(y_test.max())+0.1)\n",
    "plt.ylim(np.floor(y_train.min())-0.1, np.ceil(y_test.max())+0.1)\n",
    "plt.xlabel(\"Observed\")\n",
    "plt.ylabel(\"Predicted\")\n",
    "plt.legend()\n",
    "_ = plt.show()"
   ]
  },
  {
   "cell_type": "code",
   "execution_count": 229,
   "metadata": {
    "tags": []
   },
   "outputs": [
    {
     "ename": "NameError",
     "evalue": "name 'y_prev' is not defined",
     "output_type": "error",
     "traceback": [
      "\u001b[1;31m---------------------------------------------------------------------------\u001b[0m",
      "\u001b[1;31mNameError\u001b[0m                                 Traceback (most recent call last)",
      "Cell \u001b[1;32mIn[229], line 5\u001b[0m\n\u001b[0;32m      3\u001b[0m plt\u001b[38;5;241m.\u001b[39mscatter(y_test, mlp_reg\u001b[38;5;241m.\u001b[39mpredict(X_test), alpha\u001b[38;5;241m=\u001b[39m\u001b[38;5;241m0.25\u001b[39m, label\u001b[38;5;241m=\u001b[39m\u001b[38;5;124m\"\u001b[39m\u001b[38;5;124mMLP\u001b[39m\u001b[38;5;124m\"\u001b[39m)\n\u001b[0;32m      4\u001b[0m plt\u001b[38;5;241m.\u001b[39mscatter(y_test, xgboost_reg\u001b[38;5;241m.\u001b[39mpredict(X_test), alpha\u001b[38;5;241m=\u001b[39m\u001b[38;5;241m0.25\u001b[39m, label\u001b[38;5;241m=\u001b[39m\u001b[38;5;124m\"\u001b[39m\u001b[38;5;124mXGBoost\u001b[39m\u001b[38;5;124m\"\u001b[39m)\n\u001b[1;32m----> 5\u001b[0m plt\u001b[38;5;241m.\u001b[39mscatter(y_test, np\u001b[38;5;241m.\u001b[39mlog(\u001b[43my_prev\u001b[49m), alpha\u001b[38;5;241m=\u001b[39m\u001b[38;5;241m0.25\u001b[39m, label\u001b[38;5;241m=\u001b[39m\u001b[38;5;124m\"\u001b[39m\u001b[38;5;124mprev_season\u001b[39m\u001b[38;5;124m\"\u001b[39m)\n\u001b[0;32m      6\u001b[0m plt\u001b[38;5;241m.\u001b[39maxline((\u001b[38;5;241m0\u001b[39m, \u001b[38;5;241m0\u001b[39m), (\u001b[38;5;241m1\u001b[39m, \u001b[38;5;241m1\u001b[39m), c\u001b[38;5;241m=\u001b[39m\u001b[38;5;124m\"\u001b[39m\u001b[38;5;124mk\u001b[39m\u001b[38;5;124m\"\u001b[39m)\n\u001b[0;32m      7\u001b[0m plt\u001b[38;5;241m.\u001b[39mxlim(np\u001b[38;5;241m.\u001b[39mfloor(y_test\u001b[38;5;241m.\u001b[39mmin())\u001b[38;5;241m-\u001b[39m\u001b[38;5;241m0.1\u001b[39m, np\u001b[38;5;241m.\u001b[39mceil(y_test\u001b[38;5;241m.\u001b[39mmax())\u001b[38;5;241m+\u001b[39m\u001b[38;5;241m0.1\u001b[39m)\n",
      "\u001b[1;31mNameError\u001b[0m: name 'y_prev' is not defined"
     ]
    },
    {
     "data": {
      "image/png": "[encoded data removed]",
      "text/plain": [
       "<Figure size 640x480 with 1 Axes>"
      ]
     },
     "metadata": {},
     "output_type": "display_data"
    }
   ],
   "source": [
    "plt.scatter(y_test, regression.predict(X_test), alpha=0.25, label=\"lr\")\n",
    "# plt.scatter(y_test, random_regression.predict(X_test), alpha=0.5, label=\"random\")\n",
    "plt.scatter(y_test, mlp_reg.predict(X_test), alpha=0.25, label=\"MLP\")\n",
    "plt.scatter(y_test, xgboost_reg.predict(X_test), alpha=0.25, label=\"XGBoost\")\n",
    "plt.scatter(y_test, np.log(y_prev), alpha=0.25, label=\"prev_season\")\n",
    "plt.axline((0, 0), (1, 1), c=\"k\")\n",
    "plt.xlim(np.floor(y_test.min())-0.1, np.ceil(y_test.max())+0.1)\n",
    "plt.ylim(np.floor(y_test.min())-0.1, np.ceil(y_test.max())+0.1)\n",
    "plt.xlabel(\"Observed\")\n",
    "plt.ylabel(\"Predicted\")\n",
    "plt.legend()\n",
    "_ = plt.show()"
   ]
  },
  {
   "cell_type": "code",
   "execution_count": null,
   "metadata": {
    "tags": []
   },
   "outputs": [],
   "source": [
    "reg_results = pd.DataFrame({\n",
    "    \"y\": np.exp(y_test),\n",
    "    \"y_pred\": np.exp(xgboost_reg.predict(X_test))\n",
    "    # \"y\": y_test,\n",
    "    # \"y_pred\": xgboost_reg.predict(X_test)\n",
    "})\n",
    "reg_results[\"diff\"] = reg_results[\"y_pred\"] - reg_results[\"y\"]\n",
    "reg_results[\"rel_error\"] = reg_results[\"diff\"] / reg_results[\"y\"] * 100\n",
    "reg_results[\"abs_rel_error\"] = np.abs(reg_results[\"rel_error\"])\n",
    "reg_results"
   ]
  },
  {
   "cell_type": "code",
   "execution_count": null,
   "metadata": {
    "tags": []
   },
   "outputs": [],
   "source": [
    "reg_results[\"y\"].rank()"
   ]
  },
  {
   "cell_type": "code",
   "execution_count": null,
   "metadata": {
    "tags": []
   },
   "outputs": [],
   "source": [
    "np.mean(reg_results[\"abs_rel_error\"])"
   ]
  },
  {
   "cell_type": "code",
   "execution_count": null,
   "metadata": {
    "tags": []
   },
   "outputs": [],
   "source": [
    "_data = reg_results.loc[reg_results[\"y\"] >= 1_000_000]\n",
    "plt.scatter(_data[\"y\"].rank(), _data[\"rel_error\"])\n",
    "# plt.xscale(\"log\")"
   ]
  },
  {
   "cell_type": "code",
   "execution_count": null,
   "metadata": {
    "tags": []
   },
   "outputs": [],
   "source": [
    "_ = plt.hist(_data[\"abs_rel_error\"], bins=100)"
   ]
  },
  {
   "cell_type": "code",
   "execution_count": null,
   "metadata": {
    "tags": []
   },
   "outputs": [],
   "source": [
    "_data.loc[_data[\"abs_rel_error\"] < 20].sort_values(\"abs_rel_error\")"
   ]
  },
  {
   "cell_type": "code",
   "execution_count": null,
   "metadata": {
    "tags": []
   },
   "outputs": [],
   "source": [
    "_data.sort_values(\"abs_rel_error\")"
   ]
  },
  {
   "cell_type": "markdown",
   "metadata": {},
   "source": [
    "## Features importance"
   ]
  },
  {
   "cell_type": "code",
   "execution_count": null,
   "metadata": {
    "tags": []
   },
   "outputs": [],
   "source": [
    "result = permutation_importance(\n",
    "    xgboost_reg, X_test, y_test, n_repeats=10, random_state=42, n_jobs=2\n",
    ")"
   ]
  },
  {
   "cell_type": "code",
   "execution_count": null,
   "metadata": {
    "tags": []
   },
   "outputs": [],
   "source": [
    "non_zero_feats = np.abs(result.importances_mean) > 1e-03\n",
    "forest_importances = pd.Series(result.importances_mean[non_zero_feats], index=X_test.columns.values[non_zero_feats])\n",
    "\n",
    "fig, ax = plt.subplots()\n",
    "forest_importances.plot.bar(yerr=result.importances_std[non_zero_feats], ax=ax)\n",
    "ax.set_title(\"Feature importances using permutation on full model\")\n",
    "ax.set_ylabel(\"Mean accuracy decrease\")\n",
    "fig.tight_layout()\n",
    "plt.show()"
   ]
  },
  {
   "cell_type": "markdown",
   "metadata": {},
   "source": [
    "# Predict change in market value between seasons"
   ]
  },
  {
   "cell_type": "code",
   "execution_count": null,
   "metadata": {
    "tags": []
   },
   "outputs": [],
   "source": [
    "before_after_seasons = pd.merge(\n",
    "    players_selected_vars, \n",
    "    players_selected_vars, \n",
    "    on=\"player_id_api\", \n",
    "    suffixes=[\"_before\", \"_after\"]\n",
    ").query(\"season_after - season_before == 1\")"
   ]
  },
  {
   "cell_type": "code",
   "execution_count": null,
   "metadata": {
    "tags": []
   },
   "outputs": [],
   "source": [
    "numeric_features_ba = [\n",
    "    f\"{c}_{suffix}\" for c in [\n",
    "        \"age\",\n",
    "        \"matches_played\",\n",
    "        \"matches_started\",\n",
    "        \"90s_played\",\n",
    "        # \"goals_against\",\n",
    "        # \"own_goals_against\",\n",
    "        # \"shots_on_target_against\",\n",
    "        # \"saves\",\n",
    "        # \"save%\",\n",
    "        # \"saves_inside_box\",\n",
    "        # \"penalty_kicks_saves\",\n",
    "    \"height_x\",\n",
    "    \"accurate_crosses.total\",\n",
    "    \"accurate_passes.total\",\n",
    "    \"aerials_won.total\",\n",
    "    \"big_chances_created.total\",\n",
    "    \"big_chances_missed.total\",\n",
    "    \"blocked_shots.total\",\n",
    "    \"clearances.total\",\n",
    "    \"dribbled_past.total\",\n",
    "    \"duels_won.total\",\n",
    "    \"error_lead_to_goal.total\",\n",
    "    \"fouls.total\",\n",
    "    \"goals.goals\",\n",
    "    \"interceptions.total\",\n",
    "    \"offsides.total\",\n",
    "    \"redcards.away\",\n",
    "    \"redcards.home\",\n",
    "    \"redcards.total\",\n",
    "    \"saves_inside_box.total\",\n",
    "    \"shots_off_target.total\",\n",
    "    \"tackles.total_x\",\n",
    "    \"through_balls.total\",\n",
    "    \"total_crosses.total\",\n",
    "    \"total_duels.total\",\n",
    "    \"yellowcards.away\",\n",
    "    \"yellowcards.home\",\n",
    "    \"yellowcards.total\",\n",
    "    \"yellowred_cards.away\",\n",
    "    \"yellowred_cards.home\",\n",
    "    \"yellowred_cards.total\",\n",
    "    \"shots.total\",\n",
    "    \"shots.on\",\n",
    "    \"goals.total_y\",\n",
    "    \"goals.conceded\",\n",
    "    \"goals.assists\",\n",
    "    \"goals.saves\",\n",
    "    \"passes.total_y\",\n",
    "    \"passes.key\",\n",
    "    \"passes.accuracy\",\n",
    "    \"tackles.total_y\",\n",
    "    \"tackles.blocks\",\n",
    "    \"tackles.interceptions\",\n",
    "    \"duels.total\",\n",
    "    \"duels.won\",\n",
    "    \"dribbles.attempts\",\n",
    "    \"dribbles.success\",\n",
    "    \"dribbles.past\",\n",
    "    \"fouls.committed\",\n",
    "    \"cards.yellow\",\n",
    "    \"cards.yellowred\",\n",
    "    \"cards.red\",\n",
    "    \"penalty.commited\",\n",
    "    \"penalty.saved\",\n",
    "    ]\n",
    "    for suffix in [\"before\",\"after\"]\n",
    "]\n",
    "numeric_transformer_ba = Pipeline(\n",
    "    steps=[\n",
    "        (\"imputer\", SimpleImputer(strategy=\"median\")),\n",
    "        (\"scaler\", StandardScaler())\n",
    "    ]\n",
    ")\n",
    "\n",
    "categorical_features_ba = [\n",
    "    f\"{c}_{suffix}\" for c in [\n",
    "        \"nationality\",\n",
    "        \"league\",\n",
    "        \"team\",\n",
    "        \"tier\",\n",
    "        \"position\",\n",
    "    ]\n",
    "    for suffix in [\"before\",\"after\"]\n",
    "]\n",
    "categorical_transformer_ba = Pipeline(\n",
    "    steps=[\n",
    "        (\"encoder\", OneHotEncoder(handle_unknown=\"ignore\"))\n",
    "    ]\n",
    ")\n",
    "\n",
    "preprocessor_ba = ColumnTransformer(\n",
    "    transformers=[\n",
    "        (\"num\", numeric_transformer_ba, numeric_features_ba),\n",
    "        (\"cat\", categorical_transformer_ba, categorical_features_ba),\n",
    "    ]\n",
    ")"
   ]
  },
  {
   "cell_type": "code",
   "execution_count": null,
   "metadata": {
    "tags": []
   },
   "outputs": [],
   "source": [
    "X = before_after_seasons\n",
    "y_before = np.digitize(before_after_seasons[\"normalised_market_value_before\"], bins)\n",
    "y_after = np.digitize(before_after_seasons[\"normalised_market_value_after\"], bins)\n",
    "y = np.minimum(np.maximum(y_after - y_before, -1), 1)"
   ]
  },
  {
   "cell_type": "code",
   "execution_count": null,
   "metadata": {
    "tags": []
   },
   "outputs": [],
   "source": [
    "goalkeepers = (X[\"position_before\"] == \"Goalkeeper\").values\n",
    "attackers = (X[\"position_before\"] == \"Attack\").values\n",
    "defenders = (X[\"position_before\"] == \"Defender\").values\n",
    "midfielders = (X[\"position_before\"] == \"Midfield\").values\n",
    "\n",
    "(\n",
    "    X_train, X_test, \n",
    "    y_train, y_test, \n",
    "    goalkeepers_train, goalkeepers_test,\n",
    "    attackers_train, attackers_test,\n",
    "    defenders_train, defenders_test, \n",
    "    midfielders_train, midfielders_test\n",
    ") = train_test_split(\n",
    "    X, y, \n",
    "    goalkeepers, attackers, defenders, midfielders,\n",
    "    test_size=0.2, random_state=42\n",
    ")"
   ]
  },
  {
   "cell_type": "code",
   "execution_count": null,
   "metadata": {
    "tags": []
   },
   "outputs": [],
   "source": [
    "random = Pipeline(\n",
    "    steps=[\n",
    "        (\"preprocessor\", preprocessor_ba),\n",
    "        (\"classifier\", DummyClassifier(strategy=\"stratified\")),\n",
    "    ]\n",
    ")\n",
    "random.fit(X_train, y_train)\n",
    "\n",
    "balanced_accuracy_score(y_test, random.predict(X_test))"
   ]
  },
  {
   "cell_type": "code",
   "execution_count": null,
   "metadata": {
    "tags": []
   },
   "outputs": [],
   "source": [
    "for name, selector in {\n",
    "    \"goalkeepers\": goalkeepers_test, \n",
    "    \"attackers\": attackers_test, \n",
    "    \"defenders\": defenders_test,\n",
    "    \"midfielders\": midfielders_test\n",
    "}.items():\n",
    "    print(name, balanced_accuracy_score(y_test[selector], random.predict(X_test[selector])))"
   ]
  },
  {
   "cell_type": "code",
   "execution_count": null,
   "metadata": {
    "tags": []
   },
   "outputs": [],
   "source": [
    "clf = Pipeline(\n",
    "    steps=[\n",
    "        (\"preprocessor\", preprocessor_ba), \n",
    "        (\"classifier\", LogisticRegression()),\n",
    "    ]\n",
    ")\n",
    "clf.fit(X_train, y_train)\n",
    "\n",
    "print(confusion_matrix(y_test, clf.predict(X_test), labels=[1, 0, -1]))\n",
    "\n",
    "balanced_accuracy_score(y_test, clf.predict(X_test))"
   ]
  },
  {
   "cell_type": "code",
   "execution_count": null,
   "metadata": {
    "tags": []
   },
   "outputs": [],
   "source": [
    "for name, selector in {\n",
    "    \"goalkeepers\": goalkeepers_test, \n",
    "    \"attackers\": attackers_test, \n",
    "    \"defenders\": defenders_test,\n",
    "    \"midfielders\": midfielders_test\n",
    "}.items():\n",
    "    print(name, balanced_accuracy_score(y_test[selector], clf.predict(X_test[selector])))"
   ]
  },
  {
   "cell_type": "markdown",
   "metadata": {},
   "source": [
    "\"All positions\" model performs better on all positions."
   ]
  },
  {
   "cell_type": "code",
   "execution_count": null,
   "metadata": {
    "tags": []
   },
   "outputs": [],
   "source": [
    "from sklearn.neural_network import MLPClassifier\n",
    "\n",
    "mlp = Pipeline(\n",
    "    steps=[\n",
    "        (\"preprocessor\", preprocessor_ba), \n",
    "        (\"classifier\", MLPClassifier(solver='lbfgs', alpha=1e-5, hidden_layer_sizes=(32, 16))),\n",
    "    ]\n",
    ")\n",
    "mlp.fit(X_train, y_train)\n",
    "\n",
    "print(confusion_matrix(y_test, mlp.predict(X_test), labels=[1, 0, -1]))\n",
    "\n",
    "balanced_accuracy_score(y_test, mlp.predict(X_test))"
   ]
  },
  {
   "cell_type": "code",
   "execution_count": null,
   "metadata": {
    "tags": []
   },
   "outputs": [],
   "source": [
    "for name, selector in {\n",
    "    \"goalkeepers\": goalkeepers_test, \n",
    "    \"attackers\": attackers_test, \n",
    "    \"defenders\": defenders_test,\n",
    "    \"midfielders\": midfielders_test\n",
    "}.items():\n",
    "    print(name, balanced_accuracy_score(y_test[selector], mlp.predict(X_test[selector])))"
   ]
  },
  {
   "cell_type": "markdown",
   "metadata": {},
   "source": [
    "Only model specific for midfielders perform marginally better."
   ]
  },
  {
   "cell_type": "code",
   "execution_count": null,
   "metadata": {
    "tags": []
   },
   "outputs": [],
   "source": [
    "from xgboost import XGBClassifier\n",
    "\n",
    "xgboost = Pipeline(\n",
    "    steps=[\n",
    "        (\"preprocessor\", preprocessor_ba), \n",
    "        (\"classifier\", XGBClassifier()),\n",
    "    ]\n",
    ")\n",
    "xgboost.fit(X_train, y_train+1)\n",
    "\n",
    "y_xgboost = xgboost.predict(X_test)\n",
    "\n",
    "balanced_accuracy_score(y_test+1, y_xgboost)"
   ]
  },
  {
   "cell_type": "code",
   "execution_count": null,
   "metadata": {
    "tags": []
   },
   "outputs": [],
   "source": [
    "for name, selector in {\n",
    "    \"goalkeepers\": goalkeepers_test, \n",
    "    \"attackers\": attackers_test, \n",
    "    \"defenders\": defenders_test,\n",
    "    \"midfielders\": midfielders_test\n",
    "}.items():\n",
    "    print(name, balanced_accuracy_score(y_test[selector]+1, xgboost.predict(X_test[selector])))"
   ]
  },
  {
   "cell_type": "markdown",
   "metadata": {},
   "source": [
    "XGBoost performs here better than MLP, and comparable as position-specific models."
   ]
  },
  {
   "cell_type": "markdown",
   "metadata": {},
   "source": [
    "## Features importance"
   ]
  },
  {
   "cell_type": "code",
   "execution_count": null,
   "metadata": {
    "tags": []
   },
   "outputs": [],
   "source": [
    "result = permutation_importance(\n",
    "    xgboost, X_test, y_test, n_repeats=10, random_state=42, n_jobs=2\n",
    ")\n",
    "\n",
    "forest_importances = pd.Series(result.importances_mean, index=X_test.columns)\n",
    "\n",
    "fig, ax = plt.subplots()\n",
    "forest_importances.plot.bar(yerr=result.importances_std, ax=ax)\n",
    "ax.set_title(\"Feature importances using permutation on full model\")\n",
    "ax.set_ylabel(\"Mean accuracy decrease\")\n",
    "fig.tight_layout()\n",
    "plt.show()"
   ]
  }
 ],
 "metadata": {
  "kernelspec": {
   "display_name": "p38",
   "language": "python",
   "name": "p38"
  },
  "language_info": {
   "codemirror_mode": {
    "name": "ipython",
    "version": 3
   },
   "file_extension": ".py",
   "mimetype": "text/x-python",
   "name": "python",
   "nbconvert_exporter": "python",
   "pygments_lexer": "ipython3",
   "version": "3.8.16"
  }
 },
 "nbformat": 4,
 "nbformat_minor": 5
}
