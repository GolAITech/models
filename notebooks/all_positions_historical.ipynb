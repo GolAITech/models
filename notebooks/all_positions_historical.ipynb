{
 "cells": [
  {
   "cell_type": "code",
   "execution_count": 3,
   "metadata": {
    "tags": []
   },
   "outputs": [],
   "source": [
    "from smart_open import open\n",
    "import pandas as pd\n",
    "import datetime\n",
    "import numpy as np\n",
    "import matplotlib.pyplot as plt\n",
    "from sklearn.preprocessing import normalize\n",
    "\n",
    "%load_ext autoreload\n",
    "%autoreload 2"
   ]
  },
  {
   "cell_type": "markdown",
   "metadata": {},
   "source": [
    "# Load data for all positions"
   ]
  },
  {
   "cell_type": "code",
   "execution_count": 159,
   "metadata": {
    "tags": []
   },
   "outputs": [],
   "source": [
    "data = pd.read_csv(\"../data/training_pruned_file_20162021.csv\")\n",
    "players = data"
   ]
  },
  {
   "cell_type": "code",
   "execution_count": 160,
   "metadata": {
    "tags": []
   },
   "outputs": [
    {
     "data": {
      "text/plain": [
       "array(['Premier League', 'Ligue 1', 'Bundesliga', 'Serie A', 'La Liga'],\n",
       "      dtype=object)"
      ]
     },
     "execution_count": 160,
     "metadata": {},
     "output_type": "execute_result"
    }
   ],
   "source": [
    "data[\"league_name\"].unique()"
   ]
  },
  {
   "cell_type": "markdown",
   "metadata": {},
   "source": [
    "## Select variables"
   ]
  },
  {
   "cell_type": "code",
   "execution_count": 161,
   "metadata": {
    "tags": []
   },
   "outputs": [
    {
     "data": {
      "text/html": [
       "<div>\n",
       "<style scoped>\n",
       "    .dataframe tbody tr th:only-of-type {\n",
       "        vertical-align: middle;\n",
       "    }\n",
       "\n",
       "    .dataframe tbody tr th {\n",
       "        vertical-align: top;\n",
       "    }\n",
       "\n",
       "    .dataframe thead th {\n",
       "        text-align: right;\n",
       "    }\n",
       "</style>\n",
       "<table border=\"1\" class=\"dataframe\">\n",
       "  <thead>\n",
       "    <tr style=\"text-align: right;\">\n",
       "      <th></th>\n",
       "      <th>name</th>\n",
       "      <th>player_id_api</th>\n",
       "      <th>age</th>\n",
       "      <th>nationality</th>\n",
       "      <th>league</th>\n",
       "      <th>team</th>\n",
       "      <th>season</th>\n",
       "      <th>matches_played</th>\n",
       "      <th>matches_started</th>\n",
       "      <th>90s_played</th>\n",
       "      <th>...</th>\n",
       "      <th>duels.won</th>\n",
       "      <th>dribbles.attempts</th>\n",
       "      <th>dribbles.success</th>\n",
       "      <th>dribbles.past</th>\n",
       "      <th>fouls.committed</th>\n",
       "      <th>cards.yellow</th>\n",
       "      <th>cards.yellowred</th>\n",
       "      <th>cards.red</th>\n",
       "      <th>penalty.commited</th>\n",
       "      <th>penalty.saved</th>\n",
       "    </tr>\n",
       "  </thead>\n",
       "  <tbody>\n",
       "    <tr>\n",
       "      <th>0</th>\n",
       "      <td>George Thomas</td>\n",
       "      <td>20479</td>\n",
       "      <td>26</td>\n",
       "      <td>Wales</td>\n",
       "      <td>Premier League</td>\n",
       "      <td>Leicester City</td>\n",
       "      <td>2017</td>\n",
       "      <td>0.0</td>\n",
       "      <td>0.0</td>\n",
       "      <td>0.000000</td>\n",
       "      <td>...</td>\n",
       "      <td>NaN</td>\n",
       "      <td>NaN</td>\n",
       "      <td>NaN</td>\n",
       "      <td>NaN</td>\n",
       "      <td>NaN</td>\n",
       "      <td>0.0</td>\n",
       "      <td>0.0</td>\n",
       "      <td>0.0</td>\n",
       "      <td>NaN</td>\n",
       "      <td>NaN</td>\n",
       "    </tr>\n",
       "    <tr>\n",
       "      <th>1</th>\n",
       "      <td>Harvey Lewis Barnes</td>\n",
       "      <td>18778</td>\n",
       "      <td>25</td>\n",
       "      <td>England</td>\n",
       "      <td>Premier League</td>\n",
       "      <td>Leicester City</td>\n",
       "      <td>2017</td>\n",
       "      <td>3.0</td>\n",
       "      <td>0.0</td>\n",
       "      <td>0.077778</td>\n",
       "      <td>...</td>\n",
       "      <td>1.0</td>\n",
       "      <td>0.0</td>\n",
       "      <td>0.0</td>\n",
       "      <td>NaN</td>\n",
       "      <td>1.0</td>\n",
       "      <td>0.0</td>\n",
       "      <td>0.0</td>\n",
       "      <td>0.0</td>\n",
       "      <td>NaN</td>\n",
       "      <td>NaN</td>\n",
       "    </tr>\n",
       "    <tr>\n",
       "      <th>2</th>\n",
       "      <td>Andy King</td>\n",
       "      <td>19217</td>\n",
       "      <td>34</td>\n",
       "      <td>Wales</td>\n",
       "      <td>Premier League</td>\n",
       "      <td>Leicester City</td>\n",
       "      <td>2017</td>\n",
       "      <td>11.0</td>\n",
       "      <td>9.0</td>\n",
       "      <td>7.977778</td>\n",
       "      <td>...</td>\n",
       "      <td>24.0</td>\n",
       "      <td>4.0</td>\n",
       "      <td>1.0</td>\n",
       "      <td>NaN</td>\n",
       "      <td>5.0</td>\n",
       "      <td>1.0</td>\n",
       "      <td>0.0</td>\n",
       "      <td>0.0</td>\n",
       "      <td>NaN</td>\n",
       "      <td>NaN</td>\n",
       "    </tr>\n",
       "    <tr>\n",
       "      <th>3</th>\n",
       "      <td>Marc Albrighton</td>\n",
       "      <td>18777</td>\n",
       "      <td>33</td>\n",
       "      <td>England</td>\n",
       "      <td>Premier League</td>\n",
       "      <td>Leicester City</td>\n",
       "      <td>2017</td>\n",
       "      <td>34.0</td>\n",
       "      <td>30.0</td>\n",
       "      <td>28.266667</td>\n",
       "      <td>...</td>\n",
       "      <td>140.0</td>\n",
       "      <td>95.0</td>\n",
       "      <td>52.0</td>\n",
       "      <td>NaN</td>\n",
       "      <td>20.0</td>\n",
       "      <td>5.0</td>\n",
       "      <td>0.0</td>\n",
       "      <td>1.0</td>\n",
       "      <td>1.0</td>\n",
       "      <td>NaN</td>\n",
       "    </tr>\n",
       "    <tr>\n",
       "      <th>4</th>\n",
       "      <td>Kelechi Promise Iheanacho</td>\n",
       "      <td>2778</td>\n",
       "      <td>26</td>\n",
       "      <td>Nigeria</td>\n",
       "      <td>Premier League</td>\n",
       "      <td>Leicester City</td>\n",
       "      <td>2017</td>\n",
       "      <td>21.0</td>\n",
       "      <td>7.0</td>\n",
       "      <td>9.144444</td>\n",
       "      <td>...</td>\n",
       "      <td>37.0</td>\n",
       "      <td>18.0</td>\n",
       "      <td>13.0</td>\n",
       "      <td>NaN</td>\n",
       "      <td>17.0</td>\n",
       "      <td>2.0</td>\n",
       "      <td>0.0</td>\n",
       "      <td>0.0</td>\n",
       "      <td>NaN</td>\n",
       "      <td>NaN</td>\n",
       "    </tr>\n",
       "    <tr>\n",
       "      <th>...</th>\n",
       "      <td>...</td>\n",
       "      <td>...</td>\n",
       "      <td>...</td>\n",
       "      <td>...</td>\n",
       "      <td>...</td>\n",
       "      <td>...</td>\n",
       "      <td>...</td>\n",
       "      <td>...</td>\n",
       "      <td>...</td>\n",
       "      <td>...</td>\n",
       "      <td>...</td>\n",
       "      <td>...</td>\n",
       "      <td>...</td>\n",
       "      <td>...</td>\n",
       "      <td>...</td>\n",
       "      <td>...</td>\n",
       "      <td>...</td>\n",
       "      <td>...</td>\n",
       "      <td>...</td>\n",
       "      <td>...</td>\n",
       "      <td>...</td>\n",
       "    </tr>\n",
       "    <tr>\n",
       "      <th>14768</th>\n",
       "      <td>Matěj Vydra</td>\n",
       "      <td>18930</td>\n",
       "      <td>31</td>\n",
       "      <td>Czech Republic</td>\n",
       "      <td>Premier League</td>\n",
       "      <td>Burnley</td>\n",
       "      <td>2021</td>\n",
       "      <td>22.0</td>\n",
       "      <td>5.0</td>\n",
       "      <td>7.400000</td>\n",
       "      <td>...</td>\n",
       "      <td>44.0</td>\n",
       "      <td>14.0</td>\n",
       "      <td>6.0</td>\n",
       "      <td>NaN</td>\n",
       "      <td>9.0</td>\n",
       "      <td>1.0</td>\n",
       "      <td>0.0</td>\n",
       "      <td>0.0</td>\n",
       "      <td>NaN</td>\n",
       "      <td>NaN</td>\n",
       "    </tr>\n",
       "    <tr>\n",
       "      <th>14769</th>\n",
       "      <td>Josh Brownhill</td>\n",
       "      <td>19268</td>\n",
       "      <td>27</td>\n",
       "      <td>England</td>\n",
       "      <td>Premier League</td>\n",
       "      <td>Burnley</td>\n",
       "      <td>2021</td>\n",
       "      <td>35.0</td>\n",
       "      <td>32.0</td>\n",
       "      <td>32.811111</td>\n",
       "      <td>...</td>\n",
       "      <td>155.0</td>\n",
       "      <td>30.0</td>\n",
       "      <td>15.0</td>\n",
       "      <td>NaN</td>\n",
       "      <td>39.0</td>\n",
       "      <td>10.0</td>\n",
       "      <td>0.0</td>\n",
       "      <td>0.0</td>\n",
       "      <td>NaN</td>\n",
       "      <td>NaN</td>\n",
       "    </tr>\n",
       "    <tr>\n",
       "      <th>14770</th>\n",
       "      <td>Ashley Barnes</td>\n",
       "      <td>18927</td>\n",
       "      <td>33</td>\n",
       "      <td>England</td>\n",
       "      <td>Premier League</td>\n",
       "      <td>Burnley</td>\n",
       "      <td>2021</td>\n",
       "      <td>23.0</td>\n",
       "      <td>8.0</td>\n",
       "      <td>8.888889</td>\n",
       "      <td>...</td>\n",
       "      <td>77.0</td>\n",
       "      <td>8.0</td>\n",
       "      <td>5.0</td>\n",
       "      <td>NaN</td>\n",
       "      <td>21.0</td>\n",
       "      <td>4.0</td>\n",
       "      <td>0.0</td>\n",
       "      <td>0.0</td>\n",
       "      <td>NaN</td>\n",
       "      <td>NaN</td>\n",
       "    </tr>\n",
       "    <tr>\n",
       "      <th>14771</th>\n",
       "      <td>Wout Weghorst</td>\n",
       "      <td>25416</td>\n",
       "      <td>30</td>\n",
       "      <td>Netherlands</td>\n",
       "      <td>Premier League</td>\n",
       "      <td>Burnley</td>\n",
       "      <td>2021</td>\n",
       "      <td>18.0</td>\n",
       "      <td>17.0</td>\n",
       "      <td>17.244444</td>\n",
       "      <td>...</td>\n",
       "      <td>96.0</td>\n",
       "      <td>8.0</td>\n",
       "      <td>7.0</td>\n",
       "      <td>NaN</td>\n",
       "      <td>17.0</td>\n",
       "      <td>2.0</td>\n",
       "      <td>0.0</td>\n",
       "      <td>0.0</td>\n",
       "      <td>NaN</td>\n",
       "      <td>NaN</td>\n",
       "    </tr>\n",
       "    <tr>\n",
       "      <th>14772</th>\n",
       "      <td>Bobby Thomas</td>\n",
       "      <td>264437</td>\n",
       "      <td>22</td>\n",
       "      <td>England</td>\n",
       "      <td>Premier League</td>\n",
       "      <td>Burnley</td>\n",
       "      <td>2021</td>\n",
       "      <td>0.0</td>\n",
       "      <td>0.0</td>\n",
       "      <td>0.000000</td>\n",
       "      <td>...</td>\n",
       "      <td>NaN</td>\n",
       "      <td>NaN</td>\n",
       "      <td>NaN</td>\n",
       "      <td>NaN</td>\n",
       "      <td>NaN</td>\n",
       "      <td>0.0</td>\n",
       "      <td>0.0</td>\n",
       "      <td>0.0</td>\n",
       "      <td>NaN</td>\n",
       "      <td>NaN</td>\n",
       "    </tr>\n",
       "  </tbody>\n",
       "</table>\n",
       "<p>14773 rows × 66 columns</p>\n",
       "</div>"
      ],
      "text/plain": [
       "                            name  player_id_api  age     nationality  \\\n",
       "0                  George Thomas          20479   26           Wales   \n",
       "1            Harvey Lewis Barnes          18778   25         England   \n",
       "2                      Andy King          19217   34           Wales   \n",
       "3                Marc Albrighton          18777   33         England   \n",
       "4      Kelechi Promise Iheanacho           2778   26         Nigeria   \n",
       "...                          ...            ...  ...             ...   \n",
       "14768                Matěj Vydra          18930   31  Czech Republic   \n",
       "14769             Josh Brownhill          19268   27         England   \n",
       "14770              Ashley Barnes          18927   33         England   \n",
       "14771              Wout Weghorst          25416   30     Netherlands   \n",
       "14772               Bobby Thomas         264437   22         England   \n",
       "\n",
       "               league            team  season  matches_played  \\\n",
       "0      Premier League  Leicester City    2017             0.0   \n",
       "1      Premier League  Leicester City    2017             3.0   \n",
       "2      Premier League  Leicester City    2017            11.0   \n",
       "3      Premier League  Leicester City    2017            34.0   \n",
       "4      Premier League  Leicester City    2017            21.0   \n",
       "...               ...             ...     ...             ...   \n",
       "14768  Premier League         Burnley    2021            22.0   \n",
       "14769  Premier League         Burnley    2021            35.0   \n",
       "14770  Premier League         Burnley    2021            23.0   \n",
       "14771  Premier League         Burnley    2021            18.0   \n",
       "14772  Premier League         Burnley    2021             0.0   \n",
       "\n",
       "       matches_started  90s_played  ...  duels.won dribbles.attempts  \\\n",
       "0                  0.0    0.000000  ...        NaN               NaN   \n",
       "1                  0.0    0.077778  ...        1.0               0.0   \n",
       "2                  9.0    7.977778  ...       24.0               4.0   \n",
       "3                 30.0   28.266667  ...      140.0              95.0   \n",
       "4                  7.0    9.144444  ...       37.0              18.0   \n",
       "...                ...         ...  ...        ...               ...   \n",
       "14768              5.0    7.400000  ...       44.0              14.0   \n",
       "14769             32.0   32.811111  ...      155.0              30.0   \n",
       "14770              8.0    8.888889  ...       77.0               8.0   \n",
       "14771             17.0   17.244444  ...       96.0               8.0   \n",
       "14772              0.0    0.000000  ...        NaN               NaN   \n",
       "\n",
       "      dribbles.success  dribbles.past  fouls.committed  cards.yellow  \\\n",
       "0                  NaN            NaN              NaN           0.0   \n",
       "1                  0.0            NaN              1.0           0.0   \n",
       "2                  1.0            NaN              5.0           1.0   \n",
       "3                 52.0            NaN             20.0           5.0   \n",
       "4                 13.0            NaN             17.0           2.0   \n",
       "...                ...            ...              ...           ...   \n",
       "14768              6.0            NaN              9.0           1.0   \n",
       "14769             15.0            NaN             39.0          10.0   \n",
       "14770              5.0            NaN             21.0           4.0   \n",
       "14771              7.0            NaN             17.0           2.0   \n",
       "14772              NaN            NaN              NaN           0.0   \n",
       "\n",
       "       cards.yellowred  cards.red  penalty.commited  penalty.saved  \n",
       "0                  0.0        0.0               NaN            NaN  \n",
       "1                  0.0        0.0               NaN            NaN  \n",
       "2                  0.0        0.0               NaN            NaN  \n",
       "3                  0.0        1.0               1.0            NaN  \n",
       "4                  0.0        0.0               NaN            NaN  \n",
       "...                ...        ...               ...            ...  \n",
       "14768              0.0        0.0               NaN            NaN  \n",
       "14769              0.0        0.0               NaN            NaN  \n",
       "14770              0.0        0.0               NaN            NaN  \n",
       "14771              0.0        0.0               NaN            NaN  \n",
       "14772              0.0        0.0               NaN            NaN  \n",
       "\n",
       "[14773 rows x 66 columns]"
      ]
     },
     "execution_count": 161,
     "metadata": {},
     "output_type": "execute_result"
    }
   ],
   "source": [
    "players_selected_vars = players[[\n",
    "    \"name\",\n",
    "    \"player_id_api\",\n",
    "    \"date_of_birth\",\n",
    "    \"nationality\",\n",
    "    \"team_name\",\n",
    "    'league_name',\n",
    "    'league.season',\n",
    "    \"games.appearences\",\n",
    "    \"games.lineups\",\n",
    "    \"games.minutes\",\n",
    "    # \"goals.conceded\",\n",
    "    # \"goals.saves\",\n",
    "    # \"penalty.saved\",\n",
    "    # \"highest_market_value_in_eur\",\n",
    "    \"market_value_in_eur_x\",\n",
    "    # \"own_goals.total\",\n",
    "    \"position\",\n",
    "    \"position_name_y\",\n",
    "    \"height_x\",\n",
    "    \"accurate_crosses.total\",\n",
    "    \"accurate_passes.total\",\n",
    "    \"aerials_won.total\",\n",
    "    \"big_chances_created.total\",\n",
    "    \"big_chances_missed.total\",\n",
    "    \"blocked_shots.total\",\n",
    "    \"clearances.total\",\n",
    "    \"dribbled_past.total\",\n",
    "    \"duels_won.total\",\n",
    "    \"error_lead_to_goal.total\",\n",
    "    \"fouls.total\",\n",
    "    \"goals.goals\",\n",
    "    \"interceptions.total\",\n",
    "    \"offsides.total\",\n",
    "    \"redcards.away\",\n",
    "    \"redcards.home\",\n",
    "    \"redcards.total\",\n",
    "    \"saves_inside_box.total\",\n",
    "    \"shots_off_target.total\",\n",
    "    \"tackles.total_x\",\n",
    "    \"through_balls.total\",\n",
    "    \"total_crosses.total\",\n",
    "    \"total_duels.total\",\n",
    "    \"yellowcards.away\",\n",
    "    \"yellowcards.home\",\n",
    "    \"yellowcards.total\",\n",
    "    \"yellowred_cards.away\",\n",
    "    \"yellowred_cards.home\",\n",
    "    \"yellowred_cards.total\",\n",
    "    \"shots.total\",\n",
    "    \"shots.on\",\n",
    "    \"goals.total_y\",\n",
    "    \"goals.conceded\",\n",
    "    \"goals.assists\",\n",
    "    \"goals.saves\",\n",
    "    \"passes.total_y\",\n",
    "    \"passes.key\",\n",
    "    \"passes.accuracy\",\n",
    "    \"tackles.total_y\",\n",
    "    \"tackles.blocks\",\n",
    "    \"tackles.interceptions\",\n",
    "    \"duels.total\",\n",
    "    \"duels.won\",\n",
    "    \"dribbles.attempts\",\n",
    "    \"dribbles.success\",\n",
    "    \"dribbles.past\",\n",
    "    \"fouls.committed\",\n",
    "    \"cards.yellow\",\n",
    "    \"cards.yellowred\",\n",
    "    \"cards.red\",\n",
    "    \"penalty.commited\",\n",
    "    \"penalty.saved\",\n",
    "]].copy().rename({\n",
    "    \"team_name\": \"team\",\n",
    "    \"league_name\": \"league\",\n",
    "    \"league.season\": \"season\",\n",
    "    \"games.appearences\": \"matches_played\",\n",
    "    \"games.lineups\": \"matches_started\",\n",
    "    \"games.minutes\": \"minutes\",\n",
    "    # \"goals.conceded\": \"goals_against\",\n",
    "    # \"goals.saves\": \"saves\",\n",
    "    # \"saves_inside_box.total\": \"saves_inside_box\",\n",
    "    # \"penalty.saved\": \"penalty_kicks_saves\",\n",
    "    # \"own_goals.total\": \"own_goals_against\",\n",
    "    # \"error_lead_to_goal.total\": \"errors_to_goal\",\n",
    "    \"market_value_in_eur_x\": \"market_value\",\n",
    "}, axis=1)\n",
    "players_selected_vars[\"90s_played\"] = players_selected_vars[\"minutes\"] / 90\n",
    "players_selected_vars[\"age\"] = pd.to_datetime(players_selected_vars[\"date_of_birth\"]).map(lambda x: int((pd.Timestamp.today() - x).days / 365))\n",
    "for per_90 in [\n",
    "    # \"shots_on_target_against\",\n",
    "    # \"saves_inside_box\",\n",
    "    # \"saves\",\n",
    "    # \"penalty_kicks_saves\",\n",
    "    # \"own_goals_against\",\n",
    "    # \"goals_against\",\n",
    "    # \"accurate_crosses.total\",\n",
    "    # \"big_chances_created.total\",\n",
    "    # \"big_chances_missed.total\",\n",
    "    # \"blocked_shots.total\",\n",
    "    # \"dribbled_past.total\",\n",
    "    # \"goals.goals\",\n",
    "    # \"offsides.total\",\n",
    "    # \"shots_off_target.total\",\n",
    "    # \"through_balls.total\",\n",
    "    # \"total_crosses.total\",\n",
    "    # \"shots.total\",\n",
    "    # \"shots.on\",\n",
    "    # \"goals.total_y\",\n",
    "    # \"goals.assists\",\n",
    "    # \"passes.key\",\n",
    "    # \"dribbles.attempts\",\n",
    "    # \"dribbles.success\",\n",
    "    # \"dribbles.past\",\n",
    "]:\n",
    "    players_selected_vars[per_90] = players_selected_vars[per_90] / players_selected_vars[\"90s_played\"]\n",
    "\n",
    "\n",
    "players_selected_vars.replace([np.inf, -np.inf], np.nan, inplace=True)\n",
    "    \n",
    "players_selected_vars = players_selected_vars.drop([\n",
    "    \"date_of_birth\",\n",
    "    \"minutes\",\n",
    "], axis=1)\n",
    "\n",
    "order = [\n",
    "    \"name\",\n",
    "    \"player_id_api\",\n",
    "    \"age\",\n",
    "    \"nationality\",\n",
    "    \"league\",\n",
    "    \"team\",\n",
    "    \"season\",\n",
    "    \"matches_played\",\n",
    "    \"matches_started\",\n",
    "    # \"minutes\",\n",
    "    \"90s_played\",\n",
    "    # \"goals_against\",\n",
    "    # \"own_goals_against\",\n",
    "    # \"shots_on_target_against\",\n",
    "    # \"saves\",\n",
    "    # \"save%\",\n",
    "    # \"saves_inside_box\",\n",
    "    # \"penalty_kicks_saves\",\n",
    "    \"market_value\",\n",
    "    \"position\",\n",
    "    \"position_name_y\",\n",
    "    \"height_x\",\n",
    "    \"accurate_crosses.total\",\n",
    "    \"accurate_passes.total\",\n",
    "    \"aerials_won.total\",\n",
    "    \"big_chances_created.total\",\n",
    "    \"big_chances_missed.total\",\n",
    "    \"blocked_shots.total\",\n",
    "    \"clearances.total\",\n",
    "    \"dribbled_past.total\",\n",
    "    \"duels_won.total\",\n",
    "    \"error_lead_to_goal.total\",\n",
    "    \"fouls.total\",\n",
    "    \"goals.goals\",\n",
    "    \"interceptions.total\",\n",
    "    \"offsides.total\",\n",
    "    \"redcards.away\",\n",
    "    \"redcards.home\",\n",
    "    \"redcards.total\",\n",
    "    \"saves_inside_box.total\",\n",
    "    \"shots_off_target.total\",\n",
    "    \"tackles.total_x\",\n",
    "    \"through_balls.total\",\n",
    "    \"total_crosses.total\",\n",
    "    \"total_duels.total\",\n",
    "    \"yellowcards.away\",\n",
    "    \"yellowcards.home\",\n",
    "    \"yellowcards.total\",\n",
    "    \"yellowred_cards.away\",\n",
    "    \"yellowred_cards.home\",\n",
    "    \"yellowred_cards.total\",\n",
    "    \"shots.total\",\n",
    "    \"shots.on\",\n",
    "    \"goals.total_y\",\n",
    "    \"goals.conceded\",\n",
    "    \"goals.assists\",\n",
    "    \"goals.saves\",\n",
    "    \"passes.total_y\",\n",
    "    \"passes.key\",\n",
    "    \"passes.accuracy\",\n",
    "    \"tackles.total_y\",\n",
    "    \"tackles.blocks\",\n",
    "    \"tackles.interceptions\",\n",
    "    \"duels.total\",\n",
    "    \"duels.won\",\n",
    "    \"dribbles.attempts\",\n",
    "    \"dribbles.success\",\n",
    "    \"dribbles.past\",\n",
    "    \"fouls.committed\",\n",
    "    \"cards.yellow\",\n",
    "    \"cards.yellowred\",\n",
    "    \"cards.red\",\n",
    "    \"penalty.commited\",\n",
    "    \"penalty.saved\",\n",
    "]\n",
    "players_selected_vars = players_selected_vars[order + list(set(players_selected_vars.columns).difference(order))]\n",
    "players_selected_vars"
   ]
  },
  {
   "cell_type": "code",
   "execution_count": 162,
   "metadata": {
    "tags": []
   },
   "outputs": [],
   "source": [
    "\n",
    "from helpers import TEAM_TIERS"
   ]
  },
  {
   "cell_type": "code",
   "execution_count": 163,
   "metadata": {
    "tags": []
   },
   "outputs": [],
   "source": [
    "players_selected_vars = pd.merge(players_selected_vars, TEAM_TIERS, left_on=\"team\", right_index=True)"
   ]
  },
  {
   "cell_type": "code",
   "execution_count": 164,
   "metadata": {
    "tags": []
   },
   "outputs": [],
   "source": [
    "players_selected_vars.loc[players_selected_vars[\"tier\"] == \"-1\", \"tier\"] = None"
   ]
  },
  {
   "cell_type": "code",
   "execution_count": 165,
   "metadata": {
    "tags": []
   },
   "outputs": [],
   "source": [
    "for c in players_selected_vars.columns:\n",
    "    players_selected_vars[f\"has_{c}\"] = (~players_selected_vars[c].isnull()).astype(int)"
   ]
  },
  {
   "cell_type": "code",
   "execution_count": 166,
   "metadata": {
    "scrolled": true
   },
   "outputs": [],
   "source": [
    "ddf = players_selected_vars[players_selected_vars.player_id_api == 8][['name', 'player_id_api', 'team', 'league', 'season', 'market_value']]\n",
    "ddf = players_selected_vars"
   ]
  },
  {
   "cell_type": "code",
   "execution_count": 167,
   "metadata": {},
   "outputs": [
    {
     "data": {
      "text/html": [
       "<div>\n",
       "<style scoped>\n",
       "    .dataframe tbody tr th:only-of-type {\n",
       "        vertical-align: middle;\n",
       "    }\n",
       "\n",
       "    .dataframe tbody tr th {\n",
       "        vertical-align: top;\n",
       "    }\n",
       "\n",
       "    .dataframe thead th {\n",
       "        text-align: right;\n",
       "    }\n",
       "</style>\n",
       "<table border=\"1\" class=\"dataframe\">\n",
       "  <thead>\n",
       "    <tr style=\"text-align: right;\">\n",
       "      <th></th>\n",
       "      <th>name</th>\n",
       "      <th>player_id_api</th>\n",
       "      <th>age</th>\n",
       "      <th>nationality</th>\n",
       "      <th>league</th>\n",
       "      <th>team</th>\n",
       "      <th>season</th>\n",
       "      <th>matches_played</th>\n",
       "      <th>matches_started</th>\n",
       "      <th>90s_played</th>\n",
       "      <th>...</th>\n",
       "      <th>has_dribbles.attempts</th>\n",
       "      <th>has_dribbles.success</th>\n",
       "      <th>has_dribbles.past</th>\n",
       "      <th>has_fouls.committed</th>\n",
       "      <th>has_cards.yellow</th>\n",
       "      <th>has_cards.yellowred</th>\n",
       "      <th>has_cards.red</th>\n",
       "      <th>has_penalty.commited</th>\n",
       "      <th>has_penalty.saved</th>\n",
       "      <th>has_tier</th>\n",
       "    </tr>\n",
       "  </thead>\n",
       "  <tbody>\n",
       "    <tr>\n",
       "      <th>290</th>\n",
       "      <td>Raphaël Adelino José Guerreiro</td>\n",
       "      <td>8</td>\n",
       "      <td>29</td>\n",
       "      <td>Portugal</td>\n",
       "      <td>Bundesliga</td>\n",
       "      <td>Borussia Dortmund</td>\n",
       "      <td>2017</td>\n",
       "      <td>9.0</td>\n",
       "      <td>6.0</td>\n",
       "      <td>6.077778</td>\n",
       "      <td>...</td>\n",
       "      <td>1</td>\n",
       "      <td>1</td>\n",
       "      <td>0</td>\n",
       "      <td>1</td>\n",
       "      <td>1</td>\n",
       "      <td>1</td>\n",
       "      <td>1</td>\n",
       "      <td>0</td>\n",
       "      <td>0</td>\n",
       "      <td>1</td>\n",
       "    </tr>\n",
       "    <tr>\n",
       "      <th>2907</th>\n",
       "      <td>Raphaël Adelino José Guerreiro</td>\n",
       "      <td>8</td>\n",
       "      <td>29</td>\n",
       "      <td>Portugal</td>\n",
       "      <td>Bundesliga</td>\n",
       "      <td>Borussia Dortmund</td>\n",
       "      <td>2018</td>\n",
       "      <td>23.0</td>\n",
       "      <td>17.0</td>\n",
       "      <td>17.011111</td>\n",
       "      <td>...</td>\n",
       "      <td>1</td>\n",
       "      <td>1</td>\n",
       "      <td>0</td>\n",
       "      <td>1</td>\n",
       "      <td>1</td>\n",
       "      <td>1</td>\n",
       "      <td>1</td>\n",
       "      <td>0</td>\n",
       "      <td>0</td>\n",
       "      <td>1</td>\n",
       "    </tr>\n",
       "    <tr>\n",
       "      <th>8038</th>\n",
       "      <td>Raphaël Adelino José Guerreiro</td>\n",
       "      <td>8</td>\n",
       "      <td>29</td>\n",
       "      <td>Portugal</td>\n",
       "      <td>Bundesliga</td>\n",
       "      <td>Borussia Dortmund</td>\n",
       "      <td>2019</td>\n",
       "      <td>29.0</td>\n",
       "      <td>26.0</td>\n",
       "      <td>26.000000</td>\n",
       "      <td>...</td>\n",
       "      <td>1</td>\n",
       "      <td>1</td>\n",
       "      <td>0</td>\n",
       "      <td>1</td>\n",
       "      <td>1</td>\n",
       "      <td>1</td>\n",
       "      <td>1</td>\n",
       "      <td>0</td>\n",
       "      <td>0</td>\n",
       "      <td>1</td>\n",
       "    </tr>\n",
       "    <tr>\n",
       "      <th>10542</th>\n",
       "      <td>Raphaël Adelino José Guerreiro</td>\n",
       "      <td>8</td>\n",
       "      <td>29</td>\n",
       "      <td>Portugal</td>\n",
       "      <td>Bundesliga</td>\n",
       "      <td>Borussia Dortmund</td>\n",
       "      <td>2020</td>\n",
       "      <td>27.0</td>\n",
       "      <td>25.0</td>\n",
       "      <td>24.688889</td>\n",
       "      <td>...</td>\n",
       "      <td>1</td>\n",
       "      <td>1</td>\n",
       "      <td>0</td>\n",
       "      <td>1</td>\n",
       "      <td>1</td>\n",
       "      <td>1</td>\n",
       "      <td>1</td>\n",
       "      <td>0</td>\n",
       "      <td>0</td>\n",
       "      <td>1</td>\n",
       "    </tr>\n",
       "    <tr>\n",
       "      <th>13936</th>\n",
       "      <td>Raphaël Adelino José Guerreiro</td>\n",
       "      <td>8</td>\n",
       "      <td>29</td>\n",
       "      <td>Portugal</td>\n",
       "      <td>Bundesliga</td>\n",
       "      <td>Borussia Dortmund</td>\n",
       "      <td>2021</td>\n",
       "      <td>23.0</td>\n",
       "      <td>21.0</td>\n",
       "      <td>20.033333</td>\n",
       "      <td>...</td>\n",
       "      <td>1</td>\n",
       "      <td>1</td>\n",
       "      <td>0</td>\n",
       "      <td>1</td>\n",
       "      <td>1</td>\n",
       "      <td>1</td>\n",
       "      <td>1</td>\n",
       "      <td>0</td>\n",
       "      <td>0</td>\n",
       "      <td>1</td>\n",
       "    </tr>\n",
       "  </tbody>\n",
       "</table>\n",
       "<p>5 rows × 134 columns</p>\n",
       "</div>"
      ],
      "text/plain": [
       "                                 name  player_id_api  age nationality  \\\n",
       "290    Raphaël Adelino José Guerreiro              8   29    Portugal   \n",
       "2907   Raphaël Adelino José Guerreiro              8   29    Portugal   \n",
       "8038   Raphaël Adelino José Guerreiro              8   29    Portugal   \n",
       "10542  Raphaël Adelino José Guerreiro              8   29    Portugal   \n",
       "13936  Raphaël Adelino José Guerreiro              8   29    Portugal   \n",
       "\n",
       "           league               team  season  matches_played  matches_started  \\\n",
       "290    Bundesliga  Borussia Dortmund    2017             9.0              6.0   \n",
       "2907   Bundesliga  Borussia Dortmund    2018            23.0             17.0   \n",
       "8038   Bundesliga  Borussia Dortmund    2019            29.0             26.0   \n",
       "10542  Bundesliga  Borussia Dortmund    2020            27.0             25.0   \n",
       "13936  Bundesliga  Borussia Dortmund    2021            23.0             21.0   \n",
       "\n",
       "       90s_played  ...  has_dribbles.attempts has_dribbles.success  \\\n",
       "290      6.077778  ...                      1                    1   \n",
       "2907    17.011111  ...                      1                    1   \n",
       "8038    26.000000  ...                      1                    1   \n",
       "10542   24.688889  ...                      1                    1   \n",
       "13936   20.033333  ...                      1                    1   \n",
       "\n",
       "      has_dribbles.past  has_fouls.committed  has_cards.yellow  \\\n",
       "290                   0                    1                 1   \n",
       "2907                  0                    1                 1   \n",
       "8038                  0                    1                 1   \n",
       "10542                 0                    1                 1   \n",
       "13936                 0                    1                 1   \n",
       "\n",
       "       has_cards.yellowred  has_cards.red  has_penalty.commited  \\\n",
       "290                      1              1                     0   \n",
       "2907                     1              1                     0   \n",
       "8038                     1              1                     0   \n",
       "10542                    1              1                     0   \n",
       "13936                    1              1                     0   \n",
       "\n",
       "       has_penalty.saved  has_tier  \n",
       "290                    0         1  \n",
       "2907                   0         1  \n",
       "8038                   0         1  \n",
       "10542                  0         1  \n",
       "13936                  0         1  \n",
       "\n",
       "[5 rows x 134 columns]"
      ]
     },
     "execution_count": 167,
     "metadata": {},
     "output_type": "execute_result"
    }
   ],
   "source": [
    "ddf[ddf.player_id_api == 8]"
   ]
  },
  {
   "cell_type": "code",
   "execution_count": 168,
   "metadata": {
    "tags": []
   },
   "outputs": [],
   "source": [
    "mvs = players_selected_vars[\"market_value\"].values\n",
    "mvs = np.expand_dims(mvs, axis=1)\n",
    "mvs = normalize(mvs, norm=\"max\", axis=0)\n",
    "mvs = np.squeeze(mvs)\n",
    "players_selected_vars[\"normalised_market_value\"] = mvs"
   ]
  },
  {
   "cell_type": "code",
   "execution_count": 169,
   "metadata": {},
   "outputs": [
    {
     "data": {
      "text/plain": [
       "290      0.105\n",
       "2907     0.125\n",
       "8038     0.175\n",
       "10542    0.200\n",
       "13936    0.125\n",
       "Name: normalised_market_value, dtype: float64"
      ]
     },
     "execution_count": 169,
     "metadata": {},
     "output_type": "execute_result"
    }
   ],
   "source": [
    "players_selected_vars[players_selected_vars.player_id_api == 8][\"normalised_market_value\"]"
   ]
  },
  {
   "cell_type": "code",
   "execution_count": 193,
   "metadata": {},
   "outputs": [],
   "source": [
    "\n",
    "numerical_features = [\n",
    "    \"age\",\n",
    "    \"accurate_crosses.total\",\n",
    "    \"accurate_passes.total\",\n",
    "    \"aerials_won.total\",\n",
    "    \"big_chances_created.total\",\n",
    "    \"big_chances_missed.total\",\n",
    "    \"blocked_shots.total\",\n",
    "    \"clearances.total\",\n",
    "    \"dribbled_past.total\",\n",
    "    \"duels_won.total\",\n",
    "    \"error_lead_to_goal.total\",\n",
    "    \"fouls.total\",\n",
    "    \"goals.goals\",\n",
    "    \"interceptions.total\",\n",
    "    \"offsides.total\",\n",
    "    \"redcards.away\",\n",
    "    \"redcards.home\",\n",
    "    \"redcards.total\",\n",
    "    \"saves_inside_box.total\",\n",
    "    \"shots_off_target.total\",\n",
    "    \"tackles.total_x\",\n",
    "    \"through_balls.total\",\n",
    "    \"total_crosses.total\",\n",
    "    \"total_duels.total\",\n",
    "    \"yellowcards.away\",\n",
    "    \"yellowcards.home\",\n",
    "    \"yellowcards.total\",\n",
    "    \"yellowred_cards.away\",\n",
    "    \"yellowred_cards.home\",\n",
    "    \"yellowred_cards.total\",\n",
    "    \"shots.total\",\n",
    "    \"shots.on\",\n",
    "    \"goals.total_y\",\n",
    "    \"goals.conceded\",\n",
    "    \"goals.assists\",\n",
    "    \"goals.saves\",\n",
    "    \"passes.total_y\",\n",
    "    \"passes.key\",\n",
    "    \"passes.accuracy\",\n",
    "    \"tackles.total_y\",\n",
    "    \"tackles.blocks\",\n",
    "    \"tackles.interceptions\",\n",
    "    \"duels.total\",\n",
    "    \"duels.won\",\n",
    "    \"dribbles.attempts\",\n",
    "    \"dribbles.success\",\n",
    "    \"dribbles.past\",\n",
    "    \"fouls.committed\",\n",
    "    \"cards.yellow\",\n",
    "    \"cards.yellowred\",\n",
    "    \"cards.red\",\n",
    "    \"penalty.commited\",\n",
    "    \"penalty.saved\",\n",
    "    \"market_value\",\n",
    "    \"normalised_market_value\",\n",
    "]\n",
    "\n",
    "categorical_features = [\n",
    "    \"team\",\n",
    "    \"tier\",\n",
    "    \"position\",\n",
    "    \"position_name_y\",\n",
    "    \"league\"\n",
    "]"
   ]
  },
  {
   "cell_type": "code",
   "execution_count": 208,
   "metadata": {},
   "outputs": [
    {
     "data": {
      "text/plain": [
       "1"
      ]
     },
     "execution_count": 208,
     "metadata": {},
     "output_type": "execute_result"
    }
   ],
   "source": [
    "def delta(x):\n",
    "    if len(x) == 1:\n",
    "        return 0.0\n",
    "    return x[-1] / np.mean(x[:-1]) - 1\n",
    "\n",
    "def diff(x):\n",
    "    if len(x) == 1:\n",
    "        return 0.0\n",
    "    return float(x[-1] != x[-2])\n",
    "\n",
    "\n",
    "def current(x):\n",
    "    return x[-1]\n",
    "\n",
    "current([3,2,1])"
   ]
  },
  {
   "cell_type": "code",
   "execution_count": 229,
   "metadata": {},
   "outputs": [],
   "source": [
    "def delta(x):\n",
    "    x = x.tolist()\n",
    "    return (\n",
    "        x[-1] / np.mean(x[:-1]) - 1 \n",
    "        if len(x) > 1 else 0.0\n",
    "    )\n",
    "    \n",
    "def diff(x):\n",
    "    x = x.tolist()\n",
    "    return (\n",
    "        x[-1] != x[-2] \n",
    "        if len(x) > 1 else 0.0\n",
    "    )\n",
    "\n",
    "def current(x):\n",
    "    return x.tolist()[-1]\n",
    "\n",
    "def previous(x):\n",
    "    x = x.tolist()\n",
    "    return (\n",
    "        x[-2] if len(x) > 1 else 0.0\n",
    "    )\n",
    "\n",
    "def std(x):\n",
    "    return np.std(x, ddof=0)\n",
    "\n",
    "delta.__name__ = 'delta'\n",
    "current.__name__ = 'current'\n",
    "diff.__name__ = 'changed'\n",
    "previous.__name__ = 'previous'"
   ]
  },
  {
   "cell_type": "code",
   "execution_count": null,
   "metadata": {},
   "outputs": [],
   "source": [
    "changed_cat_feature_dict = {}\n",
    "for cat_name in categorical_features:\n",
    "    ddf[f'{cat_name}'] = ddf[cat_name].astype('category').cat.codes\n",
    "    changed_cat_feature_dict[f'{cat_name}'] = [curr_value_func, diff_func]\n",
    "\n",
    "changed_num_feature_dict = {\n",
    "    num_name: [delta_func, curr_value_func, np.mean, np.std]\n",
    "    for num_name in numerical_features\n",
    "}   \n",
    "\n",
    "changed_num_feature_dict[\"market_value\"] = [delta_func, curr_value_func, previous_value_func, np.mean, std]\n",
    "changed_num_feature_dict[\"normalised_market_value\"] = [delta_func, curr_value_func, previous_value_func, np.mean, np.std]\n",
    "\n",
    "gdf = ddf.sort_values(\"season\").groupby(\"player_id_api\").rolling(2, min_periods=1).agg({\n",
    "    'height_x': curr_value_func,\n",
    "    **changed_cat_feature_dict,\n",
    "    **changed_num_feature_dict,\n",
    "}).reset_index()\n",
    "\n",
    "gdf.columns = [\n",
    "    '_'.join([col[0], col[1]] if col[1] != '' else [col[0]]) \n",
    "    for col in gdf.columns\n",
    "]"
   ]
  },
  {
   "cell_type": "code",
   "execution_count": null,
   "metadata": {},
   "outputs": [],
   "source": [
    "gdf[gdf.player_id_api == 275]"
   ]
  },
  {
   "cell_type": "code",
   "execution_count": null,
   "metadata": {},
   "outputs": [],
   "source": [
    "ddf[ddf.player_id_api == 275]"
   ]
  },
  {
   "cell_type": "code",
   "execution_count": 191,
   "metadata": {},
   "outputs": [
    {
     "data": {
      "text/plain": [
       "player_id_api                          0\n",
       "level_1                                0\n",
       "height_x_current                    5763\n",
       "team_current                        5717\n",
       "team_changed                        5717\n",
       "                                    ... \n",
       "normalised_market_value_delta       5717\n",
       "normalised_market_value_current     5717\n",
       "normalised_market_value_previous    5717\n",
       "normalised_market_value_mean        5717\n",
       "normalised_market_value_std         5717\n",
       "Length: 235, dtype: int64"
      ]
     },
     "execution_count": 191,
     "metadata": {},
     "output_type": "execute_result"
    }
   ],
   "source": [
    "gdf.isna().sum()"
   ]
  },
  {
   "cell_type": "code",
   "execution_count": 179,
   "metadata": {},
   "outputs": [],
   "source": [
    "players_selected_vars = gdf"
   ]
  },
  {
   "cell_type": "code",
   "execution_count": null,
   "metadata": {
    "tags": []
   },
   "outputs": [],
   "source": [
    "from sklearn.compose import ColumnTransformer\n",
    "from sklearn.dummy import DummyClassifier, DummyRegressor\n",
    "from sklearn.impute import SimpleImputer\n",
    "from sklearn.inspection import permutation_importance\n",
    "from sklearn.linear_model import LogisticRegression, LinearRegression\n",
    "from sklearn.metrics import confusion_matrix, accuracy_score, balanced_accuracy_score\n",
    "from sklearn.model_selection import train_test_split\n",
    "from sklearn.pipeline import Pipeline\n",
    "from sklearn.preprocessing import OneHotEncoder\n",
    "from sklearn.preprocessing import StandardScaler\n",
    "from sklearn.svm import SVC"
   ]
  },
  {
   "cell_type": "markdown",
   "metadata": {},
   "source": [
    "## Transformation pipeline"
   ]
  },
  {
   "cell_type": "code",
   "execution_count": null,
   "metadata": {
    "tags": []
   },
   "outputs": [],
   "source": [
    "# numeric_features = [\n",
    "#     \"age\",\n",
    "#     \"matches_played\",\n",
    "#     \"matches_started\",\n",
    "#     \"90s_played\",\n",
    "#     # \"goals_against\",\n",
    "#     # \"own_goals_against\",\n",
    "#     # \"shots_on_target_against\",\n",
    "#     # \"saves\",\n",
    "#     # \"save%\",\n",
    "#     # \"saves_inside_box\",\n",
    "#     # \"penalty_kicks_saves\",\n",
    "#     \"height_x\",\n",
    "#     \"accurate_crosses.total\",\n",
    "#     \"accurate_passes.total\",\n",
    "#     \"aerials_won.total\",\n",
    "#     \"big_chances_created.total\",\n",
    "#     \"big_chances_missed.total\",\n",
    "#     \"blocked_shots.total\",\n",
    "#     \"clearances.total\",\n",
    "#     \"dribbled_past.total\",\n",
    "#     \"duels_won.total\",\n",
    "#     \"error_lead_to_goal.total\",\n",
    "#     \"fouls.total\",\n",
    "#     \"goals.goals\",\n",
    "#     \"interceptions.total\",\n",
    "#     \"offsides.total\",\n",
    "#     \"redcards.away\",\n",
    "#     \"redcards.home\",\n",
    "#     \"redcards.total\",\n",
    "#     \"saves_inside_box.total\",\n",
    "#     \"shots_off_target.total\",\n",
    "#     \"tackles.total_x\",\n",
    "#     \"through_balls.total\",\n",
    "#     \"total_crosses.total\",\n",
    "#     \"total_duels.total\",\n",
    "#     \"yellowcards.away\",\n",
    "#     \"yellowcards.home\",\n",
    "#     \"yellowcards.total\",\n",
    "#     \"yellowred_cards.away\",\n",
    "#     \"yellowred_cards.home\",\n",
    "#     \"yellowred_cards.total\",\n",
    "#     \"shots.total\",\n",
    "#     \"shots.on\",\n",
    "#     \"goals.total_y\",\n",
    "#     \"goals.conceded\",\n",
    "#     \"goals.assists\",\n",
    "#     \"goals.saves\",\n",
    "#     \"passes.total_y\",\n",
    "#     \"passes.key\",\n",
    "#     \"passes.accuracy\",\n",
    "#     \"tackles.total_y\",\n",
    "#     \"tackles.blocks\",\n",
    "#     \"tackles.interceptions\",\n",
    "#     \"duels.total\",\n",
    "#     \"duels.won\",\n",
    "#     \"dribbles.attempts\",\n",
    "#     \"dribbles.success\",\n",
    "#     \"dribbles.past\",\n",
    "#     \"fouls.committed\",\n",
    "#     \"cards.yellow\",\n",
    "#     \"cards.yellowred\",\n",
    "#     \"cards.red\",\n",
    "#     \"penalty.commited\",\n",
    "#     \"penalty.saved\",\n",
    "# ]\n",
    "numeric_transformer = Pipeline(\n",
    "    steps=[\n",
    "        (\"imputer\", SimpleImputer(strategy=\"median\")),\n",
    "        (\"scaler\", StandardScaler())\n",
    "    ]\n",
    ")\n",
    "\n",
    "# TODO CONTINUE HERE\n",
    "\n",
    "binary_features = [f\"has_{c}\" for c in numerical_features if f\"has_{c}\" in players_selected_vars.columns]\n",
    "binary_transformer = Pipeline(\n",
    "    steps=[\n",
    "        (\"imputer\", SimpleImputer(strategy=\"constant\", fill_value=0))\n",
    "    ]\n",
    ")\n",
    "\n",
    "categorical_features = [\n",
    "    \"nationality\",\n",
    "    \"league\",\n",
    "    \"team\",\n",
    "    \"tier\",\n",
    "    \"position\",\n",
    "    \"position_name_y\",\n",
    "]\n",
    "categorical_transformer = Pipeline(\n",
    "    steps=[\n",
    "        (\"encoder\", OneHotEncoder(handle_unknown=\"ignore\"))\n",
    "    ]\n",
    ")\n",
    "\n",
    "preprocessor = ColumnTransformer(\n",
    "    transformers=[\n",
    "        (\"num\", numeric_transformer, numeric_features),\n",
    "        (\"cat\", categorical_transformer, categorical_features),\n",
    "        (\"bin\", binary_transformer, binary_features),\n",
    "    ]\n",
    ")"
   ]
  },
  {
   "cell_type": "markdown",
   "metadata": {},
   "source": [
    "# Predict price bucket"
   ]
  },
  {
   "cell_type": "code",
   "execution_count": null,
   "metadata": {
    "tags": []
   },
   "outputs": [],
   "source": [
    "plt.hist(players_selected_vars[\"market_value\"], bins=100)\n",
    "# plt.xlim((0, 0.5e8))\n",
    "plt.yscale(\"log\")"
   ]
  },
  {
   "cell_type": "code",
   "execution_count": null,
   "metadata": {
    "tags": []
   },
   "outputs": [],
   "source": [
    "bins = [\n",
    "    0.0025,\n",
    "    0.005,\n",
    "    0.01,\n",
    "    0.025,\n",
    "    0.05, # \n",
    "    0.1, # 8 - 20\n",
    "    0.25, # 20 - 40\n",
    "    0.5,  # 40 -80\n",
    "    1.0  # 80M\n",
    "]\n",
    "y = np.digitize(players_selected_vars[\"normalised_market_value\"], bins)\n",
    "# bins = np.concatenate([\n",
    "#     np.arange(200_000, 4_000_000, 200_000),\n",
    "#     np.arange(4_000_000, 20_000_000, 2_000_000),\n",
    "#     np.arange(20_000_000, 100_000_000, 5_000_000),\n",
    "#     np.arange(100_000_000, 200_000_001, 10_000_000)\n",
    "# ])\n",
    "# y = np.digitize(players_selected_vars[\"market_value\"], bins)\n",
    "X = players_selected_vars"
   ]
  },
  {
   "cell_type": "code",
   "execution_count": null,
   "metadata": {
    "tags": []
   },
   "outputs": [],
   "source": [
    "goalkeepers = (X[\"position\"] == \"Goalkeeper\").values\n",
    "attackers = (X[\"position\"] == \"Attack\").values\n",
    "defenders = (X[\"position\"] == \"Defender\").values\n",
    "midfielders = (X[\"position\"] == \"Midfield\").values\n",
    "\n",
    "(\n",
    "    X_train, X_test, \n",
    "    y_train, y_test, \n",
    "    goalkeepers_train, goalkeepers_test,\n",
    "    attackers_train, attackers_test,\n",
    "    defenders_train, defenders_test, \n",
    "    midfielders_train, midfielders_test\n",
    ") = train_test_split(\n",
    "    X, y, \n",
    "    goalkeepers, attackers, defenders, midfielders,\n",
    "    test_size=0.2, random_state=42\n",
    ")"
   ]
  },
  {
   "cell_type": "code",
   "execution_count": null,
   "metadata": {
    "tags": []
   },
   "outputs": [],
   "source": [
    "np.unique(y_train, return_counts=True)"
   ]
  },
  {
   "cell_type": "code",
   "execution_count": null,
   "metadata": {
    "tags": []
   },
   "outputs": [],
   "source": [
    "random = Pipeline(\n",
    "    steps=[\n",
    "        (\"preprocessor\", preprocessor),\n",
    "        (\"classifier\", DummyClassifier(strategy=\"stratified\")),\n",
    "    ]\n",
    ")\n",
    "random.fit(X_train, y_train)\n",
    "\n",
    "y_random = random.predict(X_test)\n",
    "\n",
    "balanced_accuracy_score(y_test, y_random)"
   ]
  },
  {
   "cell_type": "code",
   "execution_count": null,
   "metadata": {
    "tags": []
   },
   "outputs": [],
   "source": [
    "for name, selector in {\n",
    "    \"goalkeepers\": goalkeepers_test, \n",
    "    \"attackers\": attackers_test, \n",
    "    \"defenders\": defenders_test,\n",
    "    \"midfielders\": midfielders_test\n",
    "}.items():\n",
    "    print(name, balanced_accuracy_score(y_test[selector], random.predict(X_test[selector])))"
   ]
  },
  {
   "cell_type": "code",
   "execution_count": null,
   "metadata": {
    "tags": []
   },
   "outputs": [],
   "source": [
    "clf = Pipeline(\n",
    "    steps=[\n",
    "        (\"preprocessor\", preprocessor), \n",
    "        (\"classifier\", LogisticRegression()),\n",
    "    ]\n",
    ")\n",
    "clf.fit(X_train, y_train)\n",
    "\n",
    "y_lr = clf.predict(X_test)\n",
    "\n",
    "balanced_accuracy_score(y_test, y_lr)"
   ]
  },
  {
   "cell_type": "code",
   "execution_count": null,
   "metadata": {
    "tags": []
   },
   "outputs": [],
   "source": [
    "for name, selector in {\n",
    "    \"goalkeepers\": goalkeepers_test, \n",
    "    \"attackers\": attackers_test, \n",
    "    \"defenders\": defenders_test,\n",
    "    \"midfielders\": midfielders_test\n",
    "}.items():\n",
    "    print(name, balanced_accuracy_score(y_test[selector], clf.predict(X_test[selector])))"
   ]
  },
  {
   "cell_type": "markdown",
   "metadata": {},
   "source": [
    "Only model specific to goalkeepers performs better on that position than the \"all positions\" model.\n",
    "Performance on other positions is similar or marginally better with the generic model."
   ]
  },
  {
   "cell_type": "code",
   "execution_count": null,
   "metadata": {
    "tags": []
   },
   "outputs": [],
   "source": [
    "from sklearn.neural_network import MLPClassifier\n",
    "\n",
    "mlp = Pipeline(\n",
    "    steps=[\n",
    "        (\"preprocessor\", preprocessor), \n",
    "        (\"classifier\", MLPClassifier(solver='lbfgs', alpha=1e-5, hidden_layer_sizes=(16, 8))),\n",
    "    ]\n",
    ")\n",
    "mlp.fit(X_train, y_train)\n",
    "\n",
    "y_mlp = mlp.predict(X_test)\n",
    "\n",
    "balanced_accuracy_score(y_test, y_mlp)"
   ]
  },
  {
   "cell_type": "code",
   "execution_count": null,
   "metadata": {
    "tags": []
   },
   "outputs": [],
   "source": [
    "for name, selector in {\n",
    "    \"goalkeepers\": goalkeepers_test, \n",
    "    \"attackers\": attackers_test, \n",
    "    \"defenders\": defenders_test,\n",
    "    \"midfielders\": midfielders_test\n",
    "}.items():\n",
    "    print(name, balanced_accuracy_score(y_test[selector], mlp.predict(X_test[selector])))"
   ]
  },
  {
   "cell_type": "markdown",
   "metadata": {},
   "source": [
    "Models specific for goalkeeprs and midfielders are slighlty better than one generic model."
   ]
  },
  {
   "cell_type": "code",
   "execution_count": null,
   "metadata": {
    "tags": []
   },
   "outputs": [],
   "source": [
    "from xgboost import XGBClassifier\n",
    "\n",
    "xgboost = Pipeline(\n",
    "    steps=[\n",
    "        (\"preprocessor\", preprocessor), \n",
    "        (\"classifier\", XGBClassifier(learning_rate=1)),\n",
    "    ]\n",
    ")\n",
    "xgboost.fit(X_train, y_train)\n",
    "\n",
    "y_xgboost = xgboost.predict(X_test)\n",
    "\n",
    "balanced_accuracy_score(y_test, y_xgboost)"
   ]
  },
  {
   "cell_type": "code",
   "execution_count": null,
   "metadata": {
    "tags": []
   },
   "outputs": [],
   "source": [
    "for name, selector in {\n",
    "    \"goalkeepers\": goalkeepers_test, \n",
    "    \"attackers\": attackers_test, \n",
    "    \"defenders\": defenders_test,\n",
    "    \"midfielders\": midfielders_test\n",
    "}.items():\n",
    "    print(name, balanced_accuracy_score(y_test[selector], xgboost.predict(X_test[selector])))"
   ]
  },
  {
   "cell_type": "code",
   "execution_count": null,
   "metadata": {
    "tags": []
   },
   "outputs": [],
   "source": [
    "from collections import defaultdict\n",
    "arr = np.zeros((10, 10))\n",
    "for a, b in zip(y_test, y_xgboost):\n",
    "    arr[a, b] = arr[a, b] + 1"
   ]
  },
  {
   "cell_type": "code",
   "execution_count": null,
   "metadata": {
    "tags": []
   },
   "outputs": [],
   "source": [
    "arr"
   ]
  },
  {
   "cell_type": "code",
   "execution_count": null,
   "metadata": {
    "tags": []
   },
   "outputs": [],
   "source": [
    "plt.imshow(arr, cmap='hot')\n",
    "plt.xlabel(\"Observed\")\n",
    "plt.ylabel(\"Predicted\")\n",
    "_ = plt.show()"
   ]
  },
  {
   "cell_type": "code",
   "execution_count": null,
   "metadata": {
    "tags": []
   },
   "outputs": [],
   "source": [
    "x = np.unique(y_test - y_xgboost, return_counts=True)\n",
    "a, b =x"
   ]
  },
  {
   "cell_type": "code",
   "execution_count": null,
   "metadata": {
    "tags": []
   },
   "outputs": [],
   "source": [
    "cnt = 0\n",
    "for q,w in zip(a, b):\n",
    "    print(q, w)\n",
    "    cnt += w\n",
    "cnt"
   ]
  },
  {
   "cell_type": "code",
   "execution_count": null,
   "metadata": {
    "tags": []
   },
   "outputs": [],
   "source": [
    "(583 + 1397 + 569) / 2951"
   ]
  },
  {
   "cell_type": "code",
   "execution_count": null,
   "metadata": {
    "tags": []
   },
   "outputs": [],
   "source": [
    "np.unique(y_lr, return_counts=True)"
   ]
  },
  {
   "cell_type": "markdown",
   "metadata": {},
   "source": [
    "## Features importance"
   ]
  },
  {
   "cell_type": "code",
   "execution_count": null,
   "metadata": {
    "tags": []
   },
   "outputs": [],
   "source": [
    "result = permutation_importance(\n",
    "    xgboost, X_test, y_test, n_repeats=10, random_state=42, n_jobs=2\n",
    ")\n",
    "\n",
    "forest_importances = pd.Series(result.importances_mean, index=X_test.columns)\n",
    "\n",
    "fig, ax = plt.subplots()\n",
    "forest_importances.plot.bar(yerr=result.importances_std, ax=ax)\n",
    "ax.set_title(\"Feature importances using permutation on full model\")\n",
    "ax.set_ylabel(\"Mean accuracy decrease\")\n",
    "fig.tight_layout()\n",
    "plt.show()"
   ]
  },
  {
   "cell_type": "markdown",
   "metadata": {},
   "source": [
    "# Predict market value"
   ]
  },
  {
   "cell_type": "code",
   "execution_count": null,
   "metadata": {
    "tags": []
   },
   "outputs": [],
   "source": [
    "from sklearn.metrics import r2_score"
   ]
  },
  {
   "cell_type": "code",
   "execution_count": null,
   "metadata": {
    "tags": []
   },
   "outputs": [],
   "source": [
    "def r2_adj(model, x, y):\n",
    "    r2 = model.score(x,y)\n",
    "    n = x.shape[0]\n",
    "    p = x.shape[1]\n",
    "    return 1-(1-r2)*(n-1)/(n-p-1)\n",
    "\n",
    "def r2_adj2(x, y_test, y_pred):\n",
    "    r2 = r2_score(y_test, y_pred)\n",
    "    n = x.shape[0]\n",
    "    p = x.shape[1]\n",
    "    return 1-(1-r2)*(n-1)/(n-p-1)"
   ]
  },
  {
   "cell_type": "code",
   "execution_count": null,
   "metadata": {
    "tags": []
   },
   "outputs": [],
   "source": [
    "X = players_selected_vars\n",
    "# y = players_selected_vars[\"normalised_market_value\"]\n",
    "y = np.log(players_selected_vars[\"market_value\"])\n",
    "# y = players_selected_vars[\"market_value\"]"
   ]
  },
  {
   "cell_type": "code",
   "execution_count": null,
   "metadata": {
    "tags": []
   },
   "outputs": [],
   "source": [
    "X_train = X.loc[X[\"season\"] < 2021]\n",
    "X_test = X.loc[X[\"season\"] == 2021]\n",
    "y_train = y.loc[X[\"season\"] < 2021]\n",
    "y_test = y.loc[X[\"season\"] == 2021]\n",
    "X_train.shape, X_test.shape, y_train.shape, y_test.shape"
   ]
  },
  {
   "cell_type": "code",
   "execution_count": null,
   "metadata": {
    "tags": []
   },
   "outputs": [],
   "source": [
    "selectors_train = dict()\n",
    "selectors_test = dict()\n",
    "for p in [\"Goalkeeper\", \"Attack\", \"Defender\", \"Midfield\"]:\n",
    "    selectors_train[p] = (X_train[\"position\"] == p).values\n",
    "    selectors_test[p] = (X_test[\"position\"] == p).values"
   ]
  },
  {
   "cell_type": "code",
   "execution_count": null,
   "metadata": {
    "tags": []
   },
   "outputs": [],
   "source": [
    "# goalkeepers = (X[\"position\"] == \"Goalkeeper\").values\n",
    "# attackers = (X[\"position\"] == \"Attack\").values\n",
    "# defenders = (X[\"position\"] == \"Defender\").values\n",
    "# midfielders = (X[\"position\"] == \"Midfield\").values\n",
    "\n",
    "# (\n",
    "#     X_train, X_test, \n",
    "#     y_train, y_test, \n",
    "#     goalkeepers_train, goalkeepers_test,\n",
    "#     attackers_train, attackers_test,\n",
    "#     defenders_train, defenders_test, \n",
    "#     midfielders_train, midfielders_test\n",
    "# ) = train_test_split(\n",
    "#     X, y, \n",
    "#     goalkeepers, attackers, defenders, midfielders,\n",
    "#     test_size=0.2, random_state=42\n",
    "# )"
   ]
  },
  {
   "cell_type": "code",
   "execution_count": null,
   "metadata": {
    "tags": []
   },
   "outputs": [],
   "source": [
    "random_regression = Pipeline(\n",
    "    steps=[\n",
    "        (\"preprocessor\", preprocessor),\n",
    "        (\"regression\", DummyRegressor()),\n",
    "    ]\n",
    ")\n",
    "random_regression.fit(X_train, y_train)\n",
    "\n",
    "random_regression.score(X_test, y_test), r2_adj(random_regression, X_test, y_test)"
   ]
  },
  {
   "cell_type": "code",
   "execution_count": null,
   "metadata": {
    "tags": []
   },
   "outputs": [],
   "source": [
    "for name, selector in selectors_test.items():\n",
    "    print(name, random_regression.score(X_test[selector], y_test[selector]), r2_adj(random_regression, X_test[selector], y_test[selector]))"
   ]
  },
  {
   "cell_type": "code",
   "execution_count": null,
   "metadata": {
    "tags": []
   },
   "outputs": [],
   "source": [
    "y_2020 = X_train.loc[X_train[\"season\"] == 2020].groupby(\"player_id_api\")[\"market_value\"].mean()\n",
    "y_prev = pd.merge(\n",
    "    y_2020,\n",
    "    X_test,\n",
    "    left_index=True,\n",
    "    right_on=\"player_id_api\",\n",
    "    how=\"right\"\n",
    ")[\"market_value_x\"].fillna(y_2020.mean())"
   ]
  },
  {
   "cell_type": "code",
   "execution_count": null,
   "metadata": {
    "tags": []
   },
   "outputs": [],
   "source": [
    "r2_score(np.exp(y_test), y_prev), r2_adj2(X_test, np.exp(y_test), y_prev)"
   ]
  },
  {
   "cell_type": "code",
   "execution_count": null,
   "metadata": {
    "tags": []
   },
   "outputs": [],
   "source": [
    "for name, selector in selectors_test.items():\n",
    "    print(name, r2_score(np.exp(y_test)[selector], y_prev[selector]), r2_adj2(X_test[selector], np.exp(y_test)[selector], y_prev[selector]))"
   ]
  },
  {
   "cell_type": "code",
   "execution_count": null,
   "metadata": {
    "tags": []
   },
   "outputs": [],
   "source": [
    "regression = Pipeline(\n",
    "    steps=[\n",
    "        (\"preprocessor\", preprocessor),\n",
    "        (\"regression\", LinearRegression()),\n",
    "    ]\n",
    ")\n",
    "regression.fit(X_train, y_train)\n",
    "\n",
    "y_reg = regression.predict(X_test)\n",
    "\n",
    "# regression.score(X_test, y_test), r2_adj(regression, X_test, y_test)\n",
    "r2_score(np.exp(y_test), np.exp(y_reg)), r2_adj2(X_test, np.exp(y_test), np.exp(y_reg))"
   ]
  },
  {
   "cell_type": "code",
   "execution_count": null,
   "metadata": {
    "tags": []
   },
   "outputs": [],
   "source": [
    "for name, selector in selectors_test.items():\n",
    "    y_reg = regression.predict(X_test[selector])\n",
    "    print(name, r2_score(np.exp(y_test[selector]), np.exp(y_reg)), r2_adj2(X_test[selector], np.exp(y_test[selector]), np.exp(y_reg)))\n",
    "    # print(name, regression.score(X_test[selector], y_test[selector]), r2_adj(regression, X_test[selector], y_test[selector]))"
   ]
  },
  {
   "cell_type": "markdown",
   "metadata": {},
   "source": [
    "Only model specific for midfielder is slightly better than the generic one."
   ]
  },
  {
   "cell_type": "code",
   "execution_count": null,
   "metadata": {
    "tags": []
   },
   "outputs": [],
   "source": [
    "from sklearn.neural_network import MLPRegressor\n",
    "\n",
    "mlp_reg = Pipeline(\n",
    "    steps=[\n",
    "        (\"preprocessor\", preprocessor), \n",
    "        (\"regression\", MLPRegressor(solver='lbfgs', alpha=1e-5, hidden_layer_sizes=(16, 8))),\n",
    "    ]\n",
    ")\n",
    "mlp_reg.fit(X_train, y_train)\n",
    "\n",
    "y_mlp = mlp_reg.predict(X_test)\n",
    "\n",
    "# mlp_reg.score(X_test, y_test), r2_adj(mlp_reg, X_test, y_test)\n",
    "r2_score(np.exp(y_test), np.exp(y_mlp)), r2_adj2(X_test, np.exp(y_test), np.exp(y_mlp))"
   ]
  },
  {
   "cell_type": "code",
   "execution_count": null,
   "metadata": {
    "tags": []
   },
   "outputs": [],
   "source": [
    "for name, selector in selectors_test.items():\n",
    "    y_mlp = mlp_reg.predict(X_test[selector])\n",
    "    print(name, r2_score(np.exp(y_test[selector]), np.exp(y_mlp)), r2_adj2(X_test[selector], np.exp(y_test[selector]), np.exp(y_mlp)))\n",
    "    # print(name, mlp_reg.score(X_test[selector], y_test[selector]), r2_adj(mlp_reg, X_test[selector], y_test[selector]))"
   ]
  },
  {
   "cell_type": "markdown",
   "metadata": {},
   "source": [
    "\"All positions\" model performs better than position specific models."
   ]
  },
  {
   "cell_type": "code",
   "execution_count": null,
   "metadata": {
    "tags": []
   },
   "outputs": [],
   "source": [
    "from xgboost import XGBRegressor\n",
    "\n",
    "xgboost_reg = Pipeline(\n",
    "    steps=[\n",
    "        (\"preprocessor\", preprocessor), \n",
    "        (\"regression\", XGBRegressor()),\n",
    "    ]\n",
    ")\n",
    "xgboost_reg.fit(X_train, y_train)\n",
    "\n",
    "y_xgboost = xgboost_reg.predict(X_test)\n",
    "\n",
    "\n",
    "# xgboost_reg.score(X_test, y_test), r2_adj(xgboost_reg, X_test, y_test)\n",
    "r2_score(np.exp(y_test), np.exp(y_xgboost)), r2_adj2(X_test, np.exp(y_test), np.exp(y_xgboost))"
   ]
  },
  {
   "cell_type": "code",
   "execution_count": null,
   "metadata": {
    "tags": []
   },
   "outputs": [],
   "source": [
    "for name, selector in selectors_test.items():\n",
    "    print(name, xgboost_reg.score(X_test[selector], y_test[selector]), r2_adj(xgboost_reg, X_test[selector], y_test[selector]))"
   ]
  },
  {
   "cell_type": "code",
   "execution_count": null,
   "metadata": {
    "tags": []
   },
   "outputs": [],
   "source": [
    "plt.scatter(y_train, regression.predict(X_train), alpha=0.5, label=\"lr\")\n",
    "plt.scatter(y_train, random_regression.predict(X_train), alpha=0.5, label=\"random\")\n",
    "plt.scatter(y_train, mlp_reg.predict(X_train), alpha=0.5, label=\"MLP\")\n",
    "plt.scatter(y_train, xgboost_reg.predict(X_train), alpha=0.5, label=\"XGBoost\")\n",
    "plt.axline((0, 0), (1, 1), c=\"k\")\n",
    "plt.xlim(np.floor(y_train.min())-0.1, np.ceil(y_test.max())+0.1)\n",
    "plt.ylim(np.floor(y_train.min())-0.1, np.ceil(y_test.max())+0.1)\n",
    "plt.xlabel(\"Observed\")\n",
    "plt.ylabel(\"Predicted\")\n",
    "plt.legend()\n",
    "_ = plt.show()"
   ]
  },
  {
   "cell_type": "code",
   "execution_count": null,
   "metadata": {
    "tags": []
   },
   "outputs": [],
   "source": [
    "plt.scatter(y_test, regression.predict(X_test), alpha=0.25, label=\"lr\")\n",
    "# plt.scatter(y_test, random_regression.predict(X_test), alpha=0.5, label=\"random\")\n",
    "plt.scatter(y_test, mlp_reg.predict(X_test), alpha=0.25, label=\"MLP\")\n",
    "plt.scatter(y_test, xgboost_reg.predict(X_test), alpha=0.25, label=\"XGBoost\")\n",
    "plt.scatter(y_test, np.log(y_prev), alpha=0.25, label=\"prev_season\")\n",
    "plt.axline((0, 0), (1, 1), c=\"k\")\n",
    "plt.xlim(np.floor(y_test.min())-0.1, np.ceil(y_test.max())+0.1)\n",
    "plt.ylim(np.floor(y_test.min())-0.1, np.ceil(y_test.max())+0.1)\n",
    "plt.xlabel(\"Observed\")\n",
    "plt.ylabel(\"Predicted\")\n",
    "plt.legend()\n",
    "_ = plt.show()"
   ]
  },
  {
   "cell_type": "code",
   "execution_count": null,
   "metadata": {
    "tags": []
   },
   "outputs": [],
   "source": [
    "reg_results = pd.DataFrame({\n",
    "    \"y\": np.exp(y_test),\n",
    "    \"y_pred\": np.exp(xgboost_reg.predict(X_test))\n",
    "    # \"y\": y_test,\n",
    "    # \"y_pred\": xgboost_reg.predict(X_test)\n",
    "})\n",
    "reg_results[\"diff\"] = reg_results[\"y_pred\"] - reg_results[\"y\"]\n",
    "reg_results[\"rel_error\"] = reg_results[\"diff\"] / reg_results[\"y\"] * 100\n",
    "reg_results[\"abs_rel_error\"] = np.abs(reg_results[\"rel_error\"])\n",
    "reg_results"
   ]
  },
  {
   "cell_type": "code",
   "execution_count": null,
   "metadata": {
    "tags": []
   },
   "outputs": [],
   "source": [
    "reg_results[\"y\"].rank()"
   ]
  },
  {
   "cell_type": "code",
   "execution_count": null,
   "metadata": {
    "tags": []
   },
   "outputs": [],
   "source": [
    "np.mean(reg_results[\"abs_rel_error\"])"
   ]
  },
  {
   "cell_type": "code",
   "execution_count": null,
   "metadata": {
    "tags": []
   },
   "outputs": [],
   "source": [
    "_data = reg_results.loc[reg_results[\"y\"] >= 1_000_000]\n",
    "plt.scatter(_data[\"y\"].rank(), _data[\"rel_error\"])\n",
    "# plt.xscale(\"log\")"
   ]
  },
  {
   "cell_type": "code",
   "execution_count": null,
   "metadata": {
    "tags": []
   },
   "outputs": [],
   "source": [
    "_ = plt.hist(_data[\"abs_rel_error\"], bins=100)"
   ]
  },
  {
   "cell_type": "code",
   "execution_count": null,
   "metadata": {
    "tags": []
   },
   "outputs": [],
   "source": [
    "_data.loc[_data[\"abs_rel_error\"] < 20].sort_values(\"abs_rel_error\")"
   ]
  },
  {
   "cell_type": "code",
   "execution_count": null,
   "metadata": {
    "tags": []
   },
   "outputs": [],
   "source": [
    "_data.sort_values(\"abs_rel_error\")"
   ]
  },
  {
   "cell_type": "markdown",
   "metadata": {},
   "source": [
    "## Features importance"
   ]
  },
  {
   "cell_type": "code",
   "execution_count": null,
   "metadata": {
    "tags": []
   },
   "outputs": [],
   "source": [
    "result = permutation_importance(\n",
    "    xgboost_reg, X_test, y_test, n_repeats=10, random_state=42, n_jobs=2\n",
    ")"
   ]
  },
  {
   "cell_type": "code",
   "execution_count": null,
   "metadata": {
    "tags": []
   },
   "outputs": [],
   "source": [
    "non_zero_feats = np.abs(result.importances_mean) > 1e-03\n",
    "forest_importances = pd.Series(result.importances_mean[non_zero_feats], index=X_test.columns.values[non_zero_feats])\n",
    "\n",
    "fig, ax = plt.subplots()\n",
    "forest_importances.plot.bar(yerr=result.importances_std[non_zero_feats], ax=ax)\n",
    "ax.set_title(\"Feature importances using permutation on full model\")\n",
    "ax.set_ylabel(\"Mean accuracy decrease\")\n",
    "fig.tight_layout()\n",
    "plt.show()"
   ]
  },
  {
   "cell_type": "markdown",
   "metadata": {},
   "source": [
    "# Predict change in market value between seasons"
   ]
  },
  {
   "cell_type": "code",
   "execution_count": null,
   "metadata": {
    "tags": []
   },
   "outputs": [],
   "source": [
    "before_after_seasons = pd.merge(\n",
    "    players_selected_vars, \n",
    "    players_selected_vars, \n",
    "    on=\"player_id_api\", \n",
    "    suffixes=[\"_before\", \"_after\"]\n",
    ").query(\"season_after - season_before == 1\")"
   ]
  },
  {
   "cell_type": "code",
   "execution_count": null,
   "metadata": {
    "tags": []
   },
   "outputs": [],
   "source": [
    "numeric_features_ba = [\n",
    "    f\"{c}_{suffix}\" for c in [\n",
    "        \"age\",\n",
    "        \"matches_played\",\n",
    "        \"matches_started\",\n",
    "        \"90s_played\",\n",
    "        # \"goals_against\",\n",
    "        # \"own_goals_against\",\n",
    "        # \"shots_on_target_against\",\n",
    "        # \"saves\",\n",
    "        # \"save%\",\n",
    "        # \"saves_inside_box\",\n",
    "        # \"penalty_kicks_saves\",\n",
    "    \"height_x\",\n",
    "    \"accurate_crosses.total\",\n",
    "    \"accurate_passes.total\",\n",
    "    \"aerials_won.total\",\n",
    "    \"big_chances_created.total\",\n",
    "    \"big_chances_missed.total\",\n",
    "    \"blocked_shots.total\",\n",
    "    \"clearances.total\",\n",
    "    \"dribbled_past.total\",\n",
    "    \"duels_won.total\",\n",
    "    \"error_lead_to_goal.total\",\n",
    "    \"fouls.total\",\n",
    "    \"goals.goals\",\n",
    "    \"interceptions.total\",\n",
    "    \"offsides.total\",\n",
    "    \"redcards.away\",\n",
    "    \"redcards.home\",\n",
    "    \"redcards.total\",\n",
    "    \"saves_inside_box.total\",\n",
    "    \"shots_off_target.total\",\n",
    "    \"tackles.total_x\",\n",
    "    \"through_balls.total\",\n",
    "    \"total_crosses.total\",\n",
    "    \"total_duels.total\",\n",
    "    \"yellowcards.away\",\n",
    "    \"yellowcards.home\",\n",
    "    \"yellowcards.total\",\n",
    "    \"yellowred_cards.away\",\n",
    "    \"yellowred_cards.home\",\n",
    "    \"yellowred_cards.total\",\n",
    "    \"shots.total\",\n",
    "    \"shots.on\",\n",
    "    \"goals.total_y\",\n",
    "    \"goals.conceded\",\n",
    "    \"goals.assists\",\n",
    "    \"goals.saves\",\n",
    "    \"passes.total_y\",\n",
    "    \"passes.key\",\n",
    "    \"passes.accuracy\",\n",
    "    \"tackles.total_y\",\n",
    "    \"tackles.blocks\",\n",
    "    \"tackles.interceptions\",\n",
    "    \"duels.total\",\n",
    "    \"duels.won\",\n",
    "    \"dribbles.attempts\",\n",
    "    \"dribbles.success\",\n",
    "    \"dribbles.past\",\n",
    "    \"fouls.committed\",\n",
    "    \"cards.yellow\",\n",
    "    \"cards.yellowred\",\n",
    "    \"cards.red\",\n",
    "    \"penalty.commited\",\n",
    "    \"penalty.saved\",\n",
    "    ]\n",
    "    for suffix in [\"before\",\"after\"]\n",
    "]\n",
    "numeric_transformer_ba = Pipeline(\n",
    "    steps=[\n",
    "        (\"imputer\", SimpleImputer(strategy=\"median\")),\n",
    "        (\"scaler\", StandardScaler())\n",
    "    ]\n",
    ")\n",
    "\n",
    "categorical_features_ba = [\n",
    "    f\"{c}_{suffix}\" for c in [\n",
    "        \"nationality\",\n",
    "        \"league\",\n",
    "        \"team\",\n",
    "        \"tier\",\n",
    "        \"position\",\n",
    "    ]\n",
    "    for suffix in [\"before\",\"after\"]\n",
    "]\n",
    "categorical_transformer_ba = Pipeline(\n",
    "    steps=[\n",
    "        (\"encoder\", OneHotEncoder(handle_unknown=\"ignore\"))\n",
    "    ]\n",
    ")\n",
    "\n",
    "preprocessor_ba = ColumnTransformer(\n",
    "    transformers=[\n",
    "        (\"num\", numeric_transformer_ba, numeric_features_ba),\n",
    "        (\"cat\", categorical_transformer_ba, categorical_features_ba),\n",
    "    ]\n",
    ")"
   ]
  },
  {
   "cell_type": "code",
   "execution_count": null,
   "metadata": {
    "tags": []
   },
   "outputs": [],
   "source": [
    "X = before_after_seasons\n",
    "y_before = np.digitize(before_after_seasons[\"normalised_market_value_before\"], bins)\n",
    "y_after = np.digitize(before_after_seasons[\"normalised_market_value_after\"], bins)\n",
    "y = np.minimum(np.maximum(y_after - y_before, -1), 1)"
   ]
  },
  {
   "cell_type": "code",
   "execution_count": null,
   "metadata": {
    "tags": []
   },
   "outputs": [],
   "source": [
    "goalkeepers = (X[\"position_before\"] == \"Goalkeeper\").values\n",
    "attackers = (X[\"position_before\"] == \"Attack\").values\n",
    "defenders = (X[\"position_before\"] == \"Defender\").values\n",
    "midfielders = (X[\"position_before\"] == \"Midfield\").values\n",
    "\n",
    "(\n",
    "    X_train, X_test, \n",
    "    y_train, y_test, \n",
    "    goalkeepers_train, goalkeepers_test,\n",
    "    attackers_train, attackers_test,\n",
    "    defenders_train, defenders_test, \n",
    "    midfielders_train, midfielders_test\n",
    ") = train_test_split(\n",
    "    X, y, \n",
    "    goalkeepers, attackers, defenders, midfielders,\n",
    "    test_size=0.2, random_state=42\n",
    ")"
   ]
  },
  {
   "cell_type": "code",
   "execution_count": null,
   "metadata": {
    "tags": []
   },
   "outputs": [],
   "source": [
    "random = Pipeline(\n",
    "    steps=[\n",
    "        (\"preprocessor\", preprocessor_ba),\n",
    "        (\"classifier\", DummyClassifier(strategy=\"stratified\")),\n",
    "    ]\n",
    ")\n",
    "random.fit(X_train, y_train)\n",
    "\n",
    "balanced_accuracy_score(y_test, random.predict(X_test))"
   ]
  },
  {
   "cell_type": "code",
   "execution_count": null,
   "metadata": {
    "tags": []
   },
   "outputs": [],
   "source": [
    "for name, selector in {\n",
    "    \"goalkeepers\": goalkeepers_test, \n",
    "    \"attackers\": attackers_test, \n",
    "    \"defenders\": defenders_test,\n",
    "    \"midfielders\": midfielders_test\n",
    "}.items():\n",
    "    print(name, balanced_accuracy_score(y_test[selector], random.predict(X_test[selector])))"
   ]
  },
  {
   "cell_type": "code",
   "execution_count": null,
   "metadata": {
    "tags": []
   },
   "outputs": [],
   "source": [
    "clf = Pipeline(\n",
    "    steps=[\n",
    "        (\"preprocessor\", preprocessor_ba), \n",
    "        (\"classifier\", LogisticRegression()),\n",
    "    ]\n",
    ")\n",
    "clf.fit(X_train, y_train)\n",
    "\n",
    "print(confusion_matrix(y_test, clf.predict(X_test), labels=[1, 0, -1]))\n",
    "\n",
    "balanced_accuracy_score(y_test, clf.predict(X_test))"
   ]
  },
  {
   "cell_type": "code",
   "execution_count": null,
   "metadata": {
    "tags": []
   },
   "outputs": [],
   "source": [
    "for name, selector in {\n",
    "    \"goalkeepers\": goalkeepers_test, \n",
    "    \"attackers\": attackers_test, \n",
    "    \"defenders\": defenders_test,\n",
    "    \"midfielders\": midfielders_test\n",
    "}.items():\n",
    "    print(name, balanced_accuracy_score(y_test[selector], clf.predict(X_test[selector])))"
   ]
  },
  {
   "cell_type": "markdown",
   "metadata": {},
   "source": [
    "\"All positions\" model performs better on all positions."
   ]
  },
  {
   "cell_type": "code",
   "execution_count": null,
   "metadata": {
    "tags": []
   },
   "outputs": [],
   "source": [
    "from sklearn.neural_network import MLPClassifier\n",
    "\n",
    "mlp = Pipeline(\n",
    "    steps=[\n",
    "        (\"preprocessor\", preprocessor_ba), \n",
    "        (\"classifier\", MLPClassifier(solver='lbfgs', alpha=1e-5, hidden_layer_sizes=(32, 16))),\n",
    "    ]\n",
    ")\n",
    "mlp.fit(X_train, y_train)\n",
    "\n",
    "print(confusion_matrix(y_test, mlp.predict(X_test), labels=[1, 0, -1]))\n",
    "\n",
    "balanced_accuracy_score(y_test, mlp.predict(X_test))"
   ]
  },
  {
   "cell_type": "code",
   "execution_count": null,
   "metadata": {
    "tags": []
   },
   "outputs": [],
   "source": [
    "for name, selector in {\n",
    "    \"goalkeepers\": goalkeepers_test, \n",
    "    \"attackers\": attackers_test, \n",
    "    \"defenders\": defenders_test,\n",
    "    \"midfielders\": midfielders_test\n",
    "}.items():\n",
    "    print(name, balanced_accuracy_score(y_test[selector], mlp.predict(X_test[selector])))"
   ]
  },
  {
   "cell_type": "markdown",
   "metadata": {},
   "source": [
    "Only model specific for midfielders perform marginally better."
   ]
  },
  {
   "cell_type": "code",
   "execution_count": null,
   "metadata": {
    "tags": []
   },
   "outputs": [],
   "source": [
    "from xgboost import XGBClassifier\n",
    "\n",
    "xgboost = Pipeline(\n",
    "    steps=[\n",
    "        (\"preprocessor\", preprocessor_ba), \n",
    "        (\"classifier\", XGBClassifier()),\n",
    "    ]\n",
    ")\n",
    "xgboost.fit(X_train, y_train+1)\n",
    "\n",
    "y_xgboost = xgboost.predict(X_test)\n",
    "\n",
    "balanced_accuracy_score(y_test+1, y_xgboost)"
   ]
  },
  {
   "cell_type": "code",
   "execution_count": null,
   "metadata": {
    "tags": []
   },
   "outputs": [],
   "source": [
    "for name, selector in {\n",
    "    \"goalkeepers\": goalkeepers_test, \n",
    "    \"attackers\": attackers_test, \n",
    "    \"defenders\": defenders_test,\n",
    "    \"midfielders\": midfielders_test\n",
    "}.items():\n",
    "    print(name, balanced_accuracy_score(y_test[selector]+1, xgboost.predict(X_test[selector])))"
   ]
  },
  {
   "cell_type": "markdown",
   "metadata": {},
   "source": [
    "XGBoost performs here better than MLP, and comparable as position-specific models."
   ]
  },
  {
   "cell_type": "markdown",
   "metadata": {},
   "source": [
    "## Features importance"
   ]
  },
  {
   "cell_type": "code",
   "execution_count": null,
   "metadata": {
    "tags": []
   },
   "outputs": [],
   "source": [
    "result = permutation_importance(\n",
    "    xgboost, X_test, y_test, n_repeats=10, random_state=42, n_jobs=2\n",
    ")\n",
    "\n",
    "forest_importances = pd.Series(result.importances_mean, index=X_test.columns)\n",
    "\n",
    "fig, ax = plt.subplots()\n",
    "forest_importances.plot.bar(yerr=result.importances_std, ax=ax)\n",
    "ax.set_title(\"Feature importances using permutation on full model\")\n",
    "ax.set_ylabel(\"Mean accuracy decrease\")\n",
    "fig.tight_layout()\n",
    "plt.show()"
   ]
  }
 ],
 "metadata": {
  "kernelspec": {
   "display_name": "p38",
   "language": "python",
   "name": "p38"
  },
  "language_info": {
   "codemirror_mode": {
    "name": "ipython",
    "version": 3
   },
   "file_extension": ".py",
   "mimetype": "text/x-python",
   "name": "python",
   "nbconvert_exporter": "python",
   "pygments_lexer": "ipython3",
   "version": "3.8.16"
  }
 },
 "nbformat": 4,
 "nbformat_minor": 5
}
