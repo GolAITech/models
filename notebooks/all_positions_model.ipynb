{
 "cells": [
  {
   "cell_type": "code",
   "execution_count": null,
   "id": "88106cac-8a26-4fb2-9603-15f28888e993",
   "metadata": {
    "tags": []
   },
   "outputs": [],
   "source": [
    "from smart_open import open\n",
    "import pandas as pd\n",
    "import datetime\n",
    "import numpy as np\n",
    "import matplotlib.pyplot as plt\n",
    "from sklearn.preprocessing import normalize"
   ]
  },
  {
   "cell_type": "markdown",
   "id": "d59cb7dd-2dc9-42dd-af09-4acee22c298e",
   "metadata": {},
   "source": [
    "# Load data for all positions"
   ]
  },
  {
   "cell_type": "code",
   "execution_count": null,
   "id": "9484912f-03d1-42f4-9a07-6181b467f309",
   "metadata": {
    "tags": []
   },
   "outputs": [],
   "source": [
    "data = pd.read_csv(\"../data/training_pruned_file_20162021.csv\")"
   ]
  },
  {
   "cell_type": "code",
   "execution_count": null,
   "id": "fe414412-a833-4bf2-b90e-1f56ac6a423e",
   "metadata": {
    "tags": []
   },
   "outputs": [],
   "source": [
    "players = data"
   ]
  },
  {
   "cell_type": "code",
   "execution_count": null,
   "id": "73748650-3f64-4cb8-898d-f4cd70901fbb",
   "metadata": {
    "tags": []
   },
   "outputs": [],
   "source": [
    "sorted(players.columns.values)"
   ]
  },
  {
   "cell_type": "code",
   "execution_count": null,
   "id": "c8a173d0-d157-4bf4-b3cf-f1afbf7c9a01",
   "metadata": {
    "tags": []
   },
   "outputs": [],
   "source": [
    "data[\"league_name\"].unique()"
   ]
  },
  {
   "cell_type": "markdown",
   "id": "64d43734-36c6-4320-aaf8-b4f42520e966",
   "metadata": {},
   "source": [
    "## Select variables"
   ]
  },
  {
   "cell_type": "code",
   "execution_count": null,
   "id": "f3fa8469-053a-4151-be6e-91bfad7223f4",
   "metadata": {
    "tags": []
   },
   "outputs": [],
   "source": [
    "players_selected_vars = players[[\n",
    "    \"name\",\n",
    "    \"player_id_api\",\n",
    "    \"date_of_birth\",\n",
    "    \"nationality\",\n",
    "    \"team_name\",\n",
    "    'league_name',\n",
    "     'league.season',\n",
    "    # \"error_lead_to_goal.total\",\n",
    "    # \"saves_inside_box.total\",\n",
    "    \"games.appearences\",\n",
    "    \"games.lineups\",\n",
    "    \"games.minutes\",\n",
    "    # \"goals.conceded\",\n",
    "    # \"goals.saves\",\n",
    "    # \"penalty.saved\",\n",
    "    # \"highest_market_value_in_eur\",\n",
    "    \"market_value_in_eur_x\",\n",
    "    # \"own_goals.total\",\n",
    "    \"position\",\n",
    "    \"position_name_y\",\n",
    "    \"height_x\",\n",
    "    \"accurate_crosses.total\",\n",
    "    \"accurate_passes.total\",\n",
    "    \"aerials_won.total\",\n",
    "    \"big_chances_created.total\",\n",
    "    \"big_chances_missed.total\",\n",
    "    \"blocked_shots.total\",\n",
    "    \"clearances.total\",\n",
    "    \"dribbled_past.total\",\n",
    "    \"duels_won.total\",\n",
    "    \"error_lead_to_goal.total\",\n",
    "    \"fouls.total\",\n",
    "    \"goals.goals\",\n",
    "    \"interceptions.total\",\n",
    "    \"offsides.total\",\n",
    "    \"redcards.away\",\n",
    "    \"redcards.home\",\n",
    "    \"redcards.total\",\n",
    "    \"saves_inside_box.total\",\n",
    "    \"shots_off_target.total\",\n",
    "    \"tackles.total_x\",\n",
    "    \"through_balls.total\",\n",
    "    \"total_crosses.total\",\n",
    "    \"total_duels.total\",\n",
    "    \"yellowcards.away\",\n",
    "    \"yellowcards.home\",\n",
    "    \"yellowcards.total\",\n",
    "    \"yellowred_cards.away\",\n",
    "    \"yellowred_cards.home\",\n",
    "    \"yellowred_cards.total\",\n",
    "    \"shots.total\",\n",
    "    \"shots.on\",\n",
    "    \"goals.total_y\",\n",
    "    \"goals.conceded\",\n",
    "    \"goals.assists\",\n",
    "    \"goals.saves\",\n",
    "    \"passes.total_y\",\n",
    "    \"passes.key\",\n",
    "    \"passes.accuracy\",\n",
    "    \"tackles.total_y\",\n",
    "    \"tackles.blocks\",\n",
    "    \"tackles.interceptions\",\n",
    "    \"duels.total\",\n",
    "    \"duels.won\",\n",
    "    \"dribbles.attempts\",\n",
    "    \"dribbles.success\",\n",
    "    \"dribbles.past\",\n",
    "    \"fouls.committed\",\n",
    "    \"cards.yellow\",\n",
    "    \"cards.yellowred\",\n",
    "    \"cards.red\",\n",
    "    \"penalty.commited\",\n",
    "    \"penalty.saved\",\n",
    "]].copy().rename({\n",
    "    \"team_name\": \"team\",\n",
    "    \"league_name\": \"league\",\n",
    "    \"league.season\": \"season\",\n",
    "    \"games.appearences\": \"matches_played\",\n",
    "    \"games.lineups\": \"matches_started\",\n",
    "    \"games.minutes\": \"minutes\",\n",
    "    # \"goals.conceded\": \"goals_against\",\n",
    "    # \"goals.saves\": \"saves\",\n",
    "    # \"saves_inside_box.total\": \"saves_inside_box\",\n",
    "    # \"penalty.saved\": \"penalty_kicks_saves\",\n",
    "    # \"own_goals.total\": \"own_goals_against\",\n",
    "    # \"error_lead_to_goal.total\": \"errors_to_goal\",\n",
    "    \"market_value_in_eur_x\": \"market_value\",\n",
    "}, axis=1)\n",
    "players_selected_vars[\"90s_played\"] = players_selected_vars[\"minutes\"] / 90\n",
    "# players_selected_vars[\"goals_against_90s\"] = players_selected_vars[\"goals_against\"] / players_selected_vars[\"90s_played\"]\n",
    "# players_selected_vars[\"shots_on_target_against\"] = players_selected_vars[\"goals_against\"] + players_selected_vars[\"saves\"]\n",
    "# players_selected_vars[\"save%\"] = players_selected_vars[\"saves\"] / players_selected_vars[\"shots_on_target_against\"]\n",
    "# players_selected_vars[\"age\"] = pd.to_datetime(players_selected_vars[\"date_of_birth\"]).map(lambda x: int((pd.Timestamp.today() - x).days / 365))\n",
    "players_selected_vars[\"age\"] = (30 - (players[\"league.season\"] - players[\"date_of_birth\"].str.slice(0, 4).astype(int)))\n",
    "players_selected_vars[\"age2\"] = players_selected_vars[\"age\"] ** 2\n",
    "# players_selected_vars[\"own_goals_against\"] = players_selected_vars[\"own_goals_against\"].fillna(0)\n",
    "for per_90 in [\n",
    "    # \"shots_on_target_against\",\n",
    "    # \"saves_inside_box\",\n",
    "    # \"saves\",\n",
    "    # \"penalty_kicks_saves\",\n",
    "    # \"own_goals_against\",\n",
    "    # \"goals_against\",\n",
    "    # \"accurate_crosses.total\",\n",
    "    # \"big_chances_created.total\",\n",
    "    # \"big_chances_missed.total\",\n",
    "    # \"blocked_shots.total\",\n",
    "    # \"dribbled_past.total\",\n",
    "    # \"goals.goals\",\n",
    "    # \"offsides.total\",\n",
    "    # \"shots_off_target.total\",\n",
    "    # \"through_balls.total\",\n",
    "    # \"total_crosses.total\",\n",
    "    # \"shots.total\",\n",
    "    # \"shots.on\",\n",
    "    # \"goals.total_y\",\n",
    "    # \"goals.assists\",\n",
    "    # \"passes.key\",\n",
    "    # \"dribbles.attempts\",\n",
    "    # \"dribbles.success\",\n",
    "    # \"dribbles.past\",\n",
    "]:\n",
    "    players_selected_vars[per_90] = players_selected_vars[per_90] / players_selected_vars[\"90s_played\"]\n",
    "\n",
    "\n",
    "players_selected_vars.replace([np.inf, -np.inf], np.nan, inplace=True)\n",
    "    \n",
    "players_selected_vars = players_selected_vars.drop([\n",
    "    \"date_of_birth\",\n",
    "    \"minutes\",\n",
    "], axis=1)\n",
    "\n",
    "order = [\n",
    "    \"name\",\n",
    "    \"player_id_api\",\n",
    "    \"age\",\n",
    "    \"age2\",\n",
    "    \"nationality\",\n",
    "    \"league\",\n",
    "    \"team\",\n",
    "    \"season\",\n",
    "    \"matches_played\",\n",
    "    \"matches_started\",\n",
    "    # \"minutes\",\n",
    "    \"90s_played\",\n",
    "    # \"goals_against\",\n",
    "    # \"own_goals_against\",\n",
    "    # \"shots_on_target_against\",\n",
    "    # \"saves\",\n",
    "    # \"save%\",\n",
    "    # \"saves_inside_box\",\n",
    "    # \"penalty_kicks_saves\",\n",
    "    \"market_value\",\n",
    "    \"position\",\n",
    "    \"position_name_y\",\n",
    "    \"height_x\",\n",
    "    \"accurate_crosses.total\",\n",
    "    \"accurate_passes.total\",\n",
    "    \"aerials_won.total\",\n",
    "    \"big_chances_created.total\",\n",
    "    \"big_chances_missed.total\",\n",
    "    \"blocked_shots.total\",\n",
    "    \"clearances.total\",\n",
    "    \"dribbled_past.total\",\n",
    "    \"duels_won.total\",\n",
    "    \"error_lead_to_goal.total\",\n",
    "    \"fouls.total\",\n",
    "    \"goals.goals\",\n",
    "    \"interceptions.total\",\n",
    "    \"offsides.total\",\n",
    "    \"redcards.away\",\n",
    "    \"redcards.home\",\n",
    "    \"redcards.total\",\n",
    "    \"saves_inside_box.total\",\n",
    "    \"shots_off_target.total\",\n",
    "    \"tackles.total_x\",\n",
    "    \"through_balls.total\",\n",
    "    \"total_crosses.total\",\n",
    "    \"total_duels.total\",\n",
    "    \"yellowcards.away\",\n",
    "    \"yellowcards.home\",\n",
    "    \"yellowcards.total\",\n",
    "    \"yellowred_cards.away\",\n",
    "    \"yellowred_cards.home\",\n",
    "    \"yellowred_cards.total\",\n",
    "    \"shots.total\",\n",
    "    \"shots.on\",\n",
    "    \"goals.total_y\",\n",
    "    \"goals.conceded\",\n",
    "    \"goals.assists\",\n",
    "    \"goals.saves\",\n",
    "    \"passes.total_y\",\n",
    "    \"passes.key\",\n",
    "    \"passes.accuracy\",\n",
    "    \"tackles.total_y\",\n",
    "    \"tackles.blocks\",\n",
    "    \"tackles.interceptions\",\n",
    "    \"duels.total\",\n",
    "    \"duels.won\",\n",
    "    \"dribbles.attempts\",\n",
    "    \"dribbles.success\",\n",
    "    \"dribbles.past\",\n",
    "    \"fouls.committed\",\n",
    "    \"cards.yellow\",\n",
    "    \"cards.yellowred\",\n",
    "    \"cards.red\",\n",
    "    \"penalty.commited\",\n",
    "    \"penalty.saved\",\n",
    "]\n",
    "players_selected_vars = players_selected_vars[order + list(set(players_selected_vars.columns).difference(order))]\n",
    "players_selected_vars"
   ]
  },
  {
   "cell_type": "code",
   "execution_count": null,
   "id": "ea27a5ea-e971-4238-9d07-08d4c2008485",
   "metadata": {
    "tags": []
   },
   "outputs": [],
   "source": [
    "from helpers import TEAM_TIERS"
   ]
  },
  {
   "cell_type": "code",
   "execution_count": null,
   "id": "bf21cef0-2d33-4b52-b842-59fa6d779095",
   "metadata": {
    "tags": []
   },
   "outputs": [],
   "source": [
    "players_selected_vars = pd.merge(players_selected_vars, TEAM_TIERS, left_on=\"team\", right_index=True)"
   ]
  },
  {
   "cell_type": "code",
   "execution_count": null,
   "id": "70bd6951-5d03-49d0-ba70-d900f27eaa68",
   "metadata": {
    "tags": []
   },
   "outputs": [],
   "source": [
    "players_selected_vars.loc[players_selected_vars[\"tier\"] == \"-1\", \"tier\"] = None"
   ]
  },
  {
   "cell_type": "code",
   "execution_count": null,
   "id": "d21f3ffd-eb1c-4d37-b316-9f8afd8e3a44",
   "metadata": {
    "tags": []
   },
   "outputs": [],
   "source": [
    "# for c in players_selected_vars.columns:\n",
    "#     players_selected_vars[f\"has_{c}\"] = (~players_selected_vars[c].isnull()).astype(int)"
   ]
  },
  {
   "cell_type": "code",
   "execution_count": null,
   "id": "0a4bbdda-f5bd-4855-9624-5a2f6b624da7",
   "metadata": {
    "tags": []
   },
   "outputs": [],
   "source": [
    "mvs = players_selected_vars[\"market_value\"].values\n",
    "mvs = np.expand_dims(mvs, axis=1)\n",
    "mvs = normalize(mvs, norm=\"max\", axis=0)\n",
    "mvs = np.squeeze(mvs)\n",
    "players_selected_vars[\"normalised_market_value\"] = mvs"
   ]
  },
  {
   "cell_type": "code",
   "execution_count": null,
   "id": "ea44e269-5397-42ad-b423-5255f897530e",
   "metadata": {
    "tags": []
   },
   "outputs": [],
   "source": [
    "from sklearn.compose import ColumnTransformer\n",
    "from sklearn.dummy import DummyClassifier, DummyRegressor\n",
    "from sklearn.impute import SimpleImputer\n",
    "from sklearn.inspection import permutation_importance\n",
    "from sklearn.linear_model import LogisticRegression, LinearRegression\n",
    "from sklearn.metrics import confusion_matrix, accuracy_score, balanced_accuracy_score\n",
    "from sklearn.model_selection import train_test_split\n",
    "from sklearn.pipeline import Pipeline\n",
    "from sklearn.preprocessing import OneHotEncoder\n",
    "from sklearn.preprocessing import StandardScaler\n",
    "from sklearn.svm import SVC"
   ]
  },
  {
   "cell_type": "code",
   "execution_count": null,
   "id": "1d1f8684-63f2-4511-8923-795216a17688",
   "metadata": {
    "tags": []
   },
   "outputs": [],
   "source": [
    "mv_changes = pd.merge(players_selected_vars, players_selected_vars, on=\"player_id_api\", suffixes=[\"_l\",\"_r\"]).query(\"season_r - season_l == 1\")[[\"player_id_api\", \"season_r\",\"market_value_r\", \"market_value_l\"]]\n",
    "mv_changes[\"change\"] = (mv_changes[\"market_value_r\"] - mv_changes[\"market_value_l\"]) / mv_changes[\"market_value_l\"] * 100\n",
    "mv_changes = mv_changes.drop(columns=[\"market_value_r\", \"market_value_l\"]).rename(columns={\"season_r\": \"season\"})\n",
    "mv_changes"
   ]
  },
  {
   "cell_type": "markdown",
   "id": "71d6e5d8-d5ad-440e-8887-9ddb4410f2a6",
   "metadata": {},
   "source": [
    "## Transformation pipeline"
   ]
  },
  {
   "cell_type": "code",
   "execution_count": null,
   "id": "4e74aa3f-d75c-42a2-8e24-22e1222bd90f",
   "metadata": {
    "tags": []
   },
   "outputs": [],
   "source": [
    "numeric_features = [\n",
    "    \"age\",\n",
    "    \"age2\",\n",
    "    \"matches_played\",\n",
    "    \"matches_started\",\n",
    "    \"90s_played\",\n",
    "    # \"goals_against\",\n",
    "    # \"own_goals_against\",\n",
    "    # \"shots_on_target_against\",\n",
    "    # \"saves\",\n",
    "    # \"save%\",\n",
    "    # \"saves_inside_box\",\n",
    "    # \"penalty_kicks_saves\",\n",
    "    \"height_x\",\n",
    "    \"accurate_crosses.total\",\n",
    "    \"accurate_passes.total\",\n",
    "    \"aerials_won.total\",\n",
    "    \"big_chances_created.total\",\n",
    "    \"big_chances_missed.total\",\n",
    "    \"blocked_shots.total\",\n",
    "    \"clearances.total\",\n",
    "    \"dribbled_past.total\",\n",
    "    \"duels_won.total\",\n",
    "    \"error_lead_to_goal.total\",\n",
    "    \"fouls.total\",\n",
    "    \"goals.goals\",\n",
    "    \"interceptions.total\",\n",
    "    \"offsides.total\",\n",
    "    \"redcards.away\",\n",
    "    \"redcards.home\",\n",
    "    \"redcards.total\",\n",
    "    \"saves_inside_box.total\",\n",
    "    \"shots_off_target.total\",\n",
    "    \"tackles.total_x\",\n",
    "    \"through_balls.total\",\n",
    "    \"total_crosses.total\",\n",
    "    \"total_duels.total\",\n",
    "    \"yellowcards.away\",\n",
    "    \"yellowcards.home\",\n",
    "    \"yellowcards.total\",\n",
    "    \"yellowred_cards.away\",\n",
    "    \"yellowred_cards.home\",\n",
    "    \"yellowred_cards.total\",\n",
    "    \"shots.total\",\n",
    "    \"shots.on\",\n",
    "    \"goals.total_y\",\n",
    "    \"goals.conceded\",\n",
    "    \"goals.assists\",\n",
    "    \"goals.saves\",\n",
    "    \"passes.total_y\",\n",
    "    \"passes.key\",\n",
    "    \"passes.accuracy\",\n",
    "    \"tackles.total_y\",\n",
    "    \"tackles.blocks\",\n",
    "    \"tackles.interceptions\",\n",
    "    \"duels.total\",\n",
    "    \"duels.won\",\n",
    "    \"dribbles.attempts\",\n",
    "    \"dribbles.success\",\n",
    "    \"dribbles.past\",\n",
    "    \"fouls.committed\",\n",
    "    \"cards.yellow\",\n",
    "    \"cards.yellowred\",\n",
    "    \"cards.red\",\n",
    "    \"penalty.commited\",\n",
    "    \"penalty.saved\",\n",
    "]\n",
    "numeric_transformer = Pipeline(\n",
    "    steps=[\n",
    "        (\"imputer\", SimpleImputer(strategy=\"median\")),\n",
    "        (\"scaler\", StandardScaler())\n",
    "    ]\n",
    ")\n",
    "\n",
    "# binary_features = [f\"has_{c}\" for c in numeric_features if f\"has_{c}\" in players_selected_vars.columns]\n",
    "# binary_transformer = Pipeline(\n",
    "#     steps=[\n",
    "#         (\"imputer\", SimpleImputer(strategy=\"constant\", fill_value=0))\n",
    "#     ]\n",
    "# )\n",
    "\n",
    "categorical_features = [\n",
    "    \"nationality\",\n",
    "    \"league\",\n",
    "    \"team\",\n",
    "    \"tier\",\n",
    "    \"position\",\n",
    "    \"position_name_y\",\n",
    "]\n",
    "categorical_transformer = Pipeline(\n",
    "    steps=[\n",
    "        (\"encoder\", OneHotEncoder(handle_unknown=\"ignore\"))\n",
    "    ]\n",
    ")\n",
    "\n",
    "preprocessor = ColumnTransformer(\n",
    "    transformers=[\n",
    "        (\"num\", numeric_transformer, numeric_features),\n",
    "        (\"cat\", categorical_transformer, categorical_features),\n",
    "        # (\"bin\", binary_transformer, binary_features),\n",
    "    ]\n",
    ")"
   ]
  },
  {
   "cell_type": "markdown",
   "id": "5c83d92f-900c-41be-8acc-8ce0b74e25ac",
   "metadata": {},
   "source": [
    "# Predict price bucket"
   ]
  },
  {
   "cell_type": "code",
   "execution_count": null,
   "id": "0ac3cb2e-39aa-4853-860a-ce68661ca1a6",
   "metadata": {
    "tags": []
   },
   "outputs": [],
   "source": [
    "plt.hist(players_selected_vars[\"market_value\"], bins=100)\n",
    "# plt.xlim((0, 0.5e8))\n",
    "plt.yscale(\"log\")"
   ]
  },
  {
   "cell_type": "code",
   "execution_count": null,
   "id": "cc8455cf-8bd7-4f18-a6e2-9da2c4199266",
   "metadata": {
    "tags": []
   },
   "outputs": [],
   "source": [
    "bins = [\n",
    "    0.0025,\n",
    "    0.005,\n",
    "    0.01,\n",
    "    0.025,\n",
    "    0.05, # \n",
    "    0.1, # 8 - 20\n",
    "    0.25, # 20 - 40\n",
    "    0.5,  # 40 -80\n",
    "    1.0  # 80M\n",
    "]\n",
    "y = np.digitize(players_selected_vars[\"normalised_market_value\"], bins)\n",
    "# bins = np.concatenate([\n",
    "#     np.arange(200_000, 4_000_000, 200_000),\n",
    "#     np.arange(4_000_000, 20_000_000, 2_000_000),\n",
    "#     np.arange(20_000_000, 100_000_000, 5_000_000),\n",
    "#     np.arange(100_000_000, 200_000_001, 10_000_000)\n",
    "# ])\n",
    "# y = np.digitize(players_selected_vars[\"market_value\"], bins)\n",
    "X = players_selected_vars"
   ]
  },
  {
   "cell_type": "code",
   "execution_count": null,
   "id": "8e682d79-3ea7-435b-8dd7-e2ede86c69dc",
   "metadata": {
    "tags": []
   },
   "outputs": [],
   "source": [
    "goalkeepers = (X[\"position\"] == \"Goalkeeper\").values\n",
    "attackers = (X[\"position\"] == \"Attack\").values\n",
    "defenders = (X[\"position\"] == \"Defender\").values\n",
    "midfielders = (X[\"position\"] == \"Midfield\").values\n",
    "\n",
    "(\n",
    "    X_train, X_test, \n",
    "    y_train, y_test, \n",
    "    goalkeepers_train, goalkeepers_test,\n",
    "    attackers_train, attackers_test,\n",
    "    defenders_train, defenders_test, \n",
    "    midfielders_train, midfielders_test\n",
    ") = train_test_split(\n",
    "    X, y, \n",
    "    goalkeepers, attackers, defenders, midfielders,\n",
    "    test_size=0.2, random_state=42\n",
    ")"
   ]
  },
  {
   "cell_type": "code",
   "execution_count": null,
   "id": "5bceedc6-c832-4fe3-b2c8-678f950328dd",
   "metadata": {
    "tags": []
   },
   "outputs": [],
   "source": [
    "np.unique(y_train, return_counts=True)"
   ]
  },
  {
   "cell_type": "code",
   "execution_count": null,
   "id": "3aa3576c-ef06-4355-a787-79947a16d658",
   "metadata": {
    "tags": []
   },
   "outputs": [],
   "source": [
    "random = Pipeline(\n",
    "    steps=[\n",
    "        (\"preprocessor\", preprocessor),\n",
    "        (\"classifier\", DummyClassifier(strategy=\"stratified\")),\n",
    "    ]\n",
    ")\n",
    "random.fit(X_train, y_train)\n",
    "\n",
    "y_random = random.predict(X_test)\n",
    "\n",
    "balanced_accuracy_score(y_test, y_random)"
   ]
  },
  {
   "cell_type": "code",
   "execution_count": null,
   "id": "3e7b9e8f-a6f9-4f5f-9188-8cd7ab86a679",
   "metadata": {
    "tags": []
   },
   "outputs": [],
   "source": [
    "for name, selector in {\n",
    "    \"goalkeepers\": goalkeepers_test, \n",
    "    \"attackers\": attackers_test, \n",
    "    \"defenders\": defenders_test,\n",
    "    \"midfielders\": midfielders_test\n",
    "}.items():\n",
    "    print(name, balanced_accuracy_score(y_test[selector], random.predict(X_test[selector])))"
   ]
  },
  {
   "cell_type": "code",
   "execution_count": null,
   "id": "d439a90b-f316-49cc-9fde-d524fc5e5f67",
   "metadata": {
    "tags": []
   },
   "outputs": [],
   "source": [
    "clf = Pipeline(\n",
    "    steps=[\n",
    "        (\"preprocessor\", preprocessor), \n",
    "        (\"classifier\", LogisticRegression()),\n",
    "    ]\n",
    ")\n",
    "clf.fit(X_train, y_train)\n",
    "\n",
    "y_lr = clf.predict(X_test)\n",
    "\n",
    "balanced_accuracy_score(y_test, y_lr)"
   ]
  },
  {
   "cell_type": "code",
   "execution_count": null,
   "id": "2a0f8226-9e40-4740-9dd7-e72fd6403c66",
   "metadata": {
    "tags": []
   },
   "outputs": [],
   "source": [
    "for name, selector in {\n",
    "    \"goalkeepers\": goalkeepers_test, \n",
    "    \"attackers\": attackers_test, \n",
    "    \"defenders\": defenders_test,\n",
    "    \"midfielders\": midfielders_test\n",
    "}.items():\n",
    "    print(name, balanced_accuracy_score(y_test[selector], clf.predict(X_test[selector])))"
   ]
  },
  {
   "cell_type": "markdown",
   "id": "94d21b0b-35ce-48e4-9580-218ff48370a4",
   "metadata": {},
   "source": [
    "Only model specific to goalkeepers performs better on that position than the \"all positions\" model.\n",
    "Performance on other positions is similar or marginally better with the generic model."
   ]
  },
  {
   "cell_type": "code",
   "execution_count": null,
   "id": "15b18801-47e5-430c-8d73-ce74c95a6c65",
   "metadata": {
    "tags": []
   },
   "outputs": [],
   "source": [
    "from sklearn.neural_network import MLPClassifier\n",
    "\n",
    "mlp = Pipeline(\n",
    "    steps=[\n",
    "        (\"preprocessor\", preprocessor), \n",
    "        (\"classifier\", MLPClassifier(solver='lbfgs', alpha=1e-5, hidden_layer_sizes=(16, 8))),\n",
    "    ]\n",
    ")\n",
    "mlp.fit(X_train, y_train)\n",
    "\n",
    "y_mlp = mlp.predict(X_test)\n",
    "\n",
    "balanced_accuracy_score(y_test, y_mlp)"
   ]
  },
  {
   "cell_type": "code",
   "execution_count": null,
   "id": "12217003-6ca0-4cfd-bb2f-547d66a5bf93",
   "metadata": {
    "tags": []
   },
   "outputs": [],
   "source": [
    "for name, selector in {\n",
    "    \"goalkeepers\": goalkeepers_test, \n",
    "    \"attackers\": attackers_test, \n",
    "    \"defenders\": defenders_test,\n",
    "    \"midfielders\": midfielders_test\n",
    "}.items():\n",
    "    print(name, balanced_accuracy_score(y_test[selector], mlp.predict(X_test[selector])))"
   ]
  },
  {
   "cell_type": "markdown",
   "id": "2b83aea9-2bca-4019-ba6d-9f291a78fe04",
   "metadata": {},
   "source": [
    "Models specific for goalkeeprs and midfielders are slighlty better than one generic model."
   ]
  },
  {
   "cell_type": "code",
   "execution_count": null,
   "id": "f36a05d5-0b19-4a37-ac50-c60fd13519f7",
   "metadata": {
    "tags": []
   },
   "outputs": [],
   "source": [
    "from xgboost import XGBClassifier\n",
    "\n",
    "xgboost = Pipeline(\n",
    "    steps=[\n",
    "        (\"preprocessor\", preprocessor), \n",
    "        (\"classifier\", XGBClassifier(learning_rate=1)),\n",
    "    ]\n",
    ")\n",
    "xgboost.fit(X_train, y_train)\n",
    "\n",
    "y_xgboost = xgboost.predict(X_test)\n",
    "\n",
    "balanced_accuracy_score(y_test, y_xgboost)"
   ]
  },
  {
   "cell_type": "code",
   "execution_count": null,
   "id": "1ed63628-cee6-463e-ac7b-9c825c89e719",
   "metadata": {
    "tags": []
   },
   "outputs": [],
   "source": [
    "for name, selector in {\n",
    "    \"goalkeepers\": goalkeepers_test, \n",
    "    \"attackers\": attackers_test, \n",
    "    \"defenders\": defenders_test,\n",
    "    \"midfielders\": midfielders_test\n",
    "}.items():\n",
    "    print(name, balanced_accuracy_score(y_test[selector], xgboost.predict(X_test[selector])))"
   ]
  },
  {
   "cell_type": "code",
   "execution_count": null,
   "id": "a3f2cc2d-28a7-4ed4-bf46-bb3a811a1eba",
   "metadata": {
    "tags": []
   },
   "outputs": [],
   "source": [
    "from collections import defaultdict\n",
    "arr = np.zeros((10, 10))\n",
    "for a, b in zip(y_test, y_xgboost):\n",
    "    arr[a, b] = arr[a, b] + 1"
   ]
  },
  {
   "cell_type": "code",
   "execution_count": null,
   "id": "f71bc212-7900-4a86-ad2d-b6fd32236608",
   "metadata": {
    "tags": []
   },
   "outputs": [],
   "source": [
    "arr"
   ]
  },
  {
   "cell_type": "code",
   "execution_count": null,
   "id": "8a2f069b-4120-4398-8190-578178ad3ef9",
   "metadata": {
    "tags": []
   },
   "outputs": [],
   "source": [
    "plt.imshow(arr, cmap='hot')\n",
    "plt.xlabel(\"Observed\")\n",
    "plt.ylabel(\"Predicted\")\n",
    "_ = plt.show()"
   ]
  },
  {
   "cell_type": "code",
   "execution_count": null,
   "id": "670f3156-6abe-43ed-88bf-802c863843c5",
   "metadata": {
    "tags": []
   },
   "outputs": [],
   "source": [
    "x = np.unique(y_test - y_xgboost, return_counts=True)\n",
    "a, b =x"
   ]
  },
  {
   "cell_type": "code",
   "execution_count": null,
   "id": "c564ade8-f5c3-4518-a027-a45b6798fb26",
   "metadata": {
    "tags": []
   },
   "outputs": [],
   "source": [
    "cnt = 0\n",
    "for q,w in zip(a, b):\n",
    "    print(q, w)\n",
    "    cnt += w\n",
    "cnt"
   ]
  },
  {
   "cell_type": "code",
   "execution_count": null,
   "id": "1195103f-c068-4d1e-b3f4-6101e417e233",
   "metadata": {
    "tags": []
   },
   "outputs": [],
   "source": [
    "(583 + 1397 + 569) / 2951"
   ]
  },
  {
   "cell_type": "code",
   "execution_count": null,
   "id": "10f0b699-4dec-44ee-a020-52ec99a35d77",
   "metadata": {
    "tags": []
   },
   "outputs": [],
   "source": [
    "np.unique(y_lr, return_counts=True)"
   ]
  },
  {
   "cell_type": "markdown",
   "id": "4bc00fc7-4c50-4c9f-920e-f1b4f0918b6d",
   "metadata": {},
   "source": [
    "## Features importance"
   ]
  },
  {
   "cell_type": "code",
   "execution_count": null,
   "id": "bbdaddf4-ba58-4ae1-80ab-9d7d3690f291",
   "metadata": {
    "tags": []
   },
   "outputs": [],
   "source": [
    "result = permutation_importance(\n",
    "    xgboost, X_test, y_test, n_repeats=10, random_state=42, n_jobs=2\n",
    ")\n",
    "\n",
    "forest_importances = pd.Series(result.importances_mean, index=X_test.columns)\n",
    "\n",
    "fig, ax = plt.subplots()\n",
    "forest_importances.plot.bar(yerr=result.importances_std, ax=ax)\n",
    "ax.set_title(\"Feature importances using permutation on full model\")\n",
    "ax.set_ylabel(\"Mean accuracy decrease\")\n",
    "fig.tight_layout()\n",
    "plt.show()"
   ]
  },
  {
   "cell_type": "markdown",
   "id": "f53f18bd-de12-4d28-aef7-d8b4393eb939",
   "metadata": {},
   "source": [
    "# Predict market value"
   ]
  },
  {
   "cell_type": "code",
   "execution_count": null,
   "id": "adbcceec-265a-4ff7-bb11-d01a0734607c",
   "metadata": {
    "tags": []
   },
   "outputs": [],
   "source": [
    "from sklearn.metrics import r2_score"
   ]
  },
  {
   "cell_type": "code",
   "execution_count": null,
   "id": "c63681f9-8670-4afe-9c16-da1f790de1ae",
   "metadata": {
    "tags": []
   },
   "outputs": [],
   "source": [
    "def r2_adj(model, x, y):\n",
    "    r2 = model.score(x,y)\n",
    "    n = x.shape[0]\n",
    "    p = x.shape[1]\n",
    "    return 1-(1-r2)*(n-1)/(n-p-1)\n",
    "\n",
    "def r2_adj2(x, y_test, y_pred):\n",
    "    r2 = r2_score(y_test, y_pred)\n",
    "    n = x.shape[0]\n",
    "    p = x.shape[1]\n",
    "    return 1-(1-r2)*(n-1)/(n-p-1)"
   ]
  },
  {
   "cell_type": "code",
   "execution_count": null,
   "id": "0b993134-8acb-4309-90cc-28c5304ae86f",
   "metadata": {
    "tags": []
   },
   "outputs": [],
   "source": [
    "players_with_same_values = set(pd.merge(players_selected_vars, players_selected_vars, on=\"player_id_api\").query(\"season_x - season_y == 1\").query(\"market_value_x == market_value_y\")[\"player_id_api\"].unique())"
   ]
  },
  {
   "cell_type": "code",
   "execution_count": null,
   "id": "fde5a414-7c36-4b1c-bae9-ddbcbe9cd7c9",
   "metadata": {
    "tags": []
   },
   "outputs": [],
   "source": [
    "# X = players_selected_vars.query(\"player_id_api not in @players_with_same_values\")\n",
    "# y = players_selected_vars[\"normalised_market_value\"]\n",
    "# y = np.log(players_selected_vars.query(\"player_id_api not in @players_with_same_values\")[\"market_value\"])\n",
    "X = players_selected_vars.loc[lambda x: x[\"matches_played\"] > 15]\n",
    "y = np.log(players_selected_vars.loc[lambda x: x[\"matches_played\"] > 15][\"market_value\"])"
   ]
  },
  {
   "cell_type": "code",
   "execution_count": null,
   "id": "c42eb3f6-3dcf-48ce-984e-812d5ef54d17",
   "metadata": {
    "tags": []
   },
   "outputs": [],
   "source": [
    "X_train = X.loc[X[\"season\"] <= 2020]\n",
    "X_test = X.loc[X[\"season\"] == 2021]\n",
    "y_train = y.loc[X[\"season\"] <= 2020]\n",
    "y_test = y.loc[X[\"season\"] == 2021]\n",
    "X_train.shape, X_test.shape, y_train.shape, y_test.shape"
   ]
  },
  {
   "cell_type": "code",
   "execution_count": null,
   "id": "53fe9e35-90c3-4858-8dce-744f0a197b7b",
   "metadata": {
    "tags": []
   },
   "outputs": [],
   "source": [
    "selectors_train = dict()\n",
    "selectors_test = dict()\n",
    "for p in [\"Goalkeeper\", \"Attack\", \"Defender\", \"Midfield\"]:\n",
    "    selectors_train[p] = (X_train[\"position\"] == p).values\n",
    "    selectors_test[p] = (X_test[\"position\"] == p).values"
   ]
  },
  {
   "cell_type": "code",
   "execution_count": null,
   "id": "3577f9d7-00ae-4ef7-8b4a-06d1cc164391",
   "metadata": {
    "tags": []
   },
   "outputs": [],
   "source": [
    "# goalkeepers = (X[\"position\"] == \"Goalkeeper\").values\n",
    "# attackers = (X[\"position\"] == \"Attack\").values\n",
    "# defenders = (X[\"position\"] == \"Defender\").values\n",
    "# midfielders = (X[\"position\"] == \"Midfield\").values\n",
    "\n",
    "# (\n",
    "#     X_train, X_test, \n",
    "#     y_train, y_test, \n",
    "#     goalkeepers_train, goalkeepers_test,\n",
    "#     attackers_train, attackers_test,\n",
    "#     defenders_train, defenders_test, \n",
    "#     midfielders_train, midfielders_test\n",
    "# ) = train_test_split(\n",
    "#     X, y, \n",
    "#     goalkeepers, attackers, defenders, midfielders,\n",
    "#     test_size=0.2, random_state=42\n",
    "# )"
   ]
  },
  {
   "cell_type": "code",
   "execution_count": null,
   "id": "00e5be29-bc8a-4e1f-9bfd-30a091e17aeb",
   "metadata": {
    "tags": []
   },
   "outputs": [],
   "source": [
    "random_regression = Pipeline(\n",
    "    steps=[\n",
    "        (\"preprocessor\", preprocessor),\n",
    "        (\"regression\", DummyRegressor()),\n",
    "    ]\n",
    ")\n",
    "random_regression.fit(X_train, y_train)\n",
    "\n",
    "for _X, _y in ((X_train, y_train), (X_test, y_test)):\n",
    "    print(random_regression.score(_X, _y), r2_adj(random_regression, _X, _y))"
   ]
  },
  {
   "cell_type": "code",
   "execution_count": null,
   "id": "a7819f95-32fb-4c32-9f8d-6b8f47b3451b",
   "metadata": {
    "tags": []
   },
   "outputs": [],
   "source": [
    "for name, selector in selectors_test.items():\n",
    "    print(name, random_regression.score(X_test[selector], y_test[selector]), r2_adj(random_regression, X_test[selector], y_test[selector]))"
   ]
  },
  {
   "cell_type": "code",
   "execution_count": null,
   "id": "68f84dd8-2390-4c58-8378-ba6733f389d1",
   "metadata": {
    "tags": []
   },
   "outputs": [],
   "source": [
    "y_2020 = X_train.loc[X_train[\"season\"] == 2020].groupby(\"player_id_api\")[\"market_value\"].mean()\n",
    "y_prev = pd.merge(\n",
    "    y_2020,\n",
    "    X_test,\n",
    "    left_index=True,\n",
    "    right_on=\"player_id_api\",\n",
    "    how=\"right\"\n",
    ")[\"market_value_x\"].fillna(y_2020.mean())"
   ]
  },
  {
   "cell_type": "code",
   "execution_count": null,
   "id": "9a8a4deb-9e8a-49ad-9483-a4a207291551",
   "metadata": {
    "tags": []
   },
   "outputs": [],
   "source": [
    "# X_test2 = X_test[~pd.isna(y_prev)]\n",
    "# y_test2 = y_test[~pd.isna(y_prev)]\n",
    "# y_prev2 = y_prev[~pd.isna(y_prev)]"
   ]
  },
  {
   "cell_type": "code",
   "execution_count": null,
   "id": "1a2e0369-c363-4269-992d-59f182d7b910",
   "metadata": {
    "tags": []
   },
   "outputs": [],
   "source": [
    "r2_score(np.exp(y_test), y_prev), r2_adj2(X_test, np.exp(y_test), y_prev)\n",
    "# r2_score(np.exp(y_test2), y_prev2), r2_adj2(X_test2, np.exp(y_test2), y_prev2)"
   ]
  },
  {
   "cell_type": "code",
   "execution_count": null,
   "id": "431c8fe6-554e-46ac-a64d-62d507308b56",
   "metadata": {
    "tags": []
   },
   "outputs": [],
   "source": [
    "for name, selector in selectors_test.items():\n",
    "    print(name, r2_score(np.exp(y_test)[selector], y_prev[selector]), r2_adj2(X_test[selector], np.exp(y_test)[selector], y_prev[selector]))"
   ]
  },
  {
   "cell_type": "code",
   "execution_count": null,
   "id": "6c6ac1d0-ccb6-4448-bb08-99cd8c33e434",
   "metadata": {
    "tags": []
   },
   "outputs": [],
   "source": [
    "regression = Pipeline(\n",
    "    steps=[\n",
    "        (\"preprocessor\", preprocessor),\n",
    "        (\"regression\", LinearRegression()),\n",
    "    ]\n",
    ")\n",
    "regression.fit(X_train, y_train)\n",
    "\n",
    "y_reg = regression.predict(X_test)\n",
    "\n",
    "# regression.score(X_test, y_test), r2_adj(regression, X_test, y_test)\n",
    "r2_score(np.exp(y_test), np.exp(y_reg)), r2_adj2(X_test, np.exp(y_test), np.exp(y_reg))"
   ]
  },
  {
   "cell_type": "code",
   "execution_count": null,
   "id": "7ba48d41-6e3e-4ed4-9c5f-de06807d1197",
   "metadata": {
    "tags": []
   },
   "outputs": [],
   "source": [
    "for name, selector in selectors_test.items():\n",
    "    y_reg = regression.predict(X_test[selector])\n",
    "    print(name, r2_score(np.exp(y_test[selector]), np.exp(y_reg)), r2_adj2(X_test[selector], np.exp(y_test[selector]), np.exp(y_reg)))\n",
    "    # print(name, regression.score(X_test[selector], y_test[selector]), r2_adj(regression, X_test[selector], y_test[selector]))"
   ]
  },
  {
   "cell_type": "markdown",
   "id": "bd311ddc-0b04-4fa6-98fe-c770c8f3c0c8",
   "metadata": {},
   "source": [
    "Only model specific for midfielder is slightly better than the generic one."
   ]
  },
  {
   "cell_type": "code",
   "execution_count": null,
   "id": "9d73e1e1-1a9f-4e81-bbf2-d3d846075871",
   "metadata": {
    "tags": []
   },
   "outputs": [],
   "source": [
    "from sklearn.neural_network import MLPRegressor\n",
    "\n",
    "mlp_reg = Pipeline(\n",
    "    steps=[\n",
    "        (\"preprocessor\", preprocessor), \n",
    "        (\"regression\", MLPRegressor(solver='lbfgs', alpha=1e-5, hidden_layer_sizes=(16, 8))),\n",
    "    ]\n",
    ")\n",
    "mlp_reg.fit(X_train, y_train)\n",
    "\n",
    "y_mlp = mlp_reg.predict(X_test)\n",
    "\n",
    "# mlp_reg.score(X_test, y_test), r2_adj(mlp_reg, X_test, y_test)\n",
    "r2_score(np.exp(y_test), np.exp(y_mlp)), r2_adj2(X_test, np.exp(y_test), np.exp(y_mlp))"
   ]
  },
  {
   "cell_type": "code",
   "execution_count": null,
   "id": "7448c809-fd4b-437b-8200-c66154d720b6",
   "metadata": {
    "tags": []
   },
   "outputs": [],
   "source": [
    "for name, selector in selectors_test.items():\n",
    "    y_mlp = mlp_reg.predict(X_test[selector])\n",
    "    print(name, r2_score(np.exp(y_test[selector]), np.exp(y_mlp)), r2_adj2(X_test[selector], np.exp(y_test[selector]), np.exp(y_mlp)))\n",
    "    # print(name, mlp_reg.score(X_test[selector], y_test[selector]), r2_adj(mlp_reg, X_test[selector], y_test[selector]))"
   ]
  },
  {
   "cell_type": "markdown",
   "id": "df643161-6c35-42ce-b920-1022101a6f94",
   "metadata": {},
   "source": [
    "\"All positions\" model performs better than position specific models."
   ]
  },
  {
   "cell_type": "code",
   "execution_count": null,
   "id": "714c263b-3a72-40a3-86bb-bc1bfa2a62e8",
   "metadata": {
    "tags": []
   },
   "outputs": [],
   "source": [
    "from xgboost import XGBRegressor\n",
    "\n",
    "xgboost_reg = Pipeline(\n",
    "    steps=[\n",
    "        (\"preprocessor\", preprocessor), \n",
    "        (\"regression\", XGBRegressor()),\n",
    "    ]\n",
    ")\n",
    "xgboost_reg.fit(X_train, y_train)\n",
    "\n",
    "y_xgboost = xgboost_reg.predict(X_test)\n",
    "\n",
    "\n",
    "# xgboost_reg.score(X_test, y_test), r2_adj(xgboost_reg, X_test, y_test)\n",
    "print(xgboost_reg.score(X_train, y_train), r2_adj(xgboost_reg, X_train, y_train), xgboost_reg.score(X_test, y_test), r2_adj(xgboost_reg, X_test, y_test))"
   ]
  },
  {
   "cell_type": "code",
   "execution_count": null,
   "id": "4cb8ab56-4901-44c9-a656-88f32a28b2bc",
   "metadata": {
    "tags": []
   },
   "outputs": [],
   "source": [
    "###### from xgboost import XGBRegressor\n",
    "\n",
    "xgboost_reg = Pipeline(\n",
    "    steps=[\n",
    "        (\"preprocessor\", preprocessor), \n",
    "        (\"regression\", XGBRegressor(n_estimators=1000, max_depth=2, reg_lambda=40, reg_alpha=0)),\n",
    "    ]\n",
    ")\n",
    "xgboost_reg.fit(X_train, y_train)\n",
    "\n",
    "print(xgboost_reg.score(X_train, y_train), r2_adj(xgboost_reg, X_train, y_train), xgboost_reg.score(X_test, y_test), r2_adj(xgboost_reg, X_test, y_test))"
   ]
  },
  {
   "cell_type": "code",
   "execution_count": null,
   "id": "4ccdf97b-364c-4186-859e-36feca73b815",
   "metadata": {
    "tags": []
   },
   "outputs": [],
   "source": [
    "for name, selector in selectors_test.items():\n",
    "    print(name, xgboost_reg.score(X_test[selector], y_test[selector]), r2_adj(xgboost_reg, X_test[selector], y_test[selector]))"
   ]
  },
  {
   "cell_type": "code",
   "execution_count": null,
   "id": "c005e77e-4961-48cd-84d0-c51eab2baf42",
   "metadata": {
    "tags": []
   },
   "outputs": [],
   "source": [
    "plt.scatter(y_train, regression.predict(X_train), alpha=0.5, label=\"lr\")\n",
    "plt.scatter(y_train, random_regression.predict(X_train), alpha=0.5, label=\"random\")\n",
    "# plt.scatter(y_train, mlp_reg.predict(X_train), alpha=0.5, label=\"MLP\")\n",
    "plt.scatter(y_train, xgboost_reg.predict(X_train), alpha=0.5, label=\"XGBoost\")\n",
    "plt.axline((0, 0), (1, 1), c=\"k\")\n",
    "plt.xlim(np.floor(y_train.min())-0.1, np.ceil(y_test.max())+0.1)\n",
    "plt.ylim(np.floor(y_train.min())-0.1, np.ceil(y_test.max())+0.1)\n",
    "plt.xlabel(\"Observed\")\n",
    "plt.ylabel(\"Predicted\")\n",
    "plt.legend()\n",
    "_ = plt.show()"
   ]
  },
  {
   "cell_type": "code",
   "execution_count": null,
   "id": "0f3045ed-0bd2-4bdb-865e-471207b70191",
   "metadata": {
    "tags": []
   },
   "outputs": [],
   "source": [
    "plt.scatter(y_test, regression.predict(X_test), alpha=0.25, label=\"lr\")\n",
    "# plt.scatter(y_test, random_regression.predict(X_test), alpha=0.5, label=\"random\")\n",
    "# plt.scatter(y_test, mlp_reg.predict(X_test), alpha=0.25, label=\"MLP\")\n",
    "plt.scatter(y_test, xgboost_reg.predict(X_test), alpha=0.25, label=\"XGBoost\")\n",
    "plt.scatter(y_test, np.log(y_prev), alpha=0.25, label=\"prev_season\")\n",
    "plt.axline((0, 0), (1, 1), c=\"k\")\n",
    "plt.xlim(np.floor(y_test.min())-0.1, np.ceil(y_test.max())+0.1)\n",
    "plt.ylim(np.floor(y_test.min())-0.1, np.ceil(y_test.max())+0.1)\n",
    "plt.xlabel(\"Observed\")\n",
    "plt.ylabel(\"Predicted\")\n",
    "plt.legend()\n",
    "_ = plt.show()"
   ]
  },
  {
   "cell_type": "code",
   "execution_count": null,
   "id": "423b81c1-326a-47ec-b2ab-7217a89f3020",
   "metadata": {
    "tags": []
   },
   "outputs": [],
   "source": [
    "reg_results = pd.DataFrame({\n",
    "    \"y\": np.exp(y_test),\n",
    "    \"y_pred\": np.exp(xgboost_reg.predict(X_test))\n",
    "    # \"y_pred\": np.exp(regression.predict(X_test))\n",
    "    # \"y\": y_test,\n",
    "    # \"y_pred\": xgboost_reg.predict(X_test)\n",
    "})\n",
    "reg_results[\"diff\"] = reg_results[\"y_pred\"] - reg_results[\"y\"]\n",
    "reg_results[\"rel_error\"] = reg_results[\"diff\"] / reg_results[\"y\"] * 100\n",
    "reg_results[\"abs_rel_error\"] = np.abs(reg_results[\"rel_error\"])\n",
    "reg_results = reg_results.sort_values(\"abs_rel_error\")\n",
    "reg_results"
   ]
  },
  {
   "cell_type": "code",
   "execution_count": null,
   "id": "275bb545-f9af-4974-819b-a5f646121687",
   "metadata": {
    "tags": []
   },
   "outputs": [],
   "source": [
    "plt.plot(\n",
    "    reg_results[\"abs_rel_error\"].rank() / len(reg_results[\"abs_rel_error\"]) * 100,\n",
    "    reg_results[\"abs_rel_error\"].cumsum() / reg_results[\"abs_rel_error\"].rank()\n",
    ")\n",
    "plt.xticks(np.linspace(0, 1, 11)*100)\n",
    "plt.xlabel(\"% of players (any position with at least 15 appearance)\")\n",
    "plt.ylabel(\"Error [%]\")\n",
    "plt.grid()\n",
    "plt.show()"
   ]
  },
  {
   "cell_type": "code",
   "execution_count": null,
   "id": "f0786fd8-7d07-4083-94f4-5510dbab0456",
   "metadata": {
    "tags": []
   },
   "outputs": [],
   "source": [
    "np.mean(reg_results[\"abs_rel_error\"])"
   ]
  },
  {
   "cell_type": "markdown",
   "id": "c31e52c9-113c-4ec9-9a38-54a6089a7509",
   "metadata": {},
   "source": [
    "## Features importance"
   ]
  },
  {
   "cell_type": "code",
   "execution_count": null,
   "id": "e7ca1ddd-b98f-4f22-aebb-db66047c5074",
   "metadata": {
    "tags": []
   },
   "outputs": [],
   "source": [
    "result = permutation_importance(\n",
    "    xgboost_reg, X_test, y_test, n_repeats=10, random_state=42, n_jobs=2\n",
    ")"
   ]
  },
  {
   "cell_type": "code",
   "execution_count": null,
   "id": "156f3caa-625c-4549-a94a-c0bd918de971",
   "metadata": {
    "tags": []
   },
   "outputs": [],
   "source": [
    "non_zero_feats = np.abs(result.importances_mean) > 1e-03\n",
    "forest_importances = pd.Series(result.importances_mean[non_zero_feats], index=X_test.columns.values[non_zero_feats])\n",
    "\n",
    "fig, ax = plt.subplots()\n",
    "forest_importances.plot.bar(yerr=result.importances_std[non_zero_feats], ax=ax)\n",
    "ax.set_title(\"Feature importances using permutation on full model\")\n",
    "ax.set_ylabel(\"Mean accuracy decrease\")\n",
    "fig.tight_layout()\n",
    "plt.show()"
   ]
  },
  {
   "cell_type": "markdown",
   "id": "c010811b-1e24-416e-9363-dfd95d2bb239",
   "metadata": {},
   "source": [
    "# Predict change in market value between seasons"
   ]
  },
  {
   "cell_type": "code",
   "execution_count": null,
   "id": "48d85bc4-aea4-4320-b5bd-3bd102b8f5e9",
   "metadata": {
    "tags": []
   },
   "outputs": [],
   "source": [
    "before_after_seasons = pd.merge(\n",
    "    players_selected_vars, \n",
    "    players_selected_vars, \n",
    "    on=\"player_id_api\", \n",
    "    suffixes=[\"_before\", \"_after\"]\n",
    ").query(\"season_after - season_before == 1\")"
   ]
  },
  {
   "cell_type": "code",
   "execution_count": null,
   "id": "83ba9590-cbc1-495b-bc77-7dfbfa72ed6c",
   "metadata": {
    "tags": []
   },
   "outputs": [],
   "source": [
    "numeric_features_ba = [\n",
    "    f\"{c}_{suffix}\" for c in [\n",
    "        \"age\",\n",
    "        \"matches_played\",\n",
    "        \"matches_started\",\n",
    "        \"90s_played\",\n",
    "        # \"goals_against\",\n",
    "        # \"own_goals_against\",\n",
    "        # \"shots_on_target_against\",\n",
    "        # \"saves\",\n",
    "        # \"save%\",\n",
    "        # \"saves_inside_box\",\n",
    "        # \"penalty_kicks_saves\",\n",
    "    \"height_x\",\n",
    "    \"accurate_crosses.total\",\n",
    "    \"accurate_passes.total\",\n",
    "    \"aerials_won.total\",\n",
    "    \"big_chances_created.total\",\n",
    "    \"big_chances_missed.total\",\n",
    "    \"blocked_shots.total\",\n",
    "    \"clearances.total\",\n",
    "    \"dribbled_past.total\",\n",
    "    \"duels_won.total\",\n",
    "    \"error_lead_to_goal.total\",\n",
    "    \"fouls.total\",\n",
    "    \"goals.goals\",\n",
    "    \"interceptions.total\",\n",
    "    \"offsides.total\",\n",
    "    \"redcards.away\",\n",
    "    \"redcards.home\",\n",
    "    \"redcards.total\",\n",
    "    \"saves_inside_box.total\",\n",
    "    \"shots_off_target.total\",\n",
    "    \"tackles.total_x\",\n",
    "    \"through_balls.total\",\n",
    "    \"total_crosses.total\",\n",
    "    \"total_duels.total\",\n",
    "    \"yellowcards.away\",\n",
    "    \"yellowcards.home\",\n",
    "    \"yellowcards.total\",\n",
    "    \"yellowred_cards.away\",\n",
    "    \"yellowred_cards.home\",\n",
    "    \"yellowred_cards.total\",\n",
    "    \"shots.total\",\n",
    "    \"shots.on\",\n",
    "    \"goals.total_y\",\n",
    "    \"goals.conceded\",\n",
    "    \"goals.assists\",\n",
    "    \"goals.saves\",\n",
    "    \"passes.total_y\",\n",
    "    \"passes.key\",\n",
    "    \"passes.accuracy\",\n",
    "    \"tackles.total_y\",\n",
    "    \"tackles.blocks\",\n",
    "    \"tackles.interceptions\",\n",
    "    \"duels.total\",\n",
    "    \"duels.won\",\n",
    "    \"dribbles.attempts\",\n",
    "    \"dribbles.success\",\n",
    "    \"dribbles.past\",\n",
    "    \"fouls.committed\",\n",
    "    \"cards.yellow\",\n",
    "    \"cards.yellowred\",\n",
    "    \"cards.red\",\n",
    "    \"penalty.commited\",\n",
    "    \"penalty.saved\",\n",
    "    ]\n",
    "    for suffix in [\"before\",\"after\"]\n",
    "]\n",
    "numeric_transformer_ba = Pipeline(\n",
    "    steps=[\n",
    "        (\"imputer\", SimpleImputer(strategy=\"median\")),\n",
    "        (\"scaler\", StandardScaler())\n",
    "    ]\n",
    ")\n",
    "\n",
    "categorical_features_ba = [\n",
    "    f\"{c}_{suffix}\" for c in [\n",
    "        \"nationality\",\n",
    "        \"league\",\n",
    "        \"team\",\n",
    "        \"tier\",\n",
    "        \"position\",\n",
    "    ]\n",
    "    for suffix in [\"before\",\"after\"]\n",
    "]\n",
    "categorical_transformer_ba = Pipeline(\n",
    "    steps=[\n",
    "        (\"encoder\", OneHotEncoder(handle_unknown=\"ignore\"))\n",
    "    ]\n",
    ")\n",
    "\n",
    "preprocessor_ba = ColumnTransformer(\n",
    "    transformers=[\n",
    "        (\"num\", numeric_transformer_ba, numeric_features_ba),\n",
    "        (\"cat\", categorical_transformer_ba, categorical_features_ba),\n",
    "    ]\n",
    ")"
   ]
  },
  {
   "cell_type": "code",
   "execution_count": null,
   "id": "064d9525-b67d-4916-aac1-5f7ccd3e0ab2",
   "metadata": {
    "tags": []
   },
   "outputs": [],
   "source": [
    "X = before_after_seasons\n",
    "y_before = np.digitize(before_after_seasons[\"normalised_market_value_before\"], bins)\n",
    "y_after = np.digitize(before_after_seasons[\"normalised_market_value_after\"], bins)\n",
    "y = np.minimum(np.maximum(y_after - y_before, -1), 1)"
   ]
  },
  {
   "cell_type": "code",
   "execution_count": null,
   "id": "b0c4208b-2117-4f2c-9bec-9dab6d3da7b0",
   "metadata": {
    "tags": []
   },
   "outputs": [],
   "source": [
    "goalkeepers = (X[\"position_before\"] == \"Goalkeeper\").values\n",
    "attackers = (X[\"position_before\"] == \"Attack\").values\n",
    "defenders = (X[\"position_before\"] == \"Defender\").values\n",
    "midfielders = (X[\"position_before\"] == \"Midfield\").values\n",
    "\n",
    "(\n",
    "    X_train, X_test, \n",
    "    y_train, y_test, \n",
    "    goalkeepers_train, goalkeepers_test,\n",
    "    attackers_train, attackers_test,\n",
    "    defenders_train, defenders_test, \n",
    "    midfielders_train, midfielders_test\n",
    ") = train_test_split(\n",
    "    X, y, \n",
    "    goalkeepers, attackers, defenders, midfielders,\n",
    "    test_size=0.2, random_state=42\n",
    ")"
   ]
  },
  {
   "cell_type": "code",
   "execution_count": null,
   "id": "b02bbc21-bcde-4b0b-ab8d-a6be6d60abe0",
   "metadata": {
    "tags": []
   },
   "outputs": [],
   "source": [
    "random = Pipeline(\n",
    "    steps=[\n",
    "        (\"preprocessor\", preprocessor_ba),\n",
    "        (\"classifier\", DummyClassifier(strategy=\"stratified\")),\n",
    "    ]\n",
    ")\n",
    "random.fit(X_train, y_train)\n",
    "\n",
    "balanced_accuracy_score(y_test, random.predict(X_test))"
   ]
  },
  {
   "cell_type": "code",
   "execution_count": null,
   "id": "9cb7d4d6-fd6c-4e03-b792-aa1fd3baf2fc",
   "metadata": {
    "tags": []
   },
   "outputs": [],
   "source": [
    "for name, selector in {\n",
    "    \"goalkeepers\": goalkeepers_test, \n",
    "    \"attackers\": attackers_test, \n",
    "    \"defenders\": defenders_test,\n",
    "    \"midfielders\": midfielders_test\n",
    "}.items():\n",
    "    print(name, balanced_accuracy_score(y_test[selector], random.predict(X_test[selector])))"
   ]
  },
  {
   "cell_type": "code",
   "execution_count": null,
   "id": "449a06aa-5194-460e-8383-4059bb116a51",
   "metadata": {
    "tags": []
   },
   "outputs": [],
   "source": [
    "clf = Pipeline(\n",
    "    steps=[\n",
    "        (\"preprocessor\", preprocessor_ba), \n",
    "        (\"classifier\", LogisticRegression()),\n",
    "    ]\n",
    ")\n",
    "clf.fit(X_train, y_train)\n",
    "\n",
    "print(confusion_matrix(y_test, clf.predict(X_test), labels=[1, 0, -1]))\n",
    "\n",
    "balanced_accuracy_score(y_test, clf.predict(X_test))"
   ]
  },
  {
   "cell_type": "code",
   "execution_count": null,
   "id": "1eff8c40-2286-4c8e-a430-8c78c028881d",
   "metadata": {
    "tags": []
   },
   "outputs": [],
   "source": [
    "for name, selector in {\n",
    "    \"goalkeepers\": goalkeepers_test, \n",
    "    \"attackers\": attackers_test, \n",
    "    \"defenders\": defenders_test,\n",
    "    \"midfielders\": midfielders_test\n",
    "}.items():\n",
    "    print(name, balanced_accuracy_score(y_test[selector], clf.predict(X_test[selector])))"
   ]
  },
  {
   "cell_type": "markdown",
   "id": "ba499b7f-7145-442a-ba2b-5b08f47ac016",
   "metadata": {},
   "source": [
    "\"All positions\" model performs better on all positions."
   ]
  },
  {
   "cell_type": "code",
   "execution_count": null,
   "id": "0d550245-77de-434c-a5ff-3ecf3eafbe73",
   "metadata": {
    "tags": []
   },
   "outputs": [],
   "source": [
    "from sklearn.neural_network import MLPClassifier\n",
    "\n",
    "mlp = Pipeline(\n",
    "    steps=[\n",
    "        (\"preprocessor\", preprocessor_ba), \n",
    "        (\"classifier\", MLPClassifier(solver='lbfgs', alpha=1e-5, hidden_layer_sizes=(32, 16))),\n",
    "    ]\n",
    ")\n",
    "mlp.fit(X_train, y_train)\n",
    "\n",
    "print(confusion_matrix(y_test, mlp.predict(X_test), labels=[1, 0, -1]))\n",
    "\n",
    "balanced_accuracy_score(y_test, mlp.predict(X_test))"
   ]
  },
  {
   "cell_type": "code",
   "execution_count": null,
   "id": "b73b1672-650d-4e30-8f60-9f7098e32ef2",
   "metadata": {
    "tags": []
   },
   "outputs": [],
   "source": [
    "for name, selector in {\n",
    "    \"goalkeepers\": goalkeepers_test, \n",
    "    \"attackers\": attackers_test, \n",
    "    \"defenders\": defenders_test,\n",
    "    \"midfielders\": midfielders_test\n",
    "}.items():\n",
    "    print(name, balanced_accuracy_score(y_test[selector], mlp.predict(X_test[selector])))"
   ]
  },
  {
   "cell_type": "markdown",
   "id": "972d7a32-a25b-40be-91c9-efe8d0e8c846",
   "metadata": {},
   "source": [
    "Only model specific for midfielders perform marginally better."
   ]
  },
  {
   "cell_type": "code",
   "execution_count": null,
   "id": "5416cd32-d2db-4d90-8714-197647db88d8",
   "metadata": {
    "tags": []
   },
   "outputs": [],
   "source": [
    "from xgboost import XGBClassifier\n",
    "\n",
    "xgboost = Pipeline(\n",
    "    steps=[\n",
    "        (\"preprocessor\", preprocessor_ba), \n",
    "        (\"classifier\", XGBClassifier()),\n",
    "    ]\n",
    ")\n",
    "xgboost.fit(X_train, y_train+1)\n",
    "\n",
    "y_xgboost = xgboost.predict(X_test)\n",
    "\n",
    "balanced_accuracy_score(y_test+1, y_xgboost)"
   ]
  },
  {
   "cell_type": "code",
   "execution_count": null,
   "id": "8d373e17-cbf6-4189-b063-6c7f3eb1955d",
   "metadata": {
    "tags": []
   },
   "outputs": [],
   "source": [
    "for name, selector in {\n",
    "    \"goalkeepers\": goalkeepers_test, \n",
    "    \"attackers\": attackers_test, \n",
    "    \"defenders\": defenders_test,\n",
    "    \"midfielders\": midfielders_test\n",
    "}.items():\n",
    "    print(name, balanced_accuracy_score(y_test[selector]+1, xgboost.predict(X_test[selector])))"
   ]
  },
  {
   "cell_type": "markdown",
   "id": "3c9fc134-d2cf-436a-82ec-cf26afd23134",
   "metadata": {},
   "source": [
    "XGBoost performs here better than MLP, and comparable as position-specific models."
   ]
  },
  {
   "cell_type": "markdown",
   "id": "c5ddab1a-7727-44d7-9b8e-97faf2ab45f7",
   "metadata": {},
   "source": [
    "## Features importance"
   ]
  },
  {
   "cell_type": "code",
   "execution_count": null,
   "id": "aa948dde-45d3-4f9f-97c3-fb0ed9e876d7",
   "metadata": {
    "tags": []
   },
   "outputs": [],
   "source": [
    "result = permutation_importance(\n",
    "    xgboost, X_test, y_test, n_repeats=10, random_state=42, n_jobs=2\n",
    ")\n",
    "\n",
    "forest_importances = pd.Series(result.importances_mean, index=X_test.columns)\n",
    "\n",
    "fig, ax = plt.subplots()\n",
    "forest_importances.plot.bar(yerr=result.importances_std, ax=ax)\n",
    "ax.set_title(\"Feature importances using permutation on full model\")\n",
    "ax.set_ylabel(\"Mean accuracy decrease\")\n",
    "fig.tight_layout()\n",
    "plt.show()"
   ]
  }
 ],
 "metadata": {
  "kernelspec": {
   "display_name": "Python 3 (ipykernel)",
   "language": "python",
   "name": "python3"
  },
  "language_info": {
   "codemirror_mode": {
    "name": "ipython",
    "version": 3
   },
   "file_extension": ".py",
   "mimetype": "text/x-python",
   "name": "python",
   "nbconvert_exporter": "python",
   "pygments_lexer": "ipython3",
   "version": "3.10.10"
  }
 },
 "nbformat": 4,
 "nbformat_minor": 5
}
